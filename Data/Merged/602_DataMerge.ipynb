{
 "cells": [
  {
   "cell_type": "code",
   "execution_count": 5,
   "metadata": {},
   "outputs": [],
   "source": [
    "# !pip install google-colab"
   ]
  },
  {
   "cell_type": "code",
   "execution_count": 4,
   "metadata": {
    "id": "hA94E7VJh6Qo"
   },
   "outputs": [
    {
     "ename": "ModuleNotFoundError",
     "evalue": "No module named 'google'",
     "output_type": "error",
     "traceback": [
      "\u001b[1;31m---------------------------------------------------------------------------\u001b[0m",
      "\u001b[1;31mModuleNotFoundError\u001b[0m                       Traceback (most recent call last)",
      "\u001b[1;32m~\\AppData\\Local\\Temp/ipykernel_18300/2327895210.py\u001b[0m in \u001b[0;36m<module>\u001b[1;34m\u001b[0m\n\u001b[0;32m      1\u001b[0m \u001b[1;32mimport\u001b[0m \u001b[0mpandas\u001b[0m \u001b[1;32mas\u001b[0m \u001b[0mpd\u001b[0m\u001b[1;33m\u001b[0m\u001b[1;33m\u001b[0m\u001b[0m\n\u001b[1;32m----> 2\u001b[1;33m \u001b[1;32mfrom\u001b[0m \u001b[0mgoogle\u001b[0m\u001b[1;33m.\u001b[0m\u001b[0mcolab\u001b[0m \u001b[1;32mimport\u001b[0m \u001b[0mfiles\u001b[0m\u001b[1;33m\u001b[0m\u001b[1;33m\u001b[0m\u001b[0m\n\u001b[0m",
      "\u001b[1;31mModuleNotFoundError\u001b[0m: No module named 'google'"
     ]
    }
   ],
   "source": [
    "import pandas as pd\n",
    "from google.colab import files"
   ]
  },
  {
   "cell_type": "code",
   "execution_count": null,
   "metadata": {
    "colab": {
     "base_uri": "https://localhost:8080/",
     "height": 898
    },
    "id": "lwruHUvQjJvT",
    "outputId": "d286ba8e-8d41-47d3-cb0a-1245eed88948"
   },
   "outputs": [],
   "source": [
    "# merge datasets from 2017 to 2021\n",
    "merged_df = pd.concat(\n",
    "    map(pd.read_csv, ['https://raw.githubusercontent.com/joannechoi/DC-Crime-Analysis/main/Data/Raw/Crime_Incidents_in_2017.csv',\n",
    "                      'https://raw.githubusercontent.com/joannechoi/DC-Crime-Analysis/main/Data/Raw/Crime_Incidents_in_2018.csv',\n",
    "                      'https://raw.githubusercontent.com/joannechoi/DC-Crime-Analysis/main/Data/Raw/Crime_Incidents_in_2019.csv',\n",
    "                      'https://raw.githubusercontent.com/joannechoi/DC-Crime-Analysis/main/Data/Raw/Crime_Incidents_in_2020.csv', \n",
    "                      'https://raw.githubusercontent.com/joannechoi/DC-Crime-Analysis/main/Data/Raw/Crime_Incidents_in_2021.csv']), \n",
    "                   ignore_index=True)\n",
    "merged_df"
   ]
  },
  {
   "cell_type": "code",
   "execution_count": 3,
   "metadata": {
    "colab": {
     "base_uri": "https://localhost:8080/",
     "height": 881
    },
    "id": "aMYoOVMYkfGg",
    "outputId": "82d9e769-88e7-4d63-f462-ba7232d9fe46"
   },
   "outputs": [
    {
     "data": {
      "text/html": [
       "<div>\n",
       "<style scoped>\n",
       "    .dataframe tbody tr th:only-of-type {\n",
       "        vertical-align: middle;\n",
       "    }\n",
       "\n",
       "    .dataframe tbody tr th {\n",
       "        vertical-align: top;\n",
       "    }\n",
       "\n",
       "    .dataframe thead th {\n",
       "        text-align: right;\n",
       "    }\n",
       "</style>\n",
       "<table border=\"1\" class=\"dataframe\">\n",
       "  <thead>\n",
       "    <tr style=\"text-align: right;\">\n",
       "      <th></th>\n",
       "      <th>REPORT_DAT</th>\n",
       "      <th>SHIFT</th>\n",
       "      <th>METHOD</th>\n",
       "      <th>OFFENSE</th>\n",
       "      <th>BLOCK</th>\n",
       "      <th>XBLOCK</th>\n",
       "      <th>YBLOCK</th>\n",
       "      <th>WARD</th>\n",
       "      <th>DISTRICT</th>\n",
       "      <th>LATITUDE</th>\n",
       "      <th>LONGITUDE</th>\n",
       "      <th>START_DATE</th>\n",
       "      <th>END_DATE</th>\n",
       "    </tr>\n",
       "  </thead>\n",
       "  <tbody>\n",
       "    <tr>\n",
       "      <th>0</th>\n",
       "      <td>2017/10/28 09:00:40+00</td>\n",
       "      <td>MIDNIGHT</td>\n",
       "      <td>OTHERS</td>\n",
       "      <td>THEFT F/AUTO</td>\n",
       "      <td>3100 - 3299 BLOCK OF V STREET NE</td>\n",
       "      <td>403249.170000</td>\n",
       "      <td>138982.570000</td>\n",
       "      <td>5.0</td>\n",
       "      <td>5.0</td>\n",
       "      <td>38.918707</td>\n",
       "      <td>-76.962533</td>\n",
       "      <td>2017/10/28 07:38:58+00</td>\n",
       "      <td>2017/10/28 08:24:52+00</td>\n",
       "    </tr>\n",
       "    <tr>\n",
       "      <th>1</th>\n",
       "      <td>2017/10/28 10:53:47+00</td>\n",
       "      <td>MIDNIGHT</td>\n",
       "      <td>KNIFE</td>\n",
       "      <td>ASSAULT W/DANGEROUS WEAPON</td>\n",
       "      <td>1200 - 1499 BLOCK OF NORTH CAPITOL STREET</td>\n",
       "      <td>399214.790000</td>\n",
       "      <td>137753.750000</td>\n",
       "      <td>6.0</td>\n",
       "      <td>1.0</td>\n",
       "      <td>38.907643</td>\n",
       "      <td>-77.009053</td>\n",
       "      <td>2017/10/28 07:53:35+00</td>\n",
       "      <td>2017/10/28 10:53:46+00</td>\n",
       "    </tr>\n",
       "    <tr>\n",
       "      <th>2</th>\n",
       "      <td>2017/10/28 09:35:47+00</td>\n",
       "      <td>MIDNIGHT</td>\n",
       "      <td>OTHERS</td>\n",
       "      <td>THEFT F/AUTO</td>\n",
       "      <td>400 - 448 BLOCK OF I STREET NW</td>\n",
       "      <td>398532.800000</td>\n",
       "      <td>137052.350000</td>\n",
       "      <td>6.0</td>\n",
       "      <td>1.0</td>\n",
       "      <td>38.901323</td>\n",
       "      <td>-77.016914</td>\n",
       "      <td>2017/10/28 08:20:53+00</td>\n",
       "      <td>2017/10/28 08:45:33+00</td>\n",
       "    </tr>\n",
       "    <tr>\n",
       "      <th>3</th>\n",
       "      <td>2017/10/28 12:25:34+00</td>\n",
       "      <td>DAY</td>\n",
       "      <td>OTHERS</td>\n",
       "      <td>THEFT F/AUTO</td>\n",
       "      <td>400 - 599 BLOCK OF E STREET SW</td>\n",
       "      <td>398374.890000</td>\n",
       "      <td>135044.830000</td>\n",
       "      <td>6.0</td>\n",
       "      <td>1.0</td>\n",
       "      <td>38.883239</td>\n",
       "      <td>-77.018730</td>\n",
       "      <td>2017/10/27 23:45:00+00</td>\n",
       "      <td>2017/10/28 04:30:27+00</td>\n",
       "    </tr>\n",
       "    <tr>\n",
       "      <th>4</th>\n",
       "      <td>2017/10/28 13:02:41+00</td>\n",
       "      <td>DAY</td>\n",
       "      <td>OTHERS</td>\n",
       "      <td>THEFT/OTHER</td>\n",
       "      <td>500 - 799 BLOCK OF RHODE ISLAND AVENUE NE</td>\n",
       "      <td>400246.540000</td>\n",
       "      <td>139229.040000</td>\n",
       "      <td>5.0</td>\n",
       "      <td>5.0</td>\n",
       "      <td>38.920933</td>\n",
       "      <td>-76.997157</td>\n",
       "      <td>2017/10/28 12:25:35+00</td>\n",
       "      <td>2017/10/28 12:30:25+00</td>\n",
       "    </tr>\n",
       "    <tr>\n",
       "      <th>...</th>\n",
       "      <td>...</td>\n",
       "      <td>...</td>\n",
       "      <td>...</td>\n",
       "      <td>...</td>\n",
       "      <td>...</td>\n",
       "      <td>...</td>\n",
       "      <td>...</td>\n",
       "      <td>...</td>\n",
       "      <td>...</td>\n",
       "      <td>...</td>\n",
       "      <td>...</td>\n",
       "      <td>...</td>\n",
       "      <td>...</td>\n",
       "    </tr>\n",
       "    <tr>\n",
       "      <th>151064</th>\n",
       "      <td>2021/02/04 14:11:36+00</td>\n",
       "      <td>DAY</td>\n",
       "      <td>OTHERS</td>\n",
       "      <td>BURGLARY</td>\n",
       "      <td>1700 - 1758 BLOCK OF BLADENSBURG ROAD NE</td>\n",
       "      <td>402085.390000</td>\n",
       "      <td>138351.140000</td>\n",
       "      <td>5.0</td>\n",
       "      <td>5.0</td>\n",
       "      <td>38.913022</td>\n",
       "      <td>-76.975955</td>\n",
       "      <td>2021/02/04 13:19:35+00</td>\n",
       "      <td>2021/02/04 14:14:03+00</td>\n",
       "    </tr>\n",
       "    <tr>\n",
       "      <th>151065</th>\n",
       "      <td>2021/02/04 16:40:09+00</td>\n",
       "      <td>DAY</td>\n",
       "      <td>OTHERS</td>\n",
       "      <td>THEFT F/AUTO</td>\n",
       "      <td>2800 - 2899 BLOCK OF N STREET SE</td>\n",
       "      <td>402855.420321</td>\n",
       "      <td>134087.377978</td>\n",
       "      <td>7.0</td>\n",
       "      <td>6.0</td>\n",
       "      <td>38.874610</td>\n",
       "      <td>-76.967094</td>\n",
       "      <td>2021/02/04 02:30:34+00</td>\n",
       "      <td>2021/02/04 11:30:48+00</td>\n",
       "    </tr>\n",
       "    <tr>\n",
       "      <th>151066</th>\n",
       "      <td>2021/02/04 15:08:34+00</td>\n",
       "      <td>DAY</td>\n",
       "      <td>OTHERS</td>\n",
       "      <td>THEFT F/AUTO</td>\n",
       "      <td>5000 - 5099 BLOCK OF 11TH STREET NE</td>\n",
       "      <td>400720.210000</td>\n",
       "      <td>142604.330000</td>\n",
       "      <td>5.0</td>\n",
       "      <td>4.0</td>\n",
       "      <td>38.951338</td>\n",
       "      <td>-76.991691</td>\n",
       "      <td>2021/02/03 14:45:22+00</td>\n",
       "      <td>2021/02/04 12:30:10+00</td>\n",
       "    </tr>\n",
       "    <tr>\n",
       "      <th>151067</th>\n",
       "      <td>2021/02/04 15:57:32+00</td>\n",
       "      <td>DAY</td>\n",
       "      <td>KNIFE</td>\n",
       "      <td>ASSAULT W/DANGEROUS WEAPON</td>\n",
       "      <td>3033 - 3097 BLOCK OF STANTON ROAD SE</td>\n",
       "      <td>401535.270000</td>\n",
       "      <td>131621.840000</td>\n",
       "      <td>8.0</td>\n",
       "      <td>7.0</td>\n",
       "      <td>38.852403</td>\n",
       "      <td>-76.982313</td>\n",
       "      <td>2021/02/04 13:32:49+00</td>\n",
       "      <td>2021/02/04 15:11:59+00</td>\n",
       "    </tr>\n",
       "    <tr>\n",
       "      <th>151068</th>\n",
       "      <td>2021/02/04 16:55:13+00</td>\n",
       "      <td>DAY</td>\n",
       "      <td>OTHERS</td>\n",
       "      <td>THEFT F/AUTO</td>\n",
       "      <td>3100 - 3199 BLOCK OF E STREET SE</td>\n",
       "      <td>403293.260929</td>\n",
       "      <td>135001.211131</td>\n",
       "      <td>7.0</td>\n",
       "      <td>6.0</td>\n",
       "      <td>38.882841</td>\n",
       "      <td>-76.962044</td>\n",
       "      <td>2021/02/04 05:00:43+00</td>\n",
       "      <td>2021/02/04 13:20:45+00</td>\n",
       "    </tr>\n",
       "  </tbody>\n",
       "</table>\n",
       "<p>151069 rows × 13 columns</p>\n",
       "</div>"
      ],
      "text/plain": [
       "                    REPORT_DAT  ...                END_DATE\n",
       "0       2017/10/28 09:00:40+00  ...  2017/10/28 08:24:52+00\n",
       "1       2017/10/28 10:53:47+00  ...  2017/10/28 10:53:46+00\n",
       "2       2017/10/28 09:35:47+00  ...  2017/10/28 08:45:33+00\n",
       "3       2017/10/28 12:25:34+00  ...  2017/10/28 04:30:27+00\n",
       "4       2017/10/28 13:02:41+00  ...  2017/10/28 12:30:25+00\n",
       "...                        ...  ...                     ...\n",
       "151064  2021/02/04 14:11:36+00  ...  2021/02/04 14:14:03+00\n",
       "151065  2021/02/04 16:40:09+00  ...  2021/02/04 11:30:48+00\n",
       "151066  2021/02/04 15:08:34+00  ...  2021/02/04 12:30:10+00\n",
       "151067  2021/02/04 15:57:32+00  ...  2021/02/04 15:11:59+00\n",
       "151068  2021/02/04 16:55:13+00  ...  2021/02/04 13:20:45+00\n",
       "\n",
       "[151069 rows x 13 columns]"
      ]
     },
     "execution_count": 3,
     "metadata": {},
     "output_type": "execute_result"
    }
   ],
   "source": [
    "# drop unnecessary columns\n",
    "df = merged_df.drop(['X', 'Y', 'CCN', 'ANC',\n",
    "                     'PSA', 'CENSUS_TRACT', 'NEIGHBORHOOD_CLUSTER', \n",
    "                     'BLOCK_GROUP', 'VOTING_PRECINCT', \n",
    "                     'BID', 'OBJECTID',\t'OCTO_RECORD_ID' ], axis = 1)\n",
    "df"
   ]
  },
  {
   "cell_type": "code",
   "execution_count": 4,
   "metadata": {
    "colab": {
     "base_uri": "https://localhost:8080/",
     "height": 34
    },
    "id": "BSlrHs45rQQf",
    "outputId": "185f8f6f-d4a4-4607-97e8-a6de8406b53a"
   },
   "outputs": [
    {
     "data": {
      "application/javascript": [
       "\n",
       "    async function download(id, filename, size) {\n",
       "      if (!google.colab.kernel.accessAllowed) {\n",
       "        return;\n",
       "      }\n",
       "      const div = document.createElement('div');\n",
       "      const label = document.createElement('label');\n",
       "      label.textContent = `Downloading \"${filename}\": `;\n",
       "      div.appendChild(label);\n",
       "      const progress = document.createElement('progress');\n",
       "      progress.max = size;\n",
       "      div.appendChild(progress);\n",
       "      document.body.appendChild(div);\n",
       "\n",
       "      const buffers = [];\n",
       "      let downloaded = 0;\n",
       "\n",
       "      const channel = await google.colab.kernel.comms.open(id);\n",
       "      // Send a message to notify the kernel that we're ready.\n",
       "      channel.send({})\n",
       "\n",
       "      for await (const message of channel.messages) {\n",
       "        // Send a message to notify the kernel that we're ready.\n",
       "        channel.send({})\n",
       "        if (message.buffers) {\n",
       "          for (const buffer of message.buffers) {\n",
       "            buffers.push(buffer);\n",
       "            downloaded += buffer.byteLength;\n",
       "            progress.value = downloaded;\n",
       "          }\n",
       "        }\n",
       "      }\n",
       "      const blob = new Blob(buffers, {type: 'application/binary'});\n",
       "      const a = document.createElement('a');\n",
       "      a.href = window.URL.createObjectURL(blob);\n",
       "      a.download = filename;\n",
       "      div.appendChild(a);\n",
       "      a.click();\n",
       "      div.remove();\n",
       "    }\n",
       "  "
      ],
      "text/plain": [
       "<IPython.core.display.Javascript object>"
      ]
     },
     "metadata": {},
     "output_type": "display_data"
    },
    {
     "data": {
      "application/javascript": [
       "download(\"download_4c518d8a-b21f-435d-b7fc-fb8cfc8a5a8f\", \"MergedData_2017-2021.csv\", 28825320)"
      ],
      "text/plain": [
       "<IPython.core.display.Javascript object>"
      ]
     },
     "metadata": {},
     "output_type": "display_data"
    }
   ],
   "source": [
    "#download dataframe into a csv file\n",
    "df.to_csv ('MergedData_2017-2021.csv', index = False, header=True)\n",
    "files.download(\"MergedData_2017-2021.csv\")"
   ]
  },
  {
   "cell_type": "code",
   "execution_count": 5,
   "metadata": {
    "colab": {
     "base_uri": "https://localhost:8080/"
    },
    "id": "i2jQNhuDNRD4",
    "outputId": "ab84d88c-9d9f-4c8e-811c-2e5539d0e868"
   },
   "outputs": [
    {
     "name": "stdout",
     "output_type": "stream",
     "text": [
      "<class 'pandas.core.frame.DataFrame'>\n",
      "RangeIndex: 151069 entries, 0 to 151068\n",
      "Data columns (total 13 columns):\n",
      " #   Column      Non-Null Count   Dtype  \n",
      "---  ------      --------------   -----  \n",
      " 0   REPORT_DAT  151069 non-null  object \n",
      " 1   SHIFT       151069 non-null  object \n",
      " 2   METHOD      151069 non-null  object \n",
      " 3   OFFENSE     151069 non-null  object \n",
      " 4   BLOCK       151069 non-null  object \n",
      " 5   XBLOCK      151069 non-null  float64\n",
      " 6   YBLOCK      151069 non-null  float64\n",
      " 7   WARD        147528 non-null  float64\n",
      " 8   DISTRICT    150926 non-null  float64\n",
      " 9   LATITUDE    151069 non-null  float64\n",
      " 10  LONGITUDE   151069 non-null  float64\n",
      " 11  START_DATE  151064 non-null  object \n",
      " 12  END_DATE    133124 non-null  object \n",
      "dtypes: float64(6), object(7)\n",
      "memory usage: 15.0+ MB\n"
     ]
    }
   ],
   "source": [
    "# view data types for each columns\n",
    "df.info()"
   ]
  },
  {
   "cell_type": "code",
   "execution_count": 6,
   "metadata": {
    "colab": {
     "base_uri": "https://localhost:8080/"
    },
    "id": "yh8xmrV6tJSe",
    "outputId": "c4ccc2b0-e5eb-4e58-cb86-9e9d2c3192d5"
   },
   "outputs": [
    {
     "name": "stdout",
     "output_type": "stream",
     "text": [
      "<class 'pandas.core.frame.DataFrame'>\n",
      "RangeIndex: 151069 entries, 0 to 151068\n",
      "Data columns (total 13 columns):\n",
      " #   Column      Non-Null Count   Dtype         \n",
      "---  ------      --------------   -----         \n",
      " 0   REPORT_DAT  151069 non-null  datetime64[ns]\n",
      " 1   SHIFT       151069 non-null  object        \n",
      " 2   METHOD      151069 non-null  object        \n",
      " 3   OFFENSE     151069 non-null  object        \n",
      " 4   BLOCK       151069 non-null  object        \n",
      " 5   XBLOCK      151069 non-null  float64       \n",
      " 6   YBLOCK      151069 non-null  float64       \n",
      " 7   WARD        147528 non-null  float64       \n",
      " 8   DISTRICT    150926 non-null  float64       \n",
      " 9   LATITUDE    151069 non-null  float64       \n",
      " 10  LONGITUDE   151069 non-null  float64       \n",
      " 11  START_DATE  151064 non-null  datetime64[ns]\n",
      " 12  END_DATE    133124 non-null  datetime64[ns]\n",
      "dtypes: datetime64[ns](3), float64(6), object(4)\n",
      "memory usage: 15.0+ MB\n"
     ]
    }
   ],
   "source": [
    "# convert REPORT_DAT, STATE_DATE, and END_DATE to datetime type \n",
    "df[['REPORT_DAT', 'START_DATE', 'END_DATE']]= df[['REPORT_DAT', 'START_DATE', 'END_DATE']].astype('datetime64[ns]')\n",
    "df.info()"
   ]
  },
  {
   "cell_type": "code",
   "execution_count": 7,
   "metadata": {
    "colab": {
     "base_uri": "https://localhost:8080/"
    },
    "id": "qfKEuez_ps4G",
    "outputId": "4f0aa682-3e71-48b4-dfbb-d67aa5757ad1"
   },
   "outputs": [
    {
     "data": {
      "text/plain": [
       "REPORT_DAT        0\n",
       "SHIFT             0\n",
       "METHOD            0\n",
       "OFFENSE           0\n",
       "BLOCK             0\n",
       "XBLOCK            0\n",
       "YBLOCK            0\n",
       "WARD           3541\n",
       "DISTRICT        143\n",
       "LATITUDE          0\n",
       "LONGITUDE         0\n",
       "START_DATE        5\n",
       "END_DATE      17945\n",
       "dtype: int64"
      ]
     },
     "execution_count": 7,
     "metadata": {},
     "output_type": "execute_result"
    }
   ],
   "source": [
    "#display number of null values\n",
    "df.isna().sum()"
   ]
  },
  {
   "cell_type": "code",
   "execution_count": 8,
   "metadata": {
    "colab": {
     "base_uri": "https://localhost:8080/"
    },
    "id": "N1p9G1BqpB6E",
    "outputId": "1e5653ab-7cea-4c2c-8c81-c995b8228832"
   },
   "outputs": [
    {
     "data": {
      "text/plain": [
       "(129848, 13)"
      ]
     },
     "execution_count": 8,
     "metadata": {},
     "output_type": "execute_result"
    }
   ],
   "source": [
    "# drop records with null values\n",
    "crime = df.dropna()\n",
    "crime.shape"
   ]
  }
 ],
 "metadata": {
  "colab": {
   "collapsed_sections": [],
   "name": "602_DataMerge.ipynb",
   "provenance": []
  },
  "kernelspec": {
   "display_name": "Python 3 (ipykernel)",
   "language": "python",
   "name": "python3"
  },
  "language_info": {
   "codemirror_mode": {
    "name": "ipython",
    "version": 3
   },
   "file_extension": ".py",
   "mimetype": "text/x-python",
   "name": "python",
   "nbconvert_exporter": "python",
   "pygments_lexer": "ipython3",
   "version": "3.8.12"
  }
 },
 "nbformat": 4,
 "nbformat_minor": 1
}
