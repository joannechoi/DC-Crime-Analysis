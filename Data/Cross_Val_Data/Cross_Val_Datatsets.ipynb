{
  "nbformat": 4,
  "nbformat_minor": 0,
  "metadata": {
    "colab": {
      "name": "Cross_Val_Datatsets.ipynb",
      "provenance": []
    },
    "kernelspec": {
      "name": "python3",
      "display_name": "Python 3"
    },
    "language_info": {
      "name": "python"
    }
  },
  "cells": [
    {
      "cell_type": "code",
      "metadata": {
        "colab": {
          "base_uri": "https://localhost:8080/"
        },
        "id": "x_GgmD2dnvgd",
        "outputId": "41af1a77-9bef-40d8-c73d-fef66e1fa2cc"
      },
      "source": [
        "# import libraries\n",
        "from google.colab import drive\n",
        "drive.mount('/content/drive')\n",
        "from google.colab import files\n",
        "import pandas as pd"
      ],
      "execution_count": 1,
      "outputs": [
        {
          "output_type": "stream",
          "name": "stdout",
          "text": [
            "Drive already mounted at /content/drive; to attempt to forcibly remount, call drive.mount(\"/content/drive\", force_remount=True).\n"
          ]
        }
      ]
    },
    {
      "cell_type": "code",
      "metadata": {
        "colab": {
          "base_uri": "https://localhost:8080/",
          "height": 105
        },
        "id": "raaKOsuDsHXr",
        "outputId": "4b7c17b8-657c-4dc8-c034-e344db15924a"
      },
      "source": [
        "'''\n",
        "X_COVID.csv, y_COVID.csv\n",
        "            => X_COVID_baseline.csv \n",
        "\t\t\t\t\t\t=> X_COVID_experiment.csv with 4 COVID features dropped \n",
        "\t\t\t\t\t\t=> y_COVID.csv \n",
        "\n",
        "X_PRECOVID.csv, y_PRECOVID.csv \n",
        "            => X_PRECOVID_baseline.csv\n",
        "\t\t\t\t\t\t=> X_PRECOVID_experiment.csv with 4 features added as 0s \n",
        "            => y_PRECOVID.csv\n",
        "'''"
      ],
      "execution_count": 2,
      "outputs": [
        {
          "output_type": "execute_result",
          "data": {
            "application/vnd.google.colaboratory.intrinsic+json": {
              "type": "string"
            },
            "text/plain": [
              "'\\nX_COVID.csv, y_COVID.csv\\n            => X_COVID_baseline.csv \\n\\t\\t\\t\\t\\t\\t=> X_COVID_experiment.csv with 4 COVID features dropped \\n\\t\\t\\t\\t\\t\\t=> y_COVID.csv \\n\\nX_PRECOVID.csv, y_PRECOVID.csv \\n            => X_PRECOVID_baseline.csv\\n\\t\\t\\t\\t\\t\\t=> X_PRECOVID_experiment.csv with 4 features added as 0s \\n            => y_PRECOVID.csv\\n'"
            ]
          },
          "metadata": {},
          "execution_count": 2
        }
      ]
    },
    {
      "cell_type": "markdown",
      "metadata": {
        "id": "r-fFLUHCsnBD"
      },
      "source": [
        "### Pre-Covid Data"
      ]
    },
    {
      "cell_type": "code",
      "metadata": {
        "id": "8LP4gNx-orTW"
      },
      "source": [
        "precovid_data = pd.read_csv('/content/drive/MyDrive/covid_crime_micro_geo_11_29_2021.csv', index_col=0)"
      ],
      "execution_count": 3,
      "outputs": []
    },
    {
      "cell_type": "markdown",
      "metadata": {
        "id": "zoet-AQnsrD1"
      },
      "source": [
        "#### Pre-Covid Baseline"
      ]
    },
    {
      "cell_type": "code",
      "metadata": {
        "id": "b1i3OHFtovcI"
      },
      "source": [
        "precovid_data_baseline = precovid_data.drop(columns=['daily_cases', 'daily_death', 'OUT_POSITIVE_QUARANTINE_PSMPD',\n",
        "                                                     'total_cases', 'SHIFT', 'OFFENSE', 'date', 'LATITUDE', 'LONGITUDE', \n",
        "                                                     'ward_1', 'ward_2', 'ward_3', 'ward_4', 'ward_5', \n",
        "                                                     'ward_6', 'ward_7', 'ward_8'])\n",
        "# declare target and features\n",
        "y_precovid_base = precovid_data_baseline.pop('WARD') \n",
        "X_precovid_base = precovid_data_baseline"
      ],
      "execution_count": 4,
      "outputs": []
    },
    {
      "cell_type": "code",
      "metadata": {
        "colab": {
          "base_uri": "https://localhost:8080/",
          "height": 17
        },
        "id": "8mozlfoctC2Y",
        "outputId": "d88b03bb-3700-4bd4-a6cf-82d641a9bd53"
      },
      "source": [
        "#download X_PRECOVID_BASE into a csv file\n",
        "X_precovid_base.to_csv('X_PRECOVID_baseline.csv', index = False, header=True)\n",
        "files.download(\"X_PRECOVID_baseline.csv\")"
      ],
      "execution_count": 5,
      "outputs": [
        {
          "output_type": "display_data",
          "data": {
            "application/javascript": [
              "\n",
              "    async function download(id, filename, size) {\n",
              "      if (!google.colab.kernel.accessAllowed) {\n",
              "        return;\n",
              "      }\n",
              "      const div = document.createElement('div');\n",
              "      const label = document.createElement('label');\n",
              "      label.textContent = `Downloading \"${filename}\": `;\n",
              "      div.appendChild(label);\n",
              "      const progress = document.createElement('progress');\n",
              "      progress.max = size;\n",
              "      div.appendChild(progress);\n",
              "      document.body.appendChild(div);\n",
              "\n",
              "      const buffers = [];\n",
              "      let downloaded = 0;\n",
              "\n",
              "      const channel = await google.colab.kernel.comms.open(id);\n",
              "      // Send a message to notify the kernel that we're ready.\n",
              "      channel.send({})\n",
              "\n",
              "      for await (const message of channel.messages) {\n",
              "        // Send a message to notify the kernel that we're ready.\n",
              "        channel.send({})\n",
              "        if (message.buffers) {\n",
              "          for (const buffer of message.buffers) {\n",
              "            buffers.push(buffer);\n",
              "            downloaded += buffer.byteLength;\n",
              "            progress.value = downloaded;\n",
              "          }\n",
              "        }\n",
              "      }\n",
              "      const blob = new Blob(buffers, {type: 'application/binary'});\n",
              "      const a = document.createElement('a');\n",
              "      a.href = window.URL.createObjectURL(blob);\n",
              "      a.download = filename;\n",
              "      div.appendChild(a);\n",
              "      a.click();\n",
              "      div.remove();\n",
              "    }\n",
              "  "
            ],
            "text/plain": [
              "<IPython.core.display.Javascript object>"
            ]
          },
          "metadata": {}
        },
        {
          "output_type": "display_data",
          "data": {
            "application/javascript": [
              "download(\"download_4d7c1acd-8e44-485a-8fd6-4b6144691a02\", \"X_PRECOVID_baseline.csv\", 5213892)"
            ],
            "text/plain": [
              "<IPython.core.display.Javascript object>"
            ]
          },
          "metadata": {}
        }
      ]
    },
    {
      "cell_type": "code",
      "metadata": {
        "colab": {
          "base_uri": "https://localhost:8080/",
          "height": 17
        },
        "id": "b5Dmf57ItqLV",
        "outputId": "0dbc47e6-0bc9-4650-d4ae-f234c7acbf5d"
      },
      "source": [
        "#download Y_PRECOVID into a csv file\n",
        "y_precovid_base.to_csv('y_PRECOVID.csv', index = False, header=True)\n",
        "files.download(\"y_PRECOVID.csv\")"
      ],
      "execution_count": 6,
      "outputs": [
        {
          "output_type": "display_data",
          "data": {
            "application/javascript": [
              "\n",
              "    async function download(id, filename, size) {\n",
              "      if (!google.colab.kernel.accessAllowed) {\n",
              "        return;\n",
              "      }\n",
              "      const div = document.createElement('div');\n",
              "      const label = document.createElement('label');\n",
              "      label.textContent = `Downloading \"${filename}\": `;\n",
              "      div.appendChild(label);\n",
              "      const progress = document.createElement('progress');\n",
              "      progress.max = size;\n",
              "      div.appendChild(progress);\n",
              "      document.body.appendChild(div);\n",
              "\n",
              "      const buffers = [];\n",
              "      let downloaded = 0;\n",
              "\n",
              "      const channel = await google.colab.kernel.comms.open(id);\n",
              "      // Send a message to notify the kernel that we're ready.\n",
              "      channel.send({})\n",
              "\n",
              "      for await (const message of channel.messages) {\n",
              "        // Send a message to notify the kernel that we're ready.\n",
              "        channel.send({})\n",
              "        if (message.buffers) {\n",
              "          for (const buffer of message.buffers) {\n",
              "            buffers.push(buffer);\n",
              "            downloaded += buffer.byteLength;\n",
              "            progress.value = downloaded;\n",
              "          }\n",
              "        }\n",
              "      }\n",
              "      const blob = new Blob(buffers, {type: 'application/binary'});\n",
              "      const a = document.createElement('a');\n",
              "      a.href = window.URL.createObjectURL(blob);\n",
              "      a.download = filename;\n",
              "      div.appendChild(a);\n",
              "      a.click();\n",
              "      div.remove();\n",
              "    }\n",
              "  "
            ],
            "text/plain": [
              "<IPython.core.display.Javascript object>"
            ]
          },
          "metadata": {}
        },
        {
          "output_type": "display_data",
          "data": {
            "application/javascript": [
              "download(\"download_1e3181fc-e3a2-45e3-ad75-ac805511f2cd\", \"y_PRECOVID.csv\", 172661)"
            ],
            "text/plain": [
              "<IPython.core.display.Javascript object>"
            ]
          },
          "metadata": {}
        }
      ]
    },
    {
      "cell_type": "markdown",
      "metadata": {
        "id": "X_tkksLmswpe"
      },
      "source": [
        "#### Pre-Covid Experiment"
      ]
    },
    {
      "cell_type": "code",
      "metadata": {
        "id": "8xvbYNlTswFu"
      },
      "source": [
        "# precovid exp data now HAS the covid columns -- all values are 0\n",
        "precovid_data_exp = precovid_data.drop(columns=['total_cases', 'SHIFT', 'OFFENSE', 'date', 'LATITUDE', 'LONGITUDE', \n",
        "                                                     'ward_1', 'ward_2', 'ward_3', 'ward_4', 'ward_5', \n",
        "                                                     'ward_6', 'ward_7', 'ward_8'])\n",
        "y_precovid_exp = precovid_data_exp.pop('WARD') \n",
        "X_precovid_exp = precovid_data_exp"
      ],
      "execution_count": 7,
      "outputs": []
    },
    {
      "cell_type": "code",
      "metadata": {
        "colab": {
          "base_uri": "https://localhost:8080/",
          "height": 34
        },
        "id": "GH-zCzAvtEQ6",
        "outputId": "959ae44e-0f6f-4285-d972-321e0849011c"
      },
      "source": [
        "#download dataframe into a csv file\n",
        "X_precovid_exp.to_csv('X_PRECOVID_experiment.csv', index = False, header=True)\n",
        "files.download(\"X_PRECOVID_experiment.csv\")"
      ],
      "execution_count": 10,
      "outputs": [
        {
          "output_type": "display_data",
          "data": {
            "application/javascript": [
              "\n",
              "    async function download(id, filename, size) {\n",
              "      if (!google.colab.kernel.accessAllowed) {\n",
              "        return;\n",
              "      }\n",
              "      const div = document.createElement('div');\n",
              "      const label = document.createElement('label');\n",
              "      label.textContent = `Downloading \"${filename}\": `;\n",
              "      div.appendChild(label);\n",
              "      const progress = document.createElement('progress');\n",
              "      progress.max = size;\n",
              "      div.appendChild(progress);\n",
              "      document.body.appendChild(div);\n",
              "\n",
              "      const buffers = [];\n",
              "      let downloaded = 0;\n",
              "\n",
              "      const channel = await google.colab.kernel.comms.open(id);\n",
              "      // Send a message to notify the kernel that we're ready.\n",
              "      channel.send({})\n",
              "\n",
              "      for await (const message of channel.messages) {\n",
              "        // Send a message to notify the kernel that we're ready.\n",
              "        channel.send({})\n",
              "        if (message.buffers) {\n",
              "          for (const buffer of message.buffers) {\n",
              "            buffers.push(buffer);\n",
              "            downloaded += buffer.byteLength;\n",
              "            progress.value = downloaded;\n",
              "          }\n",
              "        }\n",
              "      }\n",
              "      const blob = new Blob(buffers, {type: 'application/binary'});\n",
              "      const a = document.createElement('a');\n",
              "      a.href = window.URL.createObjectURL(blob);\n",
              "      a.download = filename;\n",
              "      div.appendChild(a);\n",
              "      a.click();\n",
              "      div.remove();\n",
              "    }\n",
              "  "
            ],
            "text/plain": [
              "<IPython.core.display.Javascript object>"
            ]
          },
          "metadata": {}
        },
        {
          "output_type": "display_data",
          "data": {
            "application/javascript": [
              "download(\"download_90a1aecd-1bae-479d-9e0a-65d2686557f8\", \"X_PRECOVID_experiment.csv\", 5832534)"
            ],
            "text/plain": [
              "<IPython.core.display.Javascript object>"
            ]
          },
          "metadata": {}
        }
      ]
    },
    {
      "cell_type": "markdown",
      "metadata": {
        "id": "6YxxMv8as0UZ"
      },
      "source": [
        "### Covid Data"
      ]
    },
    {
      "cell_type": "code",
      "metadata": {
        "id": "eAxv6Mkcs3q7"
      },
      "source": [
        "covid_data = pd.read_csv('/content/drive/MyDrive/precovid_crime_micro_geo_11_29_2021.csv', index_col=0)"
      ],
      "execution_count": 11,
      "outputs": []
    },
    {
      "cell_type": "markdown",
      "metadata": {
        "id": "UA8cIXp4s5IM"
      },
      "source": [
        "#### Covid Baseline"
      ]
    },
    {
      "cell_type": "code",
      "metadata": {
        "id": "Ax9g4VXtsQQa"
      },
      "source": [
        "covid_data_baseline = covid_data.drop(columns=['SHIFT', 'OFFENSE', 'date', 'LATITUDE', 'LONGITUDE', 'total_cases', \n",
        "                                            'ward_1', 'ward_2', 'ward_3', 'ward_4', 'ward_5', 'ward_6', \n",
        "                                            'ward_7', 'ward_8'])\n",
        "# declare target and features\n",
        "y_covid_base = covid_data_baseline.pop('WARD') \n",
        "X_covid_base = covid_data_baseline"
      ],
      "execution_count": 12,
      "outputs": []
    },
    {
      "cell_type": "code",
      "metadata": {
        "colab": {
          "base_uri": "https://localhost:8080/",
          "height": 17
        },
        "id": "M6gviCE-t7GQ",
        "outputId": "bf07759c-2f8f-4e83-9af6-beb9b221c149"
      },
      "source": [
        "#download X_COVID_BASE into a csv file\n",
        "X_covid_base.to_csv('X_COVID_baseline.csv', index = False, header=True)\n",
        "files.download(\"X_COVID_baseline.csv\")"
      ],
      "execution_count": 13,
      "outputs": [
        {
          "output_type": "display_data",
          "data": {
            "application/javascript": [
              "\n",
              "    async function download(id, filename, size) {\n",
              "      if (!google.colab.kernel.accessAllowed) {\n",
              "        return;\n",
              "      }\n",
              "      const div = document.createElement('div');\n",
              "      const label = document.createElement('label');\n",
              "      label.textContent = `Downloading \"${filename}\": `;\n",
              "      div.appendChild(label);\n",
              "      const progress = document.createElement('progress');\n",
              "      progress.max = size;\n",
              "      div.appendChild(progress);\n",
              "      document.body.appendChild(div);\n",
              "\n",
              "      const buffers = [];\n",
              "      let downloaded = 0;\n",
              "\n",
              "      const channel = await google.colab.kernel.comms.open(id);\n",
              "      // Send a message to notify the kernel that we're ready.\n",
              "      channel.send({})\n",
              "\n",
              "      for await (const message of channel.messages) {\n",
              "        // Send a message to notify the kernel that we're ready.\n",
              "        channel.send({})\n",
              "        if (message.buffers) {\n",
              "          for (const buffer of message.buffers) {\n",
              "            buffers.push(buffer);\n",
              "            downloaded += buffer.byteLength;\n",
              "            progress.value = downloaded;\n",
              "          }\n",
              "        }\n",
              "      }\n",
              "      const blob = new Blob(buffers, {type: 'application/binary'});\n",
              "      const a = document.createElement('a');\n",
              "      a.href = window.URL.createObjectURL(blob);\n",
              "      a.download = filename;\n",
              "      div.appendChild(a);\n",
              "      a.click();\n",
              "      div.remove();\n",
              "    }\n",
              "  "
            ],
            "text/plain": [
              "<IPython.core.display.Javascript object>"
            ]
          },
          "metadata": {}
        },
        {
          "output_type": "display_data",
          "data": {
            "application/javascript": [
              "download(\"download_c578f477-5e8b-4b16-a0ab-88be16655020\", \"X_COVID_baseline.csv\", 13863872)"
            ],
            "text/plain": [
              "<IPython.core.display.Javascript object>"
            ]
          },
          "metadata": {}
        }
      ]
    },
    {
      "cell_type": "code",
      "metadata": {
        "colab": {
          "base_uri": "https://localhost:8080/",
          "height": 17
        },
        "id": "npgUVCiquFnp",
        "outputId": "2f7c489e-d1ee-4b72-eea8-8063cae0e061"
      },
      "source": [
        "#download Y_COVID into a csv file\n",
        "y_covid_base.to_csv('y_COVID.csv', index = False, header=True)\n",
        "files.download(\"y_COVID.csv\")"
      ],
      "execution_count": 15,
      "outputs": [
        {
          "output_type": "display_data",
          "data": {
            "application/javascript": [
              "\n",
              "    async function download(id, filename, size) {\n",
              "      if (!google.colab.kernel.accessAllowed) {\n",
              "        return;\n",
              "      }\n",
              "      const div = document.createElement('div');\n",
              "      const label = document.createElement('label');\n",
              "      label.textContent = `Downloading \"${filename}\": `;\n",
              "      div.appendChild(label);\n",
              "      const progress = document.createElement('progress');\n",
              "      progress.max = size;\n",
              "      div.appendChild(progress);\n",
              "      document.body.appendChild(div);\n",
              "\n",
              "      const buffers = [];\n",
              "      let downloaded = 0;\n",
              "\n",
              "      const channel = await google.colab.kernel.comms.open(id);\n",
              "      // Send a message to notify the kernel that we're ready.\n",
              "      channel.send({})\n",
              "\n",
              "      for await (const message of channel.messages) {\n",
              "        // Send a message to notify the kernel that we're ready.\n",
              "        channel.send({})\n",
              "        if (message.buffers) {\n",
              "          for (const buffer of message.buffers) {\n",
              "            buffers.push(buffer);\n",
              "            downloaded += buffer.byteLength;\n",
              "            progress.value = downloaded;\n",
              "          }\n",
              "        }\n",
              "      }\n",
              "      const blob = new Blob(buffers, {type: 'application/binary'});\n",
              "      const a = document.createElement('a');\n",
              "      a.href = window.URL.createObjectURL(blob);\n",
              "      a.download = filename;\n",
              "      div.appendChild(a);\n",
              "      a.click();\n",
              "      div.remove();\n",
              "    }\n",
              "  "
            ],
            "text/plain": [
              "<IPython.core.display.Javascript object>"
            ]
          },
          "metadata": {}
        },
        {
          "output_type": "display_data",
          "data": {
            "application/javascript": [
              "download(\"download_8cd465de-112a-4ecc-b281-684b23032813\", \"y_COVID.csv\", 417441)"
            ],
            "text/plain": [
              "<IPython.core.display.Javascript object>"
            ]
          },
          "metadata": {}
        }
      ]
    },
    {
      "cell_type": "markdown",
      "metadata": {
        "id": "ATOd3VIws846"
      },
      "source": [
        "#### Covid Experiment"
      ]
    },
    {
      "cell_type": "code",
      "metadata": {
        "id": "65jXcY0KsVkn"
      },
      "source": [
        "# covid exp data doest NOT have covid columns\n",
        "covid_data_exp = covid_data.drop(columns=['daily_cases', 'daily_death', 'OUT_POSITIVE_QUARANTINE_PSMPD',\n",
        "                                                     'total_cases', 'SHIFT', 'OFFENSE', 'date', 'LATITUDE', 'LONGITUDE', \n",
        "                                                     'ward_1', 'ward_2', 'ward_3', 'ward_4', 'ward_5', \n",
        "                                                     'ward_6', 'ward_7', 'ward_8'])\n",
        "# declare target and features for EXP\n",
        "y_covid_exp = covid_data_exp.pop('WARD') \n",
        "X_covid_exp = covid_data_exp"
      ],
      "execution_count": 16,
      "outputs": []
    },
    {
      "cell_type": "code",
      "metadata": {
        "colab": {
          "base_uri": "https://localhost:8080/",
          "height": 17
        },
        "id": "BSI8CXBfpB-6",
        "outputId": "70af7bab-1bd6-4cb4-9c47-710c62172325"
      },
      "source": [
        "#download X_COVID_Baseline into a csv file\n",
        "X_covid_exp.to_csv('X_COVID_experiment.csv', index = False, header=True)\n",
        "files.download(\"X_COVID_experiment.csv\")"
      ],
      "execution_count": 17,
      "outputs": [
        {
          "output_type": "display_data",
          "data": {
            "application/javascript": [
              "\n",
              "    async function download(id, filename, size) {\n",
              "      if (!google.colab.kernel.accessAllowed) {\n",
              "        return;\n",
              "      }\n",
              "      const div = document.createElement('div');\n",
              "      const label = document.createElement('label');\n",
              "      label.textContent = `Downloading \"${filename}\": `;\n",
              "      div.appendChild(label);\n",
              "      const progress = document.createElement('progress');\n",
              "      progress.max = size;\n",
              "      div.appendChild(progress);\n",
              "      document.body.appendChild(div);\n",
              "\n",
              "      const buffers = [];\n",
              "      let downloaded = 0;\n",
              "\n",
              "      const channel = await google.colab.kernel.comms.open(id);\n",
              "      // Send a message to notify the kernel that we're ready.\n",
              "      channel.send({})\n",
              "\n",
              "      for await (const message of channel.messages) {\n",
              "        // Send a message to notify the kernel that we're ready.\n",
              "        channel.send({})\n",
              "        if (message.buffers) {\n",
              "          for (const buffer of message.buffers) {\n",
              "            buffers.push(buffer);\n",
              "            downloaded += buffer.byteLength;\n",
              "            progress.value = downloaded;\n",
              "          }\n",
              "        }\n",
              "      }\n",
              "      const blob = new Blob(buffers, {type: 'application/binary'});\n",
              "      const a = document.createElement('a');\n",
              "      a.href = window.URL.createObjectURL(blob);\n",
              "      a.download = filename;\n",
              "      div.appendChild(a);\n",
              "      a.click();\n",
              "      div.remove();\n",
              "    }\n",
              "  "
            ],
            "text/plain": [
              "<IPython.core.display.Javascript object>"
            ]
          },
          "metadata": {}
        },
        {
          "output_type": "display_data",
          "data": {
            "application/javascript": [
              "download(\"download_575cddbf-b0b9-4f1d-812c-cbd3b936fa6e\", \"X_COVID_experiment.csv\", 12611510)"
            ],
            "text/plain": [
              "<IPython.core.display.Javascript object>"
            ]
          },
          "metadata": {}
        }
      ]
    }
  ]
}