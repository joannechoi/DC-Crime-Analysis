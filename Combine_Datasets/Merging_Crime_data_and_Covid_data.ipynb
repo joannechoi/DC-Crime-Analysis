{
  "nbformat": 4,
  "nbformat_minor": 5,
  "metadata": {
    "kernelspec": {
      "display_name": "Python 3 (ipykernel)",
      "language": "python",
      "name": "python3"
    },
    "language_info": {
      "codemirror_mode": {
        "name": "ipython",
        "version": 3
      },
      "file_extension": ".py",
      "mimetype": "text/x-python",
      "name": "python",
      "nbconvert_exporter": "python",
      "pygments_lexer": "ipython3",
      "version": "3.8.11"
    },
    "colab": {
      "name": "Merging Crime data and Covid data.ipynb",
      "provenance": [],
      "collapsed_sections": []
    }
  },
  "cells": [
    {
      "cell_type": "code",
      "metadata": {
        "id": "ac9a4c6f"
      },
      "source": [
        "#import packages\n",
        "import pandas as pd\n",
        "import numpy as np\n",
        "import datetime as dt\n",
        "import matplotlib.pyplot as plt\n",
        "import seaborn as sns\n",
        "import openpyxl"
      ],
      "id": "ac9a4c6f",
      "execution_count": 1,
      "outputs": []
    },
    {
      "cell_type": "code",
      "metadata": {
        "id": "ca1cde0a"
      },
      "source": [
        "#import data\n",
        "df_crime = pd.read_csv('/content/MergedData_2017-2021.csv')\n",
        "df_covid_ward = pd.read_excel('/content/DC-COVID-19-Data-for-11-5-2021.xlsx'\n",
        "                              , sheet_name = 'Total Cases by Ward', engine='openpyxl')\n",
        "df_covid_death = pd.read_excel('/content/DC-COVID-19-Data-for-11-5-2021.xlsx'\n",
        "                               , sheet_name = 'Lives Lost by Ward', engine='openpyxl')\n",
        "df_sick_police = pd.read_csv('/content/daily_count_police_out_due_to_covid.csv')"
      ],
      "id": "ca1cde0a",
      "execution_count": 2,
      "outputs": []
    },
    {
      "cell_type": "code",
      "metadata": {
        "colab": {
          "base_uri": "https://localhost:8080/",
          "height": 419
        },
        "id": "2185581d",
        "outputId": "e88d655c-8380-42b0-c102-b6062a5d886e"
      },
      "source": [
        "#delete columns not needed from crime data\n",
        "del df_crime['REPORT_DAT']\n",
        "del df_crime['BLOCK']\n",
        "del df_crime['YBLOCK']\n",
        "del df_crime['XBLOCK']\n",
        "del df_crime['LATITUDE']\n",
        "del df_crime['LONGITUDE']\n",
        "del df_crime['END_DATE']\n",
        "\n",
        "df_crime = df_crime.rename(columns = {'START_DATE':'date'})\n",
        "\n",
        "df_crime['date'] = pd.to_datetime(df_crime['date']).dt.date\n",
        "df_crime['date'] = pd.to_datetime(df_crime['date'])\n",
        "df_crime.dtypes\n",
        "df_crime"
      ],
      "id": "2185581d",
      "execution_count": 3,
      "outputs": [
        {
          "output_type": "execute_result",
          "data": {
            "text/html": [
              "<div>\n",
              "<style scoped>\n",
              "    .dataframe tbody tr th:only-of-type {\n",
              "        vertical-align: middle;\n",
              "    }\n",
              "\n",
              "    .dataframe tbody tr th {\n",
              "        vertical-align: top;\n",
              "    }\n",
              "\n",
              "    .dataframe thead th {\n",
              "        text-align: right;\n",
              "    }\n",
              "</style>\n",
              "<table border=\"1\" class=\"dataframe\">\n",
              "  <thead>\n",
              "    <tr style=\"text-align: right;\">\n",
              "      <th></th>\n",
              "      <th>SHIFT</th>\n",
              "      <th>METHOD</th>\n",
              "      <th>OFFENSE</th>\n",
              "      <th>WARD</th>\n",
              "      <th>DISTRICT</th>\n",
              "      <th>date</th>\n",
              "    </tr>\n",
              "  </thead>\n",
              "  <tbody>\n",
              "    <tr>\n",
              "      <th>0</th>\n",
              "      <td>MIDNIGHT</td>\n",
              "      <td>OTHERS</td>\n",
              "      <td>THEFT F/AUTO</td>\n",
              "      <td>5.0</td>\n",
              "      <td>5.0</td>\n",
              "      <td>2017-10-28</td>\n",
              "    </tr>\n",
              "    <tr>\n",
              "      <th>1</th>\n",
              "      <td>MIDNIGHT</td>\n",
              "      <td>KNIFE</td>\n",
              "      <td>ASSAULT W/DANGEROUS WEAPON</td>\n",
              "      <td>6.0</td>\n",
              "      <td>1.0</td>\n",
              "      <td>2017-10-28</td>\n",
              "    </tr>\n",
              "    <tr>\n",
              "      <th>2</th>\n",
              "      <td>MIDNIGHT</td>\n",
              "      <td>OTHERS</td>\n",
              "      <td>THEFT F/AUTO</td>\n",
              "      <td>6.0</td>\n",
              "      <td>1.0</td>\n",
              "      <td>2017-10-28</td>\n",
              "    </tr>\n",
              "    <tr>\n",
              "      <th>3</th>\n",
              "      <td>DAY</td>\n",
              "      <td>OTHERS</td>\n",
              "      <td>THEFT F/AUTO</td>\n",
              "      <td>6.0</td>\n",
              "      <td>1.0</td>\n",
              "      <td>2017-10-27</td>\n",
              "    </tr>\n",
              "    <tr>\n",
              "      <th>4</th>\n",
              "      <td>DAY</td>\n",
              "      <td>OTHERS</td>\n",
              "      <td>THEFT/OTHER</td>\n",
              "      <td>5.0</td>\n",
              "      <td>5.0</td>\n",
              "      <td>2017-10-28</td>\n",
              "    </tr>\n",
              "    <tr>\n",
              "      <th>...</th>\n",
              "      <td>...</td>\n",
              "      <td>...</td>\n",
              "      <td>...</td>\n",
              "      <td>...</td>\n",
              "      <td>...</td>\n",
              "      <td>...</td>\n",
              "    </tr>\n",
              "    <tr>\n",
              "      <th>151064</th>\n",
              "      <td>DAY</td>\n",
              "      <td>OTHERS</td>\n",
              "      <td>BURGLARY</td>\n",
              "      <td>5.0</td>\n",
              "      <td>5.0</td>\n",
              "      <td>2021-02-04</td>\n",
              "    </tr>\n",
              "    <tr>\n",
              "      <th>151065</th>\n",
              "      <td>DAY</td>\n",
              "      <td>OTHERS</td>\n",
              "      <td>THEFT F/AUTO</td>\n",
              "      <td>7.0</td>\n",
              "      <td>6.0</td>\n",
              "      <td>2021-02-04</td>\n",
              "    </tr>\n",
              "    <tr>\n",
              "      <th>151066</th>\n",
              "      <td>DAY</td>\n",
              "      <td>OTHERS</td>\n",
              "      <td>THEFT F/AUTO</td>\n",
              "      <td>5.0</td>\n",
              "      <td>4.0</td>\n",
              "      <td>2021-02-03</td>\n",
              "    </tr>\n",
              "    <tr>\n",
              "      <th>151067</th>\n",
              "      <td>DAY</td>\n",
              "      <td>KNIFE</td>\n",
              "      <td>ASSAULT W/DANGEROUS WEAPON</td>\n",
              "      <td>8.0</td>\n",
              "      <td>7.0</td>\n",
              "      <td>2021-02-04</td>\n",
              "    </tr>\n",
              "    <tr>\n",
              "      <th>151068</th>\n",
              "      <td>DAY</td>\n",
              "      <td>OTHERS</td>\n",
              "      <td>THEFT F/AUTO</td>\n",
              "      <td>7.0</td>\n",
              "      <td>6.0</td>\n",
              "      <td>2021-02-04</td>\n",
              "    </tr>\n",
              "  </tbody>\n",
              "</table>\n",
              "<p>151069 rows × 6 columns</p>\n",
              "</div>"
            ],
            "text/plain": [
              "           SHIFT  METHOD                     OFFENSE  WARD  DISTRICT       date\n",
              "0       MIDNIGHT  OTHERS                THEFT F/AUTO   5.0       5.0 2017-10-28\n",
              "1       MIDNIGHT   KNIFE  ASSAULT W/DANGEROUS WEAPON   6.0       1.0 2017-10-28\n",
              "2       MIDNIGHT  OTHERS                THEFT F/AUTO   6.0       1.0 2017-10-28\n",
              "3            DAY  OTHERS                THEFT F/AUTO   6.0       1.0 2017-10-27\n",
              "4            DAY  OTHERS                 THEFT/OTHER   5.0       5.0 2017-10-28\n",
              "...          ...     ...                         ...   ...       ...        ...\n",
              "151064       DAY  OTHERS                    BURGLARY   5.0       5.0 2021-02-04\n",
              "151065       DAY  OTHERS                THEFT F/AUTO   7.0       6.0 2021-02-04\n",
              "151066       DAY  OTHERS                THEFT F/AUTO   5.0       4.0 2021-02-03\n",
              "151067       DAY   KNIFE  ASSAULT W/DANGEROUS WEAPON   8.0       7.0 2021-02-04\n",
              "151068       DAY  OTHERS                THEFT F/AUTO   7.0       6.0 2021-02-04\n",
              "\n",
              "[151069 rows x 6 columns]"
            ]
          },
          "metadata": {},
          "execution_count": 3
        }
      ]
    },
    {
      "cell_type": "code",
      "metadata": {
        "colab": {
          "base_uri": "https://localhost:8080/"
        },
        "id": "4b34678f",
        "outputId": "fef03a60-b4a0-41f9-e436-ae34bbc44e99"
      },
      "source": [
        "df_crime.info()"
      ],
      "id": "4b34678f",
      "execution_count": 4,
      "outputs": [
        {
          "output_type": "stream",
          "name": "stdout",
          "text": [
            "<class 'pandas.core.frame.DataFrame'>\n",
            "RangeIndex: 151069 entries, 0 to 151068\n",
            "Data columns (total 6 columns):\n",
            " #   Column    Non-Null Count   Dtype         \n",
            "---  ------    --------------   -----         \n",
            " 0   SHIFT     151069 non-null  object        \n",
            " 1   METHOD    151069 non-null  object        \n",
            " 2   OFFENSE   151069 non-null  object        \n",
            " 3   WARD      147528 non-null  float64       \n",
            " 4   DISTRICT  150926 non-null  float64       \n",
            " 5   date      151064 non-null  datetime64[ns]\n",
            "dtypes: datetime64[ns](1), float64(2), object(3)\n",
            "memory usage: 6.9+ MB\n"
          ]
        }
      ]
    },
    {
      "cell_type": "code",
      "metadata": {
        "colab": {
          "base_uri": "https://localhost:8080/"
        },
        "id": "27e87e39",
        "outputId": "dfe28d70-3042-49a9-d62e-13eaf3c7c6c5"
      },
      "source": [
        "df_crime.isna().sum()"
      ],
      "id": "27e87e39",
      "execution_count": 5,
      "outputs": [
        {
          "output_type": "execute_result",
          "data": {
            "text/plain": [
              "SHIFT          0\n",
              "METHOD         0\n",
              "OFFENSE        0\n",
              "WARD        3541\n",
              "DISTRICT     143\n",
              "date           5\n",
              "dtype: int64"
            ]
          },
          "metadata": {},
          "execution_count": 5
        }
      ]
    },
    {
      "cell_type": "code",
      "metadata": {
        "colab": {
          "base_uri": "https://localhost:8080/"
        },
        "id": "7e532840",
        "outputId": "fe3c4ed9-fcc6-4a2d-f4f8-359f17b35fb2"
      },
      "source": [
        "#drop records with null records\n",
        "df_crime = df_crime.dropna(axis=0)\n",
        "print(df_crime.isna().sum())\n",
        "print(df_crime.shape)"
      ],
      "id": "7e532840",
      "execution_count": 6,
      "outputs": [
        {
          "output_type": "stream",
          "name": "stdout",
          "text": [
            "SHIFT       0\n",
            "METHOD      0\n",
            "OFFENSE     0\n",
            "WARD        0\n",
            "DISTRICT    0\n",
            "date        0\n",
            "dtype: int64\n",
            "(147385, 6)\n"
          ]
        }
      ]
    },
    {
      "cell_type": "code",
      "metadata": {
        "colab": {
          "base_uri": "https://localhost:8080/",
          "height": 419
        },
        "id": "ba0aa4a6",
        "outputId": "b7380271-9c30-4c84-c3ac-42ea9c89eeb9"
      },
      "source": [
        "#covid case data\n",
        "df_covid_ward = df_covid_ward.transpose()\n",
        "df_covid_ward.reset_index(drop = True, inplace= True)\n",
        "df_covid_ward.columns=('date', 'ward_1', 'ward_2', 'ward_3', 'ward_4', 'ward_5', 'ward_6'\n",
        "                      , 'ward_7', 'ward_8', 'unknown')\n",
        "df_covid_ward = df_covid_ward.iloc[1: , :]\n",
        "df_covid_ward['date'] = pd.to_datetime(df_covid_ward['date'])\n",
        "df_covid_ward['total_cases'] = (df_covid_ward['ward_1'] + df_covid_ward['ward_2'] + df_covid_ward['ward_3'] + df_covid_ward['ward_4'] + df_covid_ward['ward_5'] + df_covid_ward['ward_6'] +df_covid_ward['ward_7'] + df_covid_ward['ward_8'] +df_covid_ward['unknown'])\n",
        "df_covid_ward['daily_cases'] = df_covid_ward['total_cases'].diff(1)\n",
        "\n",
        "del df_covid_ward['ward_1']\n",
        "del df_covid_ward['ward_2']\n",
        "del df_covid_ward['ward_3']\n",
        "del df_covid_ward['ward_4']\n",
        "del df_covid_ward['ward_5']\n",
        "del df_covid_ward['ward_6']\n",
        "del df_covid_ward['ward_7']\n",
        "del df_covid_ward['ward_8']\n",
        "del df_covid_ward['unknown']\n",
        "\n",
        "df_covid_ward.fillna(0, inplace=True)\n",
        "\n",
        "df_covid_ward"
      ],
      "id": "ba0aa4a6",
      "execution_count": 7,
      "outputs": [
        {
          "output_type": "execute_result",
          "data": {
            "text/html": [
              "<div>\n",
              "<style scoped>\n",
              "    .dataframe tbody tr th:only-of-type {\n",
              "        vertical-align: middle;\n",
              "    }\n",
              "\n",
              "    .dataframe tbody tr th {\n",
              "        vertical-align: top;\n",
              "    }\n",
              "\n",
              "    .dataframe thead th {\n",
              "        text-align: right;\n",
              "    }\n",
              "</style>\n",
              "<table border=\"1\" class=\"dataframe\">\n",
              "  <thead>\n",
              "    <tr style=\"text-align: right;\">\n",
              "      <th></th>\n",
              "      <th>date</th>\n",
              "      <th>total_cases</th>\n",
              "      <th>daily_cases</th>\n",
              "    </tr>\n",
              "  </thead>\n",
              "  <tbody>\n",
              "    <tr>\n",
              "      <th>1</th>\n",
              "      <td>2020-03-31</td>\n",
              "      <td>586</td>\n",
              "      <td>0</td>\n",
              "    </tr>\n",
              "    <tr>\n",
              "      <th>2</th>\n",
              "      <td>2020-04-01</td>\n",
              "      <td>653</td>\n",
              "      <td>67</td>\n",
              "    </tr>\n",
              "    <tr>\n",
              "      <th>3</th>\n",
              "      <td>2020-04-02</td>\n",
              "      <td>757</td>\n",
              "      <td>104</td>\n",
              "    </tr>\n",
              "    <tr>\n",
              "      <th>4</th>\n",
              "      <td>2020-04-03</td>\n",
              "      <td>902</td>\n",
              "      <td>145</td>\n",
              "    </tr>\n",
              "    <tr>\n",
              "      <th>5</th>\n",
              "      <td>2020-04-04</td>\n",
              "      <td>998</td>\n",
              "      <td>96</td>\n",
              "    </tr>\n",
              "    <tr>\n",
              "      <th>...</th>\n",
              "      <td>...</td>\n",
              "      <td>...</td>\n",
              "      <td>...</td>\n",
              "    </tr>\n",
              "    <tr>\n",
              "      <th>536</th>\n",
              "      <td>2021-11-01</td>\n",
              "      <td>64541</td>\n",
              "      <td>71</td>\n",
              "    </tr>\n",
              "    <tr>\n",
              "      <th>537</th>\n",
              "      <td>2021-11-02</td>\n",
              "      <td>64602</td>\n",
              "      <td>61</td>\n",
              "    </tr>\n",
              "    <tr>\n",
              "      <th>538</th>\n",
              "      <td>2021-11-03</td>\n",
              "      <td>64708</td>\n",
              "      <td>106</td>\n",
              "    </tr>\n",
              "    <tr>\n",
              "      <th>539</th>\n",
              "      <td>2021-11-04</td>\n",
              "      <td>64799</td>\n",
              "      <td>91</td>\n",
              "    </tr>\n",
              "    <tr>\n",
              "      <th>540</th>\n",
              "      <td>2021-11-05</td>\n",
              "      <td>65053</td>\n",
              "      <td>254</td>\n",
              "    </tr>\n",
              "  </tbody>\n",
              "</table>\n",
              "<p>540 rows × 3 columns</p>\n",
              "</div>"
            ],
            "text/plain": [
              "          date  total_cases  daily_cases\n",
              "1   2020-03-31          586            0\n",
              "2   2020-04-01          653           67\n",
              "3   2020-04-02          757          104\n",
              "4   2020-04-03          902          145\n",
              "5   2020-04-04          998           96\n",
              "..         ...          ...          ...\n",
              "536 2021-11-01        64541           71\n",
              "537 2021-11-02        64602           61\n",
              "538 2021-11-03        64708          106\n",
              "539 2021-11-04        64799           91\n",
              "540 2021-11-05        65053          254\n",
              "\n",
              "[540 rows x 3 columns]"
            ]
          },
          "metadata": {},
          "execution_count": 7
        }
      ]
    },
    {
      "cell_type": "code",
      "metadata": {
        "colab": {
          "base_uri": "https://localhost:8080/",
          "height": 419
        },
        "id": "efaeda2d",
        "outputId": "b4afb096-febb-4213-f5ce-d1a815a6ac4d"
      },
      "source": [
        "#death data\n",
        "df_covid_death = df_covid_death.transpose()\n",
        "df_covid_death.reset_index(drop = True, inplace= True)\n",
        "df_covid_death.columns=('date', 'all', 'ward_1', 'ward_2', 'ward_3', 'ward_4', 'ward_5', 'ward_6'\n",
        "                      , 'ward_7', 'ward_8', 'Experienced Homelessness', 'unknown', 'na')\n",
        "df_covid_death = df_covid_death.iloc[1: , :]\n",
        "df_covid_death['date'] = pd.to_datetime(df_covid_death['date'])\n",
        "df_covid_death['daily_death'] = df_covid_death['all'].diff(1)\n",
        "\n",
        "del df_covid_death['ward_1']\n",
        "del df_covid_death['ward_2']\n",
        "del df_covid_death['ward_3']\n",
        "del df_covid_death['ward_4']\n",
        "del df_covid_death['ward_5']\n",
        "del df_covid_death['ward_6']\n",
        "del df_covid_death['ward_7']\n",
        "del df_covid_death['ward_8']\n",
        "del df_covid_death['unknown']\n",
        "del df_covid_death['na']\n",
        "del df_covid_death['Experienced Homelessness']\n",
        "del df_covid_death['all']\n",
        "\n",
        "df_covid_death.fillna(0, inplace=True)\n",
        "\n",
        "df_covid_death"
      ],
      "id": "efaeda2d",
      "execution_count": 8,
      "outputs": [
        {
          "output_type": "execute_result",
          "data": {
            "text/html": [
              "<div>\n",
              "<style scoped>\n",
              "    .dataframe tbody tr th:only-of-type {\n",
              "        vertical-align: middle;\n",
              "    }\n",
              "\n",
              "    .dataframe tbody tr th {\n",
              "        vertical-align: top;\n",
              "    }\n",
              "\n",
              "    .dataframe thead th {\n",
              "        text-align: right;\n",
              "    }\n",
              "</style>\n",
              "<table border=\"1\" class=\"dataframe\">\n",
              "  <thead>\n",
              "    <tr style=\"text-align: right;\">\n",
              "      <th></th>\n",
              "      <th>date</th>\n",
              "      <th>daily_death</th>\n",
              "    </tr>\n",
              "  </thead>\n",
              "  <tbody>\n",
              "    <tr>\n",
              "      <th>1</th>\n",
              "      <td>2020-04-19</td>\n",
              "      <td>0</td>\n",
              "    </tr>\n",
              "    <tr>\n",
              "      <th>2</th>\n",
              "      <td>2020-04-20</td>\n",
              "      <td>7</td>\n",
              "    </tr>\n",
              "    <tr>\n",
              "      <th>3</th>\n",
              "      <td>2020-04-21</td>\n",
              "      <td>15</td>\n",
              "    </tr>\n",
              "    <tr>\n",
              "      <th>4</th>\n",
              "      <td>2020-04-22</td>\n",
              "      <td>12</td>\n",
              "    </tr>\n",
              "    <tr>\n",
              "      <th>5</th>\n",
              "      <td>2020-04-23</td>\n",
              "      <td>14</td>\n",
              "    </tr>\n",
              "    <tr>\n",
              "      <th>...</th>\n",
              "      <td>...</td>\n",
              "      <td>...</td>\n",
              "    </tr>\n",
              "    <tr>\n",
              "      <th>515</th>\n",
              "      <td>2021-11-01</td>\n",
              "      <td>2</td>\n",
              "    </tr>\n",
              "    <tr>\n",
              "      <th>516</th>\n",
              "      <td>2021-11-02</td>\n",
              "      <td>0</td>\n",
              "    </tr>\n",
              "    <tr>\n",
              "      <th>517</th>\n",
              "      <td>2021-11-03</td>\n",
              "      <td>0</td>\n",
              "    </tr>\n",
              "    <tr>\n",
              "      <th>518</th>\n",
              "      <td>2021-11-04</td>\n",
              "      <td>0</td>\n",
              "    </tr>\n",
              "    <tr>\n",
              "      <th>519</th>\n",
              "      <td>2021-11-05</td>\n",
              "      <td>0</td>\n",
              "    </tr>\n",
              "  </tbody>\n",
              "</table>\n",
              "<p>519 rows × 2 columns</p>\n",
              "</div>"
            ],
            "text/plain": [
              "          date  daily_death\n",
              "1   2020-04-19            0\n",
              "2   2020-04-20            7\n",
              "3   2020-04-21           15\n",
              "4   2020-04-22           12\n",
              "5   2020-04-23           14\n",
              "..         ...          ...\n",
              "515 2021-11-01            2\n",
              "516 2021-11-02            0\n",
              "517 2021-11-03            0\n",
              "518 2021-11-04            0\n",
              "519 2021-11-05            0\n",
              "\n",
              "[519 rows x 2 columns]"
            ]
          },
          "metadata": {},
          "execution_count": 8
        }
      ]
    },
    {
      "cell_type": "code",
      "metadata": {
        "colab": {
          "base_uri": "https://localhost:8080/",
          "height": 419
        },
        "id": "9f27aaf0",
        "outputId": "fa353d13-2ddd-432a-a850-eefa42812534"
      },
      "source": [
        "#sick police\n",
        "df_sick_police = df_sick_police.rename(columns = {'DATE_REPORTED':'date'})\n",
        "df_sick_police['date'] = pd.to_datetime(df_sick_police['date'])\n",
        "\n",
        "df_sick_police.fillna(0, inplace=True)\n",
        "\n",
        "df_sick_police"
      ],
      "id": "9f27aaf0",
      "execution_count": 9,
      "outputs": [
        {
          "output_type": "execute_result",
          "data": {
            "text/html": [
              "<div>\n",
              "<style scoped>\n",
              "    .dataframe tbody tr th:only-of-type {\n",
              "        vertical-align: middle;\n",
              "    }\n",
              "\n",
              "    .dataframe tbody tr th {\n",
              "        vertical-align: top;\n",
              "    }\n",
              "\n",
              "    .dataframe thead th {\n",
              "        text-align: right;\n",
              "    }\n",
              "</style>\n",
              "<table border=\"1\" class=\"dataframe\">\n",
              "  <thead>\n",
              "    <tr style=\"text-align: right;\">\n",
              "      <th></th>\n",
              "      <th>date</th>\n",
              "      <th>OUT_POSITIVE_QUARANTINE_PSMPD</th>\n",
              "    </tr>\n",
              "  </thead>\n",
              "  <tbody>\n",
              "    <tr>\n",
              "      <th>0</th>\n",
              "      <td>2020-03-07</td>\n",
              "      <td>0.0</td>\n",
              "    </tr>\n",
              "    <tr>\n",
              "      <th>1</th>\n",
              "      <td>2020-03-08</td>\n",
              "      <td>0.0</td>\n",
              "    </tr>\n",
              "    <tr>\n",
              "      <th>2</th>\n",
              "      <td>2020-03-09</td>\n",
              "      <td>0.0</td>\n",
              "    </tr>\n",
              "    <tr>\n",
              "      <th>3</th>\n",
              "      <td>2020-03-10</td>\n",
              "      <td>0.0</td>\n",
              "    </tr>\n",
              "    <tr>\n",
              "      <th>4</th>\n",
              "      <td>2020-03-11</td>\n",
              "      <td>0.0</td>\n",
              "    </tr>\n",
              "    <tr>\n",
              "      <th>...</th>\n",
              "      <td>...</td>\n",
              "      <td>...</td>\n",
              "    </tr>\n",
              "    <tr>\n",
              "      <th>589</th>\n",
              "      <td>2021-10-17</td>\n",
              "      <td>42.0</td>\n",
              "    </tr>\n",
              "    <tr>\n",
              "      <th>590</th>\n",
              "      <td>2021-10-18</td>\n",
              "      <td>43.0</td>\n",
              "    </tr>\n",
              "    <tr>\n",
              "      <th>591</th>\n",
              "      <td>2021-10-19</td>\n",
              "      <td>43.0</td>\n",
              "    </tr>\n",
              "    <tr>\n",
              "      <th>592</th>\n",
              "      <td>2021-10-20</td>\n",
              "      <td>43.0</td>\n",
              "    </tr>\n",
              "    <tr>\n",
              "      <th>593</th>\n",
              "      <td>2021-10-21</td>\n",
              "      <td>43.0</td>\n",
              "    </tr>\n",
              "  </tbody>\n",
              "</table>\n",
              "<p>594 rows × 2 columns</p>\n",
              "</div>"
            ],
            "text/plain": [
              "          date  OUT_POSITIVE_QUARANTINE_PSMPD\n",
              "0   2020-03-07                            0.0\n",
              "1   2020-03-08                            0.0\n",
              "2   2020-03-09                            0.0\n",
              "3   2020-03-10                            0.0\n",
              "4   2020-03-11                            0.0\n",
              "..         ...                            ...\n",
              "589 2021-10-17                           42.0\n",
              "590 2021-10-18                           43.0\n",
              "591 2021-10-19                           43.0\n",
              "592 2021-10-20                           43.0\n",
              "593 2021-10-21                           43.0\n",
              "\n",
              "[594 rows x 2 columns]"
            ]
          },
          "metadata": {},
          "execution_count": 9
        }
      ]
    },
    {
      "cell_type": "code",
      "metadata": {
        "id": "c8a163b1"
      },
      "source": [
        "#merge the dataframes together\n",
        "merged = df_crime.merge(df_covid_ward, how='left', on = 'date').merge(df_covid_death, how='left', on = 'date').merge(df_sick_police, how='left', on = 'date')"
      ],
      "id": "c8a163b1",
      "execution_count": 10,
      "outputs": []
    },
    {
      "cell_type": "code",
      "metadata": {
        "colab": {
          "base_uri": "https://localhost:8080/"
        },
        "id": "2c47ad69",
        "outputId": "5c5401d1-8064-4d76-8a8a-3f930e477be7"
      },
      "source": [
        "#getting weekday dummies\n",
        "merged['weekday'] = merged['date'].dt.dayofweek\n",
        "dummy0 = pd.get_dummies(merged['weekday'])\n",
        "dummy0.columns = ['MO', 'TU', 'WE', 'TH', 'FR', 'SA', 'SU']\n",
        "merged = pd.concat([merged, dummy0] , axis = 1)\n",
        "del merged['weekday']\n",
        "\n",
        "#get month dummies\n",
        "merged['month'] = merged['date'].dt.month\n",
        "dummy1 = pd.get_dummies(merged['month'])\n",
        "dummy1.columns = ['JAN', 'FEB','MAR', 'APR', 'MAY', 'JUN', 'JUL', 'AUG', 'SEP',\n",
        "                 'OCT', 'NOV', 'DEC']              \n",
        "merged = pd.concat([merged, dummy1] , axis = 1)\n",
        "del merged['month']\n",
        "\n",
        "crime_types = merged['OFFENSE'].unique()\n",
        "dummy2 = pd.get_dummies(merged['OFFENSE'])\n",
        "dummy2.columns = crime_types\n",
        "merged = pd.concat([merged, dummy2] , axis = 1)\n",
        "\n",
        "merged.columns"
      ],
      "id": "2c47ad69",
      "execution_count": 11,
      "outputs": [
        {
          "output_type": "execute_result",
          "data": {
            "text/plain": [
              "Index(['SHIFT', 'METHOD', 'OFFENSE', 'WARD', 'DISTRICT', 'date', 'total_cases',\n",
              "       'daily_cases', 'daily_death', 'OUT_POSITIVE_QUARANTINE_PSMPD', 'MO',\n",
              "       'TU', 'WE', 'TH', 'FR', 'SA', 'SU', 'JAN', 'FEB', 'MAR', 'APR', 'MAY',\n",
              "       'JUN', 'JUL', 'AUG', 'SEP', 'OCT', 'NOV', 'DEC', 'THEFT F/AUTO',\n",
              "       'ASSAULT W/DANGEROUS WEAPON', 'THEFT/OTHER', 'MOTOR VEHICLE THEFT',\n",
              "       'BURGLARY', 'SEX ABUSE', 'ROBBERY', 'HOMICIDE', 'ARSON'],\n",
              "      dtype='object')"
            ]
          },
          "metadata": {},
          "execution_count": 11
        }
      ]
    },
    {
      "cell_type": "code",
      "metadata": {
        "colab": {
          "base_uri": "https://localhost:8080/"
        },
        "id": "cd1212d3",
        "outputId": "433cce46-b2d3-4ad1-e57e-25af3f6f2b39"
      },
      "source": [
        "merged.info()"
      ],
      "id": "cd1212d3",
      "execution_count": 12,
      "outputs": [
        {
          "output_type": "stream",
          "name": "stdout",
          "text": [
            "<class 'pandas.core.frame.DataFrame'>\n",
            "Int64Index: 147385 entries, 0 to 147384\n",
            "Data columns (total 38 columns):\n",
            " #   Column                         Non-Null Count   Dtype         \n",
            "---  ------                         --------------   -----         \n",
            " 0   SHIFT                          147385 non-null  object        \n",
            " 1   METHOD                         147385 non-null  object        \n",
            " 2   OFFENSE                        147385 non-null  object        \n",
            " 3   WARD                           147385 non-null  float64       \n",
            " 4   DISTRICT                       147385 non-null  float64       \n",
            " 5   date                           147385 non-null  datetime64[ns]\n",
            " 6   total_cases                    38189 non-null   float64       \n",
            " 7   daily_cases                    38189 non-null   float64       \n",
            " 8   daily_death                    37083 non-null   float64       \n",
            " 9   OUT_POSITIVE_QUARANTINE_PSMPD  43509 non-null   float64       \n",
            " 10  MO                             147385 non-null  uint8         \n",
            " 11  TU                             147385 non-null  uint8         \n",
            " 12  WE                             147385 non-null  uint8         \n",
            " 13  TH                             147385 non-null  uint8         \n",
            " 14  FR                             147385 non-null  uint8         \n",
            " 15  SA                             147385 non-null  uint8         \n",
            " 16  SU                             147385 non-null  uint8         \n",
            " 17  JAN                            147385 non-null  uint8         \n",
            " 18  FEB                            147385 non-null  uint8         \n",
            " 19  MAR                            147385 non-null  uint8         \n",
            " 20  APR                            147385 non-null  uint8         \n",
            " 21  MAY                            147385 non-null  uint8         \n",
            " 22  JUN                            147385 non-null  uint8         \n",
            " 23  JUL                            147385 non-null  uint8         \n",
            " 24  AUG                            147385 non-null  uint8         \n",
            " 25  SEP                            147385 non-null  uint8         \n",
            " 26  OCT                            147385 non-null  uint8         \n",
            " 27  NOV                            147385 non-null  uint8         \n",
            " 28  DEC                            147385 non-null  uint8         \n",
            " 29  THEFT F/AUTO                   147385 non-null  uint8         \n",
            " 30  ASSAULT W/DANGEROUS WEAPON     147385 non-null  uint8         \n",
            " 31  THEFT/OTHER                    147385 non-null  uint8         \n",
            " 32  MOTOR VEHICLE THEFT            147385 non-null  uint8         \n",
            " 33  BURGLARY                       147385 non-null  uint8         \n",
            " 34  SEX ABUSE                      147385 non-null  uint8         \n",
            " 35  ROBBERY                        147385 non-null  uint8         \n",
            " 36  HOMICIDE                       147385 non-null  uint8         \n",
            " 37  ARSON                          147385 non-null  uint8         \n",
            "dtypes: datetime64[ns](1), float64(6), object(3), uint8(28)\n",
            "memory usage: 16.3+ MB\n"
          ]
        }
      ]
    },
    {
      "cell_type": "code",
      "metadata": {
        "id": "39fdcb23"
      },
      "source": [
        "merged.fillna(0, inplace=True)"
      ],
      "id": "39fdcb23",
      "execution_count": 13,
      "outputs": []
    },
    {
      "cell_type": "code",
      "metadata": {
        "colab": {
          "base_uri": "https://localhost:8080/",
          "height": 328
        },
        "id": "25c6bd22",
        "outputId": "58185c53-e0d2-4cae-ecd3-492d93eeba93"
      },
      "source": [
        "count = merged.groupby(['OFFENSE'], as_index=False).agg(\n",
        "{\n",
        "    'date':'count',\n",
        "})\n",
        "count"
      ],
      "id": "25c6bd22",
      "execution_count": 14,
      "outputs": [
        {
          "output_type": "execute_result",
          "data": {
            "text/html": [
              "<div>\n",
              "<style scoped>\n",
              "    .dataframe tbody tr th:only-of-type {\n",
              "        vertical-align: middle;\n",
              "    }\n",
              "\n",
              "    .dataframe tbody tr th {\n",
              "        vertical-align: top;\n",
              "    }\n",
              "\n",
              "    .dataframe thead th {\n",
              "        text-align: right;\n",
              "    }\n",
              "</style>\n",
              "<table border=\"1\" class=\"dataframe\">\n",
              "  <thead>\n",
              "    <tr style=\"text-align: right;\">\n",
              "      <th></th>\n",
              "      <th>OFFENSE</th>\n",
              "      <th>date</th>\n",
              "    </tr>\n",
              "  </thead>\n",
              "  <tbody>\n",
              "    <tr>\n",
              "      <th>0</th>\n",
              "      <td>ARSON</td>\n",
              "      <td>33</td>\n",
              "    </tr>\n",
              "    <tr>\n",
              "      <th>1</th>\n",
              "      <td>ASSAULT W/DANGEROUS WEAPON</td>\n",
              "      <td>7824</td>\n",
              "    </tr>\n",
              "    <tr>\n",
              "      <th>2</th>\n",
              "      <td>BURGLARY</td>\n",
              "      <td>6386</td>\n",
              "    </tr>\n",
              "    <tr>\n",
              "      <th>3</th>\n",
              "      <td>HOMICIDE</td>\n",
              "      <td>804</td>\n",
              "    </tr>\n",
              "    <tr>\n",
              "      <th>4</th>\n",
              "      <td>MOTOR VEHICLE THEFT</td>\n",
              "      <td>12785</td>\n",
              "    </tr>\n",
              "    <tr>\n",
              "      <th>5</th>\n",
              "      <td>ROBBERY</td>\n",
              "      <td>9722</td>\n",
              "    </tr>\n",
              "    <tr>\n",
              "      <th>6</th>\n",
              "      <td>SEX ABUSE</td>\n",
              "      <td>1061</td>\n",
              "    </tr>\n",
              "    <tr>\n",
              "      <th>7</th>\n",
              "      <td>THEFT F/AUTO</td>\n",
              "      <td>46406</td>\n",
              "    </tr>\n",
              "    <tr>\n",
              "      <th>8</th>\n",
              "      <td>THEFT/OTHER</td>\n",
              "      <td>62364</td>\n",
              "    </tr>\n",
              "  </tbody>\n",
              "</table>\n",
              "</div>"
            ],
            "text/plain": [
              "                      OFFENSE   date\n",
              "0                       ARSON     33\n",
              "1  ASSAULT W/DANGEROUS WEAPON   7824\n",
              "2                    BURGLARY   6386\n",
              "3                    HOMICIDE    804\n",
              "4         MOTOR VEHICLE THEFT  12785\n",
              "5                     ROBBERY   9722\n",
              "6                   SEX ABUSE   1061\n",
              "7                THEFT F/AUTO  46406\n",
              "8                 THEFT/OTHER  62364"
            ]
          },
          "metadata": {},
          "execution_count": 14
        }
      ]
    },
    {
      "cell_type": "code",
      "metadata": {
        "colab": {
          "base_uri": "https://localhost:8080/"
        },
        "id": "43b963d2",
        "outputId": "6d3b3bb8-5869-46ee-ec59-6b3ac46a908a"
      },
      "source": [
        "merged.loc[merged['daily_cases'] == 0].count()"
      ],
      "id": "43b963d2",
      "execution_count": 15,
      "outputs": [
        {
          "output_type": "execute_result",
          "data": {
            "text/plain": [
              "SHIFT                            109965\n",
              "METHOD                           109965\n",
              "OFFENSE                          109965\n",
              "WARD                             109965\n",
              "DISTRICT                         109965\n",
              "date                             109965\n",
              "total_cases                      109965\n",
              "daily_cases                      109965\n",
              "daily_death                      109965\n",
              "OUT_POSITIVE_QUARANTINE_PSMPD    109965\n",
              "MO                               109965\n",
              "TU                               109965\n",
              "WE                               109965\n",
              "TH                               109965\n",
              "FR                               109965\n",
              "SA                               109965\n",
              "SU                               109965\n",
              "JAN                              109965\n",
              "FEB                              109965\n",
              "MAR                              109965\n",
              "APR                              109965\n",
              "MAY                              109965\n",
              "JUN                              109965\n",
              "JUL                              109965\n",
              "AUG                              109965\n",
              "SEP                              109965\n",
              "OCT                              109965\n",
              "NOV                              109965\n",
              "DEC                              109965\n",
              "THEFT F/AUTO                     109965\n",
              "ASSAULT W/DANGEROUS WEAPON       109965\n",
              "THEFT/OTHER                      109965\n",
              "MOTOR VEHICLE THEFT              109965\n",
              "BURGLARY                         109965\n",
              "SEX ABUSE                        109965\n",
              "ROBBERY                          109965\n",
              "HOMICIDE                         109965\n",
              "ARSON                            109965\n",
              "dtype: int64"
            ]
          },
          "metadata": {},
          "execution_count": 15
        }
      ]
    },
    {
      "cell_type": "code",
      "metadata": {
        "colab": {
          "base_uri": "https://localhost:8080/"
        },
        "id": "3eb53a27",
        "outputId": "28e61e30-aa0e-49e7-c9a8-497e3a8a4424"
      },
      "source": [
        "merged.isna().sum()"
      ],
      "id": "3eb53a27",
      "execution_count": 16,
      "outputs": [
        {
          "output_type": "execute_result",
          "data": {
            "text/plain": [
              "SHIFT                            0\n",
              "METHOD                           0\n",
              "OFFENSE                          0\n",
              "WARD                             0\n",
              "DISTRICT                         0\n",
              "date                             0\n",
              "total_cases                      0\n",
              "daily_cases                      0\n",
              "daily_death                      0\n",
              "OUT_POSITIVE_QUARANTINE_PSMPD    0\n",
              "MO                               0\n",
              "TU                               0\n",
              "WE                               0\n",
              "TH                               0\n",
              "FR                               0\n",
              "SA                               0\n",
              "SU                               0\n",
              "JAN                              0\n",
              "FEB                              0\n",
              "MAR                              0\n",
              "APR                              0\n",
              "MAY                              0\n",
              "JUN                              0\n",
              "JUL                              0\n",
              "AUG                              0\n",
              "SEP                              0\n",
              "OCT                              0\n",
              "NOV                              0\n",
              "DEC                              0\n",
              "THEFT F/AUTO                     0\n",
              "ASSAULT W/DANGEROUS WEAPON       0\n",
              "THEFT/OTHER                      0\n",
              "MOTOR VEHICLE THEFT              0\n",
              "BURGLARY                         0\n",
              "SEX ABUSE                        0\n",
              "ROBBERY                          0\n",
              "HOMICIDE                         0\n",
              "ARSON                            0\n",
              "dtype: int64"
            ]
          },
          "metadata": {},
          "execution_count": 16
        }
      ]
    },
    {
      "cell_type": "code",
      "metadata": {
        "id": "1a04d59e"
      },
      "source": [
        "#split into precovid/during covid\n",
        "#merged.to_csv(r'/Users/samuelclark/Documents/UMBC Data Science /Machine learning/Final Projects/Data/merged.csv')"
      ],
      "id": "1a04d59e",
      "execution_count": 17,
      "outputs": []
    },
    {
      "cell_type": "code",
      "metadata": {
        "colab": {
          "base_uri": "https://localhost:8080/",
          "height": 17
        },
        "id": "OhtAOTks-zmx",
        "outputId": "b99cbf30-43d4-47e7-d57a-70a564121dd1"
      },
      "source": [
        "from google.colab import files\n",
        "merged.to_csv ('MergedData_covid_police.csv', index = False, header=True)\n",
        "files.download(\"MergedData_covid_police.csv\")"
      ],
      "id": "OhtAOTks-zmx",
      "execution_count": 19,
      "outputs": [
        {
          "output_type": "display_data",
          "data": {
            "application/javascript": [
              "\n",
              "    async function download(id, filename, size) {\n",
              "      if (!google.colab.kernel.accessAllowed) {\n",
              "        return;\n",
              "      }\n",
              "      const div = document.createElement('div');\n",
              "      const label = document.createElement('label');\n",
              "      label.textContent = `Downloading \"${filename}\": `;\n",
              "      div.appendChild(label);\n",
              "      const progress = document.createElement('progress');\n",
              "      progress.max = size;\n",
              "      div.appendChild(progress);\n",
              "      document.body.appendChild(div);\n",
              "\n",
              "      const buffers = [];\n",
              "      let downloaded = 0;\n",
              "\n",
              "      const channel = await google.colab.kernel.comms.open(id);\n",
              "      // Send a message to notify the kernel that we're ready.\n",
              "      channel.send({})\n",
              "\n",
              "      for await (const message of channel.messages) {\n",
              "        // Send a message to notify the kernel that we're ready.\n",
              "        channel.send({})\n",
              "        if (message.buffers) {\n",
              "          for (const buffer of message.buffers) {\n",
              "            buffers.push(buffer);\n",
              "            downloaded += buffer.byteLength;\n",
              "            progress.value = downloaded;\n",
              "          }\n",
              "        }\n",
              "      }\n",
              "      const blob = new Blob(buffers, {type: 'application/binary'});\n",
              "      const a = document.createElement('a');\n",
              "      a.href = window.URL.createObjectURL(blob);\n",
              "      a.download = filename;\n",
              "      div.appendChild(a);\n",
              "      a.click();\n",
              "      div.remove();\n",
              "    }\n",
              "  "
            ],
            "text/plain": [
              "<IPython.core.display.Javascript object>"
            ]
          },
          "metadata": {}
        },
        {
          "output_type": "display_data",
          "data": {
            "application/javascript": [
              "download(\"download_68e10a61-8384-4975-a81d-7b4548d768ed\", \"MergedData_covid_police.csv\", 17631941)"
            ],
            "text/plain": [
              "<IPython.core.display.Javascript object>"
            ]
          },
          "metadata": {}
        }
      ]
    },
    {
      "cell_type": "code",
      "metadata": {
        "id": "G6YP8y1XE_Kk"
      },
      "source": [
        ""
      ],
      "id": "G6YP8y1XE_Kk",
      "execution_count": null,
      "outputs": []
    }
  ]
}