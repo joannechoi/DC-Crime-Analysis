{
 "cells": [
  {
   "cell_type": "code",
   "execution_count": 1,
   "id": "ac9a4c6f",
   "metadata": {},
   "outputs": [],
   "source": [
    "#import packages\n",
    "import pandas as pd\n",
    "import numpy as np\n",
    "import datetime as dt\n",
    "import matplotlib.pyplot as plt\n",
    "import seaborn as sns\n",
    "import openpyxl"
   ]
  },
  {
   "cell_type": "code",
   "execution_count": 2,
   "id": "ca1cde0a",
   "metadata": {},
   "outputs": [],
   "source": [
    "#import data\n",
    "df_crime = pd.read_csv(r'/Users/samuelclark/Documents/UMBC Data Science /Machine learning/Final Projects/Data/MergedData_2017-2021.csv')\n",
    "df_covid_ward = pd.read_excel(r'/Users/samuelclark/Documents/UMBC Data Science /Machine learning/Final Projects/Data/DC-COVID-19-Data-for-11-5-2021-2.xlsx'\n",
    "                              , sheet_name = 'Total Cases by Ward', engine='openpyxl')\n",
    "df_covid_death = pd.read_excel(r'/Users/samuelclark/Documents/UMBC Data Science /Machine learning/Final Projects/Data/DC-COVID-19-Data-for-11-5-2021-2.xlsx'\n",
    "                               , sheet_name = 'Lives Lost by Ward', engine='openpyxl')\n",
    "df_sick_police = pd.read_csv(r'/Users/samuelclark/Documents/UMBC Data Science /Machine learning/Final Projects/Data/daily_count_police_out_due_to_covid.csv')\n"
   ]
  },
  {
   "cell_type": "code",
   "execution_count": 3,
   "id": "aa5af205",
   "metadata": {},
   "outputs": [
    {
     "data": {
      "text/plain": [
       "SHIFT                    object\n",
       "METHOD                   object\n",
       "OFFENSE                  object\n",
       "WARD                    float64\n",
       "DISTRICT                float64\n",
       "date        datetime64[ns, UTC]\n",
       "dtype: object"
      ]
     },
     "execution_count": 3,
     "metadata": {},
     "output_type": "execute_result"
    }
   ],
   "source": [
    "#delete columns not needed from crime data\n",
    "del df_crime['REPORT_DAT']\n",
    "del df_crime['BLOCK']\n",
    "del df_crime['YBLOCK']\n",
    "del df_crime['XBLOCK']\n",
    "del df_crime['LATITUDE']\n",
    "del df_crime['LONGITUDE']\n",
    "del df_crime['END_DATE']\n",
    "\n",
    "df_crime = df_crime.rename(columns = {'START_DATE':'date'})\n",
    "\n",
    "df_crime['date'] = pd.to_datetime(df_crime['date'], utc=True)\n",
    "df_crime.dtypes"
   ]
  },
  {
   "cell_type": "code",
   "execution_count": 4,
   "id": "f6d90f2c",
   "metadata": {},
   "outputs": [
    {
     "data": {
      "text/plain": [
       "SHIFT                    object\n",
       "METHOD                   object\n",
       "OFFENSE                  object\n",
       "WARD                    float64\n",
       "DISTRICT                float64\n",
       "date        datetime64[ns, UTC]\n",
       "dtype: object"
      ]
     },
     "execution_count": 4,
     "metadata": {},
     "output_type": "execute_result"
    }
   ],
   "source": [
    "df_crime.dtypes"
   ]
  },
  {
   "cell_type": "code",
   "execution_count": 5,
   "id": "ba0aa4a6",
   "metadata": {},
   "outputs": [
    {
     "data": {
      "text/plain": [
       "date           datetime64[ns, UTC]\n",
       "total_cases                 object\n",
       "daily_cases                 object\n",
       "dtype: object"
      ]
     },
     "execution_count": 5,
     "metadata": {},
     "output_type": "execute_result"
    }
   ],
   "source": [
    "#covid case data\n",
    "df_covid_ward = df_covid_ward.transpose()\n",
    "df_covid_ward.reset_index(drop = True, inplace= True)\n",
    "df_covid_ward.columns=('date', 'ward_1', 'ward_2', 'ward_3', 'ward_4', 'ward_5', 'ward_6'\n",
    "                      , 'ward_7', 'ward_8', 'unknown')\n",
    "df_covid_ward = df_covid_ward.iloc[1: , :]\n",
    "df_covid_ward['date'] = pd.to_datetime(df_covid_ward['date'], utc=True)\n",
    "df_covid_ward['total_cases'] = (df_covid_ward['ward_1'] + df_covid_ward['ward_2'] + df_covid_ward['ward_3'] + df_covid_ward['ward_4'] + df_covid_ward['ward_5'] + df_covid_ward['ward_6'] +df_covid_ward['ward_7'] + df_covid_ward['ward_8'] +df_covid_ward['unknown'])\n",
    "df_covid_ward['daily_cases'] = df_covid_ward['total_cases'].diff(1)\n",
    "\n",
    "del df_covid_ward['ward_1']\n",
    "del df_covid_ward['ward_2']\n",
    "del df_covid_ward['ward_3']\n",
    "del df_covid_ward['ward_4']\n",
    "del df_covid_ward['ward_5']\n",
    "del df_covid_ward['ward_6']\n",
    "del df_covid_ward['ward_7']\n",
    "del df_covid_ward['ward_8']\n",
    "del df_covid_ward['unknown']\n",
    "\n",
    "\n",
    "df_covid_ward.dtypes"
   ]
  },
  {
   "cell_type": "code",
   "execution_count": 6,
   "id": "efaeda2d",
   "metadata": {},
   "outputs": [
    {
     "data": {
      "text/plain": [
       "date           datetime64[ns, UTC]\n",
       "daily_death                 object\n",
       "dtype: object"
      ]
     },
     "execution_count": 6,
     "metadata": {},
     "output_type": "execute_result"
    }
   ],
   "source": [
    "#death data\n",
    "df_covid_death = df_covid_death.transpose()\n",
    "df_covid_death.reset_index(drop = True, inplace= True)\n",
    "df_covid_death.columns=('date', 'all', 'ward_1', 'ward_2', 'ward_3', 'ward_4', 'ward_5', 'ward_6'\n",
    "                      , 'ward_7', 'ward_8', 'Experienced Homelessness', 'unknown', 'na')\n",
    "df_covid_death = df_covid_death.iloc[1: , :]\n",
    "df_covid_death['date'] = pd.to_datetime(df_covid_death['date'], utc=True)\n",
    "df_covid_death['daily_death'] = df_covid_death['all'].diff(1)\n",
    "\n",
    "del df_covid_death['ward_1']\n",
    "del df_covid_death['ward_2']\n",
    "del df_covid_death['ward_3']\n",
    "del df_covid_death['ward_4']\n",
    "del df_covid_death['ward_5']\n",
    "del df_covid_death['ward_6']\n",
    "del df_covid_death['ward_7']\n",
    "del df_covid_death['ward_8']\n",
    "del df_covid_death['unknown']\n",
    "del df_covid_death['na']\n",
    "del df_covid_death['Experienced Homelessness']\n",
    "del df_covid_death['all']\n",
    "\n",
    "df_covid_death.dtypes"
   ]
  },
  {
   "cell_type": "code",
   "execution_count": 7,
   "id": "9f27aaf0",
   "metadata": {},
   "outputs": [
    {
     "data": {
      "text/plain": [
       "date                             datetime64[ns, UTC]\n",
       "OUT_POSITIVE_QUARANTINE_PSMPD                float64\n",
       "dtype: object"
      ]
     },
     "execution_count": 7,
     "metadata": {},
     "output_type": "execute_result"
    }
   ],
   "source": [
    "#sick police\n",
    "df_sick_police = df_sick_police.rename(columns = {'DATE_REPORTED':'date'})\n",
    "df_sick_police['date'] = pd.to_datetime(df_sick_police['date'], utc=True)\n",
    "\n",
    "df_sick_police.dtypes"
   ]
  },
  {
   "cell_type": "code",
   "execution_count": 10,
   "id": "c8a163b1",
   "metadata": {},
   "outputs": [
    {
     "data": {
      "text/html": [
       "<div>\n",
       "<style scoped>\n",
       "    .dataframe tbody tr th:only-of-type {\n",
       "        vertical-align: middle;\n",
       "    }\n",
       "\n",
       "    .dataframe tbody tr th {\n",
       "        vertical-align: top;\n",
       "    }\n",
       "\n",
       "    .dataframe thead th {\n",
       "        text-align: right;\n",
       "    }\n",
       "</style>\n",
       "<table border=\"1\" class=\"dataframe\">\n",
       "  <thead>\n",
       "    <tr style=\"text-align: right;\">\n",
       "      <th></th>\n",
       "      <th>SHIFT</th>\n",
       "      <th>METHOD</th>\n",
       "      <th>OFFENSE</th>\n",
       "      <th>WARD</th>\n",
       "      <th>DISTRICT</th>\n",
       "      <th>date</th>\n",
       "      <th>total_cases</th>\n",
       "      <th>daily_cases</th>\n",
       "      <th>daily_death</th>\n",
       "      <th>OUT_POSITIVE_QUARANTINE_PSMPD</th>\n",
       "    </tr>\n",
       "  </thead>\n",
       "  <tbody>\n",
       "    <tr>\n",
       "      <th>101927</th>\n",
       "      <td>EVENING</td>\n",
       "      <td>OTHERS</td>\n",
       "      <td>THEFT F/AUTO</td>\n",
       "      <td>2.0</td>\n",
       "      <td>2.0</td>\n",
       "      <td>2020-09-17 00:00:00+00:00</td>\n",
       "      <td>14852</td>\n",
       "      <td>62</td>\n",
       "      <td>0</td>\n",
       "      <td>45.0</td>\n",
       "    </tr>\n",
       "    <tr>\n",
       "      <th>104289</th>\n",
       "      <td>EVENING</td>\n",
       "      <td>OTHERS</td>\n",
       "      <td>THEFT F/AUTO</td>\n",
       "      <td>6.0</td>\n",
       "      <td>1.0</td>\n",
       "      <td>2020-11-06 00:00:00+00:00</td>\n",
       "      <td>17891</td>\n",
       "      <td>99</td>\n",
       "      <td>2</td>\n",
       "      <td>87.0</td>\n",
       "    </tr>\n",
       "    <tr>\n",
       "      <th>105309</th>\n",
       "      <td>DAY</td>\n",
       "      <td>OTHERS</td>\n",
       "      <td>BURGLARY</td>\n",
       "      <td>1.0</td>\n",
       "      <td>3.0</td>\n",
       "      <td>2020-11-12 00:00:00+00:00</td>\n",
       "      <td>18666</td>\n",
       "      <td>159</td>\n",
       "      <td>0</td>\n",
       "      <td>103.0</td>\n",
       "    </tr>\n",
       "    <tr>\n",
       "      <th>105631</th>\n",
       "      <td>DAY</td>\n",
       "      <td>OTHERS</td>\n",
       "      <td>THEFT/OTHER</td>\n",
       "      <td>1.0</td>\n",
       "      <td>3.0</td>\n",
       "      <td>2020-08-30 00:00:00+00:00</td>\n",
       "      <td>13992</td>\n",
       "      <td>33</td>\n",
       "      <td>1</td>\n",
       "      <td>71.0</td>\n",
       "    </tr>\n",
       "    <tr>\n",
       "      <th>111896</th>\n",
       "      <td>EVENING</td>\n",
       "      <td>OTHERS</td>\n",
       "      <td>THEFT/OTHER</td>\n",
       "      <td>1.0</td>\n",
       "      <td>3.0</td>\n",
       "      <td>2020-04-07 00:00:00+00:00</td>\n",
       "      <td>1440</td>\n",
       "      <td>229</td>\n",
       "      <td>NaN</td>\n",
       "      <td>315.0</td>\n",
       "    </tr>\n",
       "    <tr>\n",
       "      <th>...</th>\n",
       "      <td>...</td>\n",
       "      <td>...</td>\n",
       "      <td>...</td>\n",
       "      <td>...</td>\n",
       "      <td>...</td>\n",
       "      <td>...</td>\n",
       "      <td>...</td>\n",
       "      <td>...</td>\n",
       "      <td>...</td>\n",
       "      <td>...</td>\n",
       "    </tr>\n",
       "    <tr>\n",
       "      <th>149518</th>\n",
       "      <td>DAY</td>\n",
       "      <td>OTHERS</td>\n",
       "      <td>THEFT F/AUTO</td>\n",
       "      <td>2.0</td>\n",
       "      <td>3.0</td>\n",
       "      <td>2021-04-15 00:00:00+00:00</td>\n",
       "      <td>46449</td>\n",
       "      <td>134</td>\n",
       "      <td>3</td>\n",
       "      <td>18.0</td>\n",
       "    </tr>\n",
       "    <tr>\n",
       "      <th>149950</th>\n",
       "      <td>MIDNIGHT</td>\n",
       "      <td>OTHERS</td>\n",
       "      <td>THEFT F/AUTO</td>\n",
       "      <td>1.0</td>\n",
       "      <td>3.0</td>\n",
       "      <td>2021-04-07 00:00:00+00:00</td>\n",
       "      <td>45498</td>\n",
       "      <td>170</td>\n",
       "      <td>1</td>\n",
       "      <td>25.0</td>\n",
       "    </tr>\n",
       "    <tr>\n",
       "      <th>150170</th>\n",
       "      <td>MIDNIGHT</td>\n",
       "      <td>OTHERS</td>\n",
       "      <td>THEFT F/AUTO</td>\n",
       "      <td>6.0</td>\n",
       "      <td>1.0</td>\n",
       "      <td>2021-01-18 00:00:00+00:00</td>\n",
       "      <td>34259</td>\n",
       "      <td>226</td>\n",
       "      <td>4</td>\n",
       "      <td>190.0</td>\n",
       "    </tr>\n",
       "    <tr>\n",
       "      <th>150544</th>\n",
       "      <td>EVENING</td>\n",
       "      <td>GUN</td>\n",
       "      <td>ASSAULT W/DANGEROUS WEAPON</td>\n",
       "      <td>6.0</td>\n",
       "      <td>1.0</td>\n",
       "      <td>2021-01-07 00:00:00+00:00</td>\n",
       "      <td>31107</td>\n",
       "      <td>357</td>\n",
       "      <td>1</td>\n",
       "      <td>182.0</td>\n",
       "    </tr>\n",
       "    <tr>\n",
       "      <th>150560</th>\n",
       "      <td>MIDNIGHT</td>\n",
       "      <td>OTHERS</td>\n",
       "      <td>THEFT F/AUTO</td>\n",
       "      <td>4.0</td>\n",
       "      <td>4.0</td>\n",
       "      <td>2021-02-20 00:00:00+00:00</td>\n",
       "      <td>39648</td>\n",
       "      <td>95</td>\n",
       "      <td>1</td>\n",
       "      <td>0.0</td>\n",
       "    </tr>\n",
       "  </tbody>\n",
       "</table>\n",
       "<p>159 rows × 10 columns</p>\n",
       "</div>"
      ],
      "text/plain": [
       "           SHIFT  METHOD                     OFFENSE  WARD  DISTRICT  \\\n",
       "101927   EVENING  OTHERS                THEFT F/AUTO   2.0       2.0   \n",
       "104289   EVENING  OTHERS                THEFT F/AUTO   6.0       1.0   \n",
       "105309       DAY  OTHERS                    BURGLARY   1.0       3.0   \n",
       "105631       DAY  OTHERS                 THEFT/OTHER   1.0       3.0   \n",
       "111896   EVENING  OTHERS                 THEFT/OTHER   1.0       3.0   \n",
       "...          ...     ...                         ...   ...       ...   \n",
       "149518       DAY  OTHERS                THEFT F/AUTO   2.0       3.0   \n",
       "149950  MIDNIGHT  OTHERS                THEFT F/AUTO   1.0       3.0   \n",
       "150170  MIDNIGHT  OTHERS                THEFT F/AUTO   6.0       1.0   \n",
       "150544   EVENING     GUN  ASSAULT W/DANGEROUS WEAPON   6.0       1.0   \n",
       "150560  MIDNIGHT  OTHERS                THEFT F/AUTO   4.0       4.0   \n",
       "\n",
       "                            date total_cases daily_cases daily_death  \\\n",
       "101927 2020-09-17 00:00:00+00:00       14852          62           0   \n",
       "104289 2020-11-06 00:00:00+00:00       17891          99           2   \n",
       "105309 2020-11-12 00:00:00+00:00       18666         159           0   \n",
       "105631 2020-08-30 00:00:00+00:00       13992          33           1   \n",
       "111896 2020-04-07 00:00:00+00:00        1440         229         NaN   \n",
       "...                          ...         ...         ...         ...   \n",
       "149518 2021-04-15 00:00:00+00:00       46449         134           3   \n",
       "149950 2021-04-07 00:00:00+00:00       45498         170           1   \n",
       "150170 2021-01-18 00:00:00+00:00       34259         226           4   \n",
       "150544 2021-01-07 00:00:00+00:00       31107         357           1   \n",
       "150560 2021-02-20 00:00:00+00:00       39648          95           1   \n",
       "\n",
       "        OUT_POSITIVE_QUARANTINE_PSMPD  \n",
       "101927                           45.0  \n",
       "104289                           87.0  \n",
       "105309                          103.0  \n",
       "105631                           71.0  \n",
       "111896                          315.0  \n",
       "...                               ...  \n",
       "149518                           18.0  \n",
       "149950                           25.0  \n",
       "150170                          190.0  \n",
       "150544                          182.0  \n",
       "150560                            0.0  \n",
       "\n",
       "[159 rows x 10 columns]"
      ]
     },
     "execution_count": 10,
     "metadata": {},
     "output_type": "execute_result"
    }
   ],
   "source": [
    "merged = df_crime.merge(df_covid_ward, how='left', on = 'date')\n",
    "merged2 = merged.merge(df_covid_death, how='left', on = 'date')\n",
    "merged3 = merged2.merge(df_sick_police, how='left', on = 'date')\n",
    "merged3.loc[merged3['total_cases'] >1]"
   ]
  },
  {
   "cell_type": "code",
   "execution_count": 9,
   "id": "1a04d59e",
   "metadata": {},
   "outputs": [],
   "source": [
    "merged3.to_csv(r'/Users/samuelclark/Documents/UMBC Data Science /Machine learning/Final Projects/Data/merged.csv')"
   ]
  },
  {
   "cell_type": "code",
   "execution_count": null,
   "id": "cd1212d3",
   "metadata": {},
   "outputs": [],
   "source": []
  }
 ],
 "metadata": {
  "kernelspec": {
   "display_name": "Python 3 (ipykernel)",
   "language": "python",
   "name": "python3"
  },
  "language_info": {
   "codemirror_mode": {
    "name": "ipython",
    "version": 3
   },
   "file_extension": ".py",
   "mimetype": "text/x-python",
   "name": "python",
   "nbconvert_exporter": "python",
   "pygments_lexer": "ipython3",
   "version": "3.8.11"
  }
 },
 "nbformat": 4,
 "nbformat_minor": 5
}
