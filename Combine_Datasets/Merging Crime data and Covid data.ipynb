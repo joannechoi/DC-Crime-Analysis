{
 "cells": [
  {
   "cell_type": "code",
   "execution_count": 29,
   "id": "ac9a4c6f",
   "metadata": {},
   "outputs": [],
   "source": [
    "#import packages\n",
    "import pandas as pd\n",
    "import numpy as np\n",
    "import datetime as dt\n",
    "import matplotlib.pyplot as plt\n",
    "import seaborn as sns\n",
    "import openpyxl"
   ]
  },
  {
   "cell_type": "code",
   "execution_count": 30,
   "id": "ca1cde0a",
   "metadata": {},
   "outputs": [],
   "source": [
    "#import data\n",
    "df_crime = pd.read_csv(r'/Users/samuelclark/Documents/UMBC Data Science /Machine learning/Final Projects/Data/MergedData_2017-2021.csv')\n",
    "df_covid_ward = pd.read_excel(r'/Users/samuelclark/Documents/UMBC Data Science /Machine learning/Final Projects/Data/DC-COVID-19-Data-for-11-5-2021-2.xlsx'\n",
    "                              , sheet_name = 'Total Cases by Ward', engine='openpyxl')\n",
    "df_covid_death = pd.read_excel(r'/Users/samuelclark/Documents/UMBC Data Science /Machine learning/Final Projects/Data/DC-COVID-19-Data-for-11-5-2021-2.xlsx'\n",
    "                               , sheet_name = 'Lives Lost by Ward', engine='openpyxl')\n",
    "df_sick_police = pd.read_csv(r'/Users/samuelclark/Documents/UMBC Data Science /Machine learning/Final Projects/Data/daily_count_police_out_due_to_covid.csv')\n"
   ]
  },
  {
   "cell_type": "code",
   "execution_count": 31,
   "id": "aa5af205",
   "metadata": {},
   "outputs": [
    {
     "data": {
      "text/plain": [
       "SHIFT                    object\n",
       "METHOD                   object\n",
       "OFFENSE                  object\n",
       "WARD                    float64\n",
       "DISTRICT                float64\n",
       "date        datetime64[ns, UTC]\n",
       "dtype: object"
      ]
     },
     "execution_count": 31,
     "metadata": {},
     "output_type": "execute_result"
    }
   ],
   "source": [
    "#delete columns not needed from crime data\n",
    "del df_crime['REPORT_DAT']\n",
    "del df_crime['BLOCK']\n",
    "del df_crime['YBLOCK']\n",
    "del df_crime['XBLOCK']\n",
    "del df_crime['LATITUDE']\n",
    "del df_crime['LONGITUDE']\n",
    "del df_crime['END_DATE']\n",
    "\n",
    "df_crime = df_crime.rename(columns = {'START_DATE':'date'})\n",
    "\n",
    "df_crime['date'] = pd.to_datetime(df_crime['date'], utc=True).dt.date\n",
    "df_crime['date'] = pd.to_datetime(df_crime['date'], utc=True)\n",
    "df_crime.dtypes"
   ]
  },
  {
   "cell_type": "code",
   "execution_count": 32,
   "id": "f6d90f2c",
   "metadata": {},
   "outputs": [
    {
     "data": {
      "text/plain": [
       "SHIFT                    object\n",
       "METHOD                   object\n",
       "OFFENSE                  object\n",
       "WARD                    float64\n",
       "DISTRICT                float64\n",
       "date        datetime64[ns, UTC]\n",
       "dtype: object"
      ]
     },
     "execution_count": 32,
     "metadata": {},
     "output_type": "execute_result"
    }
   ],
   "source": [
    "df_crime.dtypes"
   ]
  },
  {
   "cell_type": "code",
   "execution_count": 33,
   "id": "ba0aa4a6",
   "metadata": {},
   "outputs": [
    {
     "data": {
      "text/plain": [
       "date           datetime64[ns, UTC]\n",
       "total_cases                 object\n",
       "daily_cases                 object\n",
       "dtype: object"
      ]
     },
     "execution_count": 33,
     "metadata": {},
     "output_type": "execute_result"
    }
   ],
   "source": [
    "#covid case data\n",
    "df_covid_ward = df_covid_ward.transpose()\n",
    "df_covid_ward.reset_index(drop = True, inplace= True)\n",
    "df_covid_ward.columns=('date', 'ward_1', 'ward_2', 'ward_3', 'ward_4', 'ward_5', 'ward_6'\n",
    "                      , 'ward_7', 'ward_8', 'unknown')\n",
    "df_covid_ward = df_covid_ward.iloc[1: , :]\n",
    "df_covid_ward['date'] = pd.to_datetime(df_covid_ward['date'], utc=True)\n",
    "df_covid_ward['total_cases'] = (df_covid_ward['ward_1'] + df_covid_ward['ward_2'] + df_covid_ward['ward_3'] + df_covid_ward['ward_4'] + df_covid_ward['ward_5'] + df_covid_ward['ward_6'] +df_covid_ward['ward_7'] + df_covid_ward['ward_8'] +df_covid_ward['unknown'])\n",
    "df_covid_ward['daily_cases'] = df_covid_ward['total_cases'].diff(1)\n",
    "\n",
    "del df_covid_ward['ward_1']\n",
    "del df_covid_ward['ward_2']\n",
    "del df_covid_ward['ward_3']\n",
    "del df_covid_ward['ward_4']\n",
    "del df_covid_ward['ward_5']\n",
    "del df_covid_ward['ward_6']\n",
    "del df_covid_ward['ward_7']\n",
    "del df_covid_ward['ward_8']\n",
    "del df_covid_ward['unknown']\n",
    "\n",
    "\n",
    "df_covid_ward.dtypes"
   ]
  },
  {
   "cell_type": "code",
   "execution_count": 34,
   "id": "efaeda2d",
   "metadata": {},
   "outputs": [
    {
     "data": {
      "text/plain": [
       "date           datetime64[ns, UTC]\n",
       "daily_death                 object\n",
       "dtype: object"
      ]
     },
     "execution_count": 34,
     "metadata": {},
     "output_type": "execute_result"
    }
   ],
   "source": [
    "#death data\n",
    "df_covid_death = df_covid_death.transpose()\n",
    "df_covid_death.reset_index(drop = True, inplace= True)\n",
    "df_covid_death.columns=('date', 'all', 'ward_1', 'ward_2', 'ward_3', 'ward_4', 'ward_5', 'ward_6'\n",
    "                      , 'ward_7', 'ward_8', 'Experienced Homelessness', 'unknown', 'na')\n",
    "df_covid_death = df_covid_death.iloc[1: , :]\n",
    "df_covid_death['date'] = pd.to_datetime(df_covid_death['date'], utc=True)\n",
    "df_covid_death['daily_death'] = df_covid_death['all'].diff(1)\n",
    "\n",
    "del df_covid_death['ward_1']\n",
    "del df_covid_death['ward_2']\n",
    "del df_covid_death['ward_3']\n",
    "del df_covid_death['ward_4']\n",
    "del df_covid_death['ward_5']\n",
    "del df_covid_death['ward_6']\n",
    "del df_covid_death['ward_7']\n",
    "del df_covid_death['ward_8']\n",
    "del df_covid_death['unknown']\n",
    "del df_covid_death['na']\n",
    "del df_covid_death['Experienced Homelessness']\n",
    "del df_covid_death['all']\n",
    "\n",
    "df_covid_death.dtypes"
   ]
  },
  {
   "cell_type": "code",
   "execution_count": 35,
   "id": "9f27aaf0",
   "metadata": {},
   "outputs": [
    {
     "data": {
      "text/plain": [
       "date                             datetime64[ns, UTC]\n",
       "OUT_POSITIVE_QUARANTINE_PSMPD                float64\n",
       "dtype: object"
      ]
     },
     "execution_count": 35,
     "metadata": {},
     "output_type": "execute_result"
    }
   ],
   "source": [
    "#sick police\n",
    "df_sick_police = df_sick_police.rename(columns = {'DATE_REPORTED':'date'})\n",
    "df_sick_police['date'] = pd.to_datetime(df_sick_police['date'], utc=True)\n",
    "\n",
    "df_sick_police.dtypes"
   ]
  },
  {
   "cell_type": "code",
   "execution_count": 36,
   "id": "c8a163b1",
   "metadata": {},
   "outputs": [
    {
     "data": {
      "text/html": [
       "<div>\n",
       "<style scoped>\n",
       "    .dataframe tbody tr th:only-of-type {\n",
       "        vertical-align: middle;\n",
       "    }\n",
       "\n",
       "    .dataframe tbody tr th {\n",
       "        vertical-align: top;\n",
       "    }\n",
       "\n",
       "    .dataframe thead th {\n",
       "        text-align: right;\n",
       "    }\n",
       "</style>\n",
       "<table border=\"1\" class=\"dataframe\">\n",
       "  <thead>\n",
       "    <tr style=\"text-align: right;\">\n",
       "      <th></th>\n",
       "      <th>SHIFT</th>\n",
       "      <th>METHOD</th>\n",
       "      <th>OFFENSE</th>\n",
       "      <th>WARD</th>\n",
       "      <th>DISTRICT</th>\n",
       "      <th>date</th>\n",
       "      <th>total_cases</th>\n",
       "      <th>daily_cases</th>\n",
       "      <th>daily_death</th>\n",
       "      <th>OUT_POSITIVE_QUARANTINE_PSMPD</th>\n",
       "    </tr>\n",
       "  </thead>\n",
       "  <tbody>\n",
       "    <tr>\n",
       "      <th>100787</th>\n",
       "      <td>EVENING</td>\n",
       "      <td>OTHERS</td>\n",
       "      <td>THEFT/OTHER</td>\n",
       "      <td>6.0</td>\n",
       "      <td>5.0</td>\n",
       "      <td>2020-09-01 00:00:00+00:00</td>\n",
       "      <td>14077</td>\n",
       "      <td>28</td>\n",
       "      <td>1</td>\n",
       "      <td>80.0</td>\n",
       "    </tr>\n",
       "    <tr>\n",
       "      <th>100788</th>\n",
       "      <td>EVENING</td>\n",
       "      <td>GUN</td>\n",
       "      <td>ASSAULT W/DANGEROUS WEAPON</td>\n",
       "      <td>8.0</td>\n",
       "      <td>7.0</td>\n",
       "      <td>2020-09-01 00:00:00+00:00</td>\n",
       "      <td>14077</td>\n",
       "      <td>28</td>\n",
       "      <td>1</td>\n",
       "      <td>80.0</td>\n",
       "    </tr>\n",
       "    <tr>\n",
       "      <th>100789</th>\n",
       "      <td>EVENING</td>\n",
       "      <td>OTHERS</td>\n",
       "      <td>THEFT/OTHER</td>\n",
       "      <td>4.0</td>\n",
       "      <td>4.0</td>\n",
       "      <td>2020-09-01 00:00:00+00:00</td>\n",
       "      <td>14077</td>\n",
       "      <td>28</td>\n",
       "      <td>1</td>\n",
       "      <td>80.0</td>\n",
       "    </tr>\n",
       "    <tr>\n",
       "      <th>100790</th>\n",
       "      <td>EVENING</td>\n",
       "      <td>OTHERS</td>\n",
       "      <td>THEFT/OTHER</td>\n",
       "      <td>6.0</td>\n",
       "      <td>1.0</td>\n",
       "      <td>2020-08-31 00:00:00+00:00</td>\n",
       "      <td>14049</td>\n",
       "      <td>57</td>\n",
       "      <td>0</td>\n",
       "      <td>87.0</td>\n",
       "    </tr>\n",
       "    <tr>\n",
       "      <th>100791</th>\n",
       "      <td>EVENING</td>\n",
       "      <td>OTHERS</td>\n",
       "      <td>THEFT F/AUTO</td>\n",
       "      <td>2.0</td>\n",
       "      <td>2.0</td>\n",
       "      <td>2020-09-01 00:00:00+00:00</td>\n",
       "      <td>14077</td>\n",
       "      <td>28</td>\n",
       "      <td>1</td>\n",
       "      <td>80.0</td>\n",
       "    </tr>\n",
       "    <tr>\n",
       "      <th>...</th>\n",
       "      <td>...</td>\n",
       "      <td>...</td>\n",
       "      <td>...</td>\n",
       "      <td>...</td>\n",
       "      <td>...</td>\n",
       "      <td>...</td>\n",
       "      <td>...</td>\n",
       "      <td>...</td>\n",
       "      <td>...</td>\n",
       "      <td>...</td>\n",
       "    </tr>\n",
       "    <tr>\n",
       "      <th>151064</th>\n",
       "      <td>DAY</td>\n",
       "      <td>OTHERS</td>\n",
       "      <td>BURGLARY</td>\n",
       "      <td>5.0</td>\n",
       "      <td>5.0</td>\n",
       "      <td>2021-02-04 00:00:00+00:00</td>\n",
       "      <td>37634</td>\n",
       "      <td>269</td>\n",
       "      <td>8</td>\n",
       "      <td>104.0</td>\n",
       "    </tr>\n",
       "    <tr>\n",
       "      <th>151065</th>\n",
       "      <td>DAY</td>\n",
       "      <td>OTHERS</td>\n",
       "      <td>THEFT F/AUTO</td>\n",
       "      <td>7.0</td>\n",
       "      <td>6.0</td>\n",
       "      <td>2021-02-04 00:00:00+00:00</td>\n",
       "      <td>37634</td>\n",
       "      <td>269</td>\n",
       "      <td>8</td>\n",
       "      <td>104.0</td>\n",
       "    </tr>\n",
       "    <tr>\n",
       "      <th>151066</th>\n",
       "      <td>DAY</td>\n",
       "      <td>OTHERS</td>\n",
       "      <td>THEFT F/AUTO</td>\n",
       "      <td>5.0</td>\n",
       "      <td>4.0</td>\n",
       "      <td>2021-02-03 00:00:00+00:00</td>\n",
       "      <td>37365</td>\n",
       "      <td>166</td>\n",
       "      <td>6</td>\n",
       "      <td>106.0</td>\n",
       "    </tr>\n",
       "    <tr>\n",
       "      <th>151067</th>\n",
       "      <td>DAY</td>\n",
       "      <td>KNIFE</td>\n",
       "      <td>ASSAULT W/DANGEROUS WEAPON</td>\n",
       "      <td>8.0</td>\n",
       "      <td>7.0</td>\n",
       "      <td>2021-02-04 00:00:00+00:00</td>\n",
       "      <td>37634</td>\n",
       "      <td>269</td>\n",
       "      <td>8</td>\n",
       "      <td>104.0</td>\n",
       "    </tr>\n",
       "    <tr>\n",
       "      <th>151068</th>\n",
       "      <td>DAY</td>\n",
       "      <td>OTHERS</td>\n",
       "      <td>THEFT F/AUTO</td>\n",
       "      <td>7.0</td>\n",
       "      <td>6.0</td>\n",
       "      <td>2021-02-04 00:00:00+00:00</td>\n",
       "      <td>37634</td>\n",
       "      <td>269</td>\n",
       "      <td>8</td>\n",
       "      <td>104.0</td>\n",
       "    </tr>\n",
       "  </tbody>\n",
       "</table>\n",
       "<p>38795 rows × 10 columns</p>\n",
       "</div>"
      ],
      "text/plain": [
       "          SHIFT  METHOD                     OFFENSE  WARD  DISTRICT  \\\n",
       "100787  EVENING  OTHERS                 THEFT/OTHER   6.0       5.0   \n",
       "100788  EVENING     GUN  ASSAULT W/DANGEROUS WEAPON   8.0       7.0   \n",
       "100789  EVENING  OTHERS                 THEFT/OTHER   4.0       4.0   \n",
       "100790  EVENING  OTHERS                 THEFT/OTHER   6.0       1.0   \n",
       "100791  EVENING  OTHERS                THEFT F/AUTO   2.0       2.0   \n",
       "...         ...     ...                         ...   ...       ...   \n",
       "151064      DAY  OTHERS                    BURGLARY   5.0       5.0   \n",
       "151065      DAY  OTHERS                THEFT F/AUTO   7.0       6.0   \n",
       "151066      DAY  OTHERS                THEFT F/AUTO   5.0       4.0   \n",
       "151067      DAY   KNIFE  ASSAULT W/DANGEROUS WEAPON   8.0       7.0   \n",
       "151068      DAY  OTHERS                THEFT F/AUTO   7.0       6.0   \n",
       "\n",
       "                            date total_cases daily_cases daily_death  \\\n",
       "100787 2020-09-01 00:00:00+00:00       14077          28           1   \n",
       "100788 2020-09-01 00:00:00+00:00       14077          28           1   \n",
       "100789 2020-09-01 00:00:00+00:00       14077          28           1   \n",
       "100790 2020-08-31 00:00:00+00:00       14049          57           0   \n",
       "100791 2020-09-01 00:00:00+00:00       14077          28           1   \n",
       "...                          ...         ...         ...         ...   \n",
       "151064 2021-02-04 00:00:00+00:00       37634         269           8   \n",
       "151065 2021-02-04 00:00:00+00:00       37634         269           8   \n",
       "151066 2021-02-03 00:00:00+00:00       37365         166           6   \n",
       "151067 2021-02-04 00:00:00+00:00       37634         269           8   \n",
       "151068 2021-02-04 00:00:00+00:00       37634         269           8   \n",
       "\n",
       "        OUT_POSITIVE_QUARANTINE_PSMPD  \n",
       "100787                           80.0  \n",
       "100788                           80.0  \n",
       "100789                           80.0  \n",
       "100790                           87.0  \n",
       "100791                           80.0  \n",
       "...                               ...  \n",
       "151064                          104.0  \n",
       "151065                          104.0  \n",
       "151066                          106.0  \n",
       "151067                          104.0  \n",
       "151068                          104.0  \n",
       "\n",
       "[38795 rows x 10 columns]"
      ]
     },
     "execution_count": 36,
     "metadata": {},
     "output_type": "execute_result"
    }
   ],
   "source": [
    "merged = df_crime.merge(df_covid_ward, how='left', on = 'date').merge(df_covid_death, how='left', on = 'date').merge(df_sick_police, how='left', on = 'date')\n",
    "merged.loc[merged['total_cases'] >1]"
   ]
  },
  {
   "cell_type": "code",
   "execution_count": 37,
   "id": "1a04d59e",
   "metadata": {},
   "outputs": [
    {
     "ename": "NameError",
     "evalue": "name 'merged3' is not defined",
     "output_type": "error",
     "traceback": [
      "\u001b[0;31m---------------------------------------------------------------------------\u001b[0m",
      "\u001b[0;31mNameError\u001b[0m                                 Traceback (most recent call last)",
      "\u001b[0;32m/var/folders/d3/zh1xm1jx00z6tzq_4ch6wftm0000gn/T/ipykernel_45976/3798809568.py\u001b[0m in \u001b[0;36m<module>\u001b[0;34m\u001b[0m\n\u001b[0;32m----> 1\u001b[0;31m \u001b[0mmerged3\u001b[0m\u001b[0;34m.\u001b[0m\u001b[0mto_csv\u001b[0m\u001b[0;34m(\u001b[0m\u001b[0;34mr'/Users/samuelclark/Documents/UMBC Data Science /Machine learning/Final Projects/Data/merged.csv'\u001b[0m\u001b[0;34m)\u001b[0m\u001b[0;34m\u001b[0m\u001b[0;34m\u001b[0m\u001b[0m\n\u001b[0m",
      "\u001b[0;31mNameError\u001b[0m: name 'merged3' is not defined"
     ]
    }
   ],
   "source": [
    "merged3.to_csv(r'/Users/samuelclark/Documents/UMBC Data Science /Machine learning/Final Projects/Data/merged.csv')"
   ]
  },
  {
   "cell_type": "code",
   "execution_count": null,
   "id": "cd1212d3",
   "metadata": {},
   "outputs": [],
   "source": []
  }
 ],
 "metadata": {
  "kernelspec": {
   "display_name": "Python 3 (ipykernel)",
   "language": "python",
   "name": "python3"
  },
  "language_info": {
   "codemirror_mode": {
    "name": "ipython",
    "version": 3
   },
   "file_extension": ".py",
   "mimetype": "text/x-python",
   "name": "python",
   "nbconvert_exporter": "python",
   "pygments_lexer": "ipython3",
   "version": "3.8.11"
  }
 },
 "nbformat": 4,
 "nbformat_minor": 5
}
