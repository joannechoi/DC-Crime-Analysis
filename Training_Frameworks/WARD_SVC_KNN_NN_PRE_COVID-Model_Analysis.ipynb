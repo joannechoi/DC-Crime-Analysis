{
 "cells": [
  {
   "cell_type": "code",
   "execution_count": 92,
   "id": "3e655018",
   "metadata": {},
   "outputs": [],
   "source": [
    "import os\n",
    "\n",
    "import pandas as pd\n",
    "from sklearn.model_selection import train_test_split, GridSearchCV\n",
    "from sklearn.metrics import mean_squared_error, r2_score\n",
    "from sklearn.preprocessing import StandardScaler\n",
    "from sklearn.pipeline import Pipeline\n",
    "import statsmodels.api as sm\n",
    "import matplotlib.pyplot as plt\n",
    "import numpy as np\n",
    "\n",
    "from sklearn.svm import SVC\n",
    "from sklearn.model_selection import GridSearchCV\n",
    "\n",
    "from sklearn.metrics import accuracy_score, precision_score, recall_score\n",
    "\n",
    "from sklearn.model_selection import GridSearchCV\n",
    "from sklearn.neighbors import KNeighborsClassifier\n",
    "\n",
    "from sklearn.cluster import KMeans\n",
    "import matplotlib.pyplot as plt\n",
    "\n",
    "import copy\n",
    "\n",
    "import time\n",
    "\n",
    "import torch.optim as optim\n",
    "#from dataset import train_dataloader, val_dataloader\n",
    "#from dataset import train_dataset, val_dataset\n",
    "from tqdm import tqdm\n",
    "\n",
    "from torch.utils.data import Dataset, DataLoader\n",
    "import torch\n",
    "import torch.nn as nn\n",
    "import numpy as np\n",
    "\n",
    "from sklearn.model_selection import cross_val_score\n",
    "\n",
    "import pickle"
   ]
  },
  {
   "cell_type": "code",
   "execution_count": 2,
   "id": "c2bf1ea9",
   "metadata": {},
   "outputs": [],
   "source": [
    "main_dir = os.path.abspath('..') # os.path.join(os.getcwd())\n",
    "data_dir = os.path.join(main_dir, \"Data\")\n",
    "shapefiles_dir = os.path.join(main_dir, data_dir, \"shapefiles\")"
   ]
  },
  {
   "cell_type": "code",
   "execution_count": 3,
   "id": "5e476a13",
   "metadata": {},
   "outputs": [],
   "source": [
    "pd.options.display.max_columns = None"
   ]
  },
  {
   "cell_type": "code",
   "execution_count": 4,
   "id": "41868fc2",
   "metadata": {},
   "outputs": [
    {
     "data": {
      "text/html": [
       "<div>\n",
       "<style scoped>\n",
       "    .dataframe tbody tr th:only-of-type {\n",
       "        vertical-align: middle;\n",
       "    }\n",
       "\n",
       "    .dataframe tbody tr th {\n",
       "        vertical-align: top;\n",
       "    }\n",
       "\n",
       "    .dataframe thead th {\n",
       "        text-align: right;\n",
       "    }\n",
       "</style>\n",
       "<table border=\"1\" class=\"dataframe\">\n",
       "  <thead>\n",
       "    <tr style=\"text-align: right;\">\n",
       "      <th></th>\n",
       "      <th>SHIFT</th>\n",
       "      <th>OFFENSE</th>\n",
       "      <th>WARD</th>\n",
       "      <th>LATITUDE</th>\n",
       "      <th>LONGITUDE</th>\n",
       "      <th>total_cases</th>\n",
       "      <th>daily_cases</th>\n",
       "      <th>daily_death</th>\n",
       "      <th>OUT_POSITIVE_QUARANTINE_PSMPD</th>\n",
       "      <th>MO</th>\n",
       "      <th>TU</th>\n",
       "      <th>WE</th>\n",
       "      <th>TH</th>\n",
       "      <th>FR</th>\n",
       "      <th>SA</th>\n",
       "      <th>SU</th>\n",
       "      <th>JAN</th>\n",
       "      <th>FEB</th>\n",
       "      <th>MAR</th>\n",
       "      <th>APR</th>\n",
       "      <th>MAY</th>\n",
       "      <th>JUN</th>\n",
       "      <th>JUL</th>\n",
       "      <th>AUG</th>\n",
       "      <th>SEP</th>\n",
       "      <th>OCT</th>\n",
       "      <th>NOV</th>\n",
       "      <th>DEC</th>\n",
       "      <th>ward_1</th>\n",
       "      <th>ward_2</th>\n",
       "      <th>ward_3</th>\n",
       "      <th>ward_4</th>\n",
       "      <th>ward_5</th>\n",
       "      <th>ward_6</th>\n",
       "      <th>ward_7</th>\n",
       "      <th>ward_8</th>\n",
       "      <th>ARSON</th>\n",
       "      <th>ASSAULT W/DANGEROUS WEAPON</th>\n",
       "      <th>BURGLARY</th>\n",
       "      <th>HOMICIDE</th>\n",
       "      <th>MOTOR VEHICLE THEFT</th>\n",
       "      <th>ROBBERY</th>\n",
       "      <th>SEX ABUSE</th>\n",
       "      <th>THEFT F/AUTO</th>\n",
       "      <th>THEFT/OTHER</th>\n",
       "      <th>DAY</th>\n",
       "      <th>EVENING</th>\n",
       "      <th>MIDNIGHT</th>\n",
       "      <th>distance_metro</th>\n",
       "      <th>distance_nightclubs</th>\n",
       "      <th>distance_worship</th>\n",
       "    </tr>\n",
       "  </thead>\n",
       "  <tbody>\n",
       "    <tr>\n",
       "      <th>0</th>\n",
       "      <td>MIDNIGHT</td>\n",
       "      <td>THEFT F/AUTO</td>\n",
       "      <td>5.0</td>\n",
       "      <td>38.918707</td>\n",
       "      <td>-76.962533</td>\n",
       "      <td>0.0</td>\n",
       "      <td>0.0</td>\n",
       "      <td>0.0</td>\n",
       "      <td>0.0</td>\n",
       "      <td>0</td>\n",
       "      <td>0</td>\n",
       "      <td>0</td>\n",
       "      <td>0</td>\n",
       "      <td>0</td>\n",
       "      <td>1</td>\n",
       "      <td>0</td>\n",
       "      <td>0</td>\n",
       "      <td>0</td>\n",
       "      <td>0</td>\n",
       "      <td>0</td>\n",
       "      <td>0</td>\n",
       "      <td>0</td>\n",
       "      <td>0</td>\n",
       "      <td>0</td>\n",
       "      <td>0</td>\n",
       "      <td>1</td>\n",
       "      <td>0</td>\n",
       "      <td>0</td>\n",
       "      <td>0</td>\n",
       "      <td>0</td>\n",
       "      <td>0</td>\n",
       "      <td>0</td>\n",
       "      <td>1</td>\n",
       "      <td>0</td>\n",
       "      <td>0</td>\n",
       "      <td>0</td>\n",
       "      <td>0</td>\n",
       "      <td>0</td>\n",
       "      <td>0</td>\n",
       "      <td>0</td>\n",
       "      <td>0</td>\n",
       "      <td>0</td>\n",
       "      <td>0</td>\n",
       "      <td>1</td>\n",
       "      <td>0</td>\n",
       "      <td>0</td>\n",
       "      <td>0</td>\n",
       "      <td>1</td>\n",
       "      <td>1.127080</td>\n",
       "      <td>0.674769</td>\n",
       "      <td>0.077614</td>\n",
       "    </tr>\n",
       "    <tr>\n",
       "      <th>1</th>\n",
       "      <td>MIDNIGHT</td>\n",
       "      <td>ASSAULT W/DANGEROUS WEAPON</td>\n",
       "      <td>6.0</td>\n",
       "      <td>38.907643</td>\n",
       "      <td>-77.009053</td>\n",
       "      <td>0.0</td>\n",
       "      <td>0.0</td>\n",
       "      <td>0.0</td>\n",
       "      <td>0.0</td>\n",
       "      <td>0</td>\n",
       "      <td>0</td>\n",
       "      <td>0</td>\n",
       "      <td>0</td>\n",
       "      <td>0</td>\n",
       "      <td>1</td>\n",
       "      <td>0</td>\n",
       "      <td>0</td>\n",
       "      <td>0</td>\n",
       "      <td>0</td>\n",
       "      <td>0</td>\n",
       "      <td>0</td>\n",
       "      <td>0</td>\n",
       "      <td>0</td>\n",
       "      <td>0</td>\n",
       "      <td>0</td>\n",
       "      <td>1</td>\n",
       "      <td>0</td>\n",
       "      <td>0</td>\n",
       "      <td>0</td>\n",
       "      <td>0</td>\n",
       "      <td>0</td>\n",
       "      <td>0</td>\n",
       "      <td>0</td>\n",
       "      <td>1</td>\n",
       "      <td>0</td>\n",
       "      <td>0</td>\n",
       "      <td>0</td>\n",
       "      <td>1</td>\n",
       "      <td>0</td>\n",
       "      <td>0</td>\n",
       "      <td>0</td>\n",
       "      <td>0</td>\n",
       "      <td>0</td>\n",
       "      <td>0</td>\n",
       "      <td>0</td>\n",
       "      <td>0</td>\n",
       "      <td>0</td>\n",
       "      <td>1</td>\n",
       "      <td>0.191281</td>\n",
       "      <td>0.079607</td>\n",
       "      <td>0.049559</td>\n",
       "    </tr>\n",
       "    <tr>\n",
       "      <th>2</th>\n",
       "      <td>MIDNIGHT</td>\n",
       "      <td>THEFT F/AUTO</td>\n",
       "      <td>6.0</td>\n",
       "      <td>38.901323</td>\n",
       "      <td>-77.016914</td>\n",
       "      <td>0.0</td>\n",
       "      <td>0.0</td>\n",
       "      <td>0.0</td>\n",
       "      <td>0.0</td>\n",
       "      <td>0</td>\n",
       "      <td>0</td>\n",
       "      <td>0</td>\n",
       "      <td>0</td>\n",
       "      <td>0</td>\n",
       "      <td>1</td>\n",
       "      <td>0</td>\n",
       "      <td>0</td>\n",
       "      <td>0</td>\n",
       "      <td>0</td>\n",
       "      <td>0</td>\n",
       "      <td>0</td>\n",
       "      <td>0</td>\n",
       "      <td>0</td>\n",
       "      <td>0</td>\n",
       "      <td>0</td>\n",
       "      <td>1</td>\n",
       "      <td>0</td>\n",
       "      <td>0</td>\n",
       "      <td>0</td>\n",
       "      <td>0</td>\n",
       "      <td>0</td>\n",
       "      <td>0</td>\n",
       "      <td>0</td>\n",
       "      <td>1</td>\n",
       "      <td>0</td>\n",
       "      <td>0</td>\n",
       "      <td>0</td>\n",
       "      <td>0</td>\n",
       "      <td>0</td>\n",
       "      <td>0</td>\n",
       "      <td>0</td>\n",
       "      <td>0</td>\n",
       "      <td>0</td>\n",
       "      <td>1</td>\n",
       "      <td>0</td>\n",
       "      <td>0</td>\n",
       "      <td>0</td>\n",
       "      <td>1</td>\n",
       "      <td>0.083639</td>\n",
       "      <td>0.124886</td>\n",
       "      <td>0.068719</td>\n",
       "    </tr>\n",
       "    <tr>\n",
       "      <th>3</th>\n",
       "      <td>DAY</td>\n",
       "      <td>THEFT F/AUTO</td>\n",
       "      <td>6.0</td>\n",
       "      <td>38.883239</td>\n",
       "      <td>-77.018730</td>\n",
       "      <td>0.0</td>\n",
       "      <td>0.0</td>\n",
       "      <td>0.0</td>\n",
       "      <td>0.0</td>\n",
       "      <td>0</td>\n",
       "      <td>0</td>\n",
       "      <td>0</td>\n",
       "      <td>0</td>\n",
       "      <td>1</td>\n",
       "      <td>0</td>\n",
       "      <td>0</td>\n",
       "      <td>0</td>\n",
       "      <td>0</td>\n",
       "      <td>0</td>\n",
       "      <td>0</td>\n",
       "      <td>0</td>\n",
       "      <td>0</td>\n",
       "      <td>0</td>\n",
       "      <td>0</td>\n",
       "      <td>0</td>\n",
       "      <td>1</td>\n",
       "      <td>0</td>\n",
       "      <td>0</td>\n",
       "      <td>0</td>\n",
       "      <td>0</td>\n",
       "      <td>0</td>\n",
       "      <td>0</td>\n",
       "      <td>0</td>\n",
       "      <td>1</td>\n",
       "      <td>0</td>\n",
       "      <td>0</td>\n",
       "      <td>0</td>\n",
       "      <td>0</td>\n",
       "      <td>0</td>\n",
       "      <td>0</td>\n",
       "      <td>0</td>\n",
       "      <td>0</td>\n",
       "      <td>0</td>\n",
       "      <td>1</td>\n",
       "      <td>0</td>\n",
       "      <td>1</td>\n",
       "      <td>0</td>\n",
       "      <td>0</td>\n",
       "      <td>0.135380</td>\n",
       "      <td>0.296590</td>\n",
       "      <td>0.074763</td>\n",
       "    </tr>\n",
       "    <tr>\n",
       "      <th>4</th>\n",
       "      <td>DAY</td>\n",
       "      <td>THEFT/OTHER</td>\n",
       "      <td>5.0</td>\n",
       "      <td>38.920933</td>\n",
       "      <td>-76.997157</td>\n",
       "      <td>0.0</td>\n",
       "      <td>0.0</td>\n",
       "      <td>0.0</td>\n",
       "      <td>0.0</td>\n",
       "      <td>0</td>\n",
       "      <td>0</td>\n",
       "      <td>0</td>\n",
       "      <td>0</td>\n",
       "      <td>0</td>\n",
       "      <td>1</td>\n",
       "      <td>0</td>\n",
       "      <td>0</td>\n",
       "      <td>0</td>\n",
       "      <td>0</td>\n",
       "      <td>0</td>\n",
       "      <td>0</td>\n",
       "      <td>0</td>\n",
       "      <td>0</td>\n",
       "      <td>0</td>\n",
       "      <td>0</td>\n",
       "      <td>1</td>\n",
       "      <td>0</td>\n",
       "      <td>0</td>\n",
       "      <td>0</td>\n",
       "      <td>0</td>\n",
       "      <td>0</td>\n",
       "      <td>0</td>\n",
       "      <td>1</td>\n",
       "      <td>0</td>\n",
       "      <td>0</td>\n",
       "      <td>0</td>\n",
       "      <td>0</td>\n",
       "      <td>0</td>\n",
       "      <td>0</td>\n",
       "      <td>0</td>\n",
       "      <td>0</td>\n",
       "      <td>0</td>\n",
       "      <td>0</td>\n",
       "      <td>0</td>\n",
       "      <td>1</td>\n",
       "      <td>1</td>\n",
       "      <td>0</td>\n",
       "      <td>0</td>\n",
       "      <td>0.084503</td>\n",
       "      <td>0.849526</td>\n",
       "      <td>0.047963</td>\n",
       "    </tr>\n",
       "  </tbody>\n",
       "</table>\n",
       "</div>"
      ],
      "text/plain": [
       "      SHIFT                     OFFENSE  WARD   LATITUDE  LONGITUDE  \\\n",
       "0  MIDNIGHT                THEFT F/AUTO   5.0  38.918707 -76.962533   \n",
       "1  MIDNIGHT  ASSAULT W/DANGEROUS WEAPON   6.0  38.907643 -77.009053   \n",
       "2  MIDNIGHT                THEFT F/AUTO   6.0  38.901323 -77.016914   \n",
       "3       DAY                THEFT F/AUTO   6.0  38.883239 -77.018730   \n",
       "4       DAY                 THEFT/OTHER   5.0  38.920933 -76.997157   \n",
       "\n",
       "   total_cases  daily_cases  daily_death  OUT_POSITIVE_QUARANTINE_PSMPD  MO  \\\n",
       "0          0.0          0.0          0.0                            0.0   0   \n",
       "1          0.0          0.0          0.0                            0.0   0   \n",
       "2          0.0          0.0          0.0                            0.0   0   \n",
       "3          0.0          0.0          0.0                            0.0   0   \n",
       "4          0.0          0.0          0.0                            0.0   0   \n",
       "\n",
       "   TU  WE  TH  FR  SA  SU  JAN  FEB  MAR  APR  MAY  JUN  JUL  AUG  SEP  OCT  \\\n",
       "0   0   0   0   0   1   0    0    0    0    0    0    0    0    0    0    1   \n",
       "1   0   0   0   0   1   0    0    0    0    0    0    0    0    0    0    1   \n",
       "2   0   0   0   0   1   0    0    0    0    0    0    0    0    0    0    1   \n",
       "3   0   0   0   1   0   0    0    0    0    0    0    0    0    0    0    1   \n",
       "4   0   0   0   0   1   0    0    0    0    0    0    0    0    0    0    1   \n",
       "\n",
       "   NOV  DEC  ward_1  ward_2  ward_3  ward_4  ward_5  ward_6  ward_7  ward_8  \\\n",
       "0    0    0       0       0       0       0       1       0       0       0   \n",
       "1    0    0       0       0       0       0       0       1       0       0   \n",
       "2    0    0       0       0       0       0       0       1       0       0   \n",
       "3    0    0       0       0       0       0       0       1       0       0   \n",
       "4    0    0       0       0       0       0       1       0       0       0   \n",
       "\n",
       "   ARSON  ASSAULT W/DANGEROUS WEAPON  BURGLARY  HOMICIDE  MOTOR VEHICLE THEFT  \\\n",
       "0      0                           0         0         0                    0   \n",
       "1      0                           1         0         0                    0   \n",
       "2      0                           0         0         0                    0   \n",
       "3      0                           0         0         0                    0   \n",
       "4      0                           0         0         0                    0   \n",
       "\n",
       "   ROBBERY  SEX ABUSE  THEFT F/AUTO  THEFT/OTHER  DAY  EVENING  MIDNIGHT  \\\n",
       "0        0          0             1            0    0        0         1   \n",
       "1        0          0             0            0    0        0         1   \n",
       "2        0          0             1            0    0        0         1   \n",
       "3        0          0             1            0    1        0         0   \n",
       "4        0          0             0            1    1        0         0   \n",
       "\n",
       "   distance_metro  distance_nightclubs  distance_worship  \n",
       "0        1.127080             0.674769          0.077614  \n",
       "1        0.191281             0.079607          0.049559  \n",
       "2        0.083639             0.124886          0.068719  \n",
       "3        0.135380             0.296590          0.074763  \n",
       "4        0.084503             0.849526          0.047963  "
      ]
     },
     "execution_count": 4,
     "metadata": {},
     "output_type": "execute_result"
    }
   ],
   "source": [
    "pre_covid_data = pd.read_csv(os.path.join(data_dir, \"Merged\", \"precovid_crime_micro_geo_11_29_2021.csv\"), index_col=False)\n",
    "del pre_covid_data['date']\n",
    "del pre_covid_data[pre_covid_data.columns[0]]\n",
    "pre_covid_data.head()"
   ]
  },
  {
   "cell_type": "code",
   "execution_count": 5,
   "id": "c6a7da01",
   "metadata": {},
   "outputs": [],
   "source": [
    "del pre_covid_data[\"SHIFT\"]\n",
    "del pre_covid_data[\"OFFENSE\"]\n",
    "\n",
    "pre_covid_data['WARD'] = pre_covid_data['WARD'].astype(int)"
   ]
  },
  {
   "cell_type": "code",
   "execution_count": 6,
   "id": "539d6c70",
   "metadata": {},
   "outputs": [],
   "source": [
    "del pre_covid_data[\"ward_1\"]\n",
    "del pre_covid_data[\"ward_2\"]\n",
    "del pre_covid_data[\"ward_3\"]\n",
    "del pre_covid_data[\"ward_4\"]\n",
    "del pre_covid_data[\"ward_5\"]\n",
    "del pre_covid_data[\"ward_6\"]\n",
    "del pre_covid_data[\"ward_7\"]\n",
    "del pre_covid_data[\"ward_8\"]"
   ]
  },
  {
   "cell_type": "code",
   "execution_count": 7,
   "id": "18ef3159",
   "metadata": {},
   "outputs": [
    {
     "data": {
      "text/html": [
       "<div>\n",
       "<style scoped>\n",
       "    .dataframe tbody tr th:only-of-type {\n",
       "        vertical-align: middle;\n",
       "    }\n",
       "\n",
       "    .dataframe tbody tr th {\n",
       "        vertical-align: top;\n",
       "    }\n",
       "\n",
       "    .dataframe thead th {\n",
       "        text-align: right;\n",
       "    }\n",
       "</style>\n",
       "<table border=\"1\" class=\"dataframe\">\n",
       "  <thead>\n",
       "    <tr style=\"text-align: right;\">\n",
       "      <th></th>\n",
       "      <th>WARD</th>\n",
       "      <th>LATITUDE</th>\n",
       "      <th>LONGITUDE</th>\n",
       "      <th>total_cases</th>\n",
       "      <th>daily_cases</th>\n",
       "      <th>daily_death</th>\n",
       "      <th>OUT_POSITIVE_QUARANTINE_PSMPD</th>\n",
       "      <th>MO</th>\n",
       "      <th>TU</th>\n",
       "      <th>WE</th>\n",
       "      <th>TH</th>\n",
       "      <th>FR</th>\n",
       "      <th>SA</th>\n",
       "      <th>SU</th>\n",
       "      <th>JAN</th>\n",
       "      <th>FEB</th>\n",
       "      <th>MAR</th>\n",
       "      <th>APR</th>\n",
       "      <th>MAY</th>\n",
       "      <th>JUN</th>\n",
       "      <th>JUL</th>\n",
       "      <th>AUG</th>\n",
       "      <th>SEP</th>\n",
       "      <th>OCT</th>\n",
       "      <th>NOV</th>\n",
       "      <th>DEC</th>\n",
       "      <th>ARSON</th>\n",
       "      <th>ASSAULT W/DANGEROUS WEAPON</th>\n",
       "      <th>BURGLARY</th>\n",
       "      <th>HOMICIDE</th>\n",
       "      <th>MOTOR VEHICLE THEFT</th>\n",
       "      <th>ROBBERY</th>\n",
       "      <th>SEX ABUSE</th>\n",
       "      <th>THEFT F/AUTO</th>\n",
       "      <th>THEFT/OTHER</th>\n",
       "      <th>DAY</th>\n",
       "      <th>EVENING</th>\n",
       "      <th>MIDNIGHT</th>\n",
       "      <th>distance_metro</th>\n",
       "      <th>distance_nightclubs</th>\n",
       "      <th>distance_worship</th>\n",
       "    </tr>\n",
       "  </thead>\n",
       "  <tbody>\n",
       "    <tr>\n",
       "      <th>0</th>\n",
       "      <td>5</td>\n",
       "      <td>38.918707</td>\n",
       "      <td>-76.962533</td>\n",
       "      <td>0.0</td>\n",
       "      <td>0.0</td>\n",
       "      <td>0.0</td>\n",
       "      <td>0.0</td>\n",
       "      <td>0</td>\n",
       "      <td>0</td>\n",
       "      <td>0</td>\n",
       "      <td>0</td>\n",
       "      <td>0</td>\n",
       "      <td>1</td>\n",
       "      <td>0</td>\n",
       "      <td>0</td>\n",
       "      <td>0</td>\n",
       "      <td>0</td>\n",
       "      <td>0</td>\n",
       "      <td>0</td>\n",
       "      <td>0</td>\n",
       "      <td>0</td>\n",
       "      <td>0</td>\n",
       "      <td>0</td>\n",
       "      <td>1</td>\n",
       "      <td>0</td>\n",
       "      <td>0</td>\n",
       "      <td>0</td>\n",
       "      <td>0</td>\n",
       "      <td>0</td>\n",
       "      <td>0</td>\n",
       "      <td>0</td>\n",
       "      <td>0</td>\n",
       "      <td>0</td>\n",
       "      <td>1</td>\n",
       "      <td>0</td>\n",
       "      <td>0</td>\n",
       "      <td>0</td>\n",
       "      <td>1</td>\n",
       "      <td>1.127080</td>\n",
       "      <td>0.674769</td>\n",
       "      <td>0.077614</td>\n",
       "    </tr>\n",
       "    <tr>\n",
       "      <th>1</th>\n",
       "      <td>6</td>\n",
       "      <td>38.907643</td>\n",
       "      <td>-77.009053</td>\n",
       "      <td>0.0</td>\n",
       "      <td>0.0</td>\n",
       "      <td>0.0</td>\n",
       "      <td>0.0</td>\n",
       "      <td>0</td>\n",
       "      <td>0</td>\n",
       "      <td>0</td>\n",
       "      <td>0</td>\n",
       "      <td>0</td>\n",
       "      <td>1</td>\n",
       "      <td>0</td>\n",
       "      <td>0</td>\n",
       "      <td>0</td>\n",
       "      <td>0</td>\n",
       "      <td>0</td>\n",
       "      <td>0</td>\n",
       "      <td>0</td>\n",
       "      <td>0</td>\n",
       "      <td>0</td>\n",
       "      <td>0</td>\n",
       "      <td>1</td>\n",
       "      <td>0</td>\n",
       "      <td>0</td>\n",
       "      <td>0</td>\n",
       "      <td>1</td>\n",
       "      <td>0</td>\n",
       "      <td>0</td>\n",
       "      <td>0</td>\n",
       "      <td>0</td>\n",
       "      <td>0</td>\n",
       "      <td>0</td>\n",
       "      <td>0</td>\n",
       "      <td>0</td>\n",
       "      <td>0</td>\n",
       "      <td>1</td>\n",
       "      <td>0.191281</td>\n",
       "      <td>0.079607</td>\n",
       "      <td>0.049559</td>\n",
       "    </tr>\n",
       "    <tr>\n",
       "      <th>2</th>\n",
       "      <td>6</td>\n",
       "      <td>38.901323</td>\n",
       "      <td>-77.016914</td>\n",
       "      <td>0.0</td>\n",
       "      <td>0.0</td>\n",
       "      <td>0.0</td>\n",
       "      <td>0.0</td>\n",
       "      <td>0</td>\n",
       "      <td>0</td>\n",
       "      <td>0</td>\n",
       "      <td>0</td>\n",
       "      <td>0</td>\n",
       "      <td>1</td>\n",
       "      <td>0</td>\n",
       "      <td>0</td>\n",
       "      <td>0</td>\n",
       "      <td>0</td>\n",
       "      <td>0</td>\n",
       "      <td>0</td>\n",
       "      <td>0</td>\n",
       "      <td>0</td>\n",
       "      <td>0</td>\n",
       "      <td>0</td>\n",
       "      <td>1</td>\n",
       "      <td>0</td>\n",
       "      <td>0</td>\n",
       "      <td>0</td>\n",
       "      <td>0</td>\n",
       "      <td>0</td>\n",
       "      <td>0</td>\n",
       "      <td>0</td>\n",
       "      <td>0</td>\n",
       "      <td>0</td>\n",
       "      <td>1</td>\n",
       "      <td>0</td>\n",
       "      <td>0</td>\n",
       "      <td>0</td>\n",
       "      <td>1</td>\n",
       "      <td>0.083639</td>\n",
       "      <td>0.124886</td>\n",
       "      <td>0.068719</td>\n",
       "    </tr>\n",
       "    <tr>\n",
       "      <th>3</th>\n",
       "      <td>6</td>\n",
       "      <td>38.883239</td>\n",
       "      <td>-77.018730</td>\n",
       "      <td>0.0</td>\n",
       "      <td>0.0</td>\n",
       "      <td>0.0</td>\n",
       "      <td>0.0</td>\n",
       "      <td>0</td>\n",
       "      <td>0</td>\n",
       "      <td>0</td>\n",
       "      <td>0</td>\n",
       "      <td>1</td>\n",
       "      <td>0</td>\n",
       "      <td>0</td>\n",
       "      <td>0</td>\n",
       "      <td>0</td>\n",
       "      <td>0</td>\n",
       "      <td>0</td>\n",
       "      <td>0</td>\n",
       "      <td>0</td>\n",
       "      <td>0</td>\n",
       "      <td>0</td>\n",
       "      <td>0</td>\n",
       "      <td>1</td>\n",
       "      <td>0</td>\n",
       "      <td>0</td>\n",
       "      <td>0</td>\n",
       "      <td>0</td>\n",
       "      <td>0</td>\n",
       "      <td>0</td>\n",
       "      <td>0</td>\n",
       "      <td>0</td>\n",
       "      <td>0</td>\n",
       "      <td>1</td>\n",
       "      <td>0</td>\n",
       "      <td>1</td>\n",
       "      <td>0</td>\n",
       "      <td>0</td>\n",
       "      <td>0.135380</td>\n",
       "      <td>0.296590</td>\n",
       "      <td>0.074763</td>\n",
       "    </tr>\n",
       "    <tr>\n",
       "      <th>4</th>\n",
       "      <td>5</td>\n",
       "      <td>38.920933</td>\n",
       "      <td>-76.997157</td>\n",
       "      <td>0.0</td>\n",
       "      <td>0.0</td>\n",
       "      <td>0.0</td>\n",
       "      <td>0.0</td>\n",
       "      <td>0</td>\n",
       "      <td>0</td>\n",
       "      <td>0</td>\n",
       "      <td>0</td>\n",
       "      <td>0</td>\n",
       "      <td>1</td>\n",
       "      <td>0</td>\n",
       "      <td>0</td>\n",
       "      <td>0</td>\n",
       "      <td>0</td>\n",
       "      <td>0</td>\n",
       "      <td>0</td>\n",
       "      <td>0</td>\n",
       "      <td>0</td>\n",
       "      <td>0</td>\n",
       "      <td>0</td>\n",
       "      <td>1</td>\n",
       "      <td>0</td>\n",
       "      <td>0</td>\n",
       "      <td>0</td>\n",
       "      <td>0</td>\n",
       "      <td>0</td>\n",
       "      <td>0</td>\n",
       "      <td>0</td>\n",
       "      <td>0</td>\n",
       "      <td>0</td>\n",
       "      <td>0</td>\n",
       "      <td>1</td>\n",
       "      <td>1</td>\n",
       "      <td>0</td>\n",
       "      <td>0</td>\n",
       "      <td>0.084503</td>\n",
       "      <td>0.849526</td>\n",
       "      <td>0.047963</td>\n",
       "    </tr>\n",
       "    <tr>\n",
       "      <th>...</th>\n",
       "      <td>...</td>\n",
       "      <td>...</td>\n",
       "      <td>...</td>\n",
       "      <td>...</td>\n",
       "      <td>...</td>\n",
       "      <td>...</td>\n",
       "      <td>...</td>\n",
       "      <td>...</td>\n",
       "      <td>...</td>\n",
       "      <td>...</td>\n",
       "      <td>...</td>\n",
       "      <td>...</td>\n",
       "      <td>...</td>\n",
       "      <td>...</td>\n",
       "      <td>...</td>\n",
       "      <td>...</td>\n",
       "      <td>...</td>\n",
       "      <td>...</td>\n",
       "      <td>...</td>\n",
       "      <td>...</td>\n",
       "      <td>...</td>\n",
       "      <td>...</td>\n",
       "      <td>...</td>\n",
       "      <td>...</td>\n",
       "      <td>...</td>\n",
       "      <td>...</td>\n",
       "      <td>...</td>\n",
       "      <td>...</td>\n",
       "      <td>...</td>\n",
       "      <td>...</td>\n",
       "      <td>...</td>\n",
       "      <td>...</td>\n",
       "      <td>...</td>\n",
       "      <td>...</td>\n",
       "      <td>...</td>\n",
       "      <td>...</td>\n",
       "      <td>...</td>\n",
       "      <td>...</td>\n",
       "      <td>...</td>\n",
       "      <td>...</td>\n",
       "      <td>...</td>\n",
       "    </tr>\n",
       "    <tr>\n",
       "      <th>104354</th>\n",
       "      <td>6</td>\n",
       "      <td>38.902514</td>\n",
       "      <td>-77.001305</td>\n",
       "      <td>0.0</td>\n",
       "      <td>0.0</td>\n",
       "      <td>0.0</td>\n",
       "      <td>0.0</td>\n",
       "      <td>0</td>\n",
       "      <td>0</td>\n",
       "      <td>0</td>\n",
       "      <td>0</td>\n",
       "      <td>0</td>\n",
       "      <td>0</td>\n",
       "      <td>1</td>\n",
       "      <td>0</td>\n",
       "      <td>0</td>\n",
       "      <td>1</td>\n",
       "      <td>0</td>\n",
       "      <td>0</td>\n",
       "      <td>0</td>\n",
       "      <td>0</td>\n",
       "      <td>0</td>\n",
       "      <td>0</td>\n",
       "      <td>0</td>\n",
       "      <td>0</td>\n",
       "      <td>0</td>\n",
       "      <td>0</td>\n",
       "      <td>0</td>\n",
       "      <td>0</td>\n",
       "      <td>0</td>\n",
       "      <td>0</td>\n",
       "      <td>0</td>\n",
       "      <td>1</td>\n",
       "      <td>0</td>\n",
       "      <td>0</td>\n",
       "      <td>0</td>\n",
       "      <td>1</td>\n",
       "      <td>0</td>\n",
       "      <td>0.138408</td>\n",
       "      <td>0.513213</td>\n",
       "      <td>0.030329</td>\n",
       "    </tr>\n",
       "    <tr>\n",
       "      <th>104355</th>\n",
       "      <td>5</td>\n",
       "      <td>38.924202</td>\n",
       "      <td>-76.960627</td>\n",
       "      <td>0.0</td>\n",
       "      <td>0.0</td>\n",
       "      <td>0.0</td>\n",
       "      <td>0.0</td>\n",
       "      <td>0</td>\n",
       "      <td>1</td>\n",
       "      <td>0</td>\n",
       "      <td>0</td>\n",
       "      <td>0</td>\n",
       "      <td>0</td>\n",
       "      <td>0</td>\n",
       "      <td>0</td>\n",
       "      <td>0</td>\n",
       "      <td>0</td>\n",
       "      <td>0</td>\n",
       "      <td>0</td>\n",
       "      <td>0</td>\n",
       "      <td>0</td>\n",
       "      <td>0</td>\n",
       "      <td>0</td>\n",
       "      <td>0</td>\n",
       "      <td>0</td>\n",
       "      <td>1</td>\n",
       "      <td>0</td>\n",
       "      <td>0</td>\n",
       "      <td>0</td>\n",
       "      <td>0</td>\n",
       "      <td>0</td>\n",
       "      <td>0</td>\n",
       "      <td>1</td>\n",
       "      <td>0</td>\n",
       "      <td>0</td>\n",
       "      <td>1</td>\n",
       "      <td>0</td>\n",
       "      <td>0</td>\n",
       "      <td>1.039210</td>\n",
       "      <td>0.809993</td>\n",
       "      <td>0.124818</td>\n",
       "    </tr>\n",
       "    <tr>\n",
       "      <th>104356</th>\n",
       "      <td>8</td>\n",
       "      <td>38.840647</td>\n",
       "      <td>-77.004730</td>\n",
       "      <td>0.0</td>\n",
       "      <td>0.0</td>\n",
       "      <td>0.0</td>\n",
       "      <td>0.0</td>\n",
       "      <td>1</td>\n",
       "      <td>0</td>\n",
       "      <td>0</td>\n",
       "      <td>0</td>\n",
       "      <td>0</td>\n",
       "      <td>0</td>\n",
       "      <td>0</td>\n",
       "      <td>0</td>\n",
       "      <td>1</td>\n",
       "      <td>0</td>\n",
       "      <td>0</td>\n",
       "      <td>0</td>\n",
       "      <td>0</td>\n",
       "      <td>0</td>\n",
       "      <td>0</td>\n",
       "      <td>0</td>\n",
       "      <td>0</td>\n",
       "      <td>0</td>\n",
       "      <td>0</td>\n",
       "      <td>0</td>\n",
       "      <td>0</td>\n",
       "      <td>0</td>\n",
       "      <td>0</td>\n",
       "      <td>0</td>\n",
       "      <td>0</td>\n",
       "      <td>1</td>\n",
       "      <td>0</td>\n",
       "      <td>0</td>\n",
       "      <td>1</td>\n",
       "      <td>0</td>\n",
       "      <td>0</td>\n",
       "      <td>0.559830</td>\n",
       "      <td>0.569863</td>\n",
       "      <td>0.005769</td>\n",
       "    </tr>\n",
       "    <tr>\n",
       "      <th>104357</th>\n",
       "      <td>5</td>\n",
       "      <td>38.905031</td>\n",
       "      <td>-76.995529</td>\n",
       "      <td>0.0</td>\n",
       "      <td>0.0</td>\n",
       "      <td>0.0</td>\n",
       "      <td>0.0</td>\n",
       "      <td>1</td>\n",
       "      <td>0</td>\n",
       "      <td>0</td>\n",
       "      <td>0</td>\n",
       "      <td>0</td>\n",
       "      <td>0</td>\n",
       "      <td>0</td>\n",
       "      <td>0</td>\n",
       "      <td>1</td>\n",
       "      <td>0</td>\n",
       "      <td>0</td>\n",
       "      <td>0</td>\n",
       "      <td>0</td>\n",
       "      <td>0</td>\n",
       "      <td>0</td>\n",
       "      <td>0</td>\n",
       "      <td>0</td>\n",
       "      <td>0</td>\n",
       "      <td>0</td>\n",
       "      <td>0</td>\n",
       "      <td>0</td>\n",
       "      <td>0</td>\n",
       "      <td>0</td>\n",
       "      <td>0</td>\n",
       "      <td>0</td>\n",
       "      <td>1</td>\n",
       "      <td>0</td>\n",
       "      <td>0</td>\n",
       "      <td>0</td>\n",
       "      <td>1</td>\n",
       "      <td>0</td>\n",
       "      <td>0.252021</td>\n",
       "      <td>0.904808</td>\n",
       "      <td>0.062211</td>\n",
       "    </tr>\n",
       "    <tr>\n",
       "      <th>104358</th>\n",
       "      <td>1</td>\n",
       "      <td>38.932826</td>\n",
       "      <td>-77.030864</td>\n",
       "      <td>0.0</td>\n",
       "      <td>0.0</td>\n",
       "      <td>0.0</td>\n",
       "      <td>0.0</td>\n",
       "      <td>0</td>\n",
       "      <td>0</td>\n",
       "      <td>0</td>\n",
       "      <td>1</td>\n",
       "      <td>0</td>\n",
       "      <td>0</td>\n",
       "      <td>0</td>\n",
       "      <td>0</td>\n",
       "      <td>0</td>\n",
       "      <td>1</td>\n",
       "      <td>0</td>\n",
       "      <td>0</td>\n",
       "      <td>0</td>\n",
       "      <td>0</td>\n",
       "      <td>0</td>\n",
       "      <td>0</td>\n",
       "      <td>0</td>\n",
       "      <td>0</td>\n",
       "      <td>0</td>\n",
       "      <td>0</td>\n",
       "      <td>0</td>\n",
       "      <td>0</td>\n",
       "      <td>0</td>\n",
       "      <td>0</td>\n",
       "      <td>0</td>\n",
       "      <td>1</td>\n",
       "      <td>0</td>\n",
       "      <td>0</td>\n",
       "      <td>0</td>\n",
       "      <td>1</td>\n",
       "      <td>0</td>\n",
       "      <td>0.140584</td>\n",
       "      <td>0.204775</td>\n",
       "      <td>0.084713</td>\n",
       "    </tr>\n",
       "  </tbody>\n",
       "</table>\n",
       "<p>104359 rows × 41 columns</p>\n",
       "</div>"
      ],
      "text/plain": [
       "        WARD   LATITUDE  LONGITUDE  total_cases  daily_cases  daily_death  \\\n",
       "0          5  38.918707 -76.962533          0.0          0.0          0.0   \n",
       "1          6  38.907643 -77.009053          0.0          0.0          0.0   \n",
       "2          6  38.901323 -77.016914          0.0          0.0          0.0   \n",
       "3          6  38.883239 -77.018730          0.0          0.0          0.0   \n",
       "4          5  38.920933 -76.997157          0.0          0.0          0.0   \n",
       "...      ...        ...        ...          ...          ...          ...   \n",
       "104354     6  38.902514 -77.001305          0.0          0.0          0.0   \n",
       "104355     5  38.924202 -76.960627          0.0          0.0          0.0   \n",
       "104356     8  38.840647 -77.004730          0.0          0.0          0.0   \n",
       "104357     5  38.905031 -76.995529          0.0          0.0          0.0   \n",
       "104358     1  38.932826 -77.030864          0.0          0.0          0.0   \n",
       "\n",
       "        OUT_POSITIVE_QUARANTINE_PSMPD  MO  TU  WE  TH  FR  SA  SU  JAN  FEB  \\\n",
       "0                                 0.0   0   0   0   0   0   1   0    0    0   \n",
       "1                                 0.0   0   0   0   0   0   1   0    0    0   \n",
       "2                                 0.0   0   0   0   0   0   1   0    0    0   \n",
       "3                                 0.0   0   0   0   0   1   0   0    0    0   \n",
       "4                                 0.0   0   0   0   0   0   1   0    0    0   \n",
       "...                               ...  ..  ..  ..  ..  ..  ..  ..  ...  ...   \n",
       "104354                            0.0   0   0   0   0   0   0   1    0    0   \n",
       "104355                            0.0   0   1   0   0   0   0   0    0    0   \n",
       "104356                            0.0   1   0   0   0   0   0   0    0    1   \n",
       "104357                            0.0   1   0   0   0   0   0   0    0    1   \n",
       "104358                            0.0   0   0   0   1   0   0   0    0    0   \n",
       "\n",
       "        MAR  APR  MAY  JUN  JUL  AUG  SEP  OCT  NOV  DEC  ARSON  \\\n",
       "0         0    0    0    0    0    0    0    1    0    0      0   \n",
       "1         0    0    0    0    0    0    0    1    0    0      0   \n",
       "2         0    0    0    0    0    0    0    1    0    0      0   \n",
       "3         0    0    0    0    0    0    0    1    0    0      0   \n",
       "4         0    0    0    0    0    0    0    1    0    0      0   \n",
       "...     ...  ...  ...  ...  ...  ...  ...  ...  ...  ...    ...   \n",
       "104354    1    0    0    0    0    0    0    0    0    0      0   \n",
       "104355    0    0    0    0    0    0    0    0    0    1      0   \n",
       "104356    0    0    0    0    0    0    0    0    0    0      0   \n",
       "104357    0    0    0    0    0    0    0    0    0    0      0   \n",
       "104358    1    0    0    0    0    0    0    0    0    0      0   \n",
       "\n",
       "        ASSAULT W/DANGEROUS WEAPON  BURGLARY  HOMICIDE  MOTOR VEHICLE THEFT  \\\n",
       "0                                0         0         0                    0   \n",
       "1                                1         0         0                    0   \n",
       "2                                0         0         0                    0   \n",
       "3                                0         0         0                    0   \n",
       "4                                0         0         0                    0   \n",
       "...                            ...       ...       ...                  ...   \n",
       "104354                           0         0         0                    0   \n",
       "104355                           0         0         0                    0   \n",
       "104356                           0         0         0                    0   \n",
       "104357                           0         0         0                    0   \n",
       "104358                           0         0         0                    0   \n",
       "\n",
       "        ROBBERY  SEX ABUSE  THEFT F/AUTO  THEFT/OTHER  DAY  EVENING  MIDNIGHT  \\\n",
       "0             0          0             1            0    0        0         1   \n",
       "1             0          0             0            0    0        0         1   \n",
       "2             0          0             1            0    0        0         1   \n",
       "3             0          0             1            0    1        0         0   \n",
       "4             0          0             0            1    1        0         0   \n",
       "...         ...        ...           ...          ...  ...      ...       ...   \n",
       "104354        0          1             0            0    0        1         0   \n",
       "104355        0          1             0            0    1        0         0   \n",
       "104356        0          1             0            0    1        0         0   \n",
       "104357        0          1             0            0    0        1         0   \n",
       "104358        0          1             0            0    0        1         0   \n",
       "\n",
       "        distance_metro  distance_nightclubs  distance_worship  \n",
       "0             1.127080             0.674769          0.077614  \n",
       "1             0.191281             0.079607          0.049559  \n",
       "2             0.083639             0.124886          0.068719  \n",
       "3             0.135380             0.296590          0.074763  \n",
       "4             0.084503             0.849526          0.047963  \n",
       "...                ...                  ...               ...  \n",
       "104354        0.138408             0.513213          0.030329  \n",
       "104355        1.039210             0.809993          0.124818  \n",
       "104356        0.559830             0.569863          0.005769  \n",
       "104357        0.252021             0.904808          0.062211  \n",
       "104358        0.140584             0.204775          0.084713  \n",
       "\n",
       "[104359 rows x 41 columns]"
      ]
     },
     "execution_count": 7,
     "metadata": {},
     "output_type": "execute_result"
    }
   ],
   "source": [
    "pre_covid_data"
   ]
  },
  {
   "cell_type": "code",
   "execution_count": 8,
   "id": "7c524057",
   "metadata": {},
   "outputs": [],
   "source": [
    "del pre_covid_data[\"total_cases\"]\n",
    "del pre_covid_data[\"daily_cases\"]\n",
    "del pre_covid_data[\"daily_death\"]\n",
    "del pre_covid_data[\"OUT_POSITIVE_QUARANTINE_PSMPD\"]\n",
    "\n",
    "del pre_covid_data['LATITUDE']\n",
    "del pre_covid_data['LONGITUDE']"
   ]
  },
  {
   "cell_type": "code",
   "execution_count": 9,
   "id": "295834d3",
   "metadata": {},
   "outputs": [
    {
     "data": {
      "text/plain": [
       "WARD                          0\n",
       "MO                            0\n",
       "TU                            0\n",
       "WE                            0\n",
       "TH                            0\n",
       "FR                            0\n",
       "SA                            0\n",
       "SU                            0\n",
       "JAN                           0\n",
       "FEB                           0\n",
       "MAR                           0\n",
       "APR                           0\n",
       "MAY                           0\n",
       "JUN                           0\n",
       "JUL                           0\n",
       "AUG                           0\n",
       "SEP                           0\n",
       "OCT                           0\n",
       "NOV                           0\n",
       "DEC                           0\n",
       "ARSON                         0\n",
       "ASSAULT W/DANGEROUS WEAPON    0\n",
       "BURGLARY                      0\n",
       "HOMICIDE                      0\n",
       "MOTOR VEHICLE THEFT           0\n",
       "ROBBERY                       0\n",
       "SEX ABUSE                     0\n",
       "THEFT F/AUTO                  0\n",
       "THEFT/OTHER                   0\n",
       "DAY                           0\n",
       "EVENING                       0\n",
       "MIDNIGHT                      0\n",
       "distance_metro                0\n",
       "distance_nightclubs           0\n",
       "distance_worship              0\n",
       "dtype: int64"
      ]
     },
     "execution_count": 9,
     "metadata": {},
     "output_type": "execute_result"
    }
   ],
   "source": [
    "pre_covid_data.isna().sum()"
   ]
  },
  {
   "cell_type": "code",
   "execution_count": 10,
   "id": "380cc2dc",
   "metadata": {},
   "outputs": [],
   "source": [
    "# WARD, DISTRICT, total_cases, daily_cases/deaths, OUT_POSITIVE_QUARANTINE_PSMPD, DAYS (MO-SUN), SHIFT, MONTH => CRIME_CLASS (9)"
   ]
  },
  {
   "cell_type": "code",
   "execution_count": 11,
   "id": "a41ea888",
   "metadata": {},
   "outputs": [],
   "source": [
    "X = pre_covid_data.loc[:, pre_covid_data.columns != 'WARD'].values\n",
    "y = pre_covid_data['WARD'].values\n",
    "\n",
    "X_train, X_test, y_train, y_test = train_test_split(X, y, test_size=0.3, shuffle=True)"
   ]
  },
  {
   "cell_type": "code",
   "execution_count": 12,
   "id": "1528e156",
   "metadata": {},
   "outputs": [
    {
     "name": "stdout",
     "output_type": "stream",
     "text": [
      "X_train.shape (73051, 34)\n",
      "y_train.shape (73051,)\n",
      "\n",
      "X_test.shape (31308, 34)\n",
      "X_test.shape (31308, 34)\n"
     ]
    }
   ],
   "source": [
    "print(\"X_train.shape\", X_train.shape)\n",
    "print(\"y_train.shape\", y_train.shape)\n",
    "print(\"\")\n",
    "print(\"X_test.shape\", X_test.shape)\n",
    "print(\"X_test.shape\", X_test.shape)"
   ]
  },
  {
   "cell_type": "markdown",
   "id": "33186e6a",
   "metadata": {},
   "source": [
    "# Using Standard Scaler on Data:"
   ]
  },
  {
   "cell_type": "code",
   "execution_count": 13,
   "id": "3ad79439",
   "metadata": {},
   "outputs": [
    {
     "name": "stdout",
     "output_type": "stream",
     "text": [
      "[[-0.40982482 -0.40642421  2.48372524 -0.3985713  -0.41532269 -0.41464279\n",
      "  -0.41021204 -0.34253388 -0.31157023 -0.28584647 -0.27760964 -0.29320565\n",
      "   3.37770144 -0.30230536 -0.30684056 -0.30136048 -0.30926442 -0.29339832\n",
      "  -0.29501881 -0.01433102 -0.22773976 -0.20976967 -0.06715851 -0.27404662\n",
      "  -0.26001321 -0.08749626 -0.68881575  1.12522488 -0.74236674  1.14540822\n",
      "  -0.51894535 -0.46231599  0.27609147  0.16474123]\n",
      " [-0.40982482  2.46048336 -0.40262102 -0.3985713  -0.41532269 -0.41464279\n",
      "  -0.41021204 -0.34253388 -0.31157023 -0.28584647  3.60218032 -0.29320565\n",
      "  -0.29605932 -0.30230536 -0.30684056 -0.30136048 -0.30926442 -0.29339832\n",
      "  -0.29501881 -0.01433102 -0.22773976 -0.20976967 -0.06715851 -0.27404662\n",
      "  -0.26001321 -0.08749626 -0.68881575  1.12522488 -0.74236674  1.14540822\n",
      "  -0.51894535 -1.05896803 -0.0761797  -0.41514534]]\n",
      "[[ 2.44006695 -0.40642421 -0.40262102 -0.3985713  -0.41532269 -0.41464279\n",
      "  -0.41021204  2.91941925 -0.31157023 -0.28584647 -0.27760964 -0.29320565\n",
      "  -0.29605932 -0.30230536 -0.30684056 -0.30136048 -0.30926442 -0.29339832\n",
      "  -0.29501881 -0.01433102 -0.22773976 -0.20976967 -0.06715851 -0.27404662\n",
      "  -0.26001321 -0.08749626 -0.68881575  1.12522488 -0.74236674  1.14540822\n",
      "  -0.51894535 -0.7931842  -0.65243401 -0.61057358]\n",
      " [-0.40982482 -0.40642421 -0.40262102 -0.3985713   2.40776635 -0.41464279\n",
      "  -0.41021204 -0.34253388 -0.31157023 -0.28584647 -0.27760964 -0.29320565\n",
      "  -0.29605932 -0.30230536 -0.30684056 -0.30136048 -0.30926442  3.40833581\n",
      "  -0.29501881 -0.01433102 -0.22773976 -0.20976967 -0.06715851 -0.27404662\n",
      "  -0.26001321 -0.08749626  1.45176703 -0.88871124 -0.74236674  1.14540822\n",
      "  -0.51894535 -0.23059685  0.14605578  0.04056801]]\n"
     ]
    }
   ],
   "source": [
    "Stand_scaler = StandardScaler() # or MinMaxScaler()\n",
    "Stand_scaler.fit(X_train)\n",
    "\n",
    "X_train_Stand_scaled = Stand_scaler.transform(X_train)\n",
    "X_test_Stand_scaled = Stand_scaler.transform(X_test)\n",
    "\n",
    "print(X_train_Stand_scaled[:2])\n",
    "\n",
    "print(X_test_Stand_scaled[:2])"
   ]
  },
  {
   "cell_type": "markdown",
   "id": "b0ec8d73",
   "metadata": {},
   "source": [
    "# Using MinMax Scaler with range between 0 and 1:"
   ]
  },
  {
   "cell_type": "code",
   "execution_count": 14,
   "id": "899cd561",
   "metadata": {},
   "outputs": [
    {
     "name": "stdout",
     "output_type": "stream",
     "text": [
      "[[0.         0.         1.         0.         0.         0.\n",
      "  0.         0.         0.         0.         0.         0.\n",
      "  1.         0.         0.         0.         0.         0.\n",
      "  0.         0.         0.         0.         0.         0.\n",
      "  0.         0.         0.         1.         0.         1.\n",
      "  0.         0.09632891 0.18446848 0.10544984]\n",
      " [0.         1.         0.         0.         0.         0.\n",
      "  0.         0.         0.         0.         1.         0.\n",
      "  0.         0.         0.         0.         0.         0.\n",
      "  0.         0.         0.         0.         0.         0.\n",
      "  0.         0.         0.         1.         0.         1.\n",
      "  0.         0.02065927 0.12561248 0.06040662]]\n",
      "[[1.         0.         0.         0.         0.         0.\n",
      "  0.         1.         0.         0.         0.         0.\n",
      "  0.         0.         0.         0.         0.         0.\n",
      "  0.         0.         0.         0.         0.         0.\n",
      "  0.         0.         0.         1.         0.         1.\n",
      "  0.         0.05436697 0.02933433 0.04522655]\n",
      " [0.         0.         0.         0.         1.         0.\n",
      "  0.         0.         0.         0.         0.         0.\n",
      "  0.         0.         0.         0.         0.         1.\n",
      "  0.         0.         0.         0.         0.         0.\n",
      "  0.         0.         1.         0.         0.         1.\n",
      "  0.         0.12571639 0.16274266 0.09580457]]\n"
     ]
    }
   ],
   "source": [
    "from sklearn.preprocessing import MinMaxScaler\n",
    "\n",
    "MinMax_scaler = MinMaxScaler(feature_range=(0, 1))\n",
    "\n",
    "MinMax_scaler = MinMax_scaler.fit(X_train)\n",
    "\n",
    "X_train_MinMax_scaled = MinMax_scaler.transform(X_train)\n",
    "X_test_MinMax_scaled = MinMax_scaler.transform(X_test)\n",
    "\n",
    "print(X_train_MinMax_scaled[:2])\n",
    "print(X_test_MinMax_scaled[:2])"
   ]
  },
  {
   "cell_type": "markdown",
   "id": "a0be8e42",
   "metadata": {},
   "source": [
    "# Grid Search for each:"
   ]
  },
  {
   "cell_type": "markdown",
   "id": "58de7368",
   "metadata": {},
   "source": [
    "# SVC (Support Vector Machine)"
   ]
  },
  {
   "cell_type": "code",
   "execution_count": 15,
   "id": "2589ef90",
   "metadata": {},
   "outputs": [
    {
     "name": "stdout",
     "output_type": "stream",
     "text": [
      "Current C=41\n",
      "    * Score is: [2 5 2 ... 5 2 8]\n",
      "    * Accuracy: 52.21 %\n",
      "    * Precision: 51.53 %\n",
      "    * Recall: 48.66 %\n"
     ]
    }
   ],
   "source": [
    "# with StandardScaler\n",
    "curr_SVC_cls_w_StandScaler = SVC(C=41, kernel='rbf')\n",
    "\n",
    "curr_SVC_cls_w_StandScaler.fit(X_train_Stand_scaled, y_train)\n",
    "curr_y_pred_SVC_grid_with_StandScaler = curr_SVC_cls_w_StandScaler.predict(X_test_Stand_scaled)\n",
    "y_true = y_test\n",
    "print(f\"Current C={41}\")\n",
    "print(\"    * Score is:\", curr_y_pred_SVC_grid_with_StandScaler)\n",
    "print(\"    * Accuracy:\", round(accuracy_score(y_test, curr_y_pred_SVC_grid_with_StandScaler)*100, 2), \"%\")\n",
    "print(\"    * Precision:\", round(precision_score(y_test, curr_y_pred_SVC_grid_with_StandScaler,\n",
    "                                    average='macro')*100, 2), \"%\")\n",
    "print(\"    * Recall:\", round(recall_score(y_test, curr_y_pred_SVC_grid_with_StandScaler,\n",
    "                              average='macro')*100, 2), \"%\")"
   ]
  },
  {
   "cell_type": "code",
   "execution_count": 93,
   "id": "9ea2aaec",
   "metadata": {},
   "outputs": [],
   "source": [
    "pickle.dump(curr_SVC_cls_w_StandScaler, open(\"SVC_cls_w_StandScaler_PreCOVID.sav\", 'wb'))"
   ]
  },
  {
   "cell_type": "code",
   "execution_count": 91,
   "id": "e8a106a3",
   "metadata": {},
   "outputs": [
    {
     "name": "stdout",
     "output_type": "stream",
     "text": [
      "Current C=41\n",
      "    * Score is: [2 5 2 ... 2 2 8]\n",
      "    * Accuracy: 47.04 %\n",
      "    * Precision: 46.65 %\n",
      "    * Recall: 42.98 %\n"
     ]
    }
   ],
   "source": [
    "# with MinMax\n",
    "curr_SVC_cls_w_MinMax = SVC(C=41, kernel='rbf')\n",
    "\n",
    "curr_SVC_cls_w_MinMax.fit(X_train_MinMax_scaled, y_train)\n",
    "curr_y_pred_SVC_grid_with_MinMax = curr_SVC_cls_w_MinMax.predict(X_test_MinMax_scaled)\n",
    "y_true = y_test\n",
    "print(f\"Current C={41}\")\n",
    "print(\"    * Score is:\", curr_y_pred_SVC_grid_with_MinMax)\n",
    "print(\"    * Accuracy:\", round(accuracy_score(y_test, curr_y_pred_SVC_grid_with_MinMax)*100, 2), \"%\")\n",
    "print(\"    * Precision:\", round(precision_score(y_test, curr_y_pred_SVC_grid_with_MinMax,\n",
    "                                    average='macro')*100, 2), \"%\")\n",
    "print(\"    * Recall:\", round(recall_score(y_test, curr_y_pred_SVC_grid_with_MinMax,\n",
    "                              average='macro')*100, 2), \"%\")"
   ]
  },
  {
   "cell_type": "code",
   "execution_count": 94,
   "id": "69d24b04",
   "metadata": {},
   "outputs": [],
   "source": [
    "pickle.dump(curr_SVC_cls_w_MinMax, open(\"SVC_cls_w_MinMax_PreCOVID.sav\", 'wb'))"
   ]
  },
  {
   "cell_type": "markdown",
   "id": "77bed4f8",
   "metadata": {},
   "source": [
    "# Neural Network:"
   ]
  },
  {
   "cell_type": "code",
   "execution_count": null,
   "id": "1e3a23a7",
   "metadata": {},
   "outputs": [],
   "source": [
    "# X_train_Stand_scaled\n",
    "# X_test_Stand_scaled\n",
    "\n",
    "# X_train_MinMax_scaled\n",
    "# X_test_MinMax_scaled"
   ]
  },
  {
   "cell_type": "code",
   "execution_count": 16,
   "id": "07113b0e",
   "metadata": {},
   "outputs": [
    {
     "data": {
      "text/plain": [
       "(73051, 34)"
      ]
     },
     "execution_count": 16,
     "metadata": {},
     "output_type": "execute_result"
    }
   ],
   "source": [
    "X_train_Stand_scaled.shape"
   ]
  },
  {
   "cell_type": "code",
   "execution_count": 17,
   "id": "84aaf225",
   "metadata": {},
   "outputs": [
    {
     "data": {
      "text/plain": [
       "array([5, 3, 2, ..., 8, 6, 2])"
      ]
     },
     "execution_count": 17,
     "metadata": {},
     "output_type": "execute_result"
    }
   ],
   "source": [
    "y_train"
   ]
  },
  {
   "cell_type": "code",
   "execution_count": 18,
   "id": "5fe13267",
   "metadata": {},
   "outputs": [
    {
     "data": {
      "text/plain": [
       "34"
      ]
     },
     "execution_count": 18,
     "metadata": {},
     "output_type": "execute_result"
    }
   ],
   "source": [
    "X_train_Stand_scaled[0].shape[0]"
   ]
  },
  {
   "cell_type": "code",
   "execution_count": 38,
   "id": "fd326561",
   "metadata": {},
   "outputs": [],
   "source": [
    "class CrimeDataset(Dataset):\n",
    "    \n",
    "    def __init__(self, scaling_type=\"Standard_Scaler\", learning_mode=\"train\"):\n",
    "        # Initialize data        \n",
    "        if scaling_type == \"Standard_Scaler\":\n",
    "            train_numpy_arr = X_train_Stand_scaled\n",
    "            test_numpy_arr = X_test_Stand_scaled\n",
    "        else: # do MinMax\n",
    "            train_numpy_arr = X_train_MinMax_scaled\n",
    "            test_numpy_arr = X_test_MinMax_scaled\n",
    "            \n",
    "        main_data = copy.deepcopy(train_numpy_arr)\n",
    "        x_train_data, x_val_data, y_train_data, y_val_data = train_test_split(train_numpy_arr, y_train, test_size=0.2, random_state=1)\n",
    "        x_test_data, y_test_data = test_numpy_arr, y_test\n",
    "           \n",
    "        if learning_mode == \"test\":\n",
    "            print(\"Retreiving Test Dataset...\")\n",
    "            self.x_data = torch.from_numpy(x_test_data)\n",
    "            self.y_data = torch.from_numpy(y_test_data-1)\n",
    "        elif learning_mode == \"val\":\n",
    "            print(\"Retreiving Validation Dataset...\")\n",
    "            self.x_data = torch.from_numpy(x_val_data)\n",
    "            self.y_data = torch.from_numpy(y_val_data-1)\n",
    "        else:\n",
    "            print(\"Retreiving Train Dataset...\")\n",
    "            self.x_data = torch.from_numpy(x_train_data)\n",
    "            self.y_data = torch.from_numpy(y_train_data-1)\n",
    "            \n",
    "        self.n_samples = self.x_data.shape[0]\n",
    "            \n",
    "    # here the first column is the class label, the rest are the features\n",
    "    def __getitem__(self, index):\n",
    "        return self.x_data[index], self.y_data[index]\n",
    "    \n",
    "    # support indexing such that dataset[i] can be used to get i-th sample\n",
    "    def __len__(self):\n",
    "        print(\"  -n_samples =\", self.n_samples)\n",
    "        return self.n_samples"
   ]
  },
  {
   "cell_type": "code",
   "execution_count": 39,
   "id": "8eeab4fd",
   "metadata": {},
   "outputs": [],
   "source": [
    "# Multiclass problem\n",
    "class NeuralNet2(nn.Module):\n",
    "    def __init__(self, input_size, hidden_size, num_classes):\n",
    "        super(NeuralNet2, self).__init__()\n",
    "        self.linear1 = nn.Linear(input_size, hidden_size) \n",
    "        self.relu1 = nn.ReLU()\n",
    "        self.linear2 = nn.Linear(hidden_size, hidden_size) \n",
    "        self.relu2 = nn.ReLU()\n",
    "        self.linear3 = nn.Linear(hidden_size, hidden_size) \n",
    "        #self.relu3 = nn.ReLU()\n",
    "        self.linear4 = nn.Linear(hidden_size, hidden_size) \n",
    "        self.relu4 = nn.ReLU()\n",
    "        self.linear5 = nn.Linear(hidden_size, hidden_size) \n",
    "        #self.relu5 = nn.ReLU()\n",
    "        self.linear6 = nn.Linear(hidden_size, hidden_size) \n",
    "        self.relu6 = nn.ReLU()\n",
    "        self.linear7 = nn.Linear(hidden_size, hidden_size) \n",
    "        self.relu7 = nn.ReLU()\n",
    "        self.linear8 = nn.Linear(hidden_size, num_classes)  \n",
    "    \n",
    "    def forward(self, x):\n",
    "        out = self.linear1(x)\n",
    "        out = self.relu1(out)\n",
    "        out = self.linear2(out)\n",
    "        out = self.relu2(out)\n",
    "        out = self.linear3(out)\n",
    "        #out = self.relu3(out)\n",
    "        #out = self.linear4(out)\n",
    "        #out = self.relu4(out)\n",
    "        #out = self.linear5(out)\n",
    "        #out = self.relu5(out)\n",
    "        #out = self.linear6(out)\n",
    "        #out = self.relu6(out)\n",
    "        #out = self.linear7(out)\n",
    "        #out = self.relu7(out)\n",
    "        #out = self.linear8(out)\n",
    "        # no softmax at the end\n",
    "        return out"
   ]
  },
  {
   "cell_type": "code",
   "execution_count": 40,
   "id": "9c50165d",
   "metadata": {},
   "outputs": [],
   "source": [
    "class EarlyStopping():\n",
    "    \"\"\"\n",
    "    Early stopping to stop the training when the loss does not improve after\n",
    "    certain epochs.\n",
    "    \"\"\"\n",
    "    def __init__(self, patience=5, min_delta=0):\n",
    "        \"\"\"\n",
    "        :param patience: how many epochs to wait before stopping when loss is\n",
    "               not improving\n",
    "        :param min_delta: minimum difference between new loss and old loss for\n",
    "               new loss to be considered as an improvement\n",
    "        \"\"\"\n",
    "        self.patience = patience\n",
    "        self.min_delta = min_delta\n",
    "        self.counter = 0\n",
    "        self.best_loss = None\n",
    "        self.early_stop = False\n",
    "    def __call__(self, val_loss):\n",
    "        if self.best_loss == None:\n",
    "            self.best_loss = val_loss\n",
    "        elif self.best_loss - val_loss > self.min_delta:\n",
    "            self.best_loss = val_loss\n",
    "            # reset counter if validation loss improves\n",
    "            self.counter = 0\n",
    "        elif self.best_loss - val_loss < self.min_delta:\n",
    "            self.counter += 1\n",
    "            print(f\"INFO: Early stopping counter {self.counter} of {self.patience}\")\n",
    "            if self.counter >= self.patience:\n",
    "                print('INFO: Early stopping')\n",
    "                self.early_stop = True"
   ]
  },
  {
   "cell_type": "code",
   "execution_count": 41,
   "id": "ac05ef07",
   "metadata": {},
   "outputs": [],
   "source": [
    "# training function\n",
    "softmax = nn.Softmax(dim=1)\n",
    "\n",
    "def fit(model, train_dataloader, train_dataset, optimizer, criterion):\n",
    "    print('Training')\n",
    "    model.train()\n",
    "    train_running_loss = 0.0\n",
    "    train_running_correct = 0\n",
    "    counter = 0\n",
    "    total = 0\n",
    "    prog_bar = tqdm(enumerate(train_dataloader), total=int(len(train_dataset)/train_dataloader.batch_size))\n",
    "    for i, data in prog_bar:\n",
    "        counter += 1\n",
    "        data, target = data[0], data[1]\n",
    "        total += target.size(0)\n",
    "        optimizer.zero_grad()\n",
    "        outputs = model(data.float())\n",
    "        #output_labels = []\n",
    "        #for t in outputs:\n",
    "        #    __, class_pred = torch.max(t, dim=0)\n",
    "        #    output_labels.append(class_pred.item())\n",
    "        #output_labels = torch.tensor(np.array(output_labels))\n",
    "        output_probas = softmax(outputs)\n",
    "        target = target.type(torch.LongTensor)\n",
    "        loss = criterion(output_probas, target) #.long())\n",
    "        train_running_loss += loss.item()\n",
    "        _, preds = torch.max(outputs.data, 1)\n",
    "        train_running_correct += (preds == target).sum().item()\n",
    "        loss.backward()\n",
    "        optimizer.step()\n",
    "        \n",
    "    train_loss = train_running_loss / counter\n",
    "    train_accuracy = 100. * train_running_correct / total\n",
    "    return train_loss, train_accuracy"
   ]
  },
  {
   "cell_type": "code",
   "execution_count": 42,
   "id": "dfaf9cde",
   "metadata": {},
   "outputs": [],
   "source": [
    "# validation function\n",
    "def validate(model, test_dataloader, val_dataset, criterion):\n",
    "    print('Validating')\n",
    "    model.eval()\n",
    "    val_running_loss = 0.0\n",
    "    val_running_correct = 0\n",
    "    counter = 0\n",
    "    total = 0\n",
    "    prog_bar = tqdm(enumerate(test_dataloader), total=int(len(val_dataset)/test_dataloader.batch_size))\n",
    "    with torch.no_grad():\n",
    "        for i, data in prog_bar:\n",
    "            counter += 1\n",
    "            data, target = data[0], data[1]\n",
    "            total += target.size(0)\n",
    "            outputs = model(data.float())\n",
    "            loss = criterion(outputs, target.type(torch.LongTensor))\n",
    "            \n",
    "            val_running_loss += loss.item()\n",
    "            _, preds = torch.max(outputs.data, 1)\n",
    "            val_running_correct += (preds == target).sum().item()\n",
    "        \n",
    "        val_loss = val_running_loss / counter\n",
    "        val_accuracy = 100. * val_running_correct / total\n",
    "        return val_loss, val_accuracy"
   ]
  },
  {
   "cell_type": "code",
   "execution_count": 43,
   "id": "dfe06027",
   "metadata": {},
   "outputs": [],
   "source": [
    "# X_train_Stand_scaled\n",
    "# X_test_Stand_scaled\n",
    "\n",
    "# X_train_MinMax_scaled\n",
    "# X_test_MinMax_scaled"
   ]
  },
  {
   "cell_type": "code",
   "execution_count": 44,
   "id": "cd9ce0a2",
   "metadata": {},
   "outputs": [
    {
     "data": {
      "text/plain": [
       "numpy.ndarray"
      ]
     },
     "execution_count": 44,
     "metadata": {},
     "output_type": "execute_result"
    }
   ],
   "source": [
    "type(X_train_MinMax_scaled)"
   ]
  },
  {
   "cell_type": "code",
   "execution_count": 45,
   "id": "fdbb8b17",
   "metadata": {},
   "outputs": [
    {
     "data": {
      "text/plain": [
       "numpy.ndarray"
      ]
     },
     "execution_count": 45,
     "metadata": {},
     "output_type": "execute_result"
    }
   ],
   "source": [
    "type(y_train)"
   ]
  },
  {
   "cell_type": "code",
   "execution_count": 46,
   "id": "dd912b8d",
   "metadata": {},
   "outputs": [
    {
     "name": "stdout",
     "output_type": "stream",
     "text": [
      "Retreiving Train Dataset...\n",
      "  -n_samples = 58440\n",
      "  -n_samples = 58440\n",
      "Retreiving Validation Dataset...\n",
      "Retreiving Test Dataset...\n"
     ]
    }
   ],
   "source": [
    "# traning and validation datasets and dataloaders\n",
    "train_dataset = CrimeDataset(learning_mode=\"train\")\n",
    "\n",
    "train_dataloader = torch.utils.data.DataLoader(\n",
    "    train_dataset, batch_size=32, shuffle=True,\n",
    ")\n",
    "\n",
    "\n",
    "val_dataset = CrimeDataset(learning_mode=\"val\")\n",
    "\n",
    "val_dataloader = torch.utils.data.DataLoader(\n",
    "    val_dataset, batch_size=32, shuffle=False,\n",
    ")\n",
    "\n",
    "\n",
    "test_dataset = CrimeDataset(learning_mode=\"test\")\n",
    "\n",
    "val_dataloader = torch.utils.data.DataLoader(\n",
    "    val_dataset, batch_size=32, shuffle=False,\n",
    ")"
   ]
  },
  {
   "cell_type": "code",
   "execution_count": 54,
   "id": "3aba1f61",
   "metadata": {},
   "outputs": [
    {
     "name": "stdout",
     "output_type": "stream",
     "text": [
      "Epoch 1 of 100\n",
      "Training\n",
      "  -n_samples = 58440\n"
     ]
    },
    {
     "name": "stderr",
     "output_type": "stream",
     "text": [
      "  8%|██████                                                                        | 141/1826 [00:00<00:02, 710.55it/s]"
     ]
    },
    {
     "name": "stdout",
     "output_type": "stream",
     "text": [
      "  -n_samples = 58440\n"
     ]
    },
    {
     "name": "stderr",
     "output_type": "stream",
     "text": [
      "1827it [00:02, 718.73it/s]                                                                                             \n"
     ]
    },
    {
     "name": "stdout",
     "output_type": "stream",
     "text": [
      "Validating\n",
      "  -n_samples = 14611\n"
     ]
    },
    {
     "name": "stderr",
     "output_type": "stream",
     "text": [
      " 93%|████████████████████████████████████████████████████████████████████████▋     | 425/456 [00:00<00:00, 2147.02it/s]"
     ]
    },
    {
     "name": "stdout",
     "output_type": "stream",
     "text": [
      "  -n_samples = 14611\n"
     ]
    },
    {
     "name": "stderr",
     "output_type": "stream",
     "text": [
      "457it [00:00, 2135.50it/s]                                                                                             \n"
     ]
    },
    {
     "name": "stdout",
     "output_type": "stream",
     "text": [
      "Train Loss: 4.5533, Train Acc: 32.16\n",
      "Val Loss: 4.8500, Val Acc: 38.29\n",
      "Epoch 2 of 100\n",
      "Training\n",
      "  -n_samples = 58440\n"
     ]
    },
    {
     "name": "stderr",
     "output_type": "stream",
     "text": [
      "  4%|███                                                                            | 70/1826 [00:00<00:02, 686.28it/s]"
     ]
    },
    {
     "name": "stdout",
     "output_type": "stream",
     "text": [
      "  -n_samples = 58440\n"
     ]
    },
    {
     "name": "stderr",
     "output_type": "stream",
     "text": [
      "1827it [00:02, 664.36it/s]                                                                                             \n"
     ]
    },
    {
     "name": "stdout",
     "output_type": "stream",
     "text": [
      "Validating\n",
      "  -n_samples = 14611\n"
     ]
    },
    {
     "name": "stderr",
     "output_type": "stream",
     "text": [
      " 93%|████████████████████████████████████████████████████████████████████████▊     | 426/456 [00:00<00:00, 2142.58it/s]"
     ]
    },
    {
     "name": "stdout",
     "output_type": "stream",
     "text": [
      "  -n_samples = 14611\n"
     ]
    },
    {
     "name": "stderr",
     "output_type": "stream",
     "text": [
      "457it [00:00, 2115.99it/s]                                                                                             \n"
     ]
    },
    {
     "name": "stdout",
     "output_type": "stream",
     "text": [
      "INFO: Early stopping counter 1 of 5\n",
      "Train Loss: 4.4455, Train Acc: 40.59\n",
      "Val Loss: 5.7646, Val Acc: 42.74\n",
      "Epoch 3 of 100\n",
      "Training\n",
      "  -n_samples = 58440\n"
     ]
    },
    {
     "name": "stderr",
     "output_type": "stream",
     "text": [
      "  7%|█████▊                                                                        | 135/1826 [00:00<00:02, 679.12it/s]"
     ]
    },
    {
     "name": "stdout",
     "output_type": "stream",
     "text": [
      "  -n_samples = 58440\n"
     ]
    },
    {
     "name": "stderr",
     "output_type": "stream",
     "text": [
      "1827it [00:02, 664.36it/s]                                                                                             \n"
     ]
    },
    {
     "name": "stdout",
     "output_type": "stream",
     "text": [
      "Validating\n",
      "  -n_samples = 14611\n"
     ]
    },
    {
     "name": "stderr",
     "output_type": "stream",
     "text": [
      " 93%|████████████████████████████████████████████████████████████████████████▊     | 426/456 [00:00<00:00, 2119.10it/s]"
     ]
    },
    {
     "name": "stdout",
     "output_type": "stream",
     "text": [
      "  -n_samples = 14611\n"
     ]
    },
    {
     "name": "stderr",
     "output_type": "stream",
     "text": [
      "457it [00:00, 2086.50it/s]                                                                                             \n"
     ]
    },
    {
     "name": "stdout",
     "output_type": "stream",
     "text": [
      "INFO: Early stopping counter 2 of 5\n",
      "Train Loss: 4.4150, Train Acc: 43.46\n",
      "Val Loss: 6.8636, Val Acc: 43.79\n",
      "Epoch 4 of 100\n",
      "Training\n",
      "  -n_samples = 58440\n"
     ]
    },
    {
     "name": "stderr",
     "output_type": "stream",
     "text": [
      "  4%|██▉                                                                            | 68/1826 [00:00<00:02, 679.78it/s]"
     ]
    },
    {
     "name": "stdout",
     "output_type": "stream",
     "text": [
      "  -n_samples = 58440\n"
     ]
    },
    {
     "name": "stderr",
     "output_type": "stream",
     "text": [
      "1827it [00:02, 656.49it/s]                                                                                             \n"
     ]
    },
    {
     "name": "stdout",
     "output_type": "stream",
     "text": [
      "Validating\n",
      "  -n_samples = 14611\n"
     ]
    },
    {
     "name": "stderr",
     "output_type": "stream",
     "text": [
      " 46%|███████████████████████████████████▉                                          | 210/456 [00:00<00:00, 2099.96it/s]"
     ]
    },
    {
     "name": "stdout",
     "output_type": "stream",
     "text": [
      "  -n_samples = 14611\n"
     ]
    },
    {
     "name": "stderr",
     "output_type": "stream",
     "text": [
      "457it [00:00, 2086.75it/s]                                                                                             \n"
     ]
    },
    {
     "name": "stdout",
     "output_type": "stream",
     "text": [
      "INFO: Early stopping counter 3 of 5\n",
      "Train Loss: 4.4025, Train Acc: 44.27\n",
      "Val Loss: 7.5746, Val Acc: 44.22\n",
      "Epoch 5 of 100\n",
      "Training\n",
      "  -n_samples = 58440\n"
     ]
    },
    {
     "name": "stderr",
     "output_type": "stream",
     "text": [
      "  3%|██▌                                                                            | 58/1826 [00:00<00:03, 574.27it/s]"
     ]
    },
    {
     "name": "stdout",
     "output_type": "stream",
     "text": [
      "  -n_samples = 58440\n"
     ]
    },
    {
     "name": "stderr",
     "output_type": "stream",
     "text": [
      "1827it [00:02, 659.09it/s]                                                                                             \n"
     ]
    },
    {
     "name": "stdout",
     "output_type": "stream",
     "text": [
      "Validating\n",
      "  -n_samples = 14611\n"
     ]
    },
    {
     "name": "stderr",
     "output_type": "stream",
     "text": [
      " 47%|████████████████████████████████████▉                                         | 216/456 [00:00<00:00, 2138.62it/s]"
     ]
    },
    {
     "name": "stdout",
     "output_type": "stream",
     "text": [
      "  -n_samples = 14611\n"
     ]
    },
    {
     "name": "stderr",
     "output_type": "stream",
     "text": [
      "457it [00:00, 2049.32it/s]                                                                                             \n"
     ]
    },
    {
     "name": "stdout",
     "output_type": "stream",
     "text": [
      "INFO: Early stopping counter 4 of 5\n",
      "Train Loss: 4.3957, Train Acc: 44.73\n",
      "Val Loss: 8.1702, Val Acc: 44.50\n",
      "Epoch 6 of 100\n",
      "Training\n",
      "  -n_samples = 58440\n"
     ]
    },
    {
     "name": "stderr",
     "output_type": "stream",
     "text": [
      "  4%|██▉                                                                            | 69/1826 [00:00<00:02, 689.99it/s]"
     ]
    },
    {
     "name": "stdout",
     "output_type": "stream",
     "text": [
      "  -n_samples = 58440\n"
     ]
    },
    {
     "name": "stderr",
     "output_type": "stream",
     "text": [
      "1827it [00:02, 684.01it/s]                                                                                             \n"
     ]
    },
    {
     "name": "stdout",
     "output_type": "stream",
     "text": [
      "Validating\n",
      "  -n_samples = 14611\n"
     ]
    },
    {
     "name": "stderr",
     "output_type": "stream",
     "text": [
      " 46%|████████████████████████████████████▎                                         | 212/456 [00:00<00:00, 2119.28it/s]"
     ]
    },
    {
     "name": "stdout",
     "output_type": "stream",
     "text": [
      "  -n_samples = 14611\n"
     ]
    },
    {
     "name": "stderr",
     "output_type": "stream",
     "text": [
      "457it [00:00, 2165.62it/s]                                                                                             "
     ]
    },
    {
     "name": "stdout",
     "output_type": "stream",
     "text": [
      "INFO: Early stopping counter 5 of 5\n",
      "INFO: Early stopping\n",
      "Training time: 0.293 minutes\n"
     ]
    },
    {
     "name": "stderr",
     "output_type": "stream",
     "text": [
      "\n"
     ]
    }
   ],
   "source": [
    "epochs = 100\n",
    "lr = 0.0001\n",
    "perform_early_stopping = True\n",
    "early_stopping = EarlyStopping()\n",
    "hidden_size_ = 124\n",
    "num_classes_ = len(set(y_train))\n",
    "\n",
    "model = NeuralNet2(input_size=X_train_Stand_scaled[0].shape[0], hidden_size=hidden_size_, num_classes=num_classes_)\n",
    "criterion = nn.CrossEntropyLoss()  # (applies Softmax)\n",
    "optimizer = optim.Adam(model.parameters(), lr=lr)\n",
    "\n",
    "# lists to store per-epoch loss and accuracy values\n",
    "train_loss, train_accuracy = [], []\n",
    "val_loss, val_accuracy = [], []\n",
    "start = time.time()\n",
    "for epoch in range(epochs):\n",
    "    print(f\"Epoch {epoch+1} of {epochs}\")\n",
    "    train_epoch_loss, train_epoch_accuracy = fit(\n",
    "        model, train_dataloader, train_dataset, optimizer, criterion\n",
    "    )\n",
    "    val_epoch_loss, val_epoch_accuracy = validate(\n",
    "        model, val_dataloader, val_dataset, criterion\n",
    "    )\n",
    "    train_loss.append(train_epoch_loss)\n",
    "    train_accuracy.append(train_epoch_accuracy)\n",
    "    val_loss.append(val_epoch_loss)\n",
    "    val_accuracy.append(val_epoch_accuracy)\n",
    "    if perform_early_stopping:\n",
    "        early_stopping(val_epoch_loss)\n",
    "        if early_stopping.early_stop:\n",
    "            break\n",
    "    print(f\"Train Loss: {train_epoch_loss:.4f}, Train Acc: {train_epoch_accuracy:.2f}\")\n",
    "    print(f'Val Loss: {val_epoch_loss:.4f}, Val Acc: {val_epoch_accuracy:.2f}')\n",
    "end = time.time()\n",
    "print(f\"Training time: {(end-start)/60:.3f} minutes\")"
   ]
  },
  {
   "cell_type": "code",
   "execution_count": 55,
   "id": "79973ebf",
   "metadata": {},
   "outputs": [
    {
     "data": {
      "text/plain": [
       "array([5, 3, 2, ..., 8, 6, 2])"
      ]
     },
     "execution_count": 55,
     "metadata": {},
     "output_type": "execute_result"
    }
   ],
   "source": [
    "y_train"
   ]
  },
  {
   "cell_type": "code",
   "execution_count": 56,
   "id": "c52f736b",
   "metadata": {},
   "outputs": [
    {
     "data": {
      "image/png": "[encoded data removed]",
      "text/plain": [
       "<Figure size 432x288 with 1 Axes>"
      ]
     },
     "metadata": {
      "needs_background": "light"
     },
     "output_type": "display_data"
    }
   ],
   "source": [
    "plt.hist(y_train, align='mid', range=(np.min(y_train), np.max(y_train)), bins=50)\n",
    "plt.xlabel(\"labels\")\n",
    "plt.ylabel(\"image counts\")\n",
    "plt.show()"
   ]
  },
  {
   "cell_type": "markdown",
   "id": "aa2834e5",
   "metadata": {},
   "source": [
    "# KNN Classifier"
   ]
  },
  {
   "cell_type": "code",
   "execution_count": 57,
   "id": "945b7d14",
   "metadata": {},
   "outputs": [],
   "source": [
    "# X_train_Stand_scaled\n",
    "# X_test_Stand_scaled\n",
    "\n",
    "# X_train_MinMax_scaled\n",
    "# X_test_MinMax_scaled"
   ]
  },
  {
   "cell_type": "markdown",
   "id": "1d56819b",
   "metadata": {},
   "source": [
    "### K Search:"
   ]
  },
  {
   "cell_type": "code",
   "execution_count": 60,
   "id": "24b75898",
   "metadata": {},
   "outputs": [
    {
     "data": {
      "image/png": "[encoded data removed]",
      "text/plain": [
       "<Figure size 432x288 with 1 Axes>"
      ]
     },
     "metadata": {
      "needs_background": "light"
     },
     "output_type": "display_data"
    }
   ],
   "source": [
    "# Elbow using Standard Scaler\n",
    "Sum_of_squared_distances = []\n",
    "K = range(1,50)\n",
    "for k in K:\n",
    "    km = KMeans(n_clusters=k)\n",
    "    km = km.fit(X_train_Stand_scaled)\n",
    "    Sum_of_squared_distances.append(km.inertia_)\n",
    "    \n",
    "plt.plot(K, Sum_of_squared_distances, 'bx-')\n",
    "plt.xlabel('k')\n",
    "plt.ylabel('Sum_of_squared_distances')\n",
    "plt.title('Elbow Method For Optimal k')\n",
    "plt.show()"
   ]
  },
  {
   "cell_type": "code",
   "execution_count": 61,
   "id": "e73b3b01",
   "metadata": {},
   "outputs": [
    {
     "data": {
      "image/png": "[encoded data removed]",
      "text/plain": [
       "<Figure size 432x288 with 1 Axes>"
      ]
     },
     "metadata": {
      "needs_background": "light"
     },
     "output_type": "display_data"
    }
   ],
   "source": [
    "# Elbow using MinMax Scaler\n",
    "Sum_of_squared_distances = []\n",
    "K = range(1,50)\n",
    "for k in K:\n",
    "    km = KMeans(n_clusters=k)\n",
    "    km = km.fit(X_train_MinMax_scaled)\n",
    "    Sum_of_squared_distances.append(km.inertia_)\n",
    "    \n",
    "plt.plot(K, Sum_of_squared_distances, 'bx-')\n",
    "plt.xlabel('k')\n",
    "plt.ylabel('Sum_of_squared_distances')\n",
    "plt.title('Elbow Method For Optimal k')\n",
    "plt.show()"
   ]
  },
  {
   "cell_type": "code",
   "execution_count": 24,
   "id": "0533b6d2",
   "metadata": {},
   "outputs": [],
   "source": [
    "# X_train_Stand_scaled\n",
    "# X_test_Stand_scaled\n",
    "\n",
    "# X_train_MinMax_scaled\n",
    "# X_test_MinMax_scaled"
   ]
  },
  {
   "cell_type": "code",
   "execution_count": 74,
   "id": "a6e1f0f9",
   "metadata": {},
   "outputs": [
    {
     "data": {
      "text/plain": [
       "Text(0, 0.5, 'Silhouette Score')"
      ]
     },
     "execution_count": 74,
     "metadata": {},
     "output_type": "execute_result"
    },
    {
     "data": {
      "text/plain": [
       "<Figure size 432x288 with 0 Axes>"
      ]
     },
     "metadata": {},
     "output_type": "display_data"
    },
    {
     "data": {
      "image/png": "[encoded data removed]",
      "text/plain": [
       "<Figure size 1080x288 with 1 Axes>"
      ]
     },
     "metadata": {
      "needs_background": "light"
     },
     "output_type": "display_data"
    }
   ],
   "source": [
    "# Silhouette using Standard Scaler\n",
    "\n",
    "import matplotlib.pyplot as plt\n",
    "%matplotlib inline\n",
    "X=X_train_Stand_scaled\n",
    "# Variables to store silhouette score and inertia for different clusters\n",
    "scores = []\n",
    "from sklearn.metrics import silhouette_score\n",
    "# Calculate silhouette scores and inertia for different number of clusters\n",
    "for cluster_number in range(2,18):\n",
    "  km = KMeans(n_clusters=k)\n",
    "  km = KMeans(n_clusters=cluster_number, random_state=42).fit(X)\n",
    "  scores.append(silhouette_score(X,km.labels_))\n",
    "#plot the results\n",
    "plt.clf()\n",
    "plt.figure(figsize=(15,4))\n",
    "#plot Silhouette Score\n",
    "plt.subplot(121)\n",
    "plt.plot(range(2,18), scores, 'bo-')\n",
    "plt.plot(2, scores[0], 'ro-')\n",
    "plt.plot(3, scores[1], 'yo-')\n",
    "plt.title('Silhouette Method For Optimal k')\n",
    "plt.xlabel('Number of Clusters')\n",
    "plt.ylabel('Silhouette Score')"
   ]
  },
  {
   "cell_type": "code",
   "execution_count": 75,
   "id": "f8ae6289",
   "metadata": {},
   "outputs": [
    {
     "data": {
      "text/plain": [
       "Text(0, 0.5, 'Silhouette Score')"
      ]
     },
     "execution_count": 75,
     "metadata": {},
     "output_type": "execute_result"
    },
    {
     "data": {
      "text/plain": [
       "<Figure size 432x288 with 0 Axes>"
      ]
     },
     "metadata": {},
     "output_type": "display_data"
    },
    {
     "data": {
      "image/png": "[encoded data removed]",
      "text/plain": [
       "<Figure size 1080x288 with 1 Axes>"
      ]
     },
     "metadata": {
      "needs_background": "light"
     },
     "output_type": "display_data"
    }
   ],
   "source": [
    "# Silhouette using MinMax Scaler\n",
    "import matplotlib.pyplot as plt\n",
    "%matplotlib inline\n",
    "X=X_train_MinMax_scaled\n",
    "# Variables to store silhouette score and inertia for different clusters\n",
    "scores = []\n",
    "from sklearn.metrics import silhouette_score\n",
    "# Calculate silhouette scores and inertia for different number of clusters\n",
    "for cluster_number in range(2,18):\n",
    "  km = KMeans(n_clusters=k)\n",
    "  km = KMeans(n_clusters=cluster_number, random_state=42).fit(X)\n",
    "  scores.append(silhouette_score(X,km.labels_))\n",
    "#plot the results\n",
    "plt.clf()\n",
    "plt.figure(figsize=(15,4))\n",
    "#plot Silhouette Score\n",
    "plt.subplot(121)\n",
    "plt.plot(range(2,18), scores, 'bo-')\n",
    "plt.plot(2, scores[0], 'ro-')\n",
    "plt.plot(3, scores[1], 'yo-')\n",
    "plt.title('Silhouette Method For Optimal k')\n",
    "plt.xlabel('Number of Clusters')\n",
    "plt.ylabel('Silhouette Score')"
   ]
  },
  {
   "cell_type": "markdown",
   "id": "61b9f83e",
   "metadata": {},
   "source": [
    "### KNN Model:"
   ]
  },
  {
   "cell_type": "code",
   "execution_count": 33,
   "id": "2fac160e",
   "metadata": {},
   "outputs": [],
   "source": [
    "# X_train_Stand_scaled\n",
    "# X_test_Stand_scaled\n",
    "\n",
    "# X_train_MinMax_scaled\n",
    "# X_test_MinMax_scaled"
   ]
  },
  {
   "cell_type": "code",
   "execution_count": 88,
   "id": "d8120f20",
   "metadata": {},
   "outputs": [],
   "source": [
    "# import sklearn\n",
    "# sklearn.metrics.SCORERS.keys()"
   ]
  },
  {
   "cell_type": "code",
   "execution_count": 89,
   "id": "27c87da0",
   "metadata": {},
   "outputs": [
    {
     "name": "stdout",
     "output_type": "stream",
     "text": [
      "KNN result (using Standard Scaler):\n",
      "Score (F1-Score): [0.31491536 0.30405621 0.31715107 0.30953522 0.30474365]\n",
      "    * Accuracy: 37.91 %\n",
      "    * Precision: 38.32 %\n",
      "    * Recall: 33.69 %\n"
     ]
    }
   ],
   "source": [
    "# Data with Standard Scaler HERE CONTINUE\n",
    "kn_Stand_Scaler = KNeighborsClassifier(n_neighbors=15)\n",
    "kn_Stand_Scaler.fit(X_train_Stand_scaled, y_train)\n",
    "\n",
    "y_pred_KNN_with_StandScaler = kn_Stand_Scaler.predict(X_test_Stand_scaled)\n",
    "y_true = y_test\n",
    "\n",
    "print(\"KNN result (using Standard Scaler):\")\n",
    "#print(\"    * Score is:\", score(y_pred_KNN_grid_with_StandScaler, y_test)\n",
    "print(\"Score (Accuracy):\", cross_val_score(kn_Stand_Scaler, X_test_Stand_scaled, y_test, cv=5, scoring='accuracy'))\n",
    "print(\"    * Accuracy:\", round(accuracy_score(y_test, y_pred_KNN_with_StandScaler)*100, 2), \"%\")\n",
    "print(\"    * Precision:\", round(precision_score(y_test, y_pred_KNN_with_StandScaler,\n",
    "                                    average='macro')*100, 2), \"%\")\n",
    "print(\"    * Recall:\", round(recall_score(y_test, y_pred_KNN_with_StandScaler,\n",
    "                              average='macro')*100, 2), \"%\")"
   ]
  },
  {
   "cell_type": "code",
   "execution_count": 95,
   "id": "89ef9575",
   "metadata": {},
   "outputs": [],
   "source": [
    "pickle.dump(kn_Stand_Scaler, open(\"kn_Stand_Scaler_PreCOVID.sav\", 'wb'))"
   ]
  },
  {
   "cell_type": "code",
   "execution_count": 90,
   "id": "4999faf0",
   "metadata": {},
   "outputs": [
    {
     "name": "stdout",
     "output_type": "stream",
     "text": [
      "KNN result (using MinMax Scaler):\n",
      "Score: [0.3404663  0.34669435 0.35132546 0.33620827 0.33604855]\n",
      "    * Accuracy: 39.86 %\n",
      "    * Precision: 39.37 %\n",
      "    * Recall: 35.34 %\n"
     ]
    }
   ],
   "source": [
    "# Data with MinMax\n",
    "kn_MinMax_Scaler = KNeighborsClassifier(n_neighbors=15)\n",
    "kn_MinMax_Scaler.fit(X_train_MinMax_scaled, y_train)\n",
    "\n",
    "y_pred_KNN_with_MinMaxScaler = kn_MinMax_Scaler.predict(X_test_MinMax_scaled)\n",
    "y_true = y_test\n",
    "\n",
    "print(\"KNN result (using MinMax Scaler):\")\n",
    "#print(\"    * Score is:\", score(y_pred_KNN_with_MinMaxScaler, y_test)\n",
    "print(\"Score (Accuracy):\", cross_val_score(kn_MinMax_Scaler, X_test_MinMax_scaled, y_test, cv=5, scoring='accuracy'))\n",
    "print(\"    * Accuracy:\", round(accuracy_score(y_test, y_pred_KNN_with_MinMaxScaler)*100, 2), \"%\")\n",
    "print(\"    * Precision:\", round(precision_score(y_test, y_pred_KNN_with_MinMaxScaler,\n",
    "                                    average='macro')*100, 2), \"%\")\n",
    "print(\"    * Recall:\", round(recall_score(y_test, y_pred_KNN_with_MinMaxScaler,\n",
    "                              average='macro')*100, 2), \"%\")"
   ]
  },
  {
   "cell_type": "code",
   "execution_count": 96,
   "id": "d104a02d",
   "metadata": {},
   "outputs": [],
   "source": [
    "pickle.dump(kn_MinMax_Scaler, open(\"kn_MinMax_Scaler_PreCOVID.sav\", 'wb'))"
   ]
  },
  {
   "cell_type": "markdown",
   "id": "78a658e0",
   "metadata": {},
   "source": [
    "------------------------------------------------------------------------------------------------------------------------"
   ]
  }
 ],
 "metadata": {
  "kernelspec": {
   "display_name": "Python 3 (ipykernel)",
   "language": "python",
   "name": "python3"
  },
  "language_info": {
   "codemirror_mode": {
    "name": "ipython",
    "version": 3
   },
   "file_extension": ".py",
   "mimetype": "text/x-python",
   "name": "python",
   "nbconvert_exporter": "python",
   "pygments_lexer": "ipython3",
   "version": "3.8.12"
  }
 },
 "nbformat": 4,
 "nbformat_minor": 5
}
