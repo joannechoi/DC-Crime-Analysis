{
 "cells": [
  {
   "cell_type": "code",
   "execution_count": 2,
   "id": "51c34d3d",
   "metadata": {},
   "outputs": [],
   "source": [
    "from sklearn.model_selection import train_test_split\n",
    "import pandas as pd\n",
    "from sklearn.ensemble import RandomForestClassifier\n",
    "from sklearn import metrics\n",
    "from sklearn.preprocessing import OneHotEncoder, LabelEncoder\n"
   ]
  },
  {
   "cell_type": "code",
   "execution_count": 15,
   "id": "86b2502f",
   "metadata": {},
   "outputs": [
    {
     "data": {
      "text/plain": [
       "Index(['Unnamed: 0', 'SHIFT', 'OFFENSE', 'WARD', 'LATITUDE', 'LONGITUDE',\n",
       "       'date', 'total_cases', 'daily_cases', 'daily_death',\n",
       "       'OUT_POSITIVE_QUARANTINE_PSMPD', 'MO', 'TU', 'WE', 'TH', 'FR', 'SA',\n",
       "       'SU', 'JAN', 'FEB', 'MAR', 'APR', 'MAY', 'JUN', 'JUL', 'AUG', 'SEP',\n",
       "       'OCT', 'NOV', 'DEC', 'ward_1', 'ward_2', 'ward_3', 'ward_4', 'ward_5',\n",
       "       'ward_6', 'ward_7', 'ward_8', 'ARSON', 'ASSAULT W/DANGEROUS WEAPON',\n",
       "       'BURGLARY', 'HOMICIDE', 'MOTOR VEHICLE THEFT', 'ROBBERY', 'SEX ABUSE',\n",
       "       'THEFT F/AUTO', 'THEFT/OTHER', 'DAY', 'EVENING', 'MIDNIGHT',\n",
       "       'distance_metro', 'distance_nightclubs', 'distance_worship'],\n",
       "      dtype='object')"
      ]
     },
     "execution_count": 15,
     "metadata": {},
     "output_type": "execute_result"
    }
   ],
   "source": [
    "#covid_crime_micro_geo_11_29_2021.csv\n",
    "#precovid_crime_micro_geo_11_29_2021.csv\n",
    "\n",
    "df = pd.read_csv('precovid_crime_micro_geo_11_29_2021.csv')\n",
    "df.head()\n",
    "#df = df.iloc[:, 1:]\n",
    "df.columns"
   ]
  },
  {
   "cell_type": "markdown",
   "id": "f2c4c538",
   "metadata": {},
   "source": [
    "preprocessing"
   ]
  },
  {
   "cell_type": "code",
   "execution_count": 38,
   "id": "3893493a",
   "metadata": {},
   "outputs": [
    {
     "name": "stdout",
     "output_type": "stream",
     "text": [
      "Index(['WARD', 'daily_cases', 'daily_death', 'OUT_POSITIVE_QUARANTINE_PSMPD',\n",
      "       'MO', 'TU', 'WE', 'TH', 'FR', 'SA', 'SU', 'JAN', 'FEB', 'MAR', 'APR',\n",
      "       'MAY', 'JUN', 'JUL', 'AUG', 'SEP', 'OCT', 'NOV', 'DEC', 'ARSON',\n",
      "       'ASSAULT W/DANGEROUS WEAPON', 'BURGLARY', 'HOMICIDE',\n",
      "       'MOTOR VEHICLE THEFT', 'ROBBERY', 'SEX ABUSE', 'THEFT F/AUTO',\n",
      "       'THEFT/OTHER', 'DAY', 'EVENING', 'MIDNIGHT', 'distance_metro',\n",
      "       'distance_nightclubs', 'distance_worship'],\n",
      "      dtype='object')\n",
      "Index(['WARD', 'daily_cases', 'daily_death', 'OUT_POSITIVE_QUARANTINE_PSMPD',\n",
      "       'MO', 'TU', 'WE', 'TH', 'FR', 'SA', 'SU', 'JAN', 'FEB', 'MAR', 'APR',\n",
      "       'MAY', 'JUN', 'JUL', 'AUG', 'SEP', 'OCT', 'NOV', 'DEC', 'ARSON',\n",
      "       'ASSAULT W/DANGEROUS WEAPON', 'BURGLARY', 'HOMICIDE',\n",
      "       'MOTOR VEHICLE THEFT', 'ROBBERY', 'SEX ABUSE', 'THEFT F/AUTO',\n",
      "       'THEFT/OTHER', 'DAY', 'EVENING', 'MIDNIGHT', 'distance_metro',\n",
      "       'distance_nightclubs', 'distance_worship'],\n",
      "      dtype='object')\n"
     ]
    }
   ],
   "source": [
    "preDF = pd.read_csv('precovid_crime_micro_geo_11_29_2021.csv')\n",
    "postDF = pd.read_csv('covid_crime_micro_geo_11_29_2021.csv')\n",
    "preDF = preDF.iloc[:, 1:]\n",
    "postDF = postDF.iloc[:, 1:]\n",
    "preDF = preDF.drop(columns = ['total_cases', 'SHIFT', 'OFFENSE', 'date', 'LATITUDE', 'LONGITUDE', \n",
    "                                                     'ward_1', 'ward_2', 'ward_3', 'ward_4', 'ward_5', \n",
    "                                                     'ward_6', 'ward_7', 'ward_8'])\n",
    "postDF = postDF.drop(columns = ['SHIFT', 'OFFENSE', 'date', 'LATITUDE', 'LONGITUDE', 'total_cases', \n",
    "                                            'ward_1', 'ward_2', 'ward_3', 'ward_4', 'ward_5', 'ward_6', \n",
    "                                            'ward_7', 'ward_8'])\n",
    "#print(postDF.columns)\n",
    "#print(preDF.columns)\n",
    "\n",
    "\n",
    "#preDF = pd.read_csv('preCovid_crime.csv', usecols = range(1,25))\n",
    "#postDF = pd.read_csv('Covid_crime.csv', usecols = range(1,25))\n",
    "#preDF['year'] = pd.DatetimeIndex(preDF['date']).year\n",
    "#preDF['month'] = pd.DatetimeIndex(preDF['date']).month\n",
    "#preDF['day'] = pd.DatetimeIndex(preDF['date']).day\n",
    "#preDF['covid_daily_case_count'] = 0\n",
    "#preDF['covid_deaths'] = 0\n",
    "#postDF['year'] = pd.DatetimeIndex(postDF['date']).year\n",
    "#postDF['month'] = pd.DatetimeIndex(postDF['date']).month\n",
    "#postDF['day'] = pd.DatetimeIndex(postDF['date']).day\n",
    "#preDF = pd.get_dummies(preDF, columns = ['SHIFT', 'METHOD', 'OFFENSE'], prefix = ['shift','method','offense'])\n",
    "#postDF = pd.get_dummies(postDF, columns = ['SHIFT', 'METHOD', 'OFFENSE'], prefix = ['shift','method','offense'])"
   ]
  },
  {
   "cell_type": "markdown",
   "id": "28c0f199",
   "metadata": {},
   "source": [
    "split pre-covid"
   ]
  },
  {
   "cell_type": "code",
   "execution_count": 39,
   "id": "621a0b59",
   "metadata": {},
   "outputs": [],
   "source": [
    "preX = preDF.loc[:, preDF.columns != 'WARD'].values\n",
    "preY = preDF['WARD'].values\n",
    "\n",
    "\n",
    "pre_x_train, pre_x_test, pre_y_train, pre_y_test = train_test_split(preX, preY, test_size = .2, random_state = 12345)"
   ]
  },
  {
   "cell_type": "markdown",
   "id": "59fe90ca",
   "metadata": {},
   "source": [
    "split during/post-covid"
   ]
  },
  {
   "cell_type": "code",
   "execution_count": 40,
   "id": "24ad7b18",
   "metadata": {},
   "outputs": [],
   "source": [
    "postX = postDF.loc[:, postDF.columns != 'WARD'].values\n",
    "postY = postDF['WARD'].values\n",
    "\n",
    "\n",
    "post_x_train, post_x_test, post_y_train, post_y_test = train_test_split(postX, postY, test_size = .2, random_state = 12345)"
   ]
  },
  {
   "cell_type": "code",
   "execution_count": 41,
   "id": "d78c6f34",
   "metadata": {},
   "outputs": [
    {
     "data": {
      "text/plain": [
       "RandomForestClassifier(max_depth=5, n_estimators=800)"
      ]
     },
     "execution_count": 41,
     "metadata": {},
     "output_type": "execute_result"
    }
   ],
   "source": [
    "preclf = RandomForestClassifier(n_estimators = 800, max_depth = 5)\n",
    "postclf = RandomForestClassifier(n_estimators = 800, max_depth = 5)\n",
    "\n",
    "#preclf.fit(preX, preY.ravel())\n",
    "#postclf.fit(postX, postY.ravel())\n",
    "preclf.fit(pre_x_train, pre_y_train)\n",
    "postclf.fit(post_x_train, post_y_train)"
   ]
  },
  {
   "cell_type": "markdown",
   "id": "f5b4821b",
   "metadata": {},
   "source": [
    "# Pre Importances"
   ]
  },
  {
   "cell_type": "code",
   "execution_count": 42,
   "id": "f98fb698",
   "metadata": {
    "scrolled": true
   },
   "outputs": [
    {
     "data": {
      "text/plain": [
       "<AxesSubplot:>"
      ]
     },
     "execution_count": 42,
     "metadata": {},
     "output_type": "execute_result"
    },
    {
     "data": {
      "image/png": "[encoded data removed]",
      "text/plain": [
       "<Figure size 432x288 with 1 Axes>"
      ]
     },
     "metadata": {
      "needs_background": "light"
     },
     "output_type": "display_data"
    }
   ],
   "source": [
    "importance = pd.Series(preclf.feature_importances_, index = preDF.columns[1:]).sort_values(ascending = False)\n",
    "importance.plot(kind='bar')"
   ]
  },
  {
   "cell_type": "code",
   "execution_count": 43,
   "id": "49b4d617",
   "metadata": {},
   "outputs": [
    {
     "data": {
      "text/plain": [
       "distance_nightclubs              0.575610\n",
       "distance_metro                   0.250236\n",
       "distance_worship                 0.087645\n",
       "THEFT/OTHER                      0.020847\n",
       "ASSAULT W/DANGEROUS WEAPON       0.016890\n",
       "THEFT F/AUTO                     0.014147\n",
       "MOTOR VEHICLE THEFT              0.008734\n",
       "MIDNIGHT                         0.004986\n",
       "ROBBERY                          0.004606\n",
       "EVENING                          0.004250\n",
       "DAY                              0.003810\n",
       "HOMICIDE                         0.001950\n",
       "BURGLARY                         0.001591\n",
       "SA                               0.000652\n",
       "SU                               0.000603\n",
       "TU                               0.000285\n",
       "MO                               0.000259\n",
       "FEB                              0.000230\n",
       "MAY                              0.000218\n",
       "SEX ABUSE                        0.000213\n",
       "TH                               0.000198\n",
       "AUG                              0.000197\n",
       "FR                               0.000194\n",
       "SEP                              0.000184\n",
       "WE                               0.000179\n",
       "NOV                              0.000175\n",
       "DEC                              0.000175\n",
       "MAR                              0.000172\n",
       "JUN                              0.000170\n",
       "JAN                              0.000159\n",
       "JUL                              0.000149\n",
       "APR                              0.000149\n",
       "OCT                              0.000130\n",
       "ARSON                            0.000005\n",
       "daily_death                      0.000000\n",
       "OUT_POSITIVE_QUARANTINE_PSMPD    0.000000\n",
       "daily_cases                      0.000000\n",
       "dtype: float64"
      ]
     },
     "execution_count": 43,
     "metadata": {},
     "output_type": "execute_result"
    }
   ],
   "source": [
    "importance"
   ]
  },
  {
   "cell_type": "markdown",
   "id": "8cdf0a09",
   "metadata": {},
   "source": [
    "# Post importances"
   ]
  },
  {
   "cell_type": "code",
   "execution_count": 44,
   "id": "7a308ba1",
   "metadata": {
    "scrolled": true
   },
   "outputs": [
    {
     "data": {
      "text/plain": [
       "<AxesSubplot:>"
      ]
     },
     "execution_count": 44,
     "metadata": {},
     "output_type": "execute_result"
    },
    {
     "data": {
      "image/png": "[encoded data removed]",
      "text/plain": [
       "<Figure size 432x288 with 1 Axes>"
      ]
     },
     "metadata": {
      "needs_background": "light"
     },
     "output_type": "display_data"
    }
   ],
   "source": [
    "importance = pd.Series(postclf.feature_importances_, index = postDF.columns[1:]).sort_values(ascending = False)\n",
    "importance.plot(kind='bar')"
   ]
  },
  {
   "cell_type": "code",
   "execution_count": 45,
   "id": "1b0c0288",
   "metadata": {},
   "outputs": [
    {
     "data": {
      "text/plain": [
       "distance_nightclubs              0.591007\n",
       "distance_metro                   0.237027\n",
       "distance_worship                 0.086019\n",
       "THEFT/OTHER                      0.019552\n",
       "ASSAULT W/DANGEROUS WEAPON       0.018857\n",
       "THEFT F/AUTO                     0.007856\n",
       "ROBBERY                          0.007156\n",
       "MIDNIGHT                         0.006767\n",
       "OUT_POSITIVE_QUARANTINE_PSMPD    0.004666\n",
       "daily_cases                      0.003294\n",
       "HOMICIDE                         0.003009\n",
       "MOTOR VEHICLE THEFT              0.002926\n",
       "daily_death                      0.002325\n",
       "EVENING                          0.001030\n",
       "DAY                              0.000936\n",
       "OCT                              0.000655\n",
       "BURGLARY                         0.000569\n",
       "JUN                              0.000563\n",
       "SU                               0.000490\n",
       "SEP                              0.000461\n",
       "JAN                              0.000412\n",
       "MAY                              0.000403\n",
       "APR                              0.000395\n",
       "SA                               0.000390\n",
       "TU                               0.000382\n",
       "MAR                              0.000379\n",
       "TH                               0.000303\n",
       "WE                               0.000288\n",
       "FEB                              0.000283\n",
       "AUG                              0.000280\n",
       "MO                               0.000241\n",
       "NOV                              0.000232\n",
       "DEC                              0.000229\n",
       "JUL                              0.000227\n",
       "FR                               0.000221\n",
       "SEX ABUSE                        0.000150\n",
       "ARSON                            0.000021\n",
       "dtype: float64"
      ]
     },
     "execution_count": 45,
     "metadata": {},
     "output_type": "execute_result"
    }
   ],
   "source": [
    "importance"
   ]
  },
  {
   "cell_type": "markdown",
   "id": "c2b0952f",
   "metadata": {},
   "source": [
    "# Combined Importances"
   ]
  },
  {
   "cell_type": "code",
   "execution_count": 50,
   "id": "3b6e608f",
   "metadata": {},
   "outputs": [],
   "source": [
    "combinedDF = pd.concat([preDF, postDF])"
   ]
  },
  {
   "cell_type": "code",
   "execution_count": 51,
   "id": "8a7362c2",
   "metadata": {},
   "outputs": [
    {
     "data": {
      "text/plain": [
       "RandomForestClassifier(max_depth=5, n_estimators=2000)"
      ]
     },
     "execution_count": 51,
     "metadata": {},
     "output_type": "execute_result"
    }
   ],
   "source": [
    "combinedX = combinedDF.loc[:, combinedDF.columns != 'WARD'].values\n",
    "combinedY = combinedDF['WARD'].values\n",
    "\n",
    "(combined_x_train, combined_x_test,\n",
    " combined_y_train, combined_y_test) = train_test_split(combinedX, combinedY, test_size = .2, random_state = 12345)\n",
    "\n",
    "combinedclf = RandomForestClassifier(n_estimators = 800, max_depth = 5)\n",
    "combinedclf.fit(combined_x_train, combined_y_train.ravel())"
   ]
  },
  {
   "cell_type": "code",
   "execution_count": 52,
   "id": "7edebb64",
   "metadata": {},
   "outputs": [
    {
     "data": {
      "text/plain": [
       "<AxesSubplot:>"
      ]
     },
     "execution_count": 52,
     "metadata": {},
     "output_type": "execute_result"
    },
    {
     "data": {
      "image/png": "[encoded data removed]",
      "text/plain": [
       "<Figure size 432x288 with 1 Axes>"
      ]
     },
     "metadata": {
      "needs_background": "light"
     },
     "output_type": "display_data"
    }
   ],
   "source": [
    "importance = pd.Series(combinedclf.feature_importances_, index = combinedDF.columns[1:]).sort_values(ascending = False)\n",
    "importance.plot(kind='bar')"
   ]
  },
  {
   "cell_type": "code",
   "execution_count": 53,
   "id": "da943a8a",
   "metadata": {},
   "outputs": [
    {
     "name": "stdout",
     "output_type": "stream",
     "text": [
      "distance_nightclubs 0.5753493550325137\n",
      "distance_metro 0.2577726725973742\n",
      "distance_worship 0.08674708178773091\n",
      "THEFT/OTHER 0.01957364135116772\n",
      "ASSAULT W/DANGEROUS WEAPON 0.018221749539312167\n",
      "THEFT F/AUTO 0.011290996264459145\n",
      "MOTOR VEHICLE THEFT 0.006205416840953427\n",
      "ROBBERY 0.005366702821898229\n",
      "MIDNIGHT 0.004671253785936994\n",
      "EVENING 0.0027526117628886185\n",
      "DAY 0.0022283803279380624\n",
      "HOMICIDE 0.0021289147469639724\n",
      "OUT_POSITIVE_QUARANTINE_PSMPD 0.0018013228895990805\n",
      "daily_cases 0.0015677335759684058\n",
      "daily_death 0.0008521093961066538\n",
      "BURGLARY 0.0008218521361374927\n",
      "SA 0.00041662196022300175\n",
      "SU 0.0003997026452463396\n",
      "FEB 0.0001698131962846955\n",
      "TU 0.00014825922175913997\n",
      "SEX ABUSE 0.00012915957382286927\n",
      "MO 0.00011169018808832262\n",
      "JUN 0.00011165979700876592\n",
      "MAY 0.00010640841938251255\n",
      "MAR 9.99433099335596e-05\n",
      "WE 9.7483077389135e-05\n",
      "SEP 9.628503916952064e-05\n",
      "AUG 9.584661202644984e-05\n",
      "DEC 9.487335381606112e-05\n",
      "TH 9.25334844902366e-05\n",
      "NOV 8.78066879718382e-05\n",
      "APR 8.566109932940908e-05\n",
      "JAN 8.375055379485526e-05\n",
      "OCT 7.585505017907613e-05\n",
      "FR 7.306722018588249e-05\n",
      "JUL 6.795257243717264e-05\n",
      "ARSON 3.832080512350728e-06\n"
     ]
    }
   ],
   "source": [
    "count = 0\n",
    "\n",
    "for value in importance:\n",
    "    print(importance.index[count], str(value))\n",
    "    count += 1"
   ]
  },
  {
   "cell_type": "markdown",
   "id": "f2dfee0c",
   "metadata": {},
   "source": [
    "# Predictions"
   ]
  },
  {
   "cell_type": "code",
   "execution_count": 54,
   "id": "5d073a71",
   "metadata": {},
   "outputs": [
    {
     "name": "stdout",
     "output_type": "stream",
     "text": [
      "0.4339163674273138\n"
     ]
    }
   ],
   "source": [
    "#using pre data to predict post\n",
    "y_pred = preclf.predict(post_x_test)\n",
    "\n",
    "print(metrics.accuracy_score(post_y_test, y_pred))"
   ]
  },
  {
   "cell_type": "code",
   "execution_count": 55,
   "id": "67215133",
   "metadata": {},
   "outputs": [
    {
     "name": "stdout",
     "output_type": "stream",
     "text": [
      "0.4649290916059793\n"
     ]
    }
   ],
   "source": [
    "#using post data to predict pre\n",
    "y_pred = postclf.predict(pre_x_test)\n",
    "\n",
    "print(metrics.accuracy_score(pre_y_test, y_pred))"
   ]
  },
  {
   "cell_type": "code",
   "execution_count": 56,
   "id": "abc7a497",
   "metadata": {},
   "outputs": [
    {
     "name": "stdout",
     "output_type": "stream",
     "text": [
      "0.45759869681870446\n"
     ]
    }
   ],
   "source": [
    "#Just curious\n",
    "#using pre data to predict pre\n",
    "\n",
    "y_pred = preclf.predict(pre_x_test)\n",
    "\n",
    "print(metrics.accuracy_score(pre_y_test, y_pred))"
   ]
  },
  {
   "cell_type": "code",
   "execution_count": 57,
   "id": "2579c81b",
   "metadata": {},
   "outputs": [
    {
     "name": "stdout",
     "output_type": "stream",
     "text": [
      "0.4603266535387467\n"
     ]
    }
   ],
   "source": [
    "#using post data to predict post\n",
    "\n",
    "y_pred = postclf.predict(post_x_test)\n",
    "print(metrics.accuracy_score(post_y_test, y_pred))"
   ]
  },
  {
   "cell_type": "code",
   "execution_count": 58,
   "id": "aad39263",
   "metadata": {},
   "outputs": [
    {
     "name": "stdout",
     "output_type": "stream",
     "text": [
      "0.4561938654465345\n"
     ]
    }
   ],
   "source": [
    "#combined\n",
    "y_pred = combinedclf.predict(combined_x_test)\n",
    "\n",
    "print(metrics.accuracy_score(combined_y_test, y_pred))"
   ]
  },
  {
   "cell_type": "code",
   "execution_count": null,
   "id": "a3eba8b4",
   "metadata": {},
   "outputs": [],
   "source": []
  }
 ],
 "metadata": {
  "kernelspec": {
   "display_name": "Python 3 (ipykernel)",
   "language": "python",
   "name": "python3"
  },
  "language_info": {
   "codemirror_mode": {
    "name": "ipython",
    "version": 3
   },
   "file_extension": ".py",
   "mimetype": "text/x-python",
   "name": "python",
   "nbconvert_exporter": "python",
   "pygments_lexer": "ipython3",
   "version": "3.8.11"
  }
 },
 "nbformat": 4,
 "nbformat_minor": 5
}
