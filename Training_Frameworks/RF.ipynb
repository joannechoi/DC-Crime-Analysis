{
 "cells": [
  {
   "cell_type": "code",
   "execution_count": 1,
   "id": "51c34d3d",
   "metadata": {},
   "outputs": [],
   "source": [
    "from sklearn.model_selection import train_test_split\n",
    "import pandas as pd\n",
    "from sklearn.ensemble import RandomForestClassifier\n",
    "from sklearn import metrics\n",
    "from sklearn.preprocessing import OneHotEncoder, LabelEncoder\n"
   ]
  },
  {
   "cell_type": "code",
   "execution_count": 2,
   "id": "86b2502f",
   "metadata": {},
   "outputs": [
    {
     "data": {
      "text/plain": [
       "Index(['Unnamed: 0', 'SHIFT', 'OFFENSE', 'WARD', 'LATITUDE', 'LONGITUDE',\n",
       "       'date', 'total_cases', 'daily_cases', 'daily_death',\n",
       "       'OUT_POSITIVE_QUARANTINE_PSMPD', 'MO', 'TU', 'WE', 'TH', 'FR', 'SA',\n",
       "       'SU', 'JAN', 'FEB', 'MAR', 'APR', 'MAY', 'JUN', 'JUL', 'AUG', 'SEP',\n",
       "       'OCT', 'NOV', 'DEC', 'ward_1', 'ward_2', 'ward_3', 'ward_4', 'ward_5',\n",
       "       'ward_6', 'ward_7', 'ward_8', 'ARSON', 'ASSAULT W/DANGEROUS WEAPON',\n",
       "       'BURGLARY', 'HOMICIDE', 'MOTOR VEHICLE THEFT', 'ROBBERY', 'SEX ABUSE',\n",
       "       'THEFT F/AUTO', 'THEFT/OTHER', 'DAY', 'EVENING', 'MIDNIGHT',\n",
       "       'distance_metro', 'distance_nightclubs', 'distance_worship'],\n",
       "      dtype='object')"
      ]
     },
     "execution_count": 2,
     "metadata": {},
     "output_type": "execute_result"
    }
   ],
   "source": [
    "#covid_crime_micro_geo_11_29_2021.csv\n",
    "#precovid_crime_micro_geo_11_29_2021.csv\n",
    "\n",
    "df = pd.read_csv('precovid_crime_micro_geo_11_29_2021.csv')\n",
    "df.head()\n",
    "#df = df.iloc[:, 1:]\n",
    "df.columns"
   ]
  },
  {
   "cell_type": "markdown",
   "id": "f2c4c538",
   "metadata": {},
   "source": [
    "preprocessing"
   ]
  },
  {
   "cell_type": "code",
   "execution_count": 3,
   "id": "3893493a",
   "metadata": {},
   "outputs": [],
   "source": [
    "preDF = pd.read_csv('precovid_crime_micro_geo_11_29_2021.csv')\n",
    "postDF = pd.read_csv('covid_crime_micro_geo_11_29_2021.csv')\n",
    "preDF = preDF.iloc[:, 1:]\n",
    "postDF = postDF.iloc[:, 1:]\n",
    "preDF = preDF.drop(columns = ['total_cases', 'SHIFT', 'OFFENSE', 'date', 'LATITUDE', 'LONGITUDE', \n",
    "                                                     'ward_1', 'ward_2', 'ward_3', 'ward_4', 'ward_5', \n",
    "                                                     'ward_6', 'ward_7', 'ward_8'])\n",
    "postDF = postDF.drop(columns = ['SHIFT', 'OFFENSE', 'date', 'LATITUDE', 'LONGITUDE', 'total_cases', \n",
    "                                            'ward_1', 'ward_2', 'ward_3', 'ward_4', 'ward_5', 'ward_6', \n",
    "                                            'ward_7', 'ward_8'])\n",
    "#print(postDF.columns)\n",
    "#print(preDF.columns)\n",
    "\n",
    "\n",
    "#preDF = pd.read_csv('preCovid_crime.csv', usecols = range(1,25))\n",
    "#postDF = pd.read_csv('Covid_crime.csv', usecols = range(1,25))\n",
    "#preDF['year'] = pd.DatetimeIndex(preDF['date']).year\n",
    "#preDF['month'] = pd.DatetimeIndex(preDF['date']).month\n",
    "#preDF['day'] = pd.DatetimeIndex(preDF['date']).day\n",
    "#preDF['covid_daily_case_count'] = 0\n",
    "#preDF['covid_deaths'] = 0\n",
    "#postDF['year'] = pd.DatetimeIndex(postDF['date']).year\n",
    "#postDF['month'] = pd.DatetimeIndex(postDF['date']).month\n",
    "#postDF['day'] = pd.DatetimeIndex(postDF['date']).day\n",
    "#preDF = pd.get_dummies(preDF, columns = ['SHIFT', 'METHOD', 'OFFENSE'], prefix = ['shift','method','offense'])\n",
    "#postDF = pd.get_dummies(postDF, columns = ['SHIFT', 'METHOD', 'OFFENSE'], prefix = ['shift','method','offense'])"
   ]
  },
  {
   "cell_type": "markdown",
   "id": "28c0f199",
   "metadata": {},
   "source": [
    "split pre-covid"
   ]
  },
  {
   "cell_type": "code",
   "execution_count": 4,
   "id": "621a0b59",
   "metadata": {},
   "outputs": [],
   "source": [
    "preX = preDF.loc[:, preDF.columns != 'WARD'].values\n",
    "preY = preDF['WARD'].values\n",
    "\n",
    "\n",
    "pre_x_train, pre_x_test, pre_y_train, pre_y_test = train_test_split(preX, preY, test_size = .2, random_state = 12345)"
   ]
  },
  {
   "cell_type": "markdown",
   "id": "59fe90ca",
   "metadata": {},
   "source": [
    "split during/post-covid"
   ]
  },
  {
   "cell_type": "code",
   "execution_count": 5,
   "id": "24ad7b18",
   "metadata": {},
   "outputs": [],
   "source": [
    "postX = postDF.loc[:, postDF.columns != 'WARD'].values\n",
    "postY = postDF['WARD'].values\n",
    "\n",
    "\n",
    "post_x_train, post_x_test, post_y_train, post_y_test = train_test_split(postX, postY, test_size = .2, random_state = 12345)"
   ]
  },
  {
   "cell_type": "code",
   "execution_count": 6,
   "id": "d78c6f34",
   "metadata": {},
   "outputs": [
    {
     "data": {
      "text/plain": [
       "RandomForestClassifier(max_depth=5, n_estimators=800)"
      ]
     },
     "execution_count": 6,
     "metadata": {},
     "output_type": "execute_result"
    }
   ],
   "source": [
    "preclf = RandomForestClassifier(n_estimators = 800, max_depth = 5)\n",
    "postclf = RandomForestClassifier(n_estimators = 800, max_depth = 5)\n",
    "\n",
    "#preclf.fit(preX, preY.ravel())\n",
    "#postclf.fit(postX, postY.ravel())\n",
    "preclf.fit(pre_x_train, pre_y_train.ravel())\n",
    "postclf.fit(post_x_train, post_y_train.ravel())"
   ]
  },
  {
   "cell_type": "markdown",
   "id": "f5b4821b",
   "metadata": {},
   "source": [
    "# Pre Importances"
   ]
  },
  {
   "cell_type": "code",
   "execution_count": 7,
   "id": "f98fb698",
   "metadata": {
    "scrolled": true
   },
   "outputs": [
    {
     "data": {
      "text/plain": [
       "<AxesSubplot:>"
      ]
     },
     "execution_count": 7,
     "metadata": {},
     "output_type": "execute_result"
    },
    {
     "data": {
      "image/png": "[encoded data removed]",
      "text/plain": [
       "<Figure size 432x288 with 1 Axes>"
      ]
     },
     "metadata": {
      "needs_background": "light"
     },
     "output_type": "display_data"
    }
   ],
   "source": [
    "importance = pd.Series(preclf.feature_importances_, index = preDF.columns[1:]).sort_values(ascending = False)\n",
    "importance.plot(kind='bar')"
   ]
  },
  {
   "cell_type": "code",
   "execution_count": 8,
   "id": "49b4d617",
   "metadata": {},
   "outputs": [
    {
     "data": {
      "text/plain": [
       "distance_nightclubs              0.573400\n",
       "distance_metro                   0.248969\n",
       "distance_worship                 0.090599\n",
       "THEFT/OTHER                      0.021383\n",
       "ASSAULT W/DANGEROUS WEAPON       0.017491\n",
       "THEFT F/AUTO                     0.014570\n",
       "MOTOR VEHICLE THEFT              0.007312\n",
       "MIDNIGHT                         0.005305\n",
       "ROBBERY                          0.004597\n",
       "EVENING                          0.004091\n",
       "DAY                              0.003993\n",
       "HOMICIDE                         0.001969\n",
       "BURGLARY                         0.001724\n",
       "SA                               0.000628\n",
       "SU                               0.000597\n",
       "TU                               0.000247\n",
       "MAY                              0.000235\n",
       "MO                               0.000234\n",
       "FEB                              0.000226\n",
       "SEX ABUSE                        0.000211\n",
       "JUN                              0.000208\n",
       "WE                               0.000201\n",
       "FR                               0.000195\n",
       "AUG                              0.000192\n",
       "TH                               0.000186\n",
       "DEC                              0.000186\n",
       "SEP                              0.000180\n",
       "JAN                              0.000171\n",
       "NOV                              0.000165\n",
       "JUL                              0.000153\n",
       "MAR                              0.000141\n",
       "OCT                              0.000124\n",
       "APR                              0.000106\n",
       "ARSON                            0.000011\n",
       "daily_death                      0.000000\n",
       "OUT_POSITIVE_QUARANTINE_PSMPD    0.000000\n",
       "daily_cases                      0.000000\n",
       "dtype: float64"
      ]
     },
     "execution_count": 8,
     "metadata": {},
     "output_type": "execute_result"
    }
   ],
   "source": [
    "importance"
   ]
  },
  {
   "cell_type": "markdown",
   "id": "8cdf0a09",
   "metadata": {},
   "source": [
    "# Post importances"
   ]
  },
  {
   "cell_type": "code",
   "execution_count": 9,
   "id": "7a308ba1",
   "metadata": {
    "scrolled": true
   },
   "outputs": [
    {
     "data": {
      "text/plain": [
       "<AxesSubplot:>"
      ]
     },
     "execution_count": 9,
     "metadata": {},
     "output_type": "execute_result"
    },
    {
     "data": {
      "image/png": "[encoded data removed]",
      "text/plain": [
       "<Figure size 432x288 with 1 Axes>"
      ]
     },
     "metadata": {
      "needs_background": "light"
     },
     "output_type": "display_data"
    }
   ],
   "source": [
    "importance = pd.Series(postclf.feature_importances_, index = postDF.columns[1:]).sort_values(ascending = False)\n",
    "importance.plot(kind='bar')"
   ]
  },
  {
   "cell_type": "code",
   "execution_count": 10,
   "id": "1b0c0288",
   "metadata": {},
   "outputs": [
    {
     "data": {
      "text/plain": [
       "distance_nightclubs              0.595449\n",
       "distance_metro                   0.233164\n",
       "distance_worship                 0.085974\n",
       "ASSAULT W/DANGEROUS WEAPON       0.019676\n",
       "THEFT/OTHER                      0.018935\n",
       "THEFT F/AUTO                     0.007031\n",
       "MIDNIGHT                         0.006958\n",
       "ROBBERY                          0.006293\n",
       "OUT_POSITIVE_QUARANTINE_PSMPD    0.004498\n",
       "daily_cases                      0.003463\n",
       "HOMICIDE                         0.003122\n",
       "MOTOR VEHICLE THEFT              0.002751\n",
       "daily_death                      0.002576\n",
       "DAY                              0.001325\n",
       "EVENING                          0.001017\n",
       "OCT                              0.000763\n",
       "BURGLARY                         0.000724\n",
       "SU                               0.000562\n",
       "JUN                              0.000517\n",
       "SEP                              0.000510\n",
       "SA                               0.000431\n",
       "MAY                              0.000428\n",
       "APR                              0.000395\n",
       "TU                               0.000386\n",
       "MAR                              0.000342\n",
       "JAN                              0.000337\n",
       "DEC                              0.000280\n",
       "TH                               0.000263\n",
       "AUG                              0.000259\n",
       "WE                               0.000251\n",
       "NOV                              0.000246\n",
       "JUL                              0.000244\n",
       "FEB                              0.000233\n",
       "FR                               0.000227\n",
       "MO                               0.000219\n",
       "SEX ABUSE                        0.000140\n",
       "ARSON                            0.000014\n",
       "dtype: float64"
      ]
     },
     "execution_count": 10,
     "metadata": {},
     "output_type": "execute_result"
    }
   ],
   "source": [
    "importance"
   ]
  },
  {
   "cell_type": "markdown",
   "id": "f2dfee0c",
   "metadata": {},
   "source": [
    "# Predictions"
   ]
  },
  {
   "cell_type": "code",
   "execution_count": 11,
   "id": "5d073a71",
   "metadata": {},
   "outputs": [
    {
     "name": "stdout",
     "output_type": "stream",
     "text": [
      "0.43437970578014595\n"
     ]
    }
   ],
   "source": [
    "#using pre data to predict post\n",
    "y_pred = preclf.predict(post_x_test)\n",
    "\n",
    "print(metrics.accuracy_score(post_y_test, y_pred))\n",
    "pre_post = metrics.accuracy_score(post_y_test, y_pred)"
   ]
  },
  {
   "cell_type": "code",
   "execution_count": 12,
   "id": "67215133",
   "metadata": {},
   "outputs": [
    {
     "name": "stdout",
     "output_type": "stream",
     "text": [
      "0.4651686469911844\n"
     ]
    }
   ],
   "source": [
    "#using post data to predict pre\n",
    "y_pred = postclf.predict(pre_x_test)\n",
    "\n",
    "print(metrics.accuracy_score(pre_y_test, y_pred))\n",
    "\n",
    "post_pre = metrics.accuracy_score(pre_y_test, y_pred)"
   ]
  },
  {
   "cell_type": "code",
   "execution_count": 13,
   "id": "abc7a497",
   "metadata": {},
   "outputs": [
    {
     "name": "stdout",
     "output_type": "stream",
     "text": [
      "0.45707167497125334\n"
     ]
    }
   ],
   "source": [
    "#using pre data to predict pre\n",
    "\n",
    "y_pred = preclf.predict(pre_x_test)\n",
    "\n",
    "print(metrics.accuracy_score(pre_y_test, y_pred))\n",
    "\n",
    "pre_pre = metrics.accuracy_score(pre_y_test, y_pred)"
   ]
  },
  {
   "cell_type": "code",
   "execution_count": 14,
   "id": "2579c81b",
   "metadata": {},
   "outputs": [
    {
     "name": "stdout",
     "output_type": "stream",
     "text": [
      "0.45939997683308237\n"
     ]
    }
   ],
   "source": [
    "#using post data to predict post\n",
    "\n",
    "y_pred = postclf.predict(post_x_test)\n",
    "print(metrics.accuracy_score(post_y_test, y_pred))\n",
    "post_post = metrics.accuracy_score(post_y_test, y_pred)"
   ]
  },
  {
   "cell_type": "markdown",
   "id": "c2c318fe",
   "metadata": {},
   "source": [
    "# Combined Importances\n",
    "\n",
    "### don't know if this is useful but I was curious"
   ]
  },
  {
   "cell_type": "code",
   "execution_count": null,
   "id": "65a5c04e",
   "metadata": {},
   "outputs": [],
   "source": [
    "combinedDF = pd.concat([preDF, postDF])"
   ]
  },
  {
   "cell_type": "code",
   "execution_count": null,
   "id": "238b222f",
   "metadata": {},
   "outputs": [],
   "source": [
    "combinedX = combinedDF.loc[:, combinedDF.columns != 'WARD'].values\n",
    "combinedY = combinedDF['WARD'].values\n",
    "\n",
    "(combined_x_train, combined_x_test,\n",
    " combined_y_train, combined_y_test) = train_test_split(combinedX, combinedY, test_size = .2, random_state = 12345)\n",
    "\n",
    "combinedclf = RandomForestClassifier(n_estimators = 800, max_depth = 5)\n",
    "combinedclf.fit(combined_x_train, combined_y_train.ravel())"
   ]
  },
  {
   "cell_type": "code",
   "execution_count": null,
   "id": "d85210ff",
   "metadata": {},
   "outputs": [],
   "source": [
    "importance = pd.Series(combinedclf.feature_importances_, index = combinedDF.columns[1:]).sort_values(ascending = False)\n",
    "importance.plot(kind='bar')"
   ]
  },
  {
   "cell_type": "code",
   "execution_count": null,
   "id": "dd3a1453",
   "metadata": {},
   "outputs": [],
   "source": [
    "count = 0\n",
    "\n",
    "for value in importance:\n",
    "    print(importance.index[count], str(value))\n",
    "    count += 1"
   ]
  },
  {
   "cell_type": "code",
   "execution_count": 58,
   "id": "aad39263",
   "metadata": {},
   "outputs": [
    {
     "name": "stdout",
     "output_type": "stream",
     "text": [
      "0.4561938654465345\n"
     ]
    }
   ],
   "source": [
    "#combined\n",
    "\n",
    "y_pred = combinedclf.predict(combined_x_test)\n",
    "\n",
    "print(metrics.accuracy_score(combined_y_test, y_pred))"
   ]
  },
  {
   "cell_type": "markdown",
   "id": "469ab38c",
   "metadata": {},
   "source": [
    "# Results"
   ]
  },
  {
   "cell_type": "code",
   "execution_count": 17,
   "id": "7299ae9e",
   "metadata": {},
   "outputs": [
    {
     "name": "stdout",
     "output_type": "stream",
     "text": [
      "Precovid predicting covid accuracy 0.43437970578014595\n",
      "Covid predicting precovid accuracy 0.4651686469911844\n",
      "Precovid predicting precovid accuracy 0.45707167497125334\n",
      "Covid predicting covid accuracy 0.45939997683308237\n"
     ]
    }
   ],
   "source": [
    "print('Precovid predicting covid accuracy', str(pre_post))\n",
    "print('Covid predicting precovid accuracy', str(post_pre))\n",
    "print('Precovid predicting precovid accuracy', str(pre_pre))\n",
    "print('Covid predicting covid accuracy', str(post_post))"
   ]
  },
  {
   "cell_type": "code",
   "execution_count": null,
   "id": "35a3c3c9",
   "metadata": {},
   "outputs": [],
   "source": []
  }
 ],
 "metadata": {
  "kernelspec": {
   "display_name": "Python 3 (ipykernel)",
   "language": "python",
   "name": "python3"
  },
  "language_info": {
   "codemirror_mode": {
    "name": "ipython",
    "version": 3
   },
   "file_extension": ".py",
   "mimetype": "text/x-python",
   "name": "python",
   "nbconvert_exporter": "python",
   "pygments_lexer": "ipython3",
   "version": "3.8.11"
  }
 },
 "nbformat": 4,
 "nbformat_minor": 5
}
