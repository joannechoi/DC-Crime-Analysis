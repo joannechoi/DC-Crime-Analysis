{
 "cells": [
  {
   "cell_type": "code",
   "execution_count": 1,
   "metadata": {
    "id": "ac9a4c6f"
   },
   "outputs": [],
   "source": [
    "#import packages\n",
    "import pandas as pd\n",
    "import numpy as np\n",
    "import datetime as dt\n",
    "import matplotlib.pyplot as plt\n",
    "import seaborn as sns\n",
    "import openpyxl"
   ]
  },
  {
   "cell_type": "code",
   "execution_count": 2,
   "metadata": {
    "id": "ca1cde0a"
   },
   "outputs": [],
   "source": [
    "#import data\n",
    "df_crime = pd.read_csv('/Users/joanne/Documents/School/DATA602/Project/MergedData_2017-2021.csv')\n",
    "df_covid_ward = pd.read_excel('/Users/joanne/Downloads/DC-COVID-19-Data-for-11-5-2021.xlsx'\n",
    "                              , sheet_name = 'Total Cases by Ward', engine='openpyxl')\n",
    "df_covid_death = pd.read_excel('/Users/joanne/Downloads/DC-COVID-19-Data-for-11-5-2021.xlsx'\n",
    "                               , sheet_name = 'Lives Lost by Ward', engine='openpyxl')\n",
    "df_sick_police = pd.read_csv('/Users/joanne/Downloads/daily_count_police_out_due_to_covid.csv')"
   ]
  },
  {
   "cell_type": "code",
   "execution_count": 3,
   "metadata": {
    "colab": {
     "base_uri": "https://localhost:8080/",
     "height": 419
    },
    "id": "2185581d",
    "outputId": "f8f59f81-ea86-42cc-bb32-79f96f22b27b"
   },
   "outputs": [
    {
     "data": {
      "text/html": [
       "<div>\n",
       "<style scoped>\n",
       "    .dataframe tbody tr th:only-of-type {\n",
       "        vertical-align: middle;\n",
       "    }\n",
       "\n",
       "    .dataframe tbody tr th {\n",
       "        vertical-align: top;\n",
       "    }\n",
       "\n",
       "    .dataframe thead th {\n",
       "        text-align: right;\n",
       "    }\n",
       "</style>\n",
       "<table border=\"1\" class=\"dataframe\">\n",
       "  <thead>\n",
       "    <tr style=\"text-align: right;\">\n",
       "      <th></th>\n",
       "      <th>SHIFT</th>\n",
       "      <th>METHOD</th>\n",
       "      <th>OFFENSE</th>\n",
       "      <th>WARD</th>\n",
       "      <th>DISTRICT</th>\n",
       "      <th>date</th>\n",
       "    </tr>\n",
       "  </thead>\n",
       "  <tbody>\n",
       "    <tr>\n",
       "      <th>0</th>\n",
       "      <td>MIDNIGHT</td>\n",
       "      <td>OTHERS</td>\n",
       "      <td>THEFT F/AUTO</td>\n",
       "      <td>5.0</td>\n",
       "      <td>5.0</td>\n",
       "      <td>2017-10-28</td>\n",
       "    </tr>\n",
       "    <tr>\n",
       "      <th>1</th>\n",
       "      <td>MIDNIGHT</td>\n",
       "      <td>KNIFE</td>\n",
       "      <td>ASSAULT W/DANGEROUS WEAPON</td>\n",
       "      <td>6.0</td>\n",
       "      <td>1.0</td>\n",
       "      <td>2017-10-28</td>\n",
       "    </tr>\n",
       "    <tr>\n",
       "      <th>2</th>\n",
       "      <td>MIDNIGHT</td>\n",
       "      <td>OTHERS</td>\n",
       "      <td>THEFT F/AUTO</td>\n",
       "      <td>6.0</td>\n",
       "      <td>1.0</td>\n",
       "      <td>2017-10-28</td>\n",
       "    </tr>\n",
       "    <tr>\n",
       "      <th>3</th>\n",
       "      <td>DAY</td>\n",
       "      <td>OTHERS</td>\n",
       "      <td>THEFT F/AUTO</td>\n",
       "      <td>6.0</td>\n",
       "      <td>1.0</td>\n",
       "      <td>2017-10-27</td>\n",
       "    </tr>\n",
       "    <tr>\n",
       "      <th>4</th>\n",
       "      <td>DAY</td>\n",
       "      <td>OTHERS</td>\n",
       "      <td>THEFT/OTHER</td>\n",
       "      <td>5.0</td>\n",
       "      <td>5.0</td>\n",
       "      <td>2017-10-28</td>\n",
       "    </tr>\n",
       "    <tr>\n",
       "      <th>...</th>\n",
       "      <td>...</td>\n",
       "      <td>...</td>\n",
       "      <td>...</td>\n",
       "      <td>...</td>\n",
       "      <td>...</td>\n",
       "      <td>...</td>\n",
       "    </tr>\n",
       "    <tr>\n",
       "      <th>151064</th>\n",
       "      <td>DAY</td>\n",
       "      <td>OTHERS</td>\n",
       "      <td>BURGLARY</td>\n",
       "      <td>5.0</td>\n",
       "      <td>5.0</td>\n",
       "      <td>2021-02-04</td>\n",
       "    </tr>\n",
       "    <tr>\n",
       "      <th>151065</th>\n",
       "      <td>DAY</td>\n",
       "      <td>OTHERS</td>\n",
       "      <td>THEFT F/AUTO</td>\n",
       "      <td>7.0</td>\n",
       "      <td>6.0</td>\n",
       "      <td>2021-02-04</td>\n",
       "    </tr>\n",
       "    <tr>\n",
       "      <th>151066</th>\n",
       "      <td>DAY</td>\n",
       "      <td>OTHERS</td>\n",
       "      <td>THEFT F/AUTO</td>\n",
       "      <td>5.0</td>\n",
       "      <td>4.0</td>\n",
       "      <td>2021-02-03</td>\n",
       "    </tr>\n",
       "    <tr>\n",
       "      <th>151067</th>\n",
       "      <td>DAY</td>\n",
       "      <td>KNIFE</td>\n",
       "      <td>ASSAULT W/DANGEROUS WEAPON</td>\n",
       "      <td>8.0</td>\n",
       "      <td>7.0</td>\n",
       "      <td>2021-02-04</td>\n",
       "    </tr>\n",
       "    <tr>\n",
       "      <th>151068</th>\n",
       "      <td>DAY</td>\n",
       "      <td>OTHERS</td>\n",
       "      <td>THEFT F/AUTO</td>\n",
       "      <td>7.0</td>\n",
       "      <td>6.0</td>\n",
       "      <td>2021-02-04</td>\n",
       "    </tr>\n",
       "  </tbody>\n",
       "</table>\n",
       "<p>151069 rows × 6 columns</p>\n",
       "</div>"
      ],
      "text/plain": [
       "           SHIFT  METHOD                     OFFENSE  WARD  DISTRICT  \\\n",
       "0       MIDNIGHT  OTHERS                THEFT F/AUTO   5.0       5.0   \n",
       "1       MIDNIGHT   KNIFE  ASSAULT W/DANGEROUS WEAPON   6.0       1.0   \n",
       "2       MIDNIGHT  OTHERS                THEFT F/AUTO   6.0       1.0   \n",
       "3            DAY  OTHERS                THEFT F/AUTO   6.0       1.0   \n",
       "4            DAY  OTHERS                 THEFT/OTHER   5.0       5.0   \n",
       "...          ...     ...                         ...   ...       ...   \n",
       "151064       DAY  OTHERS                    BURGLARY   5.0       5.0   \n",
       "151065       DAY  OTHERS                THEFT F/AUTO   7.0       6.0   \n",
       "151066       DAY  OTHERS                THEFT F/AUTO   5.0       4.0   \n",
       "151067       DAY   KNIFE  ASSAULT W/DANGEROUS WEAPON   8.0       7.0   \n",
       "151068       DAY  OTHERS                THEFT F/AUTO   7.0       6.0   \n",
       "\n",
       "             date  \n",
       "0      2017-10-28  \n",
       "1      2017-10-28  \n",
       "2      2017-10-28  \n",
       "3      2017-10-27  \n",
       "4      2017-10-28  \n",
       "...           ...  \n",
       "151064 2021-02-04  \n",
       "151065 2021-02-04  \n",
       "151066 2021-02-03  \n",
       "151067 2021-02-04  \n",
       "151068 2021-02-04  \n",
       "\n",
       "[151069 rows x 6 columns]"
      ]
     },
     "execution_count": 3,
     "metadata": {},
     "output_type": "execute_result"
    }
   ],
   "source": [
    "#delete columns not needed from crime data\n",
    "del df_crime['REPORT_DAT']\n",
    "del df_crime['BLOCK']\n",
    "del df_crime['YBLOCK']\n",
    "del df_crime['XBLOCK']\n",
    "del df_crime['LATITUDE']\n",
    "del df_crime['LONGITUDE']\n",
    "del df_crime['END_DATE']\n",
    "\n",
    "df_crime = df_crime.rename(columns = {'START_DATE':'date'})\n",
    "\n",
    "df_crime['date'] = pd.to_datetime(df_crime['date']).dt.date\n",
    "df_crime['date'] = pd.to_datetime(df_crime['date'])\n",
    "df_crime.dtypes\n",
    "df_crime"
   ]
  },
  {
   "cell_type": "code",
   "execution_count": 4,
   "metadata": {
    "colab": {
     "base_uri": "https://localhost:8080/"
    },
    "id": "4b34678f",
    "outputId": "b70c0af9-ab28-4c25-8156-3698b42eb0a5"
   },
   "outputs": [
    {
     "name": "stdout",
     "output_type": "stream",
     "text": [
      "<class 'pandas.core.frame.DataFrame'>\n",
      "RangeIndex: 151069 entries, 0 to 151068\n",
      "Data columns (total 6 columns):\n",
      " #   Column    Non-Null Count   Dtype         \n",
      "---  ------    --------------   -----         \n",
      " 0   SHIFT     151069 non-null  object        \n",
      " 1   METHOD    151069 non-null  object        \n",
      " 2   OFFENSE   151069 non-null  object        \n",
      " 3   WARD      147528 non-null  float64       \n",
      " 4   DISTRICT  150926 non-null  float64       \n",
      " 5   date      151064 non-null  datetime64[ns]\n",
      "dtypes: datetime64[ns](1), float64(2), object(3)\n",
      "memory usage: 6.9+ MB\n"
     ]
    }
   ],
   "source": [
    "df_crime.info()"
   ]
  },
  {
   "cell_type": "code",
   "execution_count": 5,
   "metadata": {
    "colab": {
     "base_uri": "https://localhost:8080/"
    },
    "id": "27e87e39",
    "outputId": "ce16ed29-85a1-47b6-ade3-d0553c0e0f2c"
   },
   "outputs": [
    {
     "data": {
      "text/plain": [
       "SHIFT          0\n",
       "METHOD         0\n",
       "OFFENSE        0\n",
       "WARD        3541\n",
       "DISTRICT     143\n",
       "date           5\n",
       "dtype: int64"
      ]
     },
     "execution_count": 5,
     "metadata": {},
     "output_type": "execute_result"
    }
   ],
   "source": [
    "df_crime.isna().sum()"
   ]
  },
  {
   "cell_type": "code",
   "execution_count": 6,
   "metadata": {
    "colab": {
     "base_uri": "https://localhost:8080/"
    },
    "id": "7e532840",
    "outputId": "efff5e4a-8e72-423a-a00d-9210acaa1e4f"
   },
   "outputs": [
    {
     "name": "stdout",
     "output_type": "stream",
     "text": [
      "SHIFT       0\n",
      "METHOD      0\n",
      "OFFENSE     0\n",
      "WARD        0\n",
      "DISTRICT    0\n",
      "date        0\n",
      "dtype: int64\n",
      "(147385, 6)\n"
     ]
    }
   ],
   "source": [
    "#drop records with null records\n",
    "df_crime = df_crime.dropna(axis=0)\n",
    "print(df_crime.isna().sum())\n",
    "print(df_crime.shape)"
   ]
  },
  {
   "cell_type": "code",
   "execution_count": 7,
   "metadata": {
    "colab": {
     "base_uri": "https://localhost:8080/",
     "height": 419
    },
    "id": "ba0aa4a6",
    "outputId": "354f28a0-b4ec-4835-9566-a4e9d6f68382"
   },
   "outputs": [
    {
     "data": {
      "text/html": [
       "<div>\n",
       "<style scoped>\n",
       "    .dataframe tbody tr th:only-of-type {\n",
       "        vertical-align: middle;\n",
       "    }\n",
       "\n",
       "    .dataframe tbody tr th {\n",
       "        vertical-align: top;\n",
       "    }\n",
       "\n",
       "    .dataframe thead th {\n",
       "        text-align: right;\n",
       "    }\n",
       "</style>\n",
       "<table border=\"1\" class=\"dataframe\">\n",
       "  <thead>\n",
       "    <tr style=\"text-align: right;\">\n",
       "      <th></th>\n",
       "      <th>date</th>\n",
       "      <th>total_cases</th>\n",
       "      <th>daily_cases</th>\n",
       "    </tr>\n",
       "  </thead>\n",
       "  <tbody>\n",
       "    <tr>\n",
       "      <th>1</th>\n",
       "      <td>2020-03-31</td>\n",
       "      <td>586</td>\n",
       "      <td>0</td>\n",
       "    </tr>\n",
       "    <tr>\n",
       "      <th>2</th>\n",
       "      <td>2020-04-01</td>\n",
       "      <td>653</td>\n",
       "      <td>67</td>\n",
       "    </tr>\n",
       "    <tr>\n",
       "      <th>3</th>\n",
       "      <td>2020-04-02</td>\n",
       "      <td>757</td>\n",
       "      <td>104</td>\n",
       "    </tr>\n",
       "    <tr>\n",
       "      <th>4</th>\n",
       "      <td>2020-04-03</td>\n",
       "      <td>902</td>\n",
       "      <td>145</td>\n",
       "    </tr>\n",
       "    <tr>\n",
       "      <th>5</th>\n",
       "      <td>2020-04-04</td>\n",
       "      <td>998</td>\n",
       "      <td>96</td>\n",
       "    </tr>\n",
       "    <tr>\n",
       "      <th>...</th>\n",
       "      <td>...</td>\n",
       "      <td>...</td>\n",
       "      <td>...</td>\n",
       "    </tr>\n",
       "    <tr>\n",
       "      <th>536</th>\n",
       "      <td>2021-11-01</td>\n",
       "      <td>64541</td>\n",
       "      <td>71</td>\n",
       "    </tr>\n",
       "    <tr>\n",
       "      <th>537</th>\n",
       "      <td>2021-11-02</td>\n",
       "      <td>64602</td>\n",
       "      <td>61</td>\n",
       "    </tr>\n",
       "    <tr>\n",
       "      <th>538</th>\n",
       "      <td>2021-11-03</td>\n",
       "      <td>64708</td>\n",
       "      <td>106</td>\n",
       "    </tr>\n",
       "    <tr>\n",
       "      <th>539</th>\n",
       "      <td>2021-11-04</td>\n",
       "      <td>64799</td>\n",
       "      <td>91</td>\n",
       "    </tr>\n",
       "    <tr>\n",
       "      <th>540</th>\n",
       "      <td>2021-11-05</td>\n",
       "      <td>65053</td>\n",
       "      <td>254</td>\n",
       "    </tr>\n",
       "  </tbody>\n",
       "</table>\n",
       "<p>540 rows × 3 columns</p>\n",
       "</div>"
      ],
      "text/plain": [
       "          date  total_cases  daily_cases\n",
       "1   2020-03-31          586            0\n",
       "2   2020-04-01          653           67\n",
       "3   2020-04-02          757          104\n",
       "4   2020-04-03          902          145\n",
       "5   2020-04-04          998           96\n",
       "..         ...          ...          ...\n",
       "536 2021-11-01        64541           71\n",
       "537 2021-11-02        64602           61\n",
       "538 2021-11-03        64708          106\n",
       "539 2021-11-04        64799           91\n",
       "540 2021-11-05        65053          254\n",
       "\n",
       "[540 rows x 3 columns]"
      ]
     },
     "execution_count": 7,
     "metadata": {},
     "output_type": "execute_result"
    }
   ],
   "source": [
    "#covid case data\n",
    "df_covid_ward = df_covid_ward.transpose()\n",
    "df_covid_ward.reset_index(drop = True, inplace= True)\n",
    "df_covid_ward.columns=('date', 'ward_1', 'ward_2', 'ward_3', 'ward_4', 'ward_5', 'ward_6'\n",
    "                      , 'ward_7', 'ward_8', 'unknown')\n",
    "df_covid_ward = df_covid_ward.iloc[1: , :]\n",
    "df_covid_ward['date'] = pd.to_datetime(df_covid_ward['date'])\n",
    "df_covid_ward['total_cases'] = (df_covid_ward['ward_1'] + df_covid_ward['ward_2'] + df_covid_ward['ward_3'] + df_covid_ward['ward_4'] + df_covid_ward['ward_5'] + df_covid_ward['ward_6'] +df_covid_ward['ward_7'] + df_covid_ward['ward_8'] +df_covid_ward['unknown'])\n",
    "df_covid_ward['daily_cases'] = df_covid_ward['total_cases'].diff(1)\n",
    "\n",
    "del df_covid_ward['ward_1']\n",
    "del df_covid_ward['ward_2']\n",
    "del df_covid_ward['ward_3']\n",
    "del df_covid_ward['ward_4']\n",
    "del df_covid_ward['ward_5']\n",
    "del df_covid_ward['ward_6']\n",
    "del df_covid_ward['ward_7']\n",
    "del df_covid_ward['ward_8']\n",
    "del df_covid_ward['unknown']\n",
    "\n",
    "df_covid_ward.fillna(0, inplace=True)\n",
    "\n",
    "df_covid_ward"
   ]
  },
  {
   "cell_type": "code",
   "execution_count": 8,
   "metadata": {
    "colab": {
     "base_uri": "https://localhost:8080/",
     "height": 419
    },
    "id": "efaeda2d",
    "outputId": "b84d0dd1-1dc8-478c-8548-83e9f32c573c"
   },
   "outputs": [
    {
     "data": {
      "text/html": [
       "<div>\n",
       "<style scoped>\n",
       "    .dataframe tbody tr th:only-of-type {\n",
       "        vertical-align: middle;\n",
       "    }\n",
       "\n",
       "    .dataframe tbody tr th {\n",
       "        vertical-align: top;\n",
       "    }\n",
       "\n",
       "    .dataframe thead th {\n",
       "        text-align: right;\n",
       "    }\n",
       "</style>\n",
       "<table border=\"1\" class=\"dataframe\">\n",
       "  <thead>\n",
       "    <tr style=\"text-align: right;\">\n",
       "      <th></th>\n",
       "      <th>date</th>\n",
       "      <th>daily_death</th>\n",
       "    </tr>\n",
       "  </thead>\n",
       "  <tbody>\n",
       "    <tr>\n",
       "      <th>1</th>\n",
       "      <td>2020-04-19</td>\n",
       "      <td>0</td>\n",
       "    </tr>\n",
       "    <tr>\n",
       "      <th>2</th>\n",
       "      <td>2020-04-20</td>\n",
       "      <td>7</td>\n",
       "    </tr>\n",
       "    <tr>\n",
       "      <th>3</th>\n",
       "      <td>2020-04-21</td>\n",
       "      <td>15</td>\n",
       "    </tr>\n",
       "    <tr>\n",
       "      <th>4</th>\n",
       "      <td>2020-04-22</td>\n",
       "      <td>12</td>\n",
       "    </tr>\n",
       "    <tr>\n",
       "      <th>5</th>\n",
       "      <td>2020-04-23</td>\n",
       "      <td>14</td>\n",
       "    </tr>\n",
       "    <tr>\n",
       "      <th>...</th>\n",
       "      <td>...</td>\n",
       "      <td>...</td>\n",
       "    </tr>\n",
       "    <tr>\n",
       "      <th>515</th>\n",
       "      <td>2021-11-01</td>\n",
       "      <td>2</td>\n",
       "    </tr>\n",
       "    <tr>\n",
       "      <th>516</th>\n",
       "      <td>2021-11-02</td>\n",
       "      <td>0</td>\n",
       "    </tr>\n",
       "    <tr>\n",
       "      <th>517</th>\n",
       "      <td>2021-11-03</td>\n",
       "      <td>0</td>\n",
       "    </tr>\n",
       "    <tr>\n",
       "      <th>518</th>\n",
       "      <td>2021-11-04</td>\n",
       "      <td>0</td>\n",
       "    </tr>\n",
       "    <tr>\n",
       "      <th>519</th>\n",
       "      <td>2021-11-05</td>\n",
       "      <td>0</td>\n",
       "    </tr>\n",
       "  </tbody>\n",
       "</table>\n",
       "<p>519 rows × 2 columns</p>\n",
       "</div>"
      ],
      "text/plain": [
       "          date  daily_death\n",
       "1   2020-04-19            0\n",
       "2   2020-04-20            7\n",
       "3   2020-04-21           15\n",
       "4   2020-04-22           12\n",
       "5   2020-04-23           14\n",
       "..         ...          ...\n",
       "515 2021-11-01            2\n",
       "516 2021-11-02            0\n",
       "517 2021-11-03            0\n",
       "518 2021-11-04            0\n",
       "519 2021-11-05            0\n",
       "\n",
       "[519 rows x 2 columns]"
      ]
     },
     "execution_count": 8,
     "metadata": {},
     "output_type": "execute_result"
    }
   ],
   "source": [
    "#death data\n",
    "df_covid_death = df_covid_death.transpose()\n",
    "df_covid_death.reset_index(drop = True, inplace= True)\n",
    "df_covid_death.columns=('date', 'all', 'ward_1', 'ward_2', 'ward_3', 'ward_4', 'ward_5', 'ward_6'\n",
    "                      , 'ward_7', 'ward_8', 'Experienced Homelessness', 'unknown', 'na')\n",
    "df_covid_death = df_covid_death.iloc[1: , :]\n",
    "df_covid_death['date'] = pd.to_datetime(df_covid_death['date'])\n",
    "df_covid_death['daily_death'] = df_covid_death['all'].diff(1)\n",
    "\n",
    "del df_covid_death['ward_1']\n",
    "del df_covid_death['ward_2']\n",
    "del df_covid_death['ward_3']\n",
    "del df_covid_death['ward_4']\n",
    "del df_covid_death['ward_5']\n",
    "del df_covid_death['ward_6']\n",
    "del df_covid_death['ward_7']\n",
    "del df_covid_death['ward_8']\n",
    "del df_covid_death['unknown']\n",
    "del df_covid_death['na']\n",
    "del df_covid_death['Experienced Homelessness']\n",
    "del df_covid_death['all']\n",
    "\n",
    "df_covid_death.fillna(0, inplace=True)\n",
    "\n",
    "df_covid_death"
   ]
  },
  {
   "cell_type": "code",
   "execution_count": 9,
   "metadata": {
    "colab": {
     "base_uri": "https://localhost:8080/",
     "height": 419
    },
    "id": "9f27aaf0",
    "outputId": "dad7d4b9-dbc4-4dde-f382-bcb2a1491ef5"
   },
   "outputs": [
    {
     "data": {
      "text/html": [
       "<div>\n",
       "<style scoped>\n",
       "    .dataframe tbody tr th:only-of-type {\n",
       "        vertical-align: middle;\n",
       "    }\n",
       "\n",
       "    .dataframe tbody tr th {\n",
       "        vertical-align: top;\n",
       "    }\n",
       "\n",
       "    .dataframe thead th {\n",
       "        text-align: right;\n",
       "    }\n",
       "</style>\n",
       "<table border=\"1\" class=\"dataframe\">\n",
       "  <thead>\n",
       "    <tr style=\"text-align: right;\">\n",
       "      <th></th>\n",
       "      <th>date</th>\n",
       "      <th>OUT_POSITIVE_QUARANTINE_PSMPD</th>\n",
       "    </tr>\n",
       "  </thead>\n",
       "  <tbody>\n",
       "    <tr>\n",
       "      <th>0</th>\n",
       "      <td>2020-03-07</td>\n",
       "      <td>0.0</td>\n",
       "    </tr>\n",
       "    <tr>\n",
       "      <th>1</th>\n",
       "      <td>2020-03-08</td>\n",
       "      <td>0.0</td>\n",
       "    </tr>\n",
       "    <tr>\n",
       "      <th>2</th>\n",
       "      <td>2020-03-09</td>\n",
       "      <td>0.0</td>\n",
       "    </tr>\n",
       "    <tr>\n",
       "      <th>3</th>\n",
       "      <td>2020-03-10</td>\n",
       "      <td>0.0</td>\n",
       "    </tr>\n",
       "    <tr>\n",
       "      <th>4</th>\n",
       "      <td>2020-03-11</td>\n",
       "      <td>0.0</td>\n",
       "    </tr>\n",
       "    <tr>\n",
       "      <th>...</th>\n",
       "      <td>...</td>\n",
       "      <td>...</td>\n",
       "    </tr>\n",
       "    <tr>\n",
       "      <th>589</th>\n",
       "      <td>2021-10-17</td>\n",
       "      <td>42.0</td>\n",
       "    </tr>\n",
       "    <tr>\n",
       "      <th>590</th>\n",
       "      <td>2021-10-18</td>\n",
       "      <td>43.0</td>\n",
       "    </tr>\n",
       "    <tr>\n",
       "      <th>591</th>\n",
       "      <td>2021-10-19</td>\n",
       "      <td>43.0</td>\n",
       "    </tr>\n",
       "    <tr>\n",
       "      <th>592</th>\n",
       "      <td>2021-10-20</td>\n",
       "      <td>43.0</td>\n",
       "    </tr>\n",
       "    <tr>\n",
       "      <th>593</th>\n",
       "      <td>2021-10-21</td>\n",
       "      <td>43.0</td>\n",
       "    </tr>\n",
       "  </tbody>\n",
       "</table>\n",
       "<p>594 rows × 2 columns</p>\n",
       "</div>"
      ],
      "text/plain": [
       "          date  OUT_POSITIVE_QUARANTINE_PSMPD\n",
       "0   2020-03-07                            0.0\n",
       "1   2020-03-08                            0.0\n",
       "2   2020-03-09                            0.0\n",
       "3   2020-03-10                            0.0\n",
       "4   2020-03-11                            0.0\n",
       "..         ...                            ...\n",
       "589 2021-10-17                           42.0\n",
       "590 2021-10-18                           43.0\n",
       "591 2021-10-19                           43.0\n",
       "592 2021-10-20                           43.0\n",
       "593 2021-10-21                           43.0\n",
       "\n",
       "[594 rows x 2 columns]"
      ]
     },
     "execution_count": 9,
     "metadata": {},
     "output_type": "execute_result"
    }
   ],
   "source": [
    "#sick police\n",
    "df_sick_police = df_sick_police.rename(columns = {'DATE_REPORTED':'date'})\n",
    "df_sick_police['date'] = pd.to_datetime(df_sick_police['date'])\n",
    "\n",
    "df_sick_police.fillna(0, inplace=True)\n",
    "\n",
    "df_sick_police"
   ]
  },
  {
   "cell_type": "code",
   "execution_count": 10,
   "metadata": {
    "id": "c8a163b1"
   },
   "outputs": [],
   "source": [
    "#merge the dataframes together\n",
    "merged = df_crime.merge(df_covid_ward, how='left', on = 'date').merge(df_covid_death, how='left', on = 'date').merge(df_sick_police, how='left', on = 'date')"
   ]
  },
  {
   "cell_type": "code",
   "execution_count": 11,
   "metadata": {
    "colab": {
     "base_uri": "https://localhost:8080/"
    },
    "id": "2c47ad69",
    "outputId": "8e635759-067b-4604-fad1-4d7cf1bdc780"
   },
   "outputs": [
    {
     "data": {
      "text/plain": [
       "Index(['SHIFT', 'METHOD', 'OFFENSE', 'WARD', 'DISTRICT', 'date', 'total_cases',\n",
       "       'daily_cases', 'daily_death', 'OUT_POSITIVE_QUARANTINE_PSMPD', 'MO',\n",
       "       'TU', 'WE', 'TH', 'FR', 'SA', 'SU', 'JAN', 'FEB', 'MAR', 'APR', 'MAY',\n",
       "       'JUN', 'JUL', 'AUG', 'SEP', 'OCT', 'NOV', 'DEC', 'THEFT F/AUTO',\n",
       "       'ASSAULT W/DANGEROUS WEAPON', 'THEFT/OTHER', 'MOTOR VEHICLE THEFT',\n",
       "       'BURGLARY', 'SEX ABUSE', 'ROBBERY', 'HOMICIDE', 'ARSON'],\n",
       "      dtype='object')"
      ]
     },
     "execution_count": 11,
     "metadata": {},
     "output_type": "execute_result"
    }
   ],
   "source": [
    "#getting weekday dummies\n",
    "merged['weekday'] = merged['date'].dt.dayofweek\n",
    "dummy0 = pd.get_dummies(merged['weekday'])\n",
    "dummy0.columns = ['MO', 'TU', 'WE', 'TH', 'FR', 'SA', 'SU']\n",
    "merged = pd.concat([merged, dummy0] , axis = 1)\n",
    "del merged['weekday']\n",
    "\n",
    "#get month dummies\n",
    "merged['month'] = merged['date'].dt.month\n",
    "dummy1 = pd.get_dummies(merged['month'])\n",
    "dummy1.columns = ['JAN', 'FEB','MAR', 'APR', 'MAY', 'JUN', 'JUL', 'AUG', 'SEP',\n",
    "                 'OCT', 'NOV', 'DEC']              \n",
    "merged = pd.concat([merged, dummy1] , axis = 1)\n",
    "del merged['month']\n",
    "\n",
    "crime_types = merged['OFFENSE'].unique()\n",
    "dummy2 = pd.get_dummies(merged['OFFENSE'])\n",
    "dummy2.columns = crime_types\n",
    "merged = pd.concat([merged, dummy2] , axis = 1)\n",
    "\n",
    "merged.columns"
   ]
  },
  {
   "cell_type": "code",
   "execution_count": 12,
   "metadata": {
    "colab": {
     "base_uri": "https://localhost:8080/"
    },
    "id": "cd1212d3",
    "outputId": "792eeb3c-8104-45e0-96cc-ac1568122af6"
   },
   "outputs": [
    {
     "name": "stdout",
     "output_type": "stream",
     "text": [
      "<class 'pandas.core.frame.DataFrame'>\n",
      "Int64Index: 147385 entries, 0 to 147384\n",
      "Data columns (total 38 columns):\n",
      " #   Column                         Non-Null Count   Dtype         \n",
      "---  ------                         --------------   -----         \n",
      " 0   SHIFT                          147385 non-null  object        \n",
      " 1   METHOD                         147385 non-null  object        \n",
      " 2   OFFENSE                        147385 non-null  object        \n",
      " 3   WARD                           147385 non-null  float64       \n",
      " 4   DISTRICT                       147385 non-null  float64       \n",
      " 5   date                           147385 non-null  datetime64[ns]\n",
      " 6   total_cases                    38189 non-null   float64       \n",
      " 7   daily_cases                    38189 non-null   float64       \n",
      " 8   daily_death                    37083 non-null   float64       \n",
      " 9   OUT_POSITIVE_QUARANTINE_PSMPD  43509 non-null   float64       \n",
      " 10  MO                             147385 non-null  uint8         \n",
      " 11  TU                             147385 non-null  uint8         \n",
      " 12  WE                             147385 non-null  uint8         \n",
      " 13  TH                             147385 non-null  uint8         \n",
      " 14  FR                             147385 non-null  uint8         \n",
      " 15  SA                             147385 non-null  uint8         \n",
      " 16  SU                             147385 non-null  uint8         \n",
      " 17  JAN                            147385 non-null  uint8         \n",
      " 18  FEB                            147385 non-null  uint8         \n",
      " 19  MAR                            147385 non-null  uint8         \n",
      " 20  APR                            147385 non-null  uint8         \n",
      " 21  MAY                            147385 non-null  uint8         \n",
      " 22  JUN                            147385 non-null  uint8         \n",
      " 23  JUL                            147385 non-null  uint8         \n",
      " 24  AUG                            147385 non-null  uint8         \n",
      " 25  SEP                            147385 non-null  uint8         \n",
      " 26  OCT                            147385 non-null  uint8         \n",
      " 27  NOV                            147385 non-null  uint8         \n",
      " 28  DEC                            147385 non-null  uint8         \n",
      " 29  THEFT F/AUTO                   147385 non-null  uint8         \n",
      " 30  ASSAULT W/DANGEROUS WEAPON     147385 non-null  uint8         \n",
      " 31  THEFT/OTHER                    147385 non-null  uint8         \n",
      " 32  MOTOR VEHICLE THEFT            147385 non-null  uint8         \n",
      " 33  BURGLARY                       147385 non-null  uint8         \n",
      " 34  SEX ABUSE                      147385 non-null  uint8         \n",
      " 35  ROBBERY                        147385 non-null  uint8         \n",
      " 36  HOMICIDE                       147385 non-null  uint8         \n",
      " 37  ARSON                          147385 non-null  uint8         \n",
      "dtypes: datetime64[ns](1), float64(6), object(3), uint8(28)\n",
      "memory usage: 16.3+ MB\n"
     ]
    }
   ],
   "source": [
    "merged.info()"
   ]
  },
  {
   "cell_type": "code",
   "execution_count": 13,
   "metadata": {
    "id": "39fdcb23"
   },
   "outputs": [],
   "source": [
    "merged.fillna(0, inplace=True)"
   ]
  },
  {
   "cell_type": "code",
   "execution_count": 14,
   "metadata": {
    "colab": {
     "base_uri": "https://localhost:8080/",
     "height": 328
    },
    "id": "25c6bd22",
    "outputId": "69322b13-9a0c-40d2-aa91-970b47aed475"
   },
   "outputs": [
    {
     "data": {
      "text/html": [
       "<div>\n",
       "<style scoped>\n",
       "    .dataframe tbody tr th:only-of-type {\n",
       "        vertical-align: middle;\n",
       "    }\n",
       "\n",
       "    .dataframe tbody tr th {\n",
       "        vertical-align: top;\n",
       "    }\n",
       "\n",
       "    .dataframe thead th {\n",
       "        text-align: right;\n",
       "    }\n",
       "</style>\n",
       "<table border=\"1\" class=\"dataframe\">\n",
       "  <thead>\n",
       "    <tr style=\"text-align: right;\">\n",
       "      <th></th>\n",
       "      <th>OFFENSE</th>\n",
       "      <th>date</th>\n",
       "    </tr>\n",
       "  </thead>\n",
       "  <tbody>\n",
       "    <tr>\n",
       "      <th>0</th>\n",
       "      <td>ARSON</td>\n",
       "      <td>33</td>\n",
       "    </tr>\n",
       "    <tr>\n",
       "      <th>1</th>\n",
       "      <td>ASSAULT W/DANGEROUS WEAPON</td>\n",
       "      <td>7824</td>\n",
       "    </tr>\n",
       "    <tr>\n",
       "      <th>2</th>\n",
       "      <td>BURGLARY</td>\n",
       "      <td>6386</td>\n",
       "    </tr>\n",
       "    <tr>\n",
       "      <th>3</th>\n",
       "      <td>HOMICIDE</td>\n",
       "      <td>804</td>\n",
       "    </tr>\n",
       "    <tr>\n",
       "      <th>4</th>\n",
       "      <td>MOTOR VEHICLE THEFT</td>\n",
       "      <td>12785</td>\n",
       "    </tr>\n",
       "    <tr>\n",
       "      <th>5</th>\n",
       "      <td>ROBBERY</td>\n",
       "      <td>9722</td>\n",
       "    </tr>\n",
       "    <tr>\n",
       "      <th>6</th>\n",
       "      <td>SEX ABUSE</td>\n",
       "      <td>1061</td>\n",
       "    </tr>\n",
       "    <tr>\n",
       "      <th>7</th>\n",
       "      <td>THEFT F/AUTO</td>\n",
       "      <td>46406</td>\n",
       "    </tr>\n",
       "    <tr>\n",
       "      <th>8</th>\n",
       "      <td>THEFT/OTHER</td>\n",
       "      <td>62364</td>\n",
       "    </tr>\n",
       "  </tbody>\n",
       "</table>\n",
       "</div>"
      ],
      "text/plain": [
       "                      OFFENSE   date\n",
       "0                       ARSON     33\n",
       "1  ASSAULT W/DANGEROUS WEAPON   7824\n",
       "2                    BURGLARY   6386\n",
       "3                    HOMICIDE    804\n",
       "4         MOTOR VEHICLE THEFT  12785\n",
       "5                     ROBBERY   9722\n",
       "6                   SEX ABUSE   1061\n",
       "7                THEFT F/AUTO  46406\n",
       "8                 THEFT/OTHER  62364"
      ]
     },
     "execution_count": 14,
     "metadata": {},
     "output_type": "execute_result"
    }
   ],
   "source": [
    "count = merged.groupby(['OFFENSE'], as_index=False).agg(\n",
    "{\n",
    "    'date':'count',\n",
    "})\n",
    "count"
   ]
  },
  {
   "cell_type": "code",
   "execution_count": 15,
   "metadata": {
    "colab": {
     "base_uri": "https://localhost:8080/"
    },
    "id": "43b963d2",
    "outputId": "9578b870-68eb-43bb-8ec1-7bf08ed7ddb3"
   },
   "outputs": [
    {
     "data": {
      "text/plain": [
       "SHIFT                            109965\n",
       "METHOD                           109965\n",
       "OFFENSE                          109965\n",
       "WARD                             109965\n",
       "DISTRICT                         109965\n",
       "date                             109965\n",
       "total_cases                      109965\n",
       "daily_cases                      109965\n",
       "daily_death                      109965\n",
       "OUT_POSITIVE_QUARANTINE_PSMPD    109965\n",
       "MO                               109965\n",
       "TU                               109965\n",
       "WE                               109965\n",
       "TH                               109965\n",
       "FR                               109965\n",
       "SA                               109965\n",
       "SU                               109965\n",
       "JAN                              109965\n",
       "FEB                              109965\n",
       "MAR                              109965\n",
       "APR                              109965\n",
       "MAY                              109965\n",
       "JUN                              109965\n",
       "JUL                              109965\n",
       "AUG                              109965\n",
       "SEP                              109965\n",
       "OCT                              109965\n",
       "NOV                              109965\n",
       "DEC                              109965\n",
       "THEFT F/AUTO                     109965\n",
       "ASSAULT W/DANGEROUS WEAPON       109965\n",
       "THEFT/OTHER                      109965\n",
       "MOTOR VEHICLE THEFT              109965\n",
       "BURGLARY                         109965\n",
       "SEX ABUSE                        109965\n",
       "ROBBERY                          109965\n",
       "HOMICIDE                         109965\n",
       "ARSON                            109965\n",
       "dtype: int64"
      ]
     },
     "execution_count": 15,
     "metadata": {},
     "output_type": "execute_result"
    }
   ],
   "source": [
    "merged.loc[merged['daily_cases'] == 0].count()"
   ]
  },
  {
   "cell_type": "code",
   "execution_count": 16,
   "metadata": {
    "colab": {
     "base_uri": "https://localhost:8080/"
    },
    "id": "3eb53a27",
    "outputId": "b01266d7-fe73-4865-dadf-2e6326208c88"
   },
   "outputs": [
    {
     "data": {
      "text/plain": [
       "SHIFT                            0\n",
       "METHOD                           0\n",
       "OFFENSE                          0\n",
       "WARD                             0\n",
       "DISTRICT                         0\n",
       "date                             0\n",
       "total_cases                      0\n",
       "daily_cases                      0\n",
       "daily_death                      0\n",
       "OUT_POSITIVE_QUARANTINE_PSMPD    0\n",
       "MO                               0\n",
       "TU                               0\n",
       "WE                               0\n",
       "TH                               0\n",
       "FR                               0\n",
       "SA                               0\n",
       "SU                               0\n",
       "JAN                              0\n",
       "FEB                              0\n",
       "MAR                              0\n",
       "APR                              0\n",
       "MAY                              0\n",
       "JUN                              0\n",
       "JUL                              0\n",
       "AUG                              0\n",
       "SEP                              0\n",
       "OCT                              0\n",
       "NOV                              0\n",
       "DEC                              0\n",
       "THEFT F/AUTO                     0\n",
       "ASSAULT W/DANGEROUS WEAPON       0\n",
       "THEFT/OTHER                      0\n",
       "MOTOR VEHICLE THEFT              0\n",
       "BURGLARY                         0\n",
       "SEX ABUSE                        0\n",
       "ROBBERY                          0\n",
       "HOMICIDE                         0\n",
       "ARSON                            0\n",
       "dtype: int64"
      ]
     },
     "execution_count": 16,
     "metadata": {},
     "output_type": "execute_result"
    }
   ],
   "source": [
    "merged.isna().sum()"
   ]
  },
  {
   "cell_type": "code",
   "execution_count": 17,
   "metadata": {
    "id": "1a04d59e"
   },
   "outputs": [],
   "source": [
    "#split into precovid/during covid\n",
    "#merged.to_csv(r'/Users/samuelclark/Documents/UMBC Data Science /Machine learning/Final Projects/Data/merged.csv')"
   ]
  },
  {
   "cell_type": "code",
   "execution_count": 18,
   "metadata": {
    "id": "OhtAOTks-zmx"
   },
   "outputs": [],
   "source": [
    "#from google.colab import files\n",
    "#merged.to_csv ('MergedData_covid_police.csv', index = False, header=True)\n",
    "#files.download(\"MergedData_covid_police.csv\")"
   ]
  },
  {
   "cell_type": "code",
   "execution_count": 19,
   "metadata": {
    "colab": {
     "base_uri": "https://localhost:8080/"
    },
    "id": "M_2llb6fHHtp",
    "outputId": "b29c6353-3924-43f3-adb0-5466c23ad576"
   },
   "outputs": [
    {
     "name": "stderr",
     "output_type": "stream",
     "text": [
      "/opt/anaconda3/lib/python3.7/site-packages/ipykernel_launcher.py:3: FutureWarning: The pandas.datetime class is deprecated and will be removed from pandas in a future version. Import from datetime module instead.\n",
      "  This is separate from the ipykernel package so we can avoid doing imports until\n"
     ]
    }
   ],
   "source": [
    "merged = merged[merged['date'].dt.year >= 2017]\n",
    "\n",
    "split_date = pd.datetime(2020,3,10)\n",
    "preCovid = merged.loc[merged['date'] <= split_date]\n",
    "Covid = merged.loc[merged['date'] > split_date]"
   ]
  },
  {
   "cell_type": "code",
   "execution_count": 20,
   "metadata": {
    "colab": {
     "base_uri": "https://localhost:8080/"
    },
    "id": "Fterne96KdrY",
    "outputId": "91206b14-4a93-4ee7-b5a0-acdeb8827040"
   },
   "outputs": [
    {
     "data": {
      "text/plain": [
       "(103910, 38)"
      ]
     },
     "execution_count": 20,
     "metadata": {},
     "output_type": "execute_result"
    }
   ],
   "source": [
    "preCovid.shape"
   ]
  },
  {
   "cell_type": "code",
   "execution_count": 21,
   "metadata": {
    "colab": {
     "base_uri": "https://localhost:8080/"
    },
    "id": "XxgNYosYKfMv",
    "outputId": "1c7d0539-35dc-4376-ee5e-d9a01d2cb09c"
   },
   "outputs": [
    {
     "data": {
      "text/plain": [
       "(43199, 38)"
      ]
     },
     "execution_count": 21,
     "metadata": {},
     "output_type": "execute_result"
    }
   ],
   "source": [
    "Covid.shape"
   ]
  },
  {
   "cell_type": "code",
   "execution_count": 22,
   "metadata": {
    "colab": {
     "base_uri": "https://localhost:8080/"
    },
    "id": "qVKGKiVLPS8s",
    "outputId": "663110eb-d174-4017-fda3-6a6ea8339e45",
    "scrolled": true
   },
   "outputs": [
    {
     "data": {
      "text/plain": [
       "Index(['SHIFT', 'METHOD', 'OFFENSE', 'WARD', 'DISTRICT', 'date', 'total_cases',\n",
       "       'daily_cases', 'daily_death', 'OUT_POSITIVE_QUARANTINE_PSMPD', 'MO',\n",
       "       'TU', 'WE', 'TH', 'FR', 'SA', 'SU', 'JAN', 'FEB', 'MAR', 'APR', 'MAY',\n",
       "       'JUN', 'JUL', 'AUG', 'SEP', 'OCT', 'NOV', 'DEC', 'THEFT F/AUTO',\n",
       "       'ASSAULT W/DANGEROUS WEAPON', 'THEFT/OTHER', 'MOTOR VEHICLE THEFT',\n",
       "       'BURGLARY', 'SEX ABUSE', 'ROBBERY', 'HOMICIDE', 'ARSON'],\n",
       "      dtype='object')"
      ]
     },
     "execution_count": 22,
     "metadata": {},
     "output_type": "execute_result"
    }
   ],
   "source": [
    "preCovid.columns"
   ]
  },
  {
   "cell_type": "code",
   "execution_count": 23,
   "metadata": {
    "id": "0usPbw_sPku1"
   },
   "outputs": [],
   "source": [
    "features =['SHIFT', 'METHOD', 'OFFENSE', 'WARD', 'DISTRICT', 'date', 'total_cases',\n",
    "       'daily_cases', 'daily_death', 'OUT_POSITIVE_QUARANTINE_PSMPD']"
   ]
  },
  {
   "cell_type": "code",
   "execution_count": 24,
   "metadata": {
    "id": "DLwiBUNmScZl"
   },
   "outputs": [],
   "source": [
    "#!pip install lazypredict"
   ]
  },
  {
   "cell_type": "code",
   "execution_count": null,
   "metadata": {
    "colab": {
     "base_uri": "https://localhost:8080/"
    },
    "id": "NE-qUf2BKhLm",
    "outputId": "4a14a95d-2f8d-40b1-b431-a5e0a7866fb8"
   },
   "outputs": [
    {
     "name": "stderr",
     "output_type": "stream",
     "text": [
      "  3%|▎         | 1/29 [00:09<04:29,  9.63s/it]"
     ]
    },
    {
     "name": "stdout",
     "output_type": "stream",
     "text": [
      "{'Model': 'AdaBoostClassifier', 'Accuracy': 0.4593718923427325, 'Balanced Accuracy': 0.42225696632834914, 'ROC AUC': None, 'F1 Score': 0.38760446112943475, 'Time taken': 9.63245415687561}\n"
     ]
    },
    {
     "name": "stderr",
     "output_type": "stream",
     "text": [
      "  7%|▋         | 2/29 [00:15<03:24,  7.56s/it]"
     ]
    },
    {
     "name": "stdout",
     "output_type": "stream",
     "text": [
      "{'Model': 'BaggingClassifier', 'Accuracy': 0.7556218522439291, 'Balanced Accuracy': 0.7271409779817934, 'ROC AUC': None, 'F1 Score': 0.7470509050859782, 'Time taken': 6.10670804977417}\n"
     ]
    },
    {
     "name": "stderr",
     "output_type": "stream",
     "text": [
      " 10%|█         | 3/29 [00:16<01:52,  4.33s/it]"
     ]
    },
    {
     "name": "stdout",
     "output_type": "stream",
     "text": [
      "{'Model': 'BernoulliNB', 'Accuracy': 0.3228434863503673, 'Balanced Accuracy': 0.2876090586190839, 'ROC AUC': None, 'F1 Score': 0.2882334370494205, 'Time taken': 0.4936342239379883}\n"
     ]
    },
    {
     "name": "stderr",
     "output_type": "stream",
     "text": [
      " 14%|█▍        | 4/29 [14:00<2:16:44, 328.20s/it]"
     ]
    },
    {
     "name": "stdout",
     "output_type": "stream",
     "text": [
      "{'Model': 'CalibratedClassifierCV', 'Accuracy': 0.5383184165784493, 'Balanced Accuracy': 0.48636620763846494, 'ROC AUC': None, 'F1 Score': 0.49694463627213553, 'Time taken': 824.6798367500305}\n"
     ]
    },
    {
     "name": "stderr",
     "output_type": "stream",
     "text": [
      " 21%|██        | 6/29 [14:02<53:13, 138.86s/it]  "
     ]
    },
    {
     "name": "stdout",
     "output_type": "stream",
     "text": [
      "{'Model': 'DecisionTreeClassifier', 'Accuracy': 0.7560709588425881, 'Balanced Accuracy': 0.726364094053769, 'ROC AUC': None, 'F1 Score': 0.7476600885275897, 'Time taken': 0.8811478614807129}\n"
     ]
    },
    {
     "name": "stderr",
     "output_type": "stream",
     "text": [
      " 24%|██▍       | 7/29 [14:02<34:19, 93.59s/it] "
     ]
    },
    {
     "name": "stdout",
     "output_type": "stream",
     "text": [
      "{'Model': 'DummyClassifier', 'Accuracy': 0.13761909344625156, 'Balanced Accuracy': 0.12474842312591534, 'ROC AUC': None, 'F1 Score': 0.13768960876715886, 'Time taken': 0.39183688163757324}\n"
     ]
    },
    {
     "name": "stderr",
     "output_type": "stream",
     "text": [
      " 28%|██▊       | 8/29 [14:02<22:23, 63.96s/it]"
     ]
    },
    {
     "name": "stdout",
     "output_type": "stream",
     "text": [
      "{'Model': 'ExtraTreeClassifier', 'Accuracy': 0.7446508196195426, 'Balanced Accuracy': 0.7137208334821701, 'ROC AUC': None, 'F1 Score': 0.7363048766198664, 'Time taken': 0.5133209228515625}\n"
     ]
    },
    {
     "name": "stderr",
     "output_type": "stream",
     "text": [
      " 31%|███       | 9/29 [14:15<15:57, 47.89s/it]"
     ]
    },
    {
     "name": "stdout",
     "output_type": "stream",
     "text": [
      "{'Model': 'ExtraTreesClassifier', 'Accuracy': 0.7493985179482244, 'Balanced Accuracy': 0.7190011681681622, 'ROC AUC': None, 'F1 Score': 0.7406482904571903, 'Time taken': 12.552129030227661}\n"
     ]
    },
    {
     "name": "stderr",
     "output_type": "stream",
     "text": [
      " 34%|███▍      | 10/29 [14:16<10:32, 33.28s/it]"
     ]
    },
    {
     "name": "stdout",
     "output_type": "stream",
     "text": [
      "{'Model': 'GaussianNB', 'Accuracy': 0.2965386712860488, 'Balanced Accuracy': 0.36024121856394575, 'ROC AUC': None, 'F1 Score': 0.28999846318220207, 'Time taken': 0.5609846115112305}\n"
     ]
    },
    {
     "name": "stderr",
     "output_type": "stream",
     "text": [
      " 38%|███▊      | 11/29 [17:30<24:48, 82.72s/it]"
     ]
    },
    {
     "name": "stdout",
     "output_type": "stream",
     "text": [
      "{'Model': 'KNeighborsClassifier', 'Accuracy': 0.6669553780515189, 'Balanced Accuracy': 0.6413347672767367, 'ROC AUC': None, 'F1 Score': 0.6640078315446212, 'Time taken': 194.81163907051086}\n"
     ]
    }
   ],
   "source": [
    "from sklearn.model_selection import train_test_split\n",
    "from lazypredict.Supervised import LazyRegressor, LazyClassifier\n",
    "\n",
    "X1 = preCovid.loc[:, Covid.columns != 'WARD']\n",
    "y1 = preCovid['WARD']\n",
    "\n",
    "X1_train, X1_test, y1_train, y1_test = train_test_split(X1, y1, test_size=0.3, shuffle=True)\n",
    "lazy = LazyClassifier(verbose=1, ignore_warnings=True, custom_metric=None)\n",
    "preCovid_models, preCovid_predictions = lazy.fit(X1_train, X1_test, y1_train, y1_test)\n",
    "print(preCovid_models)"
   ]
  },
  {
   "cell_type": "code",
   "execution_count": 27,
   "metadata": {
    "id": "WhmiI1cGLwgX",
    "scrolled": false
   },
   "outputs": [
    {
     "name": "stderr",
     "output_type": "stream",
     "text": [
      "  3%|▎         | 1/29 [00:02<01:23,  2.97s/it]"
     ]
    },
    {
     "name": "stdout",
     "output_type": "stream",
     "text": [
      "{'Model': 'AdaBoostClassifier', 'Accuracy': 0.5347993827160494, 'Balanced Accuracy': 0.4372877635861255, 'ROC AUC': None, 'F1 Score': 0.4212457796452065, 'Time taken': 2.9723730087280273}\n"
     ]
    },
    {
     "name": "stderr",
     "output_type": "stream",
     "text": [
      "  7%|▋         | 2/29 [00:05<01:06,  2.48s/it]"
     ]
    },
    {
     "name": "stdout",
     "output_type": "stream",
     "text": [
      "{'Model': 'BaggingClassifier', 'Accuracy': 0.7086419753086419, 'Balanced Accuracy': 0.6923696504600283, 'ROC AUC': None, 'F1 Score': 0.7083755628654904, 'Time taken': 2.125875234603882}\n"
     ]
    },
    {
     "name": "stderr",
     "output_type": "stream",
     "text": [
      " 10%|█         | 3/29 [00:05<00:37,  1.45s/it]"
     ]
    },
    {
     "name": "stdout",
     "output_type": "stream",
     "text": [
      "{'Model': 'BernoulliNB', 'Accuracy': 0.3087962962962963, 'Balanced Accuracy': 0.282215076457885, 'ROC AUC': None, 'F1 Score': 0.26811454397437295, 'Time taken': 0.22465896606445312}\n"
     ]
    },
    {
     "name": "stderr",
     "output_type": "stream",
     "text": [
      " 17%|█▋        | 5/29 [06:21<38:14, 95.62s/it]   "
     ]
    },
    {
     "name": "stdout",
     "output_type": "stream",
     "text": [
      "{'Model': 'CalibratedClassifierCV', 'Accuracy': 0.5174382716049383, 'Balanced Accuracy': 0.46464090086040927, 'ROC AUC': None, 'F1 Score': 0.468756371459604, 'Time taken': 376.4055140018463}\n"
     ]
    },
    {
     "name": "stderr",
     "output_type": "stream",
     "text": [
      " 24%|██▍       | 7/29 [06:22<15:38, 42.65s/it]"
     ]
    },
    {
     "name": "stdout",
     "output_type": "stream",
     "text": [
      "{'Model': 'DecisionTreeClassifier', 'Accuracy': 0.6802469135802469, 'Balanced Accuracy': 0.6598684793237188, 'ROC AUC': None, 'F1 Score': 0.6800979118188165, 'Time taken': 0.4810910224914551}\n",
      "{'Model': 'DummyClassifier', 'Accuracy': 0.13912037037037037, 'Balanced Accuracy': 0.1258661659468382, 'ROC AUC': None, 'F1 Score': 0.13910194645774188, 'Time taken': 0.1838240623474121}\n"
     ]
    },
    {
     "name": "stderr",
     "output_type": "stream",
     "text": [
      " 28%|██▊       | 8/29 [06:22<10:12, 29.15s/it]"
     ]
    },
    {
     "name": "stdout",
     "output_type": "stream",
     "text": [
      "{'Model': 'ExtraTreeClassifier', 'Accuracy': 0.6446759259259259, 'Balanced Accuracy': 0.6219299208048336, 'ROC AUC': None, 'F1 Score': 0.644186877493913, 'Time taken': 0.23537707328796387}\n"
     ]
    },
    {
     "name": "stderr",
     "output_type": "stream",
     "text": [
      " 31%|███       | 9/29 [06:29<07:21, 22.10s/it]"
     ]
    },
    {
     "name": "stdout",
     "output_type": "stream",
     "text": [
      "{'Model': 'ExtraTreesClassifier', 'Accuracy': 0.6613425925925925, 'Balanced Accuracy': 0.6356204365254942, 'ROC AUC': None, 'F1 Score': 0.6595634560695728, 'Time taken': 6.591048002243042}\n"
     ]
    },
    {
     "name": "stderr",
     "output_type": "stream",
     "text": [
      " 34%|███▍      | 10/29 [06:29<04:51, 15.36s/it]"
     ]
    },
    {
     "name": "stdout",
     "output_type": "stream",
     "text": [
      "{'Model': 'GaussianNB', 'Accuracy': 0.38256172839506175, 'Balanced Accuracy': 0.4259971469663085, 'ROC AUC': None, 'F1 Score': 0.282860249575359, 'Time taken': 0.2726578712463379}\n"
     ]
    },
    {
     "name": "stderr",
     "output_type": "stream",
     "text": [
      " 38%|███▊      | 11/29 [07:02<06:14, 20.78s/it]"
     ]
    },
    {
     "name": "stdout",
     "output_type": "stream",
     "text": [
      "{'Model': 'KNeighborsClassifier', 'Accuracy': 0.464429012345679, 'Balanced Accuracy': 0.4320915125451909, 'ROC AUC': None, 'F1 Score': 0.4630850080587576, 'Time taken': 33.07380294799805}\n"
     ]
    },
    {
     "name": "stderr",
     "output_type": "stream",
     "text": [
      " 41%|████▏     | 12/29 [07:56<08:42, 30.76s/it]"
     ]
    },
    {
     "name": "stdout",
     "output_type": "stream",
     "text": [
      "{'Model': 'LabelPropagation', 'Accuracy': 0.5578703703703703, 'Balanced Accuracy': 0.5343595239640833, 'ROC AUC': None, 'F1 Score': 0.5579391689683494, 'Time taken': 53.575888872146606}\n"
     ]
    },
    {
     "name": "stderr",
     "output_type": "stream",
     "text": [
      " 45%|████▍     | 13/29 [10:24<17:42, 66.41s/it]"
     ]
    },
    {
     "name": "stdout",
     "output_type": "stream",
     "text": [
      "{'Model': 'LabelSpreading', 'Accuracy': 0.5572530864197531, 'Balanced Accuracy': 0.5338874190333294, 'ROC AUC': None, 'F1 Score': 0.5570747078348228, 'Time taken': 148.4506561756134}\n"
     ]
    },
    {
     "name": "stderr",
     "output_type": "stream",
     "text": [
      " 48%|████▊     | 14/29 [10:25<11:39, 46.67s/it]"
     ]
    },
    {
     "name": "stdout",
     "output_type": "stream",
     "text": [
      "{'Model': 'LinearDiscriminantAnalysis', 'Accuracy': 0.6308641975308642, 'Balanced Accuracy': 0.5809232446642116, 'ROC AUC': None, 'F1 Score': 0.5935256110805252, 'Time taken': 1.0308411121368408}\n"
     ]
    },
    {
     "name": "stderr",
     "output_type": "stream",
     "text": [
      " 52%|█████▏    | 15/29 [11:58<14:09, 60.68s/it]"
     ]
    },
    {
     "name": "stdout",
     "output_type": "stream",
     "text": [
      "{'Model': 'LinearSVC', 'Accuracy': 0.4799382716049383, 'Balanced Accuracy': 0.435305138529391, 'ROC AUC': None, 'F1 Score': 0.4054924996505758, 'Time taken': 93.16310024261475}\n"
     ]
    },
    {
     "name": "stderr",
     "output_type": "stream",
     "text": [
      " 55%|█████▌    | 16/29 [12:01<09:21, 43.17s/it]"
     ]
    },
    {
     "name": "stdout",
     "output_type": "stream",
     "text": [
      "{'Model': 'LogisticRegression', 'Accuracy': 0.6512345679012346, 'Balanced Accuracy': 0.5982006170273604, 'ROC AUC': None, 'F1 Score': 0.6229942371775926, 'Time taken': 2.4953529834747314}\n"
     ]
    },
    {
     "name": "stderr",
     "output_type": "stream",
     "text": [
      " 62%|██████▏   | 18/29 [12:01<03:53, 21.23s/it]"
     ]
    },
    {
     "name": "stdout",
     "output_type": "stream",
     "text": [
      "{'Model': 'NearestCentroid', 'Accuracy': 0.3418981481481482, 'Balanced Accuracy': 0.3584758165752521, 'ROC AUC': None, 'F1 Score': 0.34736445289078877, 'Time taken': 0.24846100807189941}\n"
     ]
    },
    {
     "name": "stderr",
     "output_type": "stream",
     "text": [
      " 66%|██████▌   | 19/29 [12:02<02:31, 15.14s/it]"
     ]
    },
    {
     "name": "stdout",
     "output_type": "stream",
     "text": [
      "{'Model': 'PassiveAggressiveClassifier', 'Accuracy': 0.3172067901234568, 'Balanced Accuracy': 0.30497024784138416, 'ROC AUC': None, 'F1 Score': 0.309636464659473, 'Time taken': 0.9730570316314697}\n"
     ]
    },
    {
     "name": "stderr",
     "output_type": "stream",
     "text": [
      " 69%|██████▉   | 20/29 [12:03<01:37, 10.82s/it]"
     ]
    },
    {
     "name": "stdout",
     "output_type": "stream",
     "text": [
      "{'Model': 'Perceptron', 'Accuracy': 0.3474537037037037, 'Balanced Accuracy': 0.34191886961657175, 'ROC AUC': None, 'F1 Score': 0.34355884478597354, 'Time taken': 0.7298030853271484}\n"
     ]
    },
    {
     "name": "stderr",
     "output_type": "stream",
     "text": [
      " 72%|███████▏  | 21/29 [12:03<01:01,  7.68s/it]"
     ]
    },
    {
     "name": "stdout",
     "output_type": "stream",
     "text": [
      "{'Model': 'QuadraticDiscriminantAnalysis', 'Accuracy': 0.3002314814814815, 'Balanced Accuracy': 0.3404114376114079, 'ROC AUC': None, 'F1 Score': 0.28807843147113354, 'Time taken': 0.3607611656188965}\n"
     ]
    },
    {
     "name": "stderr",
     "output_type": "stream",
     "text": [
      " 76%|███████▌  | 22/29 [12:11<00:53,  7.57s/it]"
     ]
    },
    {
     "name": "stdout",
     "output_type": "stream",
     "text": [
      "{'Model': 'RandomForestClassifier', 'Accuracy': 0.6520061728395061, 'Balanced Accuracy': 0.6249604985515709, 'ROC AUC': None, 'F1 Score': 0.651384195834107, 'Time taken': 7.330153942108154}\n"
     ]
    },
    {
     "name": "stderr",
     "output_type": "stream",
     "text": [
      " 79%|███████▉  | 23/29 [12:11<00:32,  5.39s/it]"
     ]
    },
    {
     "name": "stdout",
     "output_type": "stream",
     "text": [
      "{'Model': 'RidgeClassifier', 'Accuracy': 0.35324074074074074, 'Balanced Accuracy': 0.30656258050239726, 'ROC AUC': None, 'F1 Score': 0.2738529791156984, 'Time taken': 0.2986907958984375}\n"
     ]
    },
    {
     "name": "stderr",
     "output_type": "stream",
     "text": [
      " 83%|████████▎ | 24/29 [12:12<00:19,  3.95s/it]"
     ]
    },
    {
     "name": "stdout",
     "output_type": "stream",
     "text": [
      "{'Model': 'RidgeClassifierCV', 'Accuracy': 0.35324074074074074, 'Balanced Accuracy': 0.30656258050239726, 'ROC AUC': None, 'F1 Score': 0.273846244586757, 'Time taken': 0.602168083190918}\n"
     ]
    },
    {
     "name": "stderr",
     "output_type": "stream",
     "text": [
      " 86%|████████▌ | 25/29 [12:16<00:16,  4.02s/it]"
     ]
    },
    {
     "name": "stdout",
     "output_type": "stream",
     "text": [
      "{'Model': 'SGDClassifier', 'Accuracy': 0.358641975308642, 'Balanced Accuracy': 0.3308453591470587, 'ROC AUC': None, 'F1 Score': 0.3262955204524039, 'Time taken': 4.148768186569214}\n"
     ]
    },
    {
     "name": "stderr",
     "output_type": "stream",
     "text": [
      " 90%|████████▉ | 26/29 [15:15<02:49, 56.66s/it]"
     ]
    },
    {
     "name": "stdout",
     "output_type": "stream",
     "text": [
      "{'Model': 'SVC', 'Accuracy': 0.7550154320987654, 'Balanced Accuracy': 0.7108683327185734, 'ROC AUC': None, 'F1 Score': 0.7365578807889107, 'Time taken': 179.46742296218872}\n"
     ]
    },
    {
     "name": "stderr",
     "output_type": "stream",
     "text": [
      " 97%|█████████▋| 28/29 [15:56<00:39, 39.85s/it]"
     ]
    },
    {
     "name": "stdout",
     "output_type": "stream",
     "text": [
      "{'Model': 'XGBClassifier', 'Accuracy': 0.7594907407407407, 'Balanced Accuracy': 0.7316923753649194, 'ROC AUC': None, 'F1 Score': 0.7540202511531487, 'Time taken': 40.473631858825684}\n"
     ]
    },
    {
     "name": "stderr",
     "output_type": "stream",
     "text": [
      "100%|██████████| 29/29 [16:00<00:00, 33.11s/it]"
     ]
    },
    {
     "name": "stdout",
     "output_type": "stream",
     "text": [
      "{'Model': 'LGBMClassifier', 'Accuracy': 0.7696759259259259, 'Balanced Accuracy': 0.7381276550649999, 'ROC AUC': None, 'F1 Score': 0.7615709973269826, 'Time taken': 3.7923200130462646}\n",
      "                               Accuracy  Balanced Accuracy ROC AUC  F1 Score  \\\n",
      "Model                                                                          \n",
      "LGBMClassifier                     0.77               0.74    None      0.76   \n",
      "XGBClassifier                      0.76               0.73    None      0.75   \n",
      "SVC                                0.76               0.71    None      0.74   \n",
      "BaggingClassifier                  0.71               0.69    None      0.71   \n",
      "DecisionTreeClassifier             0.68               0.66    None      0.68   \n",
      "ExtraTreesClassifier               0.66               0.64    None      0.66   \n",
      "RandomForestClassifier             0.65               0.62    None      0.65   \n",
      "ExtraTreeClassifier                0.64               0.62    None      0.64   \n",
      "LogisticRegression                 0.65               0.60    None      0.62   \n",
      "LinearDiscriminantAnalysis         0.63               0.58    None      0.59   \n",
      "LabelPropagation                   0.56               0.53    None      0.56   \n",
      "LabelSpreading                     0.56               0.53    None      0.56   \n",
      "CalibratedClassifierCV             0.52               0.46    None      0.47   \n",
      "AdaBoostClassifier                 0.53               0.44    None      0.42   \n",
      "LinearSVC                          0.48               0.44    None      0.41   \n",
      "KNeighborsClassifier               0.46               0.43    None      0.46   \n",
      "GaussianNB                         0.38               0.43    None      0.28   \n",
      "NearestCentroid                    0.34               0.36    None      0.35   \n",
      "Perceptron                         0.35               0.34    None      0.34   \n",
      "QuadraticDiscriminantAnalysis      0.30               0.34    None      0.29   \n",
      "SGDClassifier                      0.36               0.33    None      0.33   \n",
      "RidgeClassifier                    0.35               0.31    None      0.27   \n",
      "RidgeClassifierCV                  0.35               0.31    None      0.27   \n",
      "PassiveAggressiveClassifier        0.32               0.30    None      0.31   \n",
      "BernoulliNB                        0.31               0.28    None      0.27   \n",
      "DummyClassifier                    0.14               0.13    None      0.14   \n",
      "\n",
      "                               Time Taken  \n",
      "Model                                      \n",
      "LGBMClassifier                       3.79  \n",
      "XGBClassifier                       40.47  \n",
      "SVC                                179.47  \n",
      "BaggingClassifier                    2.13  \n",
      "DecisionTreeClassifier               0.48  \n",
      "ExtraTreesClassifier                 6.59  \n",
      "RandomForestClassifier               7.33  \n",
      "ExtraTreeClassifier                  0.24  \n",
      "LogisticRegression                   2.50  \n",
      "LinearDiscriminantAnalysis           1.03  \n",
      "LabelPropagation                    53.58  \n",
      "LabelSpreading                     148.45  \n",
      "CalibratedClassifierCV             376.41  \n",
      "AdaBoostClassifier                   2.97  \n",
      "LinearSVC                           93.16  \n",
      "KNeighborsClassifier                33.07  \n",
      "GaussianNB                           0.27  \n",
      "NearestCentroid                      0.25  \n",
      "Perceptron                           0.73  \n",
      "QuadraticDiscriminantAnalysis        0.36  \n",
      "SGDClassifier                        4.15  \n",
      "RidgeClassifier                      0.30  \n",
      "RidgeClassifierCV                    0.60  \n",
      "PassiveAggressiveClassifier          0.97  \n",
      "BernoulliNB                          0.22  \n",
      "DummyClassifier                      0.18  \n"
     ]
    },
    {
     "name": "stderr",
     "output_type": "stream",
     "text": [
      "\n"
     ]
    }
   ],
   "source": [
    "from lazypredict.Supervised import LazyRegressor, LazyClassifier\n",
    "from sklearn.model_selection import train_test_split\n",
    "X2 = Covid.loc[:, Covid.columns != 'WARD']\n",
    "y2 = Covid['WARD']\n",
    "\n",
    "X2_train, X2_test, y2_train, y2_test = train_test_split(X2, y2, test_size=0.3, shuffle=True)\n",
    "lazy = LazyClassifier(verbose=1, ignore_warnings=True, custom_metric=None)\n",
    "Covid_models, Covid_predictions = lazy.fit(X2_train, X2_test, y2_train, y2_test)\n",
    "print(Covid_models)"
   ]
  },
  {
   "cell_type": "code",
   "execution_count": null,
   "metadata": {},
   "outputs": [],
   "source": []
  }
 ],
 "metadata": {
  "colab": {
   "collapsed_sections": [],
   "name": "MergedDate_LazyPredict.ipynb",
   "provenance": []
  },
  "kernelspec": {
   "display_name": "Python 3",
   "language": "python",
   "name": "python3"
  },
  "language_info": {
   "codemirror_mode": {
    "name": "ipython",
    "version": 3
   },
   "file_extension": ".py",
   "mimetype": "text/x-python",
   "name": "python",
   "nbconvert_exporter": "python",
   "pygments_lexer": "ipython3",
   "version": "3.7.9"
  }
 },
 "nbformat": 4,
 "nbformat_minor": 5
}
