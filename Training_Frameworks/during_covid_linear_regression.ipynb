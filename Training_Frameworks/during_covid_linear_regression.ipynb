{
 "cells": [
  {
   "cell_type": "markdown",
   "metadata": {},
   "source": [
    "### Import libraries"
   ]
  },
  {
   "cell_type": "code",
   "execution_count": 1,
   "metadata": {},
   "outputs": [],
   "source": [
    "import os\n",
    "import pandas as pd\n",
    "import copy\n",
    "import matplotlib.pyplot as plt\n",
    "import seaborn as sns\n",
    "\n",
    "import statsmodels.formula.api as sm\n",
    "from sklearn.model_selection import train_test_split\n",
    "from sklearn.linear_model import LinearRegression\n",
    "from sklearn.metrics import mean_squared_error, r2_score\n",
    "from sklearn.model_selection import cross_validate, RepeatedKFold"
   ]
  },
  {
   "cell_type": "markdown",
   "metadata": {},
   "source": [
    "### List of directories with corresponding paths:"
   ]
  },
  {
   "cell_type": "code",
   "execution_count": 2,
   "metadata": {},
   "outputs": [],
   "source": [
    "main_dir = os.path.join(os.getcwd())\n",
    "data_dir = os.path.join(main_dir, \"Data\")\n",
    "shapefiles_dir = os.path.join(main_dir, data_dir, \"shapefiles\")"
   ]
  },
  {
   "cell_type": "markdown",
   "metadata": {},
   "source": [
    "# Read in merged dataset that includes Crime with COVID case data"
   ]
  },
  {
   "cell_type": "code",
   "execution_count": 3,
   "metadata": {},
   "outputs": [],
   "source": [
    "daily_crime_during_covid_df = pd.read_csv(os.path.join(data_dir, 'daily_crime_during_COVID.csv'), index_col=0)"
   ]
  },
  {
   "cell_type": "code",
   "execution_count": 4,
   "metadata": {
    "scrolled": true
   },
   "outputs": [
    {
     "data": {
      "text/html": [
       "<div>\n",
       "<style scoped>\n",
       "    .dataframe tbody tr th:only-of-type {\n",
       "        vertical-align: middle;\n",
       "    }\n",
       "\n",
       "    .dataframe tbody tr th {\n",
       "        vertical-align: top;\n",
       "    }\n",
       "\n",
       "    .dataframe thead th {\n",
       "        text-align: right;\n",
       "    }\n",
       "</style>\n",
       "<table border=\"1\" class=\"dataframe\">\n",
       "  <thead>\n",
       "    <tr style=\"text-align: right;\">\n",
       "      <th></th>\n",
       "      <th>date</th>\n",
       "      <th>daily_crime_count</th>\n",
       "      <th>covid_daily_case_count</th>\n",
       "      <th>covid_deaths</th>\n",
       "      <th>CT_ARSON_DR</th>\n",
       "      <th>CT_ASSAULT_DR</th>\n",
       "      <th>CT_BURGLARY_DR</th>\n",
       "      <th>CT_HOMICIDE_DR</th>\n",
       "      <th>CT_MOTOR_THEFT_DR</th>\n",
       "      <th>CT_ROBBERY_DR</th>\n",
       "      <th>...</th>\n",
       "      <th>CL_WARD_2_DR</th>\n",
       "      <th>CL_WARD_3_DR</th>\n",
       "      <th>CL_WARD_4_DR</th>\n",
       "      <th>CL_WARD_5_DR</th>\n",
       "      <th>CL_WARD_6_DR</th>\n",
       "      <th>CL_WARD_7_DR</th>\n",
       "      <th>CL_WARD_8_DR</th>\n",
       "      <th>CO_SHIFT_MORNING_DR</th>\n",
       "      <th>CO_SHIFT_EVENING_DR</th>\n",
       "      <th>CO_SHIFT_MIDNIGHT_DR</th>\n",
       "    </tr>\n",
       "  </thead>\n",
       "  <tbody>\n",
       "    <tr>\n",
       "      <th>0</th>\n",
       "      <td>2020-03-07</td>\n",
       "      <td>65</td>\n",
       "      <td>1</td>\n",
       "      <td>0</td>\n",
       "      <td>0</td>\n",
       "      <td>3</td>\n",
       "      <td>2</td>\n",
       "      <td>0</td>\n",
       "      <td>6</td>\n",
       "      <td>3</td>\n",
       "      <td>...</td>\n",
       "      <td>13</td>\n",
       "      <td>6</td>\n",
       "      <td>7</td>\n",
       "      <td>10</td>\n",
       "      <td>5</td>\n",
       "      <td>7</td>\n",
       "      <td>5</td>\n",
       "      <td>28</td>\n",
       "      <td>25</td>\n",
       "      <td>12</td>\n",
       "    </tr>\n",
       "    <tr>\n",
       "      <th>1</th>\n",
       "      <td>2020-03-08</td>\n",
       "      <td>56</td>\n",
       "      <td>1</td>\n",
       "      <td>0</td>\n",
       "      <td>0</td>\n",
       "      <td>1</td>\n",
       "      <td>1</td>\n",
       "      <td>0</td>\n",
       "      <td>7</td>\n",
       "      <td>7</td>\n",
       "      <td>...</td>\n",
       "      <td>9</td>\n",
       "      <td>1</td>\n",
       "      <td>5</td>\n",
       "      <td>8</td>\n",
       "      <td>11</td>\n",
       "      <td>5</td>\n",
       "      <td>6</td>\n",
       "      <td>17</td>\n",
       "      <td>22</td>\n",
       "      <td>17</td>\n",
       "    </tr>\n",
       "    <tr>\n",
       "      <th>2</th>\n",
       "      <td>2020-03-09</td>\n",
       "      <td>82</td>\n",
       "      <td>4</td>\n",
       "      <td>0</td>\n",
       "      <td>0</td>\n",
       "      <td>3</td>\n",
       "      <td>1</td>\n",
       "      <td>0</td>\n",
       "      <td>4</td>\n",
       "      <td>1</td>\n",
       "      <td>...</td>\n",
       "      <td>14</td>\n",
       "      <td>7</td>\n",
       "      <td>12</td>\n",
       "      <td>12</td>\n",
       "      <td>14</td>\n",
       "      <td>16</td>\n",
       "      <td>2</td>\n",
       "      <td>28</td>\n",
       "      <td>38</td>\n",
       "      <td>16</td>\n",
       "    </tr>\n",
       "    <tr>\n",
       "      <th>3</th>\n",
       "      <td>2020-03-10</td>\n",
       "      <td>71</td>\n",
       "      <td>4</td>\n",
       "      <td>0</td>\n",
       "      <td>0</td>\n",
       "      <td>5</td>\n",
       "      <td>8</td>\n",
       "      <td>1</td>\n",
       "      <td>6</td>\n",
       "      <td>1</td>\n",
       "      <td>...</td>\n",
       "      <td>19</td>\n",
       "      <td>3</td>\n",
       "      <td>5</td>\n",
       "      <td>9</td>\n",
       "      <td>11</td>\n",
       "      <td>8</td>\n",
       "      <td>8</td>\n",
       "      <td>28</td>\n",
       "      <td>26</td>\n",
       "      <td>17</td>\n",
       "    </tr>\n",
       "    <tr>\n",
       "      <th>4</th>\n",
       "      <td>2020-03-11</td>\n",
       "      <td>70</td>\n",
       "      <td>10</td>\n",
       "      <td>0</td>\n",
       "      <td>0</td>\n",
       "      <td>0</td>\n",
       "      <td>3</td>\n",
       "      <td>0</td>\n",
       "      <td>4</td>\n",
       "      <td>1</td>\n",
       "      <td>...</td>\n",
       "      <td>15</td>\n",
       "      <td>3</td>\n",
       "      <td>11</td>\n",
       "      <td>8</td>\n",
       "      <td>12</td>\n",
       "      <td>8</td>\n",
       "      <td>5</td>\n",
       "      <td>27</td>\n",
       "      <td>26</td>\n",
       "      <td>17</td>\n",
       "    </tr>\n",
       "  </tbody>\n",
       "</table>\n",
       "<p>5 rows × 24 columns</p>\n",
       "</div>"
      ],
      "text/plain": [
       "         date  daily_crime_count  covid_daily_case_count  covid_deaths  \\\n",
       "0  2020-03-07                 65                       1             0   \n",
       "1  2020-03-08                 56                       1             0   \n",
       "2  2020-03-09                 82                       4             0   \n",
       "3  2020-03-10                 71                       4             0   \n",
       "4  2020-03-11                 70                      10             0   \n",
       "\n",
       "   CT_ARSON_DR  CT_ASSAULT_DR  CT_BURGLARY_DR  CT_HOMICIDE_DR  \\\n",
       "0            0              3               2               0   \n",
       "1            0              1               1               0   \n",
       "2            0              3               1               0   \n",
       "3            0              5               8               1   \n",
       "4            0              0               3               0   \n",
       "\n",
       "   CT_MOTOR_THEFT_DR  CT_ROBBERY_DR  ...  CL_WARD_2_DR  CL_WARD_3_DR  \\\n",
       "0                  6              3  ...            13             6   \n",
       "1                  7              7  ...             9             1   \n",
       "2                  4              1  ...            14             7   \n",
       "3                  6              1  ...            19             3   \n",
       "4                  4              1  ...            15             3   \n",
       "\n",
       "   CL_WARD_4_DR  CL_WARD_5_DR  CL_WARD_6_DR  CL_WARD_7_DR  CL_WARD_8_DR  \\\n",
       "0             7            10             5             7             5   \n",
       "1             5             8            11             5             6   \n",
       "2            12            12            14            16             2   \n",
       "3             5             9            11             8             8   \n",
       "4            11             8            12             8             5   \n",
       "\n",
       "   CO_SHIFT_MORNING_DR  CO_SHIFT_EVENING_DR  CO_SHIFT_MIDNIGHT_DR  \n",
       "0                   28                   25                    12  \n",
       "1                   17                   22                    17  \n",
       "2                   28                   38                    16  \n",
       "3                   28                   26                    17  \n",
       "4                   27                   26                    17  \n",
       "\n",
       "[5 rows x 24 columns]"
      ]
     },
     "execution_count": 4,
     "metadata": {},
     "output_type": "execute_result"
    }
   ],
   "source": [
    "daily_crime_during_covid_df.head()"
   ]
  },
  {
   "cell_type": "code",
   "execution_count": 5,
   "metadata": {},
   "outputs": [],
   "source": [
    "# get X and y\n",
    "y = daily_crime_during_covid_df.pop('daily_crime_count')\n",
    "X = daily_crime_during_covid_df.drop(columns=['date'])\n",
    "\n",
    "# train test split\n",
    "X_train, X_test, y_train, y_test = train_test_split(X, y, test_size=0.3, shuffle=True)"
   ]
  },
  {
   "cell_type": "code",
   "execution_count": 6,
   "metadata": {},
   "outputs": [
    {
     "data": {
      "text/plain": [
       "(415, 22)"
      ]
     },
     "execution_count": 6,
     "metadata": {},
     "output_type": "execute_result"
    }
   ],
   "source": [
    "X_train.shape"
   ]
  },
  {
   "cell_type": "code",
   "execution_count": 7,
   "metadata": {},
   "outputs": [
    {
     "data": {
      "text/plain": [
       "(415,)"
      ]
     },
     "execution_count": 7,
     "metadata": {},
     "output_type": "execute_result"
    }
   ],
   "source": [
    "y_train.shape"
   ]
  },
  {
   "cell_type": "code",
   "execution_count": 8,
   "metadata": {},
   "outputs": [
    {
     "data": {
      "text/plain": [
       "(179, 22)"
      ]
     },
     "execution_count": 8,
     "metadata": {},
     "output_type": "execute_result"
    }
   ],
   "source": [
    "X_test.shape"
   ]
  },
  {
   "cell_type": "code",
   "execution_count": 9,
   "metadata": {},
   "outputs": [
    {
     "data": {
      "text/plain": [
       "(179,)"
      ]
     },
     "execution_count": 9,
     "metadata": {},
     "output_type": "execute_result"
    }
   ],
   "source": [
    "y_test.shape"
   ]
  },
  {
   "cell_type": "markdown",
   "metadata": {},
   "source": [
    "## Linear Regression - sklearn"
   ]
  },
  {
   "cell_type": "code",
   "execution_count": 10,
   "metadata": {},
   "outputs": [],
   "source": [
    "# instantiate model\n",
    "lr = LinearRegression()\n",
    "# fit model\n",
    "lr.fit(X_train, y_train)\n",
    "# make predictions\n",
    "y_pred = lr.predict(X_test)"
   ]
  },
  {
   "cell_type": "code",
   "execution_count": 11,
   "metadata": {},
   "outputs": [
    {
     "name": "stdout",
     "output_type": "stream",
     "text": [
      "Mean squared error: 3.4823757850902795e-26\n",
      "R squared value: 1.0\n"
     ]
    }
   ],
   "source": [
    "# evaluate model\n",
    "mse = mean_squared_error(y_test, y_pred)\n",
    "print('Mean squared error:', mse)\n",
    "r_squared = r2_score(y_test, y_pred)\n",
    "print('R squared value:', r_squared)"
   ]
  },
  {
   "cell_type": "code",
   "execution_count": 12,
   "metadata": {},
   "outputs": [
    {
     "data": {
      "image/png": "[encoded data removed]",
      "text/plain": [
       "<Figure size 720x432 with 1 Axes>"
      ]
     },
     "metadata": {},
     "output_type": "display_data"
    }
   ],
   "source": [
    "# visualize model performance\n",
    "sns.set_style('whitegrid')\n",
    "fig, ax = plt.subplots(figsize=(10,6))\n",
    "sns.scatterplot(x=y_test, y=y_pred)\n",
    "plt.xlabel('actual value of daily crime counts')\n",
    "plt.ylabel('predicted value of daily crime counts')\n",
    "plt.show()"
   ]
  },
  {
   "cell_type": "code",
   "execution_count": 13,
   "metadata": {},
   "outputs": [
    {
     "data": {
      "text/plain": [
       "[('CO_SHIFT_MORNING_DR', 0.5853658536585379),\n",
       " ('CO_SHIFT_EVENING_DR', 0.5853658536585367),\n",
       " ('CO_SHIFT_MIDNIGHT_DR', 0.5853658536585366),\n",
       " ('CL_WARD_6_DR', 0.21951219512195233),\n",
       " ('CL_WARD_2_DR', 0.21951219512195208),\n",
       " ('CL_WARD_5_DR', 0.21951219512195186),\n",
       " ('CL_WARD_4_DR', 0.21951219512195183),\n",
       " ('CL_WARD_7_DR', 0.21951219512195164),\n",
       " ('CL_WARD_1_DR', 0.2195121951219516),\n",
       " ('CL_WARD_3_DR', 0.2195121951219516),\n",
       " ('CL_WARD_8_DR', 0.21951219512195136),\n",
       " ('CT_ARSON_DR', 0.195121951219518),\n",
       " ('CT_THEFT_FROM_OTHER_DR', 0.19512195121951315),\n",
       " ('CT_MOTOR_THEFT_DR', 0.1951219512195129),\n",
       " ('CT_THEFT_FROM_CAR_DR', 0.1951219512195129),\n",
       " ('CT_BURGLARY_DR', 0.1951219512195124),\n",
       " ('CT_ROBBERY_DR', 0.1951219512195117),\n",
       " ('CT_SEX_ABUSE_DR', 0.19512195121951123),\n",
       " ('CT_HOMICIDE_DR', 0.19512195121951037),\n",
       " ('CT_ASSAULT_DR', 0.19512195121951026),\n",
       " ('covid_deaths', 1.4693107841523556e-15),\n",
       " ('covid_daily_case_count', -1.895041737182412e-17)]"
      ]
     },
     "execution_count": 13,
     "metadata": {},
     "output_type": "execute_result"
    }
   ],
   "source": [
    "# see coefficients\n",
    "coefs = [(col, coef) for col, coef in zip(X.columns, lr.coef_)] \n",
    "coefs = sorted(coefs, key=lambda x: x[1], reverse=True)\n",
    "coefs"
   ]
  },
  {
   "cell_type": "markdown",
   "metadata": {},
   "source": [
    "### –––––––––> coefficients for covid variables are the smallest "
   ]
  },
  {
   "cell_type": "markdown",
   "metadata": {},
   "source": [
    "## check linear regression with statsmodels"
   ]
  },
  {
   "cell_type": "code",
   "execution_count": 14,
   "metadata": {},
   "outputs": [],
   "source": [
    "# see stats with statsmodels library\n",
    "sm_pred = sm.ols('y ~ X', data=X).fit() "
   ]
  },
  {
   "cell_type": "code",
   "execution_count": 15,
   "metadata": {},
   "outputs": [
    {
     "name": "stdout",
     "output_type": "stream",
     "text": [
      "                            OLS Regression Results                            \n",
      "==============================================================================\n",
      "Dep. Variable:                      y   R-squared:                       1.000\n",
      "Model:                            OLS   Adj. R-squared:                  1.000\n",
      "Method:                 Least Squares   F-statistic:                 3.789e+28\n",
      "Date:                Tue, 16 Nov 2021   Prob (F-statistic):               0.00\n",
      "Time:                        13:13:05   Log-Likelihood:                 16043.\n",
      "No. Observations:                 594   AIC:                        -3.204e+04\n",
      "Df Residuals:                     573   BIC:                        -3.195e+04\n",
      "Df Model:                          20                                         \n",
      "Covariance Type:            nonrobust                                         \n",
      "==============================================================================\n",
      "                 coef    std err          t      P>|t|      [0.025      0.975]\n",
      "------------------------------------------------------------------------------\n",
      "Intercept   1.865e-14   1.04e-13      0.179      0.858   -1.86e-13    2.23e-13\n",
      "X[0]         3.85e-17   3.49e-18     11.046      0.000    3.17e-17    4.53e-17\n",
      "X[1]        -1.93e-15   1.96e-16     -9.844      0.000   -2.32e-15   -1.55e-15\n",
      "X[2]           0.1951   1.26e-13   1.55e+12      0.000       0.195       0.195\n",
      "X[3]           0.1951   1.58e-14   1.24e+13      0.000       0.195       0.195\n",
      "X[4]           0.1951   1.39e-14   1.41e+13      0.000       0.195       0.195\n",
      "X[5]           0.1951   3.06e-14   6.38e+12      0.000       0.195       0.195\n",
      "X[6]           0.1951   1.37e-14   1.42e+13      0.000       0.195       0.195\n",
      "X[7]           0.1951   1.45e-14   1.34e+13      0.000       0.195       0.195\n",
      "X[8]           0.1951   3.04e-14   6.42e+12      0.000       0.195       0.195\n",
      "X[9]           0.1951   1.29e-14   1.51e+13      0.000       0.195       0.195\n",
      "X[10]          0.1951   1.31e-14   1.49e+13      0.000       0.195       0.195\n",
      "X[11]          0.2195   6.53e-15   3.36e+13      0.000       0.220       0.220\n",
      "X[12]          0.2195   5.83e-15   3.77e+13      0.000       0.220       0.220\n",
      "X[13]          0.2195   9.21e-15   2.38e+13      0.000       0.220       0.220\n",
      "X[14]          0.2195   7.06e-15   3.11e+13      0.000       0.220       0.220\n",
      "X[15]          0.2195   6.39e-15   3.43e+13      0.000       0.220       0.220\n",
      "X[16]          0.2195    6.1e-15    3.6e+13      0.000       0.220       0.220\n",
      "X[17]          0.2195   6.84e-15   3.21e+13      0.000       0.220       0.220\n",
      "X[18]          0.2195   7.61e-15   2.89e+13      0.000       0.220       0.220\n",
      "X[19]          0.5854   9.67e-15   6.05e+13      0.000       0.585       0.585\n",
      "X[20]          0.5854    9.7e-15   6.03e+13      0.000       0.585       0.585\n",
      "X[21]          0.5854   9.79e-15   5.98e+13      0.000       0.585       0.585\n",
      "==============================================================================\n",
      "Omnibus:                       30.057   Durbin-Watson:                   0.004\n",
      "Prob(Omnibus):                  0.000   Jarque-Bera (JB):               23.350\n",
      "Skew:                          -0.393   Prob(JB):                     8.50e-06\n",
      "Kurtosis:                       2.428   Cond. No.                     2.46e+19\n",
      "==============================================================================\n",
      "\n",
      "Notes:\n",
      "[1] Standard Errors assume that the covariance matrix of the errors is correctly specified.\n",
      "[2] The smallest eigenvalue is 1.24e-27. This might indicate that there are\n",
      "strong multicollinearity problems or that the design matrix is singular.\n"
     ]
    }
   ],
   "source": [
    "print(sm_pred.summary())"
   ]
  },
  {
   "cell_type": "markdown",
   "metadata": {},
   "source": [
    "## Use k-fold cross validation to see variability in coefficients for different iterations"
   ]
  },
  {
   "cell_type": "code",
   "execution_count": 16,
   "metadata": {},
   "outputs": [
    {
     "data": {
      "image/png": "[encoded data removed]",
      "text/plain": [
       "<Figure size 720x432 with 1 Axes>"
      ]
     },
     "metadata": {},
     "output_type": "display_data"
    }
   ],
   "source": [
    "# k-fold cross validate\n",
    "cv_model = cross_validate(lr, X_train, y_train, \n",
    "                         cv=RepeatedKFold(n_splits=5, n_repeats=5), \n",
    "                         return_estimator=True)\n",
    "cv_coefs = pd.DataFrame([est.coef_ * X_train.std(axis=0) for est in cv_model[\"estimator\"]], columns=X.columns)\n",
    "plt.figure(figsize=(10,6))\n",
    "sns.stripplot(data=cv_coefs, orient='h', color='k', alpha=0.5)\n",
    "sns.boxplot(data=cv_coefs, orient='h', color='cyan', saturation=0.5)\n",
    "plt.xlabel(\"Coefficient importance\")\n",
    "plt.title(\"Coefficient importance and its variability\")\n",
    "plt.show()"
   ]
  },
  {
   "cell_type": "code",
   "execution_count": null,
   "metadata": {},
   "outputs": [],
   "source": []
  }
 ],
 "metadata": {
  "kernelspec": {
   "display_name": "Python 3",
   "language": "python",
   "name": "python3"
  },
  "language_info": {
   "codemirror_mode": {
    "name": "ipython",
    "version": 3
   },
   "file_extension": ".py",
   "mimetype": "text/x-python",
   "name": "python",
   "nbconvert_exporter": "python",
   "pygments_lexer": "ipython3",
   "version": "3.8.5"
  }
 },
 "nbformat": 4,
 "nbformat_minor": 5
}
