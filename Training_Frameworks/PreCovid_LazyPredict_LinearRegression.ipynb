{
  "nbformat": 4,
  "nbformat_minor": 0,
  "metadata": {
    "colab": {
      "name": "PreCovid_LazyPredict_LinearRegression.ipynb",
      "provenance": [],
      "collapsed_sections": []
    },
    "kernelspec": {
      "name": "python3",
      "display_name": "Python 3"
    },
    "language_info": {
      "name": "python"
    }
  },
  "cells": [
    {
      "cell_type": "code",
      "metadata": {
        "id": "QmjI39GENSSA"
      },
      "source": [
        "import pandas as pd\n",
        "from sklearn.model_selection import train_test_split, GridSearchCV\n",
        "from sklearn.linear_model import LinearRegression, Lasso, Ridge\n",
        "from sklearn.metrics import mean_squared_error, r2_score\n",
        "from sklearn.preprocessing import StandardScaler\n",
        "from sklearn.pipeline import Pipeline\n",
        "from lazypredict.Supervised import LazyRegressor\n",
        "import statsmodels.api as sm\n",
        "import matplotlib.pyplot as plt\n",
        "import numpy as np"
      ],
      "execution_count": 27,
      "outputs": []
    },
    {
      "cell_type": "code",
      "metadata": {
        "colab": {
          "base_uri": "https://localhost:8080/",
          "height": 309
        },
        "id": "dPCTXc0ANYOE",
        "outputId": "0a887f59-eaea-4b98-a598-a5ae745d8c8d"
      },
      "source": [
        "preCovid = pd.read_csv('/content/daily_crime_during_PRE-COVID.csv', index_col=0)\n",
        "preCovid.sample(5)"
      ],
      "execution_count": 2,
      "outputs": [
        {
          "output_type": "execute_result",
          "data": {
            "text/html": [
              "<div>\n",
              "<style scoped>\n",
              "    .dataframe tbody tr th:only-of-type {\n",
              "        vertical-align: middle;\n",
              "    }\n",
              "\n",
              "    .dataframe tbody tr th {\n",
              "        vertical-align: top;\n",
              "    }\n",
              "\n",
              "    .dataframe thead th {\n",
              "        text-align: right;\n",
              "    }\n",
              "</style>\n",
              "<table border=\"1\" class=\"dataframe\">\n",
              "  <thead>\n",
              "    <tr style=\"text-align: right;\">\n",
              "      <th></th>\n",
              "      <th>date</th>\n",
              "      <th>daily_crime_count</th>\n",
              "      <th>CT_ARSON_DR</th>\n",
              "      <th>CT_ASSAULT_DR</th>\n",
              "      <th>CT_BURGLARY_DR</th>\n",
              "      <th>CT_HOMICIDE_DR</th>\n",
              "      <th>CT_MOTOR_THEFT_DR</th>\n",
              "      <th>CT_ROBBERY_DR</th>\n",
              "      <th>CT_SEX_ABUSE_DR</th>\n",
              "      <th>CT_THEFT_FROM_CAR_DR</th>\n",
              "      <th>CT_THEFT_FROM_OTHER_DR</th>\n",
              "      <th>CL_WARD_1_DR</th>\n",
              "      <th>CL_WARD_2_DR</th>\n",
              "      <th>CL_WARD_3_DR</th>\n",
              "      <th>CL_WARD_4_DR</th>\n",
              "      <th>CL_WARD_5_DR</th>\n",
              "      <th>CL_WARD_6_DR</th>\n",
              "      <th>CL_WARD_7_DR</th>\n",
              "      <th>CL_WARD_8_DR</th>\n",
              "      <th>CO_SHIFT_MORNING_DR</th>\n",
              "      <th>CO_SHIFT_EVENING_DR</th>\n",
              "      <th>CO_SHIFT_MIDNIGHT_DR</th>\n",
              "    </tr>\n",
              "  </thead>\n",
              "  <tbody>\n",
              "    <tr>\n",
              "      <th>16</th>\n",
              "      <td>2017-01-17</td>\n",
              "      <td>97</td>\n",
              "      <td>0</td>\n",
              "      <td>5</td>\n",
              "      <td>9</td>\n",
              "      <td>1</td>\n",
              "      <td>5</td>\n",
              "      <td>5</td>\n",
              "      <td>1</td>\n",
              "      <td>41</td>\n",
              "      <td>30</td>\n",
              "      <td>10</td>\n",
              "      <td>18</td>\n",
              "      <td>4</td>\n",
              "      <td>10</td>\n",
              "      <td>13</td>\n",
              "      <td>13</td>\n",
              "      <td>17</td>\n",
              "      <td>12</td>\n",
              "      <td>39</td>\n",
              "      <td>42</td>\n",
              "      <td>16</td>\n",
              "    </tr>\n",
              "    <tr>\n",
              "      <th>748</th>\n",
              "      <td>2019-01-19</td>\n",
              "      <td>67</td>\n",
              "      <td>0</td>\n",
              "      <td>3</td>\n",
              "      <td>5</td>\n",
              "      <td>1</td>\n",
              "      <td>5</td>\n",
              "      <td>4</td>\n",
              "      <td>0</td>\n",
              "      <td>32</td>\n",
              "      <td>17</td>\n",
              "      <td>10</td>\n",
              "      <td>12</td>\n",
              "      <td>2</td>\n",
              "      <td>6</td>\n",
              "      <td>15</td>\n",
              "      <td>9</td>\n",
              "      <td>8</td>\n",
              "      <td>5</td>\n",
              "      <td>19</td>\n",
              "      <td>20</td>\n",
              "      <td>28</td>\n",
              "    </tr>\n",
              "    <tr>\n",
              "      <th>760</th>\n",
              "      <td>2019-01-31</td>\n",
              "      <td>51</td>\n",
              "      <td>0</td>\n",
              "      <td>3</td>\n",
              "      <td>4</td>\n",
              "      <td>0</td>\n",
              "      <td>2</td>\n",
              "      <td>3</td>\n",
              "      <td>0</td>\n",
              "      <td>19</td>\n",
              "      <td>20</td>\n",
              "      <td>6</td>\n",
              "      <td>9</td>\n",
              "      <td>1</td>\n",
              "      <td>7</td>\n",
              "      <td>5</td>\n",
              "      <td>7</td>\n",
              "      <td>8</td>\n",
              "      <td>8</td>\n",
              "      <td>16</td>\n",
              "      <td>19</td>\n",
              "      <td>16</td>\n",
              "    </tr>\n",
              "    <tr>\n",
              "      <th>387</th>\n",
              "      <td>2018-01-23</td>\n",
              "      <td>90</td>\n",
              "      <td>0</td>\n",
              "      <td>1</td>\n",
              "      <td>6</td>\n",
              "      <td>0</td>\n",
              "      <td>4</td>\n",
              "      <td>7</td>\n",
              "      <td>1</td>\n",
              "      <td>38</td>\n",
              "      <td>33</td>\n",
              "      <td>15</td>\n",
              "      <td>17</td>\n",
              "      <td>4</td>\n",
              "      <td>12</td>\n",
              "      <td>11</td>\n",
              "      <td>9</td>\n",
              "      <td>15</td>\n",
              "      <td>7</td>\n",
              "      <td>30</td>\n",
              "      <td>43</td>\n",
              "      <td>17</td>\n",
              "    </tr>\n",
              "    <tr>\n",
              "      <th>160</th>\n",
              "      <td>2017-06-10</td>\n",
              "      <td>77</td>\n",
              "      <td>0</td>\n",
              "      <td>2</td>\n",
              "      <td>4</td>\n",
              "      <td>0</td>\n",
              "      <td>5</td>\n",
              "      <td>4</td>\n",
              "      <td>1</td>\n",
              "      <td>24</td>\n",
              "      <td>37</td>\n",
              "      <td>17</td>\n",
              "      <td>12</td>\n",
              "      <td>4</td>\n",
              "      <td>6</td>\n",
              "      <td>11</td>\n",
              "      <td>15</td>\n",
              "      <td>9</td>\n",
              "      <td>3</td>\n",
              "      <td>28</td>\n",
              "      <td>37</td>\n",
              "      <td>12</td>\n",
              "    </tr>\n",
              "  </tbody>\n",
              "</table>\n",
              "</div>"
            ],
            "text/plain": [
              "           date  daily_crime_count  ...  CO_SHIFT_EVENING_DR  CO_SHIFT_MIDNIGHT_DR\n",
              "16   2017-01-17                 97  ...                   42                    16\n",
              "748  2019-01-19                 67  ...                   20                    28\n",
              "760  2019-01-31                 51  ...                   19                    16\n",
              "387  2018-01-23                 90  ...                   43                    17\n",
              "160  2017-06-10                 77  ...                   37                    12\n",
              "\n",
              "[5 rows x 22 columns]"
            ]
          },
          "metadata": {},
          "execution_count": 2
        }
      ]
    },
    {
      "cell_type": "code",
      "metadata": {
        "id": "gYzKdkmZOMyG"
      },
      "source": [
        "X = preCovid.loc[:, preCovid.columns != 'date']\n",
        "y = preCovid['daily_crime_count']\n",
        "\n",
        "X_train, X_test, y_train, y_test = train_test_split(X, y, test_size=0.3, shuffle=True)"
      ],
      "execution_count": 3,
      "outputs": []
    },
    {
      "cell_type": "code",
      "metadata": {
        "id": "gD0SsRsOQygB"
      },
      "source": [
        "#!pip install lazypredict"
      ],
      "execution_count": 4,
      "outputs": []
    },
    {
      "cell_type": "code",
      "metadata": {
        "colab": {
          "base_uri": "https://localhost:8080/"
        },
        "id": "Vd-Ifb1BQ1DY",
        "outputId": "a737e5ce-c67f-406e-da20-f763d24c937b"
      },
      "source": [
        "preCovid_lazy = LazyRegressor(verbose=0, ignore_warnings=False, custom_metric=None)\n",
        "preCovid_models, preCovid_predictions = preCovid_lazy.fit(X_train, X_test, y_train, y_test)\n",
        "print(preCovid_models)"
      ],
      "execution_count": 5,
      "outputs": [
        {
          "output_type": "stream",
          "name": "stderr",
          "text": [
            "100%|██████████| 42/42 [00:04<00:00,  8.61it/s]"
          ]
        },
        {
          "output_type": "stream",
          "name": "stdout",
          "text": [
            "                               Adjusted R-Squared  R-Squared  RMSE  Time Taken\n",
            "Model                                                                         \n",
            "HuberRegressor                               1.00       1.00  0.00        0.19\n",
            "OrthogonalMatchingPursuit                    1.00       1.00  0.00        0.01\n",
            "LinearSVR                                    1.00       1.00  0.00        0.02\n",
            "LinearRegression                             1.00       1.00  0.00        0.02\n",
            "LassoLarsIC                                  1.00       1.00  0.00        0.03\n",
            "LassoLarsCV                                  1.00       1.00  0.00        0.05\n",
            "LarsCV                                       1.00       1.00  0.00        0.05\n",
            "Lars                                         1.00       1.00  0.00        0.02\n",
            "RANSACRegressor                              1.00       1.00  0.00        0.02\n",
            "OrthogonalMatchingPursuitCV                  1.00       1.00  0.00        0.02\n",
            "TransformedTargetRegressor                   1.00       1.00  0.00        0.02\n",
            "BayesianRidge                                1.00       1.00  0.00        0.08\n",
            "RidgeCV                                      1.00       1.00  0.00        0.02\n",
            "SGDRegressor                                 1.00       1.00  0.00        0.02\n",
            "Ridge                                        1.00       1.00  0.00        0.02\n",
            "LassoCV                                      1.00       1.00  0.01        0.15\n",
            "PassiveAggressiveRegressor                   1.00       1.00  0.03        0.01\n",
            "ElasticNetCV                                 1.00       1.00  0.06        0.12\n",
            "GradientBoostingRegressor                    1.00       1.00  0.82        0.24\n",
            "XGBRegressor                                 1.00       1.00  0.89        0.21\n",
            "DecisionTreeRegressor                        1.00       1.00  0.92        0.04\n",
            "Lasso                                        1.00       1.00  0.94        0.03\n",
            "ExtraTreesRegressor                          0.99       0.99  1.03        0.28\n",
            "ExtraTreeRegressor                           0.99       0.99  1.08        0.03\n",
            "BaggingRegressor                             0.99       0.99  1.11        0.05\n",
            "RandomForestRegressor                        0.99       0.99  1.16        0.41\n",
            "AdaBoostRegressor                            0.99       0.99  1.53        0.10\n",
            "HistGradientBoostingRegressor                0.99       0.99  1.57        0.58\n",
            "LGBMRegressor                                0.99       0.99  1.58        0.09\n",
            "ElasticNet                                   0.98       0.98  1.83        0.02\n",
            "GeneralizedLinearRegressor                   0.98       0.98  2.12        0.04\n",
            "TweedieRegressor                             0.98       0.98  2.12        0.02\n",
            "GammaRegressor                               0.97       0.97  2.26        0.01\n",
            "PoissonRegressor                             0.97       0.97  2.30        0.02\n",
            "KNeighborsRegressor                          0.92       0.93  3.84        0.06\n",
            "SVR                                          0.83       0.84  5.60        0.10\n",
            "NuSVR                                        0.83       0.84  5.61        0.09\n",
            "DummyRegressor                              -0.07      -0.00 14.08        0.02\n",
            "LassoLars                                   -0.07      -0.00 14.08        0.02\n",
            "MLPRegressor                                -0.21      -0.14 15.00        1.30\n",
            "GaussianProcessRegressor                   -28.13     -26.38 73.52        0.12\n",
            "KernelRidge                                -31.60     -29.63 77.77        0.06\n"
          ]
        },
        {
          "output_type": "stream",
          "name": "stderr",
          "text": [
            "\n"
          ]
        }
      ]
    },
    {
      "cell_type": "code",
      "metadata": {
        "colab": {
          "base_uri": "https://localhost:8080/"
        },
        "id": "peQJyKdWTdkD",
        "outputId": "d77612ce-801e-4656-d677-3ffb59c6e2b4"
      },
      "source": [
        "# sklearn linear regression model\n",
        "preCovid_lr = LinearRegression()\n",
        "preCovid_lr.fit(X_train, y_train)\n",
        "y_pred = preCovid_lr.predict(X_test)\n",
        "\n",
        "preCovid_mse = mean_squared_error(y_test, y_pred)\n",
        "print('Mean squared error:', preCovid_mse)\n",
        "preCovid_r2= r2_score(y_test, y_pred)\n",
        "print('R squared value:', preCovid_r2)"
      ],
      "execution_count": 6,
      "outputs": [
        {
          "output_type": "stream",
          "name": "stdout",
          "text": [
            "Mean squared error: 2.7630474800635096e-28\n",
            "R squared value: 1.0\n"
          ]
        }
      ]
    },
    {
      "cell_type": "code",
      "metadata": {
        "colab": {
          "base_uri": "https://localhost:8080/"
        },
        "id": "7-qaSF8DRPam",
        "outputId": "3e03e5d4-6b90-4880-bd74-2bfe48029600"
      },
      "source": [
        "# statsmodel OLS analysis\n",
        "columns = preCovid.columns\n",
        "X = sm.add_constant(X)\n",
        "\n",
        "model = sm.OLS(y, X).fit()\n",
        "predictions = model.predict(X) \n",
        "\n",
        "summary = model.summary()\n",
        "print(summary)"
      ],
      "execution_count": 7,
      "outputs": [
        {
          "output_type": "stream",
          "name": "stdout",
          "text": [
            "                            OLS Regression Results                            \n",
            "==============================================================================\n",
            "Dep. Variable:      daily_crime_count   R-squared:                       1.000\n",
            "Model:                            OLS   Adj. R-squared:                  1.000\n",
            "Method:                 Least Squares   F-statistic:                 4.569e+30\n",
            "Date:                Tue, 16 Nov 2021   Prob (F-statistic):               0.00\n",
            "Time:                        20:15:34   Log-Likelihood:                 33805.\n",
            "No. Observations:                1161   AIC:                        -6.757e+04\n",
            "Df Residuals:                    1142   BIC:                        -6.748e+04\n",
            "Df Model:                          18                                         \n",
            "Covariance Type:            nonrobust                                         \n",
            "==========================================================================================\n",
            "                             coef    std err          t      P>|t|      [0.025      0.975]\n",
            "------------------------------------------------------------------------------------------\n",
            "const                   3.282e-14   8.97e-15      3.659      0.000    1.52e-14    5.04e-14\n",
            "daily_crime_count          0.6372   1.02e-15   6.25e+14      0.000       0.637       0.637\n",
            "CT_ARSON_DR                0.0708   1.22e-14   5.79e+12      0.000       0.071       0.071\n",
            "CT_ASSAULT_DR              0.0708   1.67e-15   4.25e+13      0.000       0.071       0.071\n",
            "CT_BURGLARY_DR             0.0708   1.65e-15   4.29e+13      0.000       0.071       0.071\n",
            "CT_HOMICIDE_DR             0.0708   3.07e-15   2.31e+13      0.000       0.071       0.071\n",
            "CT_MOTOR_THEFT_DR          0.0708    1.6e-15   4.44e+13      0.000       0.071       0.071\n",
            "CT_ROBBERY_DR              0.0708   1.63e-15   4.35e+13      0.000       0.071       0.071\n",
            "CT_SEX_ABUSE_DR            0.0708   2.24e-15   3.16e+13      0.000       0.071       0.071\n",
            "CT_THEFT_FROM_CAR_DR       0.0708   1.49e-15   4.74e+13      0.000       0.071       0.071\n",
            "CT_THEFT_FROM_OTHER_DR     0.0708   1.52e-15   4.66e+13      0.000       0.071       0.071\n",
            "CL_WARD_1_DR               0.0796   4.41e-16   1.81e+14      0.000       0.080       0.080\n",
            "CL_WARD_2_DR               0.0796   3.79e-16    2.1e+14      0.000       0.080       0.080\n",
            "CL_WARD_3_DR               0.0796   5.96e-16   1.34e+14      0.000       0.080       0.080\n",
            "CL_WARD_4_DR               0.0796   5.28e-16   1.51e+14      0.000       0.080       0.080\n",
            "CL_WARD_5_DR               0.0796   4.16e-16   1.92e+14      0.000       0.080       0.080\n",
            "CL_WARD_6_DR               0.0796   4.18e-16   1.91e+14      0.000       0.080       0.080\n",
            "CL_WARD_7_DR               0.0796   4.94e-16   1.61e+14      0.000       0.080       0.080\n",
            "CL_WARD_8_DR               0.0796   5.75e-16   1.39e+14      0.000       0.080       0.080\n",
            "CO_SHIFT_MORNING_DR        0.2124   4.29e-16   4.95e+14      0.000       0.212       0.212\n",
            "CO_SHIFT_EVENING_DR        0.2124   4.04e-16   5.26e+14      0.000       0.212       0.212\n",
            "CO_SHIFT_MIDNIGHT_DR       0.2124   4.01e-16   5.29e+14      0.000       0.212       0.212\n",
            "==============================================================================\n",
            "Omnibus:                        2.741   Durbin-Watson:                   0.130\n",
            "Prob(Omnibus):                  0.254   Jarque-Bera (JB):                2.621\n",
            "Skew:                          -0.110   Prob(JB):                        0.270\n",
            "Kurtosis:                       3.075   Cond. No.                     1.17e+17\n",
            "==============================================================================\n",
            "\n",
            "Warnings:\n",
            "[1] Standard Errors assume that the covariance matrix of the errors is correctly specified.\n",
            "[2] The smallest eigenvalue is 9.8e-28. This might indicate that there are\n",
            "strong multicollinearity problems or that the design matrix is singular.\n"
          ]
        }
      ]
    },
    {
      "cell_type": "code",
      "metadata": {
        "colab": {
          "base_uri": "https://localhost:8080/",
          "height": 497
        },
        "id": "8bkIoIplZhFu",
        "outputId": "230ac7eb-723b-41ae-9cbc-50a8e29e7499"
      },
      "source": [
        "plt.figure(figsize = (10,8))\n",
        "plt.scatter(y_test,y_pred, color = 'green')\n",
        "plt.xlabel('Actual Crime Count Per Day')\n",
        "plt.ylabel('Predicted Crime Count Per Day')\n",
        "plt.show()"
      ],
      "execution_count": 15,
      "outputs": [
        {
          "output_type": "display_data",
          "data": {
            "image/png": "[encoded data removed]",
            "text/plain": [
              "<Figure size 720x576 with 1 Axes>"
            ]
          },
          "metadata": {
            "needs_background": "light"
          }
        }
      ]
    },
    {
      "cell_type": "code",
      "metadata": {
        "colab": {
          "base_uri": "https://localhost:8080/"
        },
        "id": "GG_jC8BAbfeP",
        "outputId": "11f6d238-2f9d-4fcd-c2b4-2d37cc03169e"
      },
      "source": [
        "# Lasso Regression\n",
        "parameters = {'alpha':[0.5, 1]}\n",
        "lasso = Lasso()\n",
        "lasso = GridSearchCV(lasso, parameters)\n",
        "lasso.fit(X_train, y_train)\n",
        "pred=lasso.predict(X_test)\n",
        "print(\"Best Estimator for Lasso Model:\\n\",lasso.best_estimator_)\n",
        "print(\"Best Score for Lasso Model:\\n\", lasso.best_score_)"
      ],
      "execution_count": 25,
      "outputs": [
        {
          "output_type": "stream",
          "name": "stdout",
          "text": [
            "Best Estimator for Lasso Model:\n",
            " Lasso(alpha=0.5)\n",
            "Best Score for Lasso Model:\n",
            " 0.9999949631621512\n"
          ]
        }
      ]
    },
    {
      "cell_type": "code",
      "metadata": {
        "colab": {
          "base_uri": "https://localhost:8080/"
        },
        "id": "rLbSxFpWcDjV",
        "outputId": "70b5b57d-6170-4ab8-8fb7-6be66468b025"
      },
      "source": [
        "# Ridge Regression\n",
        "ridge = Ridge()\n",
        "ridge = GridSearchCV(ridge, parameters)\n",
        "ridge.fit(X_train, y_train)\n",
        "pred=ridge.predict(X_test)\n",
        "print(\"Best Estimator for Ridge Model:\\n\",ridge.best_estimator_)\n",
        "print(\"Best Score for Ridge Model:\\n\", ridge.best_score_)"
      ],
      "execution_count": 26,
      "outputs": [
        {
          "output_type": "stream",
          "name": "stdout",
          "text": [
            "Best Estimator for Ridge Model:\n",
            " Ridge(alpha=0.5)\n",
            "Best Score for Ridge Model:\n",
            " 0.9999999987979089\n"
          ]
        }
      ]
    },
    {
      "cell_type": "code",
      "metadata": {
        "id": "v8sBvRsjcJhU"
      },
      "source": [
        ""
      ],
      "execution_count": null,
      "outputs": []
    }
  ]
}