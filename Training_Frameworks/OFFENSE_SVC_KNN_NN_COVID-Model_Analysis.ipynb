{
 "cells": [
  {
   "cell_type": "code",
   "execution_count": 19,
   "id": "3e655018",
   "metadata": {},
   "outputs": [],
   "source": [
    "import os\n",
    "\n",
    "import pandas as pd\n",
    "from sklearn.model_selection import train_test_split, GridSearchCV\n",
    "from sklearn.metrics import mean_squared_error, r2_score\n",
    "from sklearn.preprocessing import StandardScaler\n",
    "from sklearn.pipeline import Pipeline\n",
    "import statsmodels.api as sm\n",
    "import matplotlib.pyplot as plt\n",
    "import numpy as np\n",
    "\n",
    "from sklearn.svm import SVC\n",
    "from sklearn.model_selection import GridSearchCV\n",
    "\n",
    "from sklearn.metrics import accuracy_score, precision_score, recall_score\n",
    "\n",
    "from sklearn.model_selection import GridSearchCV\n",
    "from sklearn.neighbors import KNeighborsClassifier\n",
    "\n",
    "from sklearn.cluster import KMeans\n",
    "import matplotlib.pyplot as plt\n",
    "\n",
    "import copy\n",
    "\n",
    "import time\n",
    "\n",
    "import torch.optim as optim\n",
    "#from dataset import train_dataloader, val_dataloader\n",
    "#from dataset import train_dataset, val_dataset\n",
    "from tqdm import tqdm\n",
    "\n",
    "from torch.utils.data import Dataset, DataLoader\n",
    "import torch\n",
    "import torch.nn as nn\n",
    "import numpy as np\n",
    "\n",
    "from sklearn.model_selection import cross_val_score\n",
    "\n",
    "import pickle"
   ]
  },
  {
   "cell_type": "code",
   "execution_count": 20,
   "id": "c2bf1ea9",
   "metadata": {},
   "outputs": [],
   "source": [
    "main_dir = os.path.abspath('..') # os.path.join(os.getcwd())\n",
    "data_dir = os.path.join(main_dir, \"Data\")\n",
    "shapefiles_dir = os.path.join(main_dir, data_dir, \"shapefiles\")"
   ]
  },
  {
   "cell_type": "code",
   "execution_count": 21,
   "id": "5e476a13",
   "metadata": {},
   "outputs": [],
   "source": [
    "pd.options.display.max_columns = None"
   ]
  },
  {
   "cell_type": "code",
   "execution_count": 22,
   "id": "41868fc2",
   "metadata": {},
   "outputs": [
    {
     "data": {
      "text/html": [
       "<div>\n",
       "<style scoped>\n",
       "    .dataframe tbody tr th:only-of-type {\n",
       "        vertical-align: middle;\n",
       "    }\n",
       "\n",
       "    .dataframe tbody tr th {\n",
       "        vertical-align: top;\n",
       "    }\n",
       "\n",
       "    .dataframe thead th {\n",
       "        text-align: right;\n",
       "    }\n",
       "</style>\n",
       "<table border=\"1\" class=\"dataframe\">\n",
       "  <thead>\n",
       "    <tr style=\"text-align: right;\">\n",
       "      <th></th>\n",
       "      <th>SHIFT</th>\n",
       "      <th>OFFENSE</th>\n",
       "      <th>WARD</th>\n",
       "      <th>LATITUDE</th>\n",
       "      <th>LONGITUDE</th>\n",
       "      <th>total_cases</th>\n",
       "      <th>daily_cases</th>\n",
       "      <th>daily_death</th>\n",
       "      <th>OUT_POSITIVE_QUARANTINE_PSMPD</th>\n",
       "      <th>MO</th>\n",
       "      <th>TU</th>\n",
       "      <th>WE</th>\n",
       "      <th>TH</th>\n",
       "      <th>FR</th>\n",
       "      <th>SA</th>\n",
       "      <th>SU</th>\n",
       "      <th>JAN</th>\n",
       "      <th>FEB</th>\n",
       "      <th>MAR</th>\n",
       "      <th>APR</th>\n",
       "      <th>MAY</th>\n",
       "      <th>JUN</th>\n",
       "      <th>JUL</th>\n",
       "      <th>AUG</th>\n",
       "      <th>SEP</th>\n",
       "      <th>OCT</th>\n",
       "      <th>NOV</th>\n",
       "      <th>DEC</th>\n",
       "      <th>ward_1</th>\n",
       "      <th>ward_2</th>\n",
       "      <th>ward_3</th>\n",
       "      <th>ward_4</th>\n",
       "      <th>ward_5</th>\n",
       "      <th>ward_6</th>\n",
       "      <th>ward_7</th>\n",
       "      <th>ward_8</th>\n",
       "      <th>ARSON</th>\n",
       "      <th>ASSAULT W/DANGEROUS WEAPON</th>\n",
       "      <th>BURGLARY</th>\n",
       "      <th>HOMICIDE</th>\n",
       "      <th>MOTOR VEHICLE THEFT</th>\n",
       "      <th>ROBBERY</th>\n",
       "      <th>SEX ABUSE</th>\n",
       "      <th>THEFT F/AUTO</th>\n",
       "      <th>THEFT/OTHER</th>\n",
       "      <th>DAY</th>\n",
       "      <th>EVENING</th>\n",
       "      <th>MIDNIGHT</th>\n",
       "      <th>distance_metro</th>\n",
       "      <th>distance_nightclubs</th>\n",
       "      <th>distance_worship</th>\n",
       "    </tr>\n",
       "  </thead>\n",
       "  <tbody>\n",
       "    <tr>\n",
       "      <th>0</th>\n",
       "      <td>EVENING</td>\n",
       "      <td>THEFT/OTHER</td>\n",
       "      <td>6.0</td>\n",
       "      <td>38.895445</td>\n",
       "      <td>-76.978994</td>\n",
       "      <td>14077.0</td>\n",
       "      <td>28.0</td>\n",
       "      <td>1.0</td>\n",
       "      <td>80.0</td>\n",
       "      <td>0</td>\n",
       "      <td>1</td>\n",
       "      <td>0</td>\n",
       "      <td>0</td>\n",
       "      <td>0</td>\n",
       "      <td>0</td>\n",
       "      <td>0</td>\n",
       "      <td>0</td>\n",
       "      <td>0</td>\n",
       "      <td>0</td>\n",
       "      <td>0</td>\n",
       "      <td>0</td>\n",
       "      <td>0</td>\n",
       "      <td>0</td>\n",
       "      <td>0</td>\n",
       "      <td>1</td>\n",
       "      <td>0</td>\n",
       "      <td>0</td>\n",
       "      <td>0</td>\n",
       "      <td>0</td>\n",
       "      <td>0</td>\n",
       "      <td>0</td>\n",
       "      <td>0</td>\n",
       "      <td>0</td>\n",
       "      <td>1</td>\n",
       "      <td>0</td>\n",
       "      <td>0</td>\n",
       "      <td>0</td>\n",
       "      <td>0</td>\n",
       "      <td>0</td>\n",
       "      <td>0</td>\n",
       "      <td>0</td>\n",
       "      <td>0</td>\n",
       "      <td>0</td>\n",
       "      <td>0</td>\n",
       "      <td>1</td>\n",
       "      <td>0</td>\n",
       "      <td>1</td>\n",
       "      <td>0</td>\n",
       "      <td>0.189878</td>\n",
       "      <td>0.352657</td>\n",
       "      <td>0.081604</td>\n",
       "    </tr>\n",
       "    <tr>\n",
       "      <th>1</th>\n",
       "      <td>EVENING</td>\n",
       "      <td>ASSAULT W/DANGEROUS WEAPON</td>\n",
       "      <td>8.0</td>\n",
       "      <td>38.846282</td>\n",
       "      <td>-76.980074</td>\n",
       "      <td>14077.0</td>\n",
       "      <td>28.0</td>\n",
       "      <td>1.0</td>\n",
       "      <td>80.0</td>\n",
       "      <td>0</td>\n",
       "      <td>1</td>\n",
       "      <td>0</td>\n",
       "      <td>0</td>\n",
       "      <td>0</td>\n",
       "      <td>0</td>\n",
       "      <td>0</td>\n",
       "      <td>0</td>\n",
       "      <td>0</td>\n",
       "      <td>0</td>\n",
       "      <td>0</td>\n",
       "      <td>0</td>\n",
       "      <td>0</td>\n",
       "      <td>0</td>\n",
       "      <td>0</td>\n",
       "      <td>1</td>\n",
       "      <td>0</td>\n",
       "      <td>0</td>\n",
       "      <td>0</td>\n",
       "      <td>0</td>\n",
       "      <td>0</td>\n",
       "      <td>0</td>\n",
       "      <td>0</td>\n",
       "      <td>0</td>\n",
       "      <td>0</td>\n",
       "      <td>0</td>\n",
       "      <td>1</td>\n",
       "      <td>0</td>\n",
       "      <td>1</td>\n",
       "      <td>0</td>\n",
       "      <td>0</td>\n",
       "      <td>0</td>\n",
       "      <td>0</td>\n",
       "      <td>0</td>\n",
       "      <td>0</td>\n",
       "      <td>0</td>\n",
       "      <td>0</td>\n",
       "      <td>1</td>\n",
       "      <td>0</td>\n",
       "      <td>0.585539</td>\n",
       "      <td>1.073603</td>\n",
       "      <td>0.156339</td>\n",
       "    </tr>\n",
       "    <tr>\n",
       "      <th>2</th>\n",
       "      <td>EVENING</td>\n",
       "      <td>THEFT/OTHER</td>\n",
       "      <td>4.0</td>\n",
       "      <td>38.956588</td>\n",
       "      <td>-77.012631</td>\n",
       "      <td>14077.0</td>\n",
       "      <td>28.0</td>\n",
       "      <td>1.0</td>\n",
       "      <td>80.0</td>\n",
       "      <td>0</td>\n",
       "      <td>1</td>\n",
       "      <td>0</td>\n",
       "      <td>0</td>\n",
       "      <td>0</td>\n",
       "      <td>0</td>\n",
       "      <td>0</td>\n",
       "      <td>0</td>\n",
       "      <td>0</td>\n",
       "      <td>0</td>\n",
       "      <td>0</td>\n",
       "      <td>0</td>\n",
       "      <td>0</td>\n",
       "      <td>0</td>\n",
       "      <td>0</td>\n",
       "      <td>1</td>\n",
       "      <td>0</td>\n",
       "      <td>0</td>\n",
       "      <td>0</td>\n",
       "      <td>0</td>\n",
       "      <td>0</td>\n",
       "      <td>0</td>\n",
       "      <td>1</td>\n",
       "      <td>0</td>\n",
       "      <td>0</td>\n",
       "      <td>0</td>\n",
       "      <td>0</td>\n",
       "      <td>0</td>\n",
       "      <td>0</td>\n",
       "      <td>0</td>\n",
       "      <td>0</td>\n",
       "      <td>0</td>\n",
       "      <td>0</td>\n",
       "      <td>0</td>\n",
       "      <td>0</td>\n",
       "      <td>1</td>\n",
       "      <td>0</td>\n",
       "      <td>1</td>\n",
       "      <td>0</td>\n",
       "      <td>0.490429</td>\n",
       "      <td>0.876416</td>\n",
       "      <td>0.009941</td>\n",
       "    </tr>\n",
       "    <tr>\n",
       "      <th>3</th>\n",
       "      <td>EVENING</td>\n",
       "      <td>THEFT/OTHER</td>\n",
       "      <td>6.0</td>\n",
       "      <td>38.895398</td>\n",
       "      <td>-76.984577</td>\n",
       "      <td>14049.0</td>\n",
       "      <td>57.0</td>\n",
       "      <td>0.0</td>\n",
       "      <td>87.0</td>\n",
       "      <td>1</td>\n",
       "      <td>0</td>\n",
       "      <td>0</td>\n",
       "      <td>0</td>\n",
       "      <td>0</td>\n",
       "      <td>0</td>\n",
       "      <td>0</td>\n",
       "      <td>0</td>\n",
       "      <td>0</td>\n",
       "      <td>0</td>\n",
       "      <td>0</td>\n",
       "      <td>0</td>\n",
       "      <td>0</td>\n",
       "      <td>0</td>\n",
       "      <td>1</td>\n",
       "      <td>0</td>\n",
       "      <td>0</td>\n",
       "      <td>0</td>\n",
       "      <td>0</td>\n",
       "      <td>0</td>\n",
       "      <td>0</td>\n",
       "      <td>0</td>\n",
       "      <td>0</td>\n",
       "      <td>0</td>\n",
       "      <td>1</td>\n",
       "      <td>0</td>\n",
       "      <td>0</td>\n",
       "      <td>0</td>\n",
       "      <td>0</td>\n",
       "      <td>0</td>\n",
       "      <td>0</td>\n",
       "      <td>0</td>\n",
       "      <td>0</td>\n",
       "      <td>0</td>\n",
       "      <td>0</td>\n",
       "      <td>1</td>\n",
       "      <td>0</td>\n",
       "      <td>1</td>\n",
       "      <td>0</td>\n",
       "      <td>0.229824</td>\n",
       "      <td>0.360878</td>\n",
       "      <td>0.051530</td>\n",
       "    </tr>\n",
       "    <tr>\n",
       "      <th>4</th>\n",
       "      <td>EVENING</td>\n",
       "      <td>THEFT F/AUTO</td>\n",
       "      <td>2.0</td>\n",
       "      <td>38.907242</td>\n",
       "      <td>-77.044167</td>\n",
       "      <td>14077.0</td>\n",
       "      <td>28.0</td>\n",
       "      <td>1.0</td>\n",
       "      <td>80.0</td>\n",
       "      <td>0</td>\n",
       "      <td>1</td>\n",
       "      <td>0</td>\n",
       "      <td>0</td>\n",
       "      <td>0</td>\n",
       "      <td>0</td>\n",
       "      <td>0</td>\n",
       "      <td>0</td>\n",
       "      <td>0</td>\n",
       "      <td>0</td>\n",
       "      <td>0</td>\n",
       "      <td>0</td>\n",
       "      <td>0</td>\n",
       "      <td>0</td>\n",
       "      <td>0</td>\n",
       "      <td>1</td>\n",
       "      <td>0</td>\n",
       "      <td>0</td>\n",
       "      <td>0</td>\n",
       "      <td>0</td>\n",
       "      <td>1</td>\n",
       "      <td>0</td>\n",
       "      <td>0</td>\n",
       "      <td>0</td>\n",
       "      <td>0</td>\n",
       "      <td>0</td>\n",
       "      <td>0</td>\n",
       "      <td>0</td>\n",
       "      <td>0</td>\n",
       "      <td>0</td>\n",
       "      <td>0</td>\n",
       "      <td>0</td>\n",
       "      <td>0</td>\n",
       "      <td>0</td>\n",
       "      <td>1</td>\n",
       "      <td>0</td>\n",
       "      <td>0</td>\n",
       "      <td>1</td>\n",
       "      <td>0</td>\n",
       "      <td>0.063730</td>\n",
       "      <td>0.035825</td>\n",
       "      <td>0.076037</td>\n",
       "    </tr>\n",
       "  </tbody>\n",
       "</table>\n",
       "</div>"
      ],
      "text/plain": [
       "     SHIFT                     OFFENSE  WARD   LATITUDE  LONGITUDE  \\\n",
       "0  EVENING                 THEFT/OTHER   6.0  38.895445 -76.978994   \n",
       "1  EVENING  ASSAULT W/DANGEROUS WEAPON   8.0  38.846282 -76.980074   \n",
       "2  EVENING                 THEFT/OTHER   4.0  38.956588 -77.012631   \n",
       "3  EVENING                 THEFT/OTHER   6.0  38.895398 -76.984577   \n",
       "4  EVENING                THEFT F/AUTO   2.0  38.907242 -77.044167   \n",
       "\n",
       "   total_cases  daily_cases  daily_death  OUT_POSITIVE_QUARANTINE_PSMPD  MO  \\\n",
       "0      14077.0         28.0          1.0                           80.0   0   \n",
       "1      14077.0         28.0          1.0                           80.0   0   \n",
       "2      14077.0         28.0          1.0                           80.0   0   \n",
       "3      14049.0         57.0          0.0                           87.0   1   \n",
       "4      14077.0         28.0          1.0                           80.0   0   \n",
       "\n",
       "   TU  WE  TH  FR  SA  SU  JAN  FEB  MAR  APR  MAY  JUN  JUL  AUG  SEP  OCT  \\\n",
       "0   1   0   0   0   0   0    0    0    0    0    0    0    0    0    1    0   \n",
       "1   1   0   0   0   0   0    0    0    0    0    0    0    0    0    1    0   \n",
       "2   1   0   0   0   0   0    0    0    0    0    0    0    0    0    1    0   \n",
       "3   0   0   0   0   0   0    0    0    0    0    0    0    0    1    0    0   \n",
       "4   1   0   0   0   0   0    0    0    0    0    0    0    0    0    1    0   \n",
       "\n",
       "   NOV  DEC  ward_1  ward_2  ward_3  ward_4  ward_5  ward_6  ward_7  ward_8  \\\n",
       "0    0    0       0       0       0       0       0       1       0       0   \n",
       "1    0    0       0       0       0       0       0       0       0       1   \n",
       "2    0    0       0       0       0       1       0       0       0       0   \n",
       "3    0    0       0       0       0       0       0       1       0       0   \n",
       "4    0    0       0       1       0       0       0       0       0       0   \n",
       "\n",
       "   ARSON  ASSAULT W/DANGEROUS WEAPON  BURGLARY  HOMICIDE  MOTOR VEHICLE THEFT  \\\n",
       "0      0                           0         0         0                    0   \n",
       "1      0                           1         0         0                    0   \n",
       "2      0                           0         0         0                    0   \n",
       "3      0                           0         0         0                    0   \n",
       "4      0                           0         0         0                    0   \n",
       "\n",
       "   ROBBERY  SEX ABUSE  THEFT F/AUTO  THEFT/OTHER  DAY  EVENING  MIDNIGHT  \\\n",
       "0        0          0             0            1    0        1         0   \n",
       "1        0          0             0            0    0        1         0   \n",
       "2        0          0             0            1    0        1         0   \n",
       "3        0          0             0            1    0        1         0   \n",
       "4        0          0             1            0    0        1         0   \n",
       "\n",
       "   distance_metro  distance_nightclubs  distance_worship  \n",
       "0        0.189878             0.352657          0.081604  \n",
       "1        0.585539             1.073603          0.156339  \n",
       "2        0.490429             0.876416          0.009941  \n",
       "3        0.229824             0.360878          0.051530  \n",
       "4        0.063730             0.035825          0.076037  "
      ]
     },
     "execution_count": 22,
     "metadata": {},
     "output_type": "execute_result"
    }
   ],
   "source": [
    "pre_covid_data = pd.read_csv(os.path.join(data_dir, \"Merged\", \"covid_crime_micro_geo_11_29_2021.csv\"), index_col=False)\n",
    "del pre_covid_data['date']\n",
    "del pre_covid_data[pre_covid_data.columns[0]]\n",
    "pre_covid_data.head()"
   ]
  },
  {
   "cell_type": "code",
   "execution_count": 23,
   "id": "c6a7da01",
   "metadata": {},
   "outputs": [],
   "source": [
    "del pre_covid_data[\"SHIFT\"]\n",
    "del pre_covid_data[\"WARD\"]"
   ]
  },
  {
   "cell_type": "code",
   "execution_count": 24,
   "id": "539d6c70",
   "metadata": {},
   "outputs": [],
   "source": [
    "del pre_covid_data[\"ARSON\"]\n",
    "del pre_covid_data[\"ASSAULT W/DANGEROUS WEAPON\"]\n",
    "del pre_covid_data[\"BURGLARY\"]\n",
    "del pre_covid_data[\"HOMICIDE\"]\n",
    "del pre_covid_data[\"MOTOR VEHICLE THEFT\"]\n",
    "del pre_covid_data[\"ROBBERY\"]\n",
    "del pre_covid_data[\"SEX ABUSE\"]\n",
    "del pre_covid_data[\"THEFT F/AUTO\"]\n",
    "del pre_covid_data[\"THEFT/OTHER\"]"
   ]
  },
  {
   "cell_type": "code",
   "execution_count": 25,
   "id": "79171a65",
   "metadata": {},
   "outputs": [],
   "source": [
    "pre_covid_data.OFFENSE = pd.Categorical(pre_covid_data.OFFENSE).codes"
   ]
  },
  {
   "cell_type": "code",
   "execution_count": 26,
   "id": "d249d843",
   "metadata": {},
   "outputs": [],
   "source": [
    "pre_covid_data['OFFENSE'] = pre_covid_data['OFFENSE'].astype('int')"
   ]
  },
  {
   "cell_type": "code",
   "execution_count": 27,
   "id": "295834d3",
   "metadata": {},
   "outputs": [
    {
     "data": {
      "text/plain": [
       "OFFENSE                          0\n",
       "LATITUDE                         0\n",
       "LONGITUDE                        0\n",
       "total_cases                      0\n",
       "daily_cases                      0\n",
       "daily_death                      0\n",
       "OUT_POSITIVE_QUARANTINE_PSMPD    0\n",
       "MO                               0\n",
       "TU                               0\n",
       "WE                               0\n",
       "TH                               0\n",
       "FR                               0\n",
       "SA                               0\n",
       "SU                               0\n",
       "JAN                              0\n",
       "FEB                              0\n",
       "MAR                              0\n",
       "APR                              0\n",
       "MAY                              0\n",
       "JUN                              0\n",
       "JUL                              0\n",
       "AUG                              0\n",
       "SEP                              0\n",
       "OCT                              0\n",
       "NOV                              0\n",
       "DEC                              0\n",
       "ward_1                           0\n",
       "ward_2                           0\n",
       "ward_3                           0\n",
       "ward_4                           0\n",
       "ward_5                           0\n",
       "ward_6                           0\n",
       "ward_7                           0\n",
       "ward_8                           0\n",
       "DAY                              0\n",
       "EVENING                          0\n",
       "MIDNIGHT                         0\n",
       "distance_metro                   0\n",
       "distance_nightclubs              0\n",
       "distance_worship                 0\n",
       "dtype: int64"
      ]
     },
     "execution_count": 27,
     "metadata": {},
     "output_type": "execute_result"
    }
   ],
   "source": [
    "pre_covid_data.isna().sum()"
   ]
  },
  {
   "cell_type": "code",
   "execution_count": 28,
   "id": "8b61cd8b",
   "metadata": {},
   "outputs": [
    {
     "data": {
      "text/html": [
       "<div>\n",
       "<style scoped>\n",
       "    .dataframe tbody tr th:only-of-type {\n",
       "        vertical-align: middle;\n",
       "    }\n",
       "\n",
       "    .dataframe tbody tr th {\n",
       "        vertical-align: top;\n",
       "    }\n",
       "\n",
       "    .dataframe thead th {\n",
       "        text-align: right;\n",
       "    }\n",
       "</style>\n",
       "<table border=\"1\" class=\"dataframe\">\n",
       "  <thead>\n",
       "    <tr style=\"text-align: right;\">\n",
       "      <th></th>\n",
       "      <th>OFFENSE</th>\n",
       "      <th>LATITUDE</th>\n",
       "      <th>LONGITUDE</th>\n",
       "      <th>total_cases</th>\n",
       "      <th>daily_cases</th>\n",
       "      <th>daily_death</th>\n",
       "      <th>OUT_POSITIVE_QUARANTINE_PSMPD</th>\n",
       "      <th>MO</th>\n",
       "      <th>TU</th>\n",
       "      <th>WE</th>\n",
       "      <th>TH</th>\n",
       "      <th>FR</th>\n",
       "      <th>SA</th>\n",
       "      <th>SU</th>\n",
       "      <th>JAN</th>\n",
       "      <th>FEB</th>\n",
       "      <th>MAR</th>\n",
       "      <th>APR</th>\n",
       "      <th>MAY</th>\n",
       "      <th>JUN</th>\n",
       "      <th>JUL</th>\n",
       "      <th>AUG</th>\n",
       "      <th>SEP</th>\n",
       "      <th>OCT</th>\n",
       "      <th>NOV</th>\n",
       "      <th>DEC</th>\n",
       "      <th>ward_1</th>\n",
       "      <th>ward_2</th>\n",
       "      <th>ward_3</th>\n",
       "      <th>ward_4</th>\n",
       "      <th>ward_5</th>\n",
       "      <th>ward_6</th>\n",
       "      <th>ward_7</th>\n",
       "      <th>ward_8</th>\n",
       "      <th>DAY</th>\n",
       "      <th>EVENING</th>\n",
       "      <th>MIDNIGHT</th>\n",
       "      <th>distance_metro</th>\n",
       "      <th>distance_nightclubs</th>\n",
       "      <th>distance_worship</th>\n",
       "    </tr>\n",
       "  </thead>\n",
       "  <tbody>\n",
       "    <tr>\n",
       "      <th>0</th>\n",
       "      <td>8</td>\n",
       "      <td>38.895445</td>\n",
       "      <td>-76.978994</td>\n",
       "      <td>14077.0</td>\n",
       "      <td>28.0</td>\n",
       "      <td>1.0</td>\n",
       "      <td>80.0</td>\n",
       "      <td>0</td>\n",
       "      <td>1</td>\n",
       "      <td>0</td>\n",
       "      <td>0</td>\n",
       "      <td>0</td>\n",
       "      <td>0</td>\n",
       "      <td>0</td>\n",
       "      <td>0</td>\n",
       "      <td>0</td>\n",
       "      <td>0</td>\n",
       "      <td>0</td>\n",
       "      <td>0</td>\n",
       "      <td>0</td>\n",
       "      <td>0</td>\n",
       "      <td>0</td>\n",
       "      <td>1</td>\n",
       "      <td>0</td>\n",
       "      <td>0</td>\n",
       "      <td>0</td>\n",
       "      <td>0</td>\n",
       "      <td>0</td>\n",
       "      <td>0</td>\n",
       "      <td>0</td>\n",
       "      <td>0</td>\n",
       "      <td>1</td>\n",
       "      <td>0</td>\n",
       "      <td>0</td>\n",
       "      <td>0</td>\n",
       "      <td>1</td>\n",
       "      <td>0</td>\n",
       "      <td>0.189878</td>\n",
       "      <td>0.352657</td>\n",
       "      <td>0.081604</td>\n",
       "    </tr>\n",
       "    <tr>\n",
       "      <th>1</th>\n",
       "      <td>1</td>\n",
       "      <td>38.846282</td>\n",
       "      <td>-76.980074</td>\n",
       "      <td>14077.0</td>\n",
       "      <td>28.0</td>\n",
       "      <td>1.0</td>\n",
       "      <td>80.0</td>\n",
       "      <td>0</td>\n",
       "      <td>1</td>\n",
       "      <td>0</td>\n",
       "      <td>0</td>\n",
       "      <td>0</td>\n",
       "      <td>0</td>\n",
       "      <td>0</td>\n",
       "      <td>0</td>\n",
       "      <td>0</td>\n",
       "      <td>0</td>\n",
       "      <td>0</td>\n",
       "      <td>0</td>\n",
       "      <td>0</td>\n",
       "      <td>0</td>\n",
       "      <td>0</td>\n",
       "      <td>1</td>\n",
       "      <td>0</td>\n",
       "      <td>0</td>\n",
       "      <td>0</td>\n",
       "      <td>0</td>\n",
       "      <td>0</td>\n",
       "      <td>0</td>\n",
       "      <td>0</td>\n",
       "      <td>0</td>\n",
       "      <td>0</td>\n",
       "      <td>0</td>\n",
       "      <td>1</td>\n",
       "      <td>0</td>\n",
       "      <td>1</td>\n",
       "      <td>0</td>\n",
       "      <td>0.585539</td>\n",
       "      <td>1.073603</td>\n",
       "      <td>0.156339</td>\n",
       "    </tr>\n",
       "    <tr>\n",
       "      <th>2</th>\n",
       "      <td>8</td>\n",
       "      <td>38.956588</td>\n",
       "      <td>-77.012631</td>\n",
       "      <td>14077.0</td>\n",
       "      <td>28.0</td>\n",
       "      <td>1.0</td>\n",
       "      <td>80.0</td>\n",
       "      <td>0</td>\n",
       "      <td>1</td>\n",
       "      <td>0</td>\n",
       "      <td>0</td>\n",
       "      <td>0</td>\n",
       "      <td>0</td>\n",
       "      <td>0</td>\n",
       "      <td>0</td>\n",
       "      <td>0</td>\n",
       "      <td>0</td>\n",
       "      <td>0</td>\n",
       "      <td>0</td>\n",
       "      <td>0</td>\n",
       "      <td>0</td>\n",
       "      <td>0</td>\n",
       "      <td>1</td>\n",
       "      <td>0</td>\n",
       "      <td>0</td>\n",
       "      <td>0</td>\n",
       "      <td>0</td>\n",
       "      <td>0</td>\n",
       "      <td>0</td>\n",
       "      <td>1</td>\n",
       "      <td>0</td>\n",
       "      <td>0</td>\n",
       "      <td>0</td>\n",
       "      <td>0</td>\n",
       "      <td>0</td>\n",
       "      <td>1</td>\n",
       "      <td>0</td>\n",
       "      <td>0.490429</td>\n",
       "      <td>0.876416</td>\n",
       "      <td>0.009941</td>\n",
       "    </tr>\n",
       "    <tr>\n",
       "      <th>3</th>\n",
       "      <td>8</td>\n",
       "      <td>38.895398</td>\n",
       "      <td>-76.984577</td>\n",
       "      <td>14049.0</td>\n",
       "      <td>57.0</td>\n",
       "      <td>0.0</td>\n",
       "      <td>87.0</td>\n",
       "      <td>1</td>\n",
       "      <td>0</td>\n",
       "      <td>0</td>\n",
       "      <td>0</td>\n",
       "      <td>0</td>\n",
       "      <td>0</td>\n",
       "      <td>0</td>\n",
       "      <td>0</td>\n",
       "      <td>0</td>\n",
       "      <td>0</td>\n",
       "      <td>0</td>\n",
       "      <td>0</td>\n",
       "      <td>0</td>\n",
       "      <td>0</td>\n",
       "      <td>1</td>\n",
       "      <td>0</td>\n",
       "      <td>0</td>\n",
       "      <td>0</td>\n",
       "      <td>0</td>\n",
       "      <td>0</td>\n",
       "      <td>0</td>\n",
       "      <td>0</td>\n",
       "      <td>0</td>\n",
       "      <td>0</td>\n",
       "      <td>1</td>\n",
       "      <td>0</td>\n",
       "      <td>0</td>\n",
       "      <td>0</td>\n",
       "      <td>1</td>\n",
       "      <td>0</td>\n",
       "      <td>0.229824</td>\n",
       "      <td>0.360878</td>\n",
       "      <td>0.051530</td>\n",
       "    </tr>\n",
       "    <tr>\n",
       "      <th>4</th>\n",
       "      <td>7</td>\n",
       "      <td>38.907242</td>\n",
       "      <td>-77.044167</td>\n",
       "      <td>14077.0</td>\n",
       "      <td>28.0</td>\n",
       "      <td>1.0</td>\n",
       "      <td>80.0</td>\n",
       "      <td>0</td>\n",
       "      <td>1</td>\n",
       "      <td>0</td>\n",
       "      <td>0</td>\n",
       "      <td>0</td>\n",
       "      <td>0</td>\n",
       "      <td>0</td>\n",
       "      <td>0</td>\n",
       "      <td>0</td>\n",
       "      <td>0</td>\n",
       "      <td>0</td>\n",
       "      <td>0</td>\n",
       "      <td>0</td>\n",
       "      <td>0</td>\n",
       "      <td>0</td>\n",
       "      <td>1</td>\n",
       "      <td>0</td>\n",
       "      <td>0</td>\n",
       "      <td>0</td>\n",
       "      <td>0</td>\n",
       "      <td>1</td>\n",
       "      <td>0</td>\n",
       "      <td>0</td>\n",
       "      <td>0</td>\n",
       "      <td>0</td>\n",
       "      <td>0</td>\n",
       "      <td>0</td>\n",
       "      <td>0</td>\n",
       "      <td>1</td>\n",
       "      <td>0</td>\n",
       "      <td>0.063730</td>\n",
       "      <td>0.035825</td>\n",
       "      <td>0.076037</td>\n",
       "    </tr>\n",
       "    <tr>\n",
       "      <th>...</th>\n",
       "      <td>...</td>\n",
       "      <td>...</td>\n",
       "      <td>...</td>\n",
       "      <td>...</td>\n",
       "      <td>...</td>\n",
       "      <td>...</td>\n",
       "      <td>...</td>\n",
       "      <td>...</td>\n",
       "      <td>...</td>\n",
       "      <td>...</td>\n",
       "      <td>...</td>\n",
       "      <td>...</td>\n",
       "      <td>...</td>\n",
       "      <td>...</td>\n",
       "      <td>...</td>\n",
       "      <td>...</td>\n",
       "      <td>...</td>\n",
       "      <td>...</td>\n",
       "      <td>...</td>\n",
       "      <td>...</td>\n",
       "      <td>...</td>\n",
       "      <td>...</td>\n",
       "      <td>...</td>\n",
       "      <td>...</td>\n",
       "      <td>...</td>\n",
       "      <td>...</td>\n",
       "      <td>...</td>\n",
       "      <td>...</td>\n",
       "      <td>...</td>\n",
       "      <td>...</td>\n",
       "      <td>...</td>\n",
       "      <td>...</td>\n",
       "      <td>...</td>\n",
       "      <td>...</td>\n",
       "      <td>...</td>\n",
       "      <td>...</td>\n",
       "      <td>...</td>\n",
       "      <td>...</td>\n",
       "      <td>...</td>\n",
       "      <td>...</td>\n",
       "    </tr>\n",
       "    <tr>\n",
       "      <th>43159</th>\n",
       "      <td>2</td>\n",
       "      <td>38.913022</td>\n",
       "      <td>-76.975955</td>\n",
       "      <td>37634.0</td>\n",
       "      <td>269.0</td>\n",
       "      <td>8.0</td>\n",
       "      <td>104.0</td>\n",
       "      <td>0</td>\n",
       "      <td>0</td>\n",
       "      <td>0</td>\n",
       "      <td>1</td>\n",
       "      <td>0</td>\n",
       "      <td>0</td>\n",
       "      <td>0</td>\n",
       "      <td>0</td>\n",
       "      <td>1</td>\n",
       "      <td>0</td>\n",
       "      <td>0</td>\n",
       "      <td>0</td>\n",
       "      <td>0</td>\n",
       "      <td>0</td>\n",
       "      <td>0</td>\n",
       "      <td>0</td>\n",
       "      <td>0</td>\n",
       "      <td>0</td>\n",
       "      <td>0</td>\n",
       "      <td>0</td>\n",
       "      <td>0</td>\n",
       "      <td>0</td>\n",
       "      <td>0</td>\n",
       "      <td>1</td>\n",
       "      <td>0</td>\n",
       "      <td>0</td>\n",
       "      <td>0</td>\n",
       "      <td>1</td>\n",
       "      <td>0</td>\n",
       "      <td>0</td>\n",
       "      <td>0.418831</td>\n",
       "      <td>0.078911</td>\n",
       "      <td>0.159204</td>\n",
       "    </tr>\n",
       "    <tr>\n",
       "      <th>43160</th>\n",
       "      <td>7</td>\n",
       "      <td>38.874610</td>\n",
       "      <td>-76.967094</td>\n",
       "      <td>37634.0</td>\n",
       "      <td>269.0</td>\n",
       "      <td>8.0</td>\n",
       "      <td>104.0</td>\n",
       "      <td>0</td>\n",
       "      <td>0</td>\n",
       "      <td>0</td>\n",
       "      <td>1</td>\n",
       "      <td>0</td>\n",
       "      <td>0</td>\n",
       "      <td>0</td>\n",
       "      <td>0</td>\n",
       "      <td>1</td>\n",
       "      <td>0</td>\n",
       "      <td>0</td>\n",
       "      <td>0</td>\n",
       "      <td>0</td>\n",
       "      <td>0</td>\n",
       "      <td>0</td>\n",
       "      <td>0</td>\n",
       "      <td>0</td>\n",
       "      <td>0</td>\n",
       "      <td>0</td>\n",
       "      <td>0</td>\n",
       "      <td>0</td>\n",
       "      <td>0</td>\n",
       "      <td>0</td>\n",
       "      <td>0</td>\n",
       "      <td>0</td>\n",
       "      <td>1</td>\n",
       "      <td>0</td>\n",
       "      <td>1</td>\n",
       "      <td>0</td>\n",
       "      <td>0</td>\n",
       "      <td>0.718883</td>\n",
       "      <td>0.790578</td>\n",
       "      <td>0.034208</td>\n",
       "    </tr>\n",
       "    <tr>\n",
       "      <th>43161</th>\n",
       "      <td>7</td>\n",
       "      <td>38.951338</td>\n",
       "      <td>-76.991691</td>\n",
       "      <td>37365.0</td>\n",
       "      <td>166.0</td>\n",
       "      <td>6.0</td>\n",
       "      <td>106.0</td>\n",
       "      <td>0</td>\n",
       "      <td>0</td>\n",
       "      <td>1</td>\n",
       "      <td>0</td>\n",
       "      <td>0</td>\n",
       "      <td>0</td>\n",
       "      <td>0</td>\n",
       "      <td>0</td>\n",
       "      <td>1</td>\n",
       "      <td>0</td>\n",
       "      <td>0</td>\n",
       "      <td>0</td>\n",
       "      <td>0</td>\n",
       "      <td>0</td>\n",
       "      <td>0</td>\n",
       "      <td>0</td>\n",
       "      <td>0</td>\n",
       "      <td>0</td>\n",
       "      <td>0</td>\n",
       "      <td>0</td>\n",
       "      <td>0</td>\n",
       "      <td>0</td>\n",
       "      <td>0</td>\n",
       "      <td>1</td>\n",
       "      <td>0</td>\n",
       "      <td>0</td>\n",
       "      <td>0</td>\n",
       "      <td>1</td>\n",
       "      <td>0</td>\n",
       "      <td>0</td>\n",
       "      <td>0.345018</td>\n",
       "      <td>0.900916</td>\n",
       "      <td>0.097899</td>\n",
       "    </tr>\n",
       "    <tr>\n",
       "      <th>43162</th>\n",
       "      <td>1</td>\n",
       "      <td>38.852403</td>\n",
       "      <td>-76.982313</td>\n",
       "      <td>37634.0</td>\n",
       "      <td>269.0</td>\n",
       "      <td>8.0</td>\n",
       "      <td>104.0</td>\n",
       "      <td>0</td>\n",
       "      <td>0</td>\n",
       "      <td>0</td>\n",
       "      <td>1</td>\n",
       "      <td>0</td>\n",
       "      <td>0</td>\n",
       "      <td>0</td>\n",
       "      <td>0</td>\n",
       "      <td>1</td>\n",
       "      <td>0</td>\n",
       "      <td>0</td>\n",
       "      <td>0</td>\n",
       "      <td>0</td>\n",
       "      <td>0</td>\n",
       "      <td>0</td>\n",
       "      <td>0</td>\n",
       "      <td>0</td>\n",
       "      <td>0</td>\n",
       "      <td>0</td>\n",
       "      <td>0</td>\n",
       "      <td>0</td>\n",
       "      <td>0</td>\n",
       "      <td>0</td>\n",
       "      <td>0</td>\n",
       "      <td>0</td>\n",
       "      <td>0</td>\n",
       "      <td>1</td>\n",
       "      <td>1</td>\n",
       "      <td>0</td>\n",
       "      <td>0</td>\n",
       "      <td>0.442868</td>\n",
       "      <td>0.972997</td>\n",
       "      <td>0.004663</td>\n",
       "    </tr>\n",
       "    <tr>\n",
       "      <th>43163</th>\n",
       "      <td>7</td>\n",
       "      <td>38.882841</td>\n",
       "      <td>-76.962044</td>\n",
       "      <td>37634.0</td>\n",
       "      <td>269.0</td>\n",
       "      <td>8.0</td>\n",
       "      <td>104.0</td>\n",
       "      <td>0</td>\n",
       "      <td>0</td>\n",
       "      <td>0</td>\n",
       "      <td>1</td>\n",
       "      <td>0</td>\n",
       "      <td>0</td>\n",
       "      <td>0</td>\n",
       "      <td>0</td>\n",
       "      <td>1</td>\n",
       "      <td>0</td>\n",
       "      <td>0</td>\n",
       "      <td>0</td>\n",
       "      <td>0</td>\n",
       "      <td>0</td>\n",
       "      <td>0</td>\n",
       "      <td>0</td>\n",
       "      <td>0</td>\n",
       "      <td>0</td>\n",
       "      <td>0</td>\n",
       "      <td>0</td>\n",
       "      <td>0</td>\n",
       "      <td>0</td>\n",
       "      <td>0</td>\n",
       "      <td>0</td>\n",
       "      <td>0</td>\n",
       "      <td>1</td>\n",
       "      <td>0</td>\n",
       "      <td>1</td>\n",
       "      <td>0</td>\n",
       "      <td>0</td>\n",
       "      <td>1.045564</td>\n",
       "      <td>0.913196</td>\n",
       "      <td>0.108088</td>\n",
       "    </tr>\n",
       "  </tbody>\n",
       "</table>\n",
       "<p>43164 rows × 40 columns</p>\n",
       "</div>"
      ],
      "text/plain": [
       "       OFFENSE   LATITUDE  LONGITUDE  total_cases  daily_cases  daily_death  \\\n",
       "0            8  38.895445 -76.978994      14077.0         28.0          1.0   \n",
       "1            1  38.846282 -76.980074      14077.0         28.0          1.0   \n",
       "2            8  38.956588 -77.012631      14077.0         28.0          1.0   \n",
       "3            8  38.895398 -76.984577      14049.0         57.0          0.0   \n",
       "4            7  38.907242 -77.044167      14077.0         28.0          1.0   \n",
       "...        ...        ...        ...          ...          ...          ...   \n",
       "43159        2  38.913022 -76.975955      37634.0        269.0          8.0   \n",
       "43160        7  38.874610 -76.967094      37634.0        269.0          8.0   \n",
       "43161        7  38.951338 -76.991691      37365.0        166.0          6.0   \n",
       "43162        1  38.852403 -76.982313      37634.0        269.0          8.0   \n",
       "43163        7  38.882841 -76.962044      37634.0        269.0          8.0   \n",
       "\n",
       "       OUT_POSITIVE_QUARANTINE_PSMPD  MO  TU  WE  TH  FR  SA  SU  JAN  FEB  \\\n",
       "0                               80.0   0   1   0   0   0   0   0    0    0   \n",
       "1                               80.0   0   1   0   0   0   0   0    0    0   \n",
       "2                               80.0   0   1   0   0   0   0   0    0    0   \n",
       "3                               87.0   1   0   0   0   0   0   0    0    0   \n",
       "4                               80.0   0   1   0   0   0   0   0    0    0   \n",
       "...                              ...  ..  ..  ..  ..  ..  ..  ..  ...  ...   \n",
       "43159                          104.0   0   0   0   1   0   0   0    0    1   \n",
       "43160                          104.0   0   0   0   1   0   0   0    0    1   \n",
       "43161                          106.0   0   0   1   0   0   0   0    0    1   \n",
       "43162                          104.0   0   0   0   1   0   0   0    0    1   \n",
       "43163                          104.0   0   0   0   1   0   0   0    0    1   \n",
       "\n",
       "       MAR  APR  MAY  JUN  JUL  AUG  SEP  OCT  NOV  DEC  ward_1  ward_2  \\\n",
       "0        0    0    0    0    0    0    1    0    0    0       0       0   \n",
       "1        0    0    0    0    0    0    1    0    0    0       0       0   \n",
       "2        0    0    0    0    0    0    1    0    0    0       0       0   \n",
       "3        0    0    0    0    0    1    0    0    0    0       0       0   \n",
       "4        0    0    0    0    0    0    1    0    0    0       0       1   \n",
       "...    ...  ...  ...  ...  ...  ...  ...  ...  ...  ...     ...     ...   \n",
       "43159    0    0    0    0    0    0    0    0    0    0       0       0   \n",
       "43160    0    0    0    0    0    0    0    0    0    0       0       0   \n",
       "43161    0    0    0    0    0    0    0    0    0    0       0       0   \n",
       "43162    0    0    0    0    0    0    0    0    0    0       0       0   \n",
       "43163    0    0    0    0    0    0    0    0    0    0       0       0   \n",
       "\n",
       "       ward_3  ward_4  ward_5  ward_6  ward_7  ward_8  DAY  EVENING  MIDNIGHT  \\\n",
       "0           0       0       0       1       0       0    0        1         0   \n",
       "1           0       0       0       0       0       1    0        1         0   \n",
       "2           0       1       0       0       0       0    0        1         0   \n",
       "3           0       0       0       1       0       0    0        1         0   \n",
       "4           0       0       0       0       0       0    0        1         0   \n",
       "...       ...     ...     ...     ...     ...     ...  ...      ...       ...   \n",
       "43159       0       0       1       0       0       0    1        0         0   \n",
       "43160       0       0       0       0       1       0    1        0         0   \n",
       "43161       0       0       1       0       0       0    1        0         0   \n",
       "43162       0       0       0       0       0       1    1        0         0   \n",
       "43163       0       0       0       0       1       0    1        0         0   \n",
       "\n",
       "       distance_metro  distance_nightclubs  distance_worship  \n",
       "0            0.189878             0.352657          0.081604  \n",
       "1            0.585539             1.073603          0.156339  \n",
       "2            0.490429             0.876416          0.009941  \n",
       "3            0.229824             0.360878          0.051530  \n",
       "4            0.063730             0.035825          0.076037  \n",
       "...               ...                  ...               ...  \n",
       "43159        0.418831             0.078911          0.159204  \n",
       "43160        0.718883             0.790578          0.034208  \n",
       "43161        0.345018             0.900916          0.097899  \n",
       "43162        0.442868             0.972997          0.004663  \n",
       "43163        1.045564             0.913196          0.108088  \n",
       "\n",
       "[43164 rows x 40 columns]"
      ]
     },
     "execution_count": 28,
     "metadata": {},
     "output_type": "execute_result"
    }
   ],
   "source": [
    "pre_covid_data"
   ]
  },
  {
   "cell_type": "code",
   "execution_count": 29,
   "id": "380cc2dc",
   "metadata": {},
   "outputs": [],
   "source": [
    "# WARD, DISTRICT, total_cases, daily_cases/deaths, OUT_POSITIVE_QUARANTINE_PSMPD, DAYS (MO-SUN), SHIFT, MONTH => CRIME_CLASS (9)"
   ]
  },
  {
   "cell_type": "code",
   "execution_count": 30,
   "id": "a41ea888",
   "metadata": {},
   "outputs": [],
   "source": [
    "X = pre_covid_data.loc[:, pre_covid_data.columns != 'OFFENSE'].values\n",
    "y = pre_covid_data['OFFENSE'].values\n",
    "\n",
    "X_train, X_test, y_train, y_test = train_test_split(X, y, test_size=0.3, shuffle=True)"
   ]
  },
  {
   "cell_type": "code",
   "execution_count": 31,
   "id": "1528e156",
   "metadata": {},
   "outputs": [
    {
     "name": "stdout",
     "output_type": "stream",
     "text": [
      "X_train.shape (30214, 39)\n",
      "y_train.shape (30214,)\n",
      "\n",
      "X_test.shape (12950, 39)\n",
      "X_test.shape (12950, 39)\n"
     ]
    }
   ],
   "source": [
    "print(\"X_train.shape\", X_train.shape)\n",
    "print(\"y_train.shape\", y_train.shape)\n",
    "print(\"\")\n",
    "print(\"X_test.shape\", X_test.shape)\n",
    "print(\"X_test.shape\", X_test.shape)"
   ]
  },
  {
   "cell_type": "markdown",
   "id": "33186e6a",
   "metadata": {},
   "source": [
    "# Using Standard Scaler on Data:"
   ]
  },
  {
   "cell_type": "code",
   "execution_count": 32,
   "id": "3ad79439",
   "metadata": {},
   "outputs": [
    {
     "name": "stdout",
     "output_type": "stream",
     "text": [
      "[[ 1.54306747 -0.68386515 -0.84260143 -0.10766791  0.21380504 -0.2503628\n",
      "  -0.41592643  2.43610099 -0.40823253 -0.39908386 -0.4080118  -0.41356968\n",
      "  -0.40231019 -0.22248162 -0.20150971 -0.28181268 -0.29672853 -0.33721796\n",
      "   2.86853041 -0.35407975 -0.34956517 -0.37448231 -0.32881606 -0.24149696\n",
      "  -0.23631099 -0.40286529 -0.42952432 -0.23552929  3.07896988 -0.43152262\n",
      "  -0.46744303 -0.37734947 -0.32528187  1.30110333 -0.88134643 -0.48662995\n",
      "   0.37973264 -0.36656315 -0.29262403]\n",
      " [ 0.72761621 -0.71659266 -0.83655999 -0.11048439  0.0266021   0.16219049\n",
      "  -0.41592643 -0.41049201 -0.40823253 -0.39908386 -0.4080118   2.41797221\n",
      "  -0.40231019 -0.22248162 -0.20150971 -0.28181268 -0.29672853 -0.33721796\n",
      "   2.86853041 -0.35407975 -0.34956517 -0.37448231 -0.32881606 -0.24149696\n",
      "  -0.23631099  2.4822193  -0.42952432 -0.23552929 -0.32478395 -0.43152262\n",
      "  -0.46744303 -0.37734947 -0.32528187  1.30110333 -0.88134643 -0.48662995\n",
      "  -1.1411441  -0.56851586 -0.7279996 ]]\n",
      "[[-6.28725365e-02 -6.98779682e-01  1.12977744e+00 -1.44282075e-01\n",
      "  -1.60600840e-01 -9.76456603e-01 -4.15926433e-01 -4.10492014e-01\n",
      "  -4.08232526e-01  2.50573902e+00 -4.08011803e-01 -4.13569682e-01\n",
      "  -4.02310191e-01 -2.22481622e-01 -2.01509714e-01 -2.81812676e-01\n",
      "  -2.96728534e-01 -3.37217956e-01  2.86853041e+00 -3.54079747e-01\n",
      "  -3.49565173e-01 -3.74482308e-01 -3.28816062e-01 -2.41496960e-01\n",
      "  -2.36310992e-01 -4.02865291e-01  2.32815689e+00 -2.35529286e-01\n",
      "  -3.24783951e-01 -4.31522618e-01 -4.67443028e-01 -3.77349466e-01\n",
      "  -3.25281868e-01 -7.68578465e-01  1.13462761e+00 -4.86629953e-01\n",
      "  -7.54744307e-01 -7.66098669e-01 -5.91358221e-01]\n",
      " [-2.92159885e-01  2.08504870e+00  1.79039007e-03  6.97699569e-02\n",
      "   2.66020990e-02  3.00055717e+00  2.40427133e+00 -4.10492014e-01\n",
      "  -4.08232526e-01 -3.99083861e-01 -4.08011803e-01 -4.13569682e-01\n",
      "  -4.02310191e-01 -2.22481622e-01 -2.01509714e-01 -2.81812676e-01\n",
      "  -2.96728534e-01 -3.37217956e-01 -3.48610563e-01 -3.54079747e-01\n",
      "  -3.49565173e-01 -3.74482308e-01 -3.28816062e-01 -2.41496960e-01\n",
      "   4.23171174e+00 -4.02865291e-01 -4.29524318e-01 -2.35529286e-01\n",
      "  -3.24783951e-01 -4.31522618e-01 -4.67443028e-01  2.65006338e+00\n",
      "  -3.25281868e-01 -7.68578465e-01  1.13462761e+00 -4.86629953e-01\n",
      "  -3.46927364e-01  2.94303626e+00 -2.03828951e-01]]\n"
     ]
    }
   ],
   "source": [
    "Stand_scaler = StandardScaler() # or MinMaxScaler()\n",
    "Stand_scaler.fit(X_train)\n",
    "\n",
    "X_train_Stand_scaled = Stand_scaler.transform(X_train)\n",
    "X_test_Stand_scaled = Stand_scaler.transform(X_test)\n",
    "\n",
    "print(X_train_Stand_scaled[:2])\n",
    "\n",
    "print(X_test_Stand_scaled[:2])"
   ]
  },
  {
   "cell_type": "markdown",
   "id": "b0ec8d73",
   "metadata": {},
   "source": [
    "# Using MinMax Scaler with range between 0 and 1:"
   ]
  },
  {
   "cell_type": "code",
   "execution_count": 33,
   "id": "899cd561",
   "metadata": {},
   "outputs": [
    {
     "name": "stdout",
     "output_type": "stream",
     "text": [
      "[[0.77777605 0.39566643 0.06770597 0.00824923 0.50277778 0.15692308\n",
      "  0.         1.         0.         0.         0.         0.\n",
      "  0.         0.         0.         0.         0.         0.\n",
      "  1.         0.         0.         0.         0.         0.\n",
      "  0.         0.         0.         0.         1.         0.\n",
      "  0.         0.         0.         1.         0.         0.\n",
      "  0.22243395 0.08047323 0.08141512]\n",
      " [0.63947153 0.38985137 0.06850817 0.00822619 0.49722222 0.23384615\n",
      "  0.         0.         0.         0.         0.         1.\n",
      "  0.         0.         0.         0.         0.         0.\n",
      "  1.         0.         0.         0.         0.         0.\n",
      "  0.         1.         0.         0.         0.         0.\n",
      "  0.         0.         0.         1.         0.         0.\n",
      "  0.01538536 0.04645906 0.04255218]]\n",
      "[[0.50540076 0.3930164  0.32960532 0.00794968 0.49166667 0.02153846\n",
      "  0.         0.         0.         1.         0.         0.\n",
      "  0.         0.         0.         0.         0.         0.\n",
      "  1.         0.         0.         0.         0.         0.\n",
      "  0.         0.         1.         0.         0.         0.\n",
      "  0.         0.         0.         0.         1.         0.\n",
      "  0.06798892 0.0131809  0.05474921]\n",
      " [0.46651251 0.88764968 0.17982726 0.00970091 0.49722222 0.76307692\n",
      "  1.         0.         0.         0.         0.         0.\n",
      "  0.         0.         0.         0.         0.         0.\n",
      "  0.         0.         0.         0.         0.         0.\n",
      "  1.         0.         0.         0.         0.         0.\n",
      "  0.         1.         0.         0.         1.         0.\n",
      "  0.12350816 0.63789718 0.08934124]]\n"
     ]
    }
   ],
   "source": [
    "from sklearn.preprocessing import MinMaxScaler\n",
    "\n",
    "MinMax_scaler = MinMaxScaler(feature_range=(0, 1))\n",
    "\n",
    "MinMax_scaler = MinMax_scaler.fit(X_train)\n",
    "\n",
    "X_train_MinMax_scaled = MinMax_scaler.transform(X_train)\n",
    "X_test_MinMax_scaled = MinMax_scaler.transform(X_test)\n",
    "\n",
    "print(X_train_MinMax_scaled[:2])\n",
    "print(X_test_MinMax_scaled[:2])"
   ]
  },
  {
   "cell_type": "markdown",
   "id": "a0be8e42",
   "metadata": {},
   "source": [
    "# Grid Search for each:"
   ]
  },
  {
   "cell_type": "markdown",
   "id": "58de7368",
   "metadata": {},
   "source": [
    "# SVC (Support Vector Machine)"
   ]
  },
  {
   "cell_type": "code",
   "execution_count": 34,
   "id": "7a73be97",
   "metadata": {},
   "outputs": [
    {
     "name": "stdout",
     "output_type": "stream",
     "text": [
      "Current C=41\n",
      "    * Score is: [8 8 7 ... 7 8 1]\n",
      "    * Accuracy: 36.93 %\n",
      "    * Precision: 18.44 %\n",
      "    * Recall: 17.56 %\n"
     ]
    }
   ],
   "source": [
    "# with StandardScaler\n",
    "curr_SVC_cls_w_StandScaler = SVC(C=75, kernel='rbf')\n",
    "\n",
    "curr_SVC_cls_w_StandScaler.fit(X_train_Stand_scaled, y_train)\n",
    "curr_y_pred_SVC_grid_with_StandScaler = curr_SVC_cls_w_StandScaler.predict(X_test_Stand_scaled)\n",
    "y_true = y_test\n",
    "print(f\"Current C={41}\")\n",
    "print(\"    * Score is:\", curr_y_pred_SVC_grid_with_StandScaler)\n",
    "print(\"    * Accuracy:\", round(accuracy_score(y_test, curr_y_pred_SVC_grid_with_StandScaler)*100, 2), \"%\")\n",
    "print(\"    * Precision:\", round(precision_score(y_test, curr_y_pred_SVC_grid_with_StandScaler,\n",
    "                                    average='macro')*100, 2), \"%\")\n",
    "print(\"    * Recall:\", round(recall_score(y_test, curr_y_pred_SVC_grid_with_StandScaler,\n",
    "                              average='macro')*100, 2), \"%\")"
   ]
  },
  {
   "cell_type": "code",
   "execution_count": 35,
   "id": "dc9b874e",
   "metadata": {},
   "outputs": [
    {
     "name": "stdout",
     "output_type": "stream",
     "text": [
      "Current C=41\n",
      "    * Score is: [8 8 8 ... 7 8 1]\n",
      "    * Accuracy: 38.25 %\n",
      "    * Precision: 19.2 %\n",
      "    * Recall: 16.48 %\n"
     ]
    }
   ],
   "source": [
    "# with MinMax\n",
    "curr_SVC_cls_w_MinMax = SVC(C=75, kernel='rbf')\n",
    "\n",
    "curr_SVC_cls_w_MinMax.fit(X_train_MinMax_scaled, y_train)\n",
    "curr_y_pred_SVC_grid_with_MinMax = curr_SVC_cls_w_MinMax.predict(X_test_MinMax_scaled)\n",
    "y_true = y_test\n",
    "print(f\"Current C={41}\")\n",
    "print(\"    * Score is:\", curr_y_pred_SVC_grid_with_MinMax)\n",
    "print(\"    * Accuracy:\", round(accuracy_score(y_test, curr_y_pred_SVC_grid_with_MinMax)*100, 2), \"%\")\n",
    "print(\"    * Precision:\", round(precision_score(y_test, curr_y_pred_SVC_grid_with_MinMax,\n",
    "                                    average='macro')*100, 2), \"%\")\n",
    "print(\"    * Recall:\", round(recall_score(y_test, curr_y_pred_SVC_grid_with_MinMax,\n",
    "                              average='macro')*100, 2), \"%\")"
   ]
  },
  {
   "cell_type": "markdown",
   "id": "960c3bad",
   "metadata": {},
   "source": [
    "# Neural Network:"
   ]
  },
  {
   "cell_type": "code",
   "execution_count": null,
   "id": "971b69a1",
   "metadata": {},
   "outputs": [],
   "source": [
    "# X_train_Stand_scaled\n",
    "# X_test_Stand_scaled\n",
    "\n",
    "# X_train_MinMax_scaled\n",
    "# X_test_MinMax_scaled"
   ]
  },
  {
   "cell_type": "code",
   "execution_count": 16,
   "id": "370a58b0",
   "metadata": {},
   "outputs": [
    {
     "data": {
      "text/plain": [
       "(73051, 34)"
      ]
     },
     "execution_count": 16,
     "metadata": {},
     "output_type": "execute_result"
    }
   ],
   "source": [
    "X_train_Stand_scaled.shape"
   ]
  },
  {
   "cell_type": "code",
   "execution_count": 17,
   "id": "deff0d17",
   "metadata": {},
   "outputs": [
    {
     "data": {
      "text/plain": [
       "array([5, 3, 2, ..., 8, 6, 2])"
      ]
     },
     "execution_count": 17,
     "metadata": {},
     "output_type": "execute_result"
    }
   ],
   "source": [
    "y_train"
   ]
  },
  {
   "cell_type": "code",
   "execution_count": 18,
   "id": "7a5281a7",
   "metadata": {},
   "outputs": [
    {
     "data": {
      "text/plain": [
       "34"
      ]
     },
     "execution_count": 18,
     "metadata": {},
     "output_type": "execute_result"
    }
   ],
   "source": [
    "X_train_Stand_scaled[0].shape[0]"
   ]
  },
  {
   "cell_type": "code",
   "execution_count": 38,
   "id": "1b609e2c",
   "metadata": {},
   "outputs": [],
   "source": [
    "class CrimeDataset(Dataset):\n",
    "    \n",
    "    def __init__(self, scaling_type=\"Standard_Scaler\", learning_mode=\"train\"):\n",
    "        # Initialize data        \n",
    "        if scaling_type == \"Standard_Scaler\":\n",
    "            train_numpy_arr = X_train_Stand_scaled\n",
    "            test_numpy_arr = X_test_Stand_scaled\n",
    "        else: # do MinMax\n",
    "            train_numpy_arr = X_train_MinMax_scaled\n",
    "            test_numpy_arr = X_test_MinMax_scaled\n",
    "            \n",
    "        main_data = copy.deepcopy(train_numpy_arr)\n",
    "        x_train_data, x_val_data, y_train_data, y_val_data = train_test_split(train_numpy_arr, y_train, test_size=0.2, random_state=1)\n",
    "        x_test_data, y_test_data = test_numpy_arr, y_test\n",
    "           \n",
    "        if learning_mode == \"test\":\n",
    "            print(\"Retreiving Test Dataset...\")\n",
    "            self.x_data = torch.from_numpy(x_test_data)\n",
    "            self.y_data = torch.from_numpy(y_test_data-1)\n",
    "        elif learning_mode == \"val\":\n",
    "            print(\"Retreiving Validation Dataset...\")\n",
    "            self.x_data = torch.from_numpy(x_val_data)\n",
    "            self.y_data = torch.from_numpy(y_val_data-1)\n",
    "        else:\n",
    "            print(\"Retreiving Train Dataset...\")\n",
    "            self.x_data = torch.from_numpy(x_train_data)\n",
    "            self.y_data = torch.from_numpy(y_train_data-1)\n",
    "            \n",
    "        self.n_samples = self.x_data.shape[0]\n",
    "            \n",
    "    # here the first column is the class label, the rest are the features\n",
    "    def __getitem__(self, index):\n",
    "        return self.x_data[index], self.y_data[index]\n",
    "    \n",
    "    # support indexing such that dataset[i] can be used to get i-th sample\n",
    "    def __len__(self):\n",
    "        print(\"  -n_samples =\", self.n_samples)\n",
    "        return self.n_samples"
   ]
  },
  {
   "cell_type": "code",
   "execution_count": 39,
   "id": "a6e04452",
   "metadata": {},
   "outputs": [],
   "source": [
    "# Multiclass problem\n",
    "class NeuralNet2(nn.Module):\n",
    "    def __init__(self, input_size, hidden_size, num_classes):\n",
    "        super(NeuralNet2, self).__init__()\n",
    "        self.linear1 = nn.Linear(input_size, hidden_size) \n",
    "        self.relu1 = nn.ReLU()\n",
    "        self.linear2 = nn.Linear(hidden_size, hidden_size) \n",
    "        self.relu2 = nn.ReLU()\n",
    "        self.linear3 = nn.Linear(hidden_size, hidden_size) \n",
    "        #self.relu3 = nn.ReLU()\n",
    "        self.linear4 = nn.Linear(hidden_size, hidden_size) \n",
    "        self.relu4 = nn.ReLU()\n",
    "        self.linear5 = nn.Linear(hidden_size, hidden_size) \n",
    "        #self.relu5 = nn.ReLU()\n",
    "        self.linear6 = nn.Linear(hidden_size, hidden_size) \n",
    "        self.relu6 = nn.ReLU()\n",
    "        self.linear7 = nn.Linear(hidden_size, hidden_size) \n",
    "        self.relu7 = nn.ReLU()\n",
    "        self.linear8 = nn.Linear(hidden_size, num_classes)  \n",
    "    \n",
    "    def forward(self, x):\n",
    "        out = self.linear1(x)\n",
    "        out = self.relu1(out)\n",
    "        out = self.linear2(out)\n",
    "        out = self.relu2(out)\n",
    "        out = self.linear3(out)\n",
    "        #out = self.relu3(out)\n",
    "        #out = self.linear4(out)\n",
    "        #out = self.relu4(out)\n",
    "        #out = self.linear5(out)\n",
    "        #out = self.relu5(out)\n",
    "        #out = self.linear6(out)\n",
    "        #out = self.relu6(out)\n",
    "        #out = self.linear7(out)\n",
    "        #out = self.relu7(out)\n",
    "        #out = self.linear8(out)\n",
    "        # no softmax at the end\n",
    "        return out"
   ]
  },
  {
   "cell_type": "code",
   "execution_count": 40,
   "id": "706fbc78",
   "metadata": {},
   "outputs": [],
   "source": [
    "class EarlyStopping():\n",
    "    \"\"\"\n",
    "    Early stopping to stop the training when the loss does not improve after\n",
    "    certain epochs.\n",
    "    \"\"\"\n",
    "    def __init__(self, patience=5, min_delta=0):\n",
    "        \"\"\"\n",
    "        :param patience: how many epochs to wait before stopping when loss is\n",
    "               not improving\n",
    "        :param min_delta: minimum difference between new loss and old loss for\n",
    "               new loss to be considered as an improvement\n",
    "        \"\"\"\n",
    "        self.patience = patience\n",
    "        self.min_delta = min_delta\n",
    "        self.counter = 0\n",
    "        self.best_loss = None\n",
    "        self.early_stop = False\n",
    "    def __call__(self, val_loss):\n",
    "        if self.best_loss == None:\n",
    "            self.best_loss = val_loss\n",
    "        elif self.best_loss - val_loss > self.min_delta:\n",
    "            self.best_loss = val_loss\n",
    "            # reset counter if validation loss improves\n",
    "            self.counter = 0\n",
    "        elif self.best_loss - val_loss < self.min_delta:\n",
    "            self.counter += 1\n",
    "            print(f\"INFO: Early stopping counter {self.counter} of {self.patience}\")\n",
    "            if self.counter >= self.patience:\n",
    "                print('INFO: Early stopping')\n",
    "                self.early_stop = True"
   ]
  },
  {
   "cell_type": "code",
   "execution_count": 41,
   "id": "61cf305d",
   "metadata": {},
   "outputs": [],
   "source": [
    "# training function\n",
    "softmax = nn.Softmax(dim=1)\n",
    "\n",
    "def fit(model, train_dataloader, train_dataset, optimizer, criterion):\n",
    "    print('Training')\n",
    "    model.train()\n",
    "    train_running_loss = 0.0\n",
    "    train_running_correct = 0\n",
    "    counter = 0\n",
    "    total = 0\n",
    "    prog_bar = tqdm(enumerate(train_dataloader), total=int(len(train_dataset)/train_dataloader.batch_size))\n",
    "    for i, data in prog_bar:\n",
    "        counter += 1\n",
    "        data, target = data[0], data[1]\n",
    "        total += target.size(0)\n",
    "        optimizer.zero_grad()\n",
    "        outputs = model(data.float())\n",
    "        #output_labels = []\n",
    "        #for t in outputs:\n",
    "        #    __, class_pred = torch.max(t, dim=0)\n",
    "        #    output_labels.append(class_pred.item())\n",
    "        #output_labels = torch.tensor(np.array(output_labels))\n",
    "        output_probas = softmax(outputs)\n",
    "        target = target.type(torch.LongTensor)\n",
    "        loss = criterion(output_probas, target) #.long())\n",
    "        train_running_loss += loss.item()\n",
    "        _, preds = torch.max(outputs.data, 1)\n",
    "        train_running_correct += (preds == target).sum().item()\n",
    "        loss.backward()\n",
    "        optimizer.step()\n",
    "        \n",
    "    train_loss = train_running_loss / counter\n",
    "    train_accuracy = 100. * train_running_correct / total\n",
    "    return train_loss, train_accuracy"
   ]
  },
  {
   "cell_type": "code",
   "execution_count": 42,
   "id": "e1f14fc4",
   "metadata": {},
   "outputs": [],
   "source": [
    "# validation function\n",
    "def validate(model, test_dataloader, val_dataset, criterion):\n",
    "    print('Validating')\n",
    "    model.eval()\n",
    "    val_running_loss = 0.0\n",
    "    val_running_correct = 0\n",
    "    counter = 0\n",
    "    total = 0\n",
    "    prog_bar = tqdm(enumerate(test_dataloader), total=int(len(val_dataset)/test_dataloader.batch_size))\n",
    "    with torch.no_grad():\n",
    "        for i, data in prog_bar:\n",
    "            counter += 1\n",
    "            data, target = data[0], data[1]\n",
    "            total += target.size(0)\n",
    "            outputs = model(data.float())\n",
    "            loss = criterion(outputs, target.type(torch.LongTensor))\n",
    "            \n",
    "            val_running_loss += loss.item()\n",
    "            _, preds = torch.max(outputs.data, 1)\n",
    "            val_running_correct += (preds == target).sum().item()\n",
    "        \n",
    "        val_loss = val_running_loss / counter\n",
    "        val_accuracy = 100. * val_running_correct / total\n",
    "        return val_loss, val_accuracy"
   ]
  },
  {
   "cell_type": "code",
   "execution_count": 43,
   "id": "3639ba47",
   "metadata": {},
   "outputs": [],
   "source": [
    "# X_train_Stand_scaled\n",
    "# X_test_Stand_scaled\n",
    "\n",
    "# X_train_MinMax_scaled\n",
    "# X_test_MinMax_scaled"
   ]
  },
  {
   "cell_type": "code",
   "execution_count": 44,
   "id": "f597259e",
   "metadata": {},
   "outputs": [
    {
     "data": {
      "text/plain": [
       "numpy.ndarray"
      ]
     },
     "execution_count": 44,
     "metadata": {},
     "output_type": "execute_result"
    }
   ],
   "source": [
    "type(X_train_MinMax_scaled)"
   ]
  },
  {
   "cell_type": "code",
   "execution_count": 45,
   "id": "10b3eec4",
   "metadata": {},
   "outputs": [
    {
     "data": {
      "text/plain": [
       "numpy.ndarray"
      ]
     },
     "execution_count": 45,
     "metadata": {},
     "output_type": "execute_result"
    }
   ],
   "source": [
    "type(y_train)"
   ]
  },
  {
   "cell_type": "code",
   "execution_count": 46,
   "id": "a8bd2a4e",
   "metadata": {},
   "outputs": [
    {
     "name": "stdout",
     "output_type": "stream",
     "text": [
      "Retreiving Train Dataset...\n",
      "  -n_samples = 58440\n",
      "  -n_samples = 58440\n",
      "Retreiving Validation Dataset...\n",
      "Retreiving Test Dataset...\n"
     ]
    }
   ],
   "source": [
    "# traning and validation datasets and dataloaders\n",
    "train_dataset = CrimeDataset(learning_mode=\"train\")\n",
    "\n",
    "train_dataloader = torch.utils.data.DataLoader(\n",
    "    train_dataset, batch_size=32, shuffle=True,\n",
    ")\n",
    "\n",
    "\n",
    "val_dataset = CrimeDataset(learning_mode=\"val\")\n",
    "\n",
    "val_dataloader = torch.utils.data.DataLoader(\n",
    "    val_dataset, batch_size=32, shuffle=False,\n",
    ")\n",
    "\n",
    "\n",
    "test_dataset = CrimeDataset(learning_mode=\"test\")\n",
    "\n",
    "val_dataloader = torch.utils.data.DataLoader(\n",
    "    val_dataset, batch_size=32, shuffle=False,\n",
    ")"
   ]
  },
  {
   "cell_type": "code",
   "execution_count": 54,
   "id": "ddf5dc88",
   "metadata": {},
   "outputs": [
    {
     "name": "stdout",
     "output_type": "stream",
     "text": [
      "Epoch 1 of 100\n",
      "Training\n",
      "  -n_samples = 58440\n"
     ]
    },
    {
     "name": "stderr",
     "output_type": "stream",
     "text": [
      "  8%|██████                                                                        | 141/1826 [00:00<00:02, 710.55it/s]"
     ]
    },
    {
     "name": "stdout",
     "output_type": "stream",
     "text": [
      "  -n_samples = 58440\n"
     ]
    },
    {
     "name": "stderr",
     "output_type": "stream",
     "text": [
      "1827it [00:02, 718.73it/s]                                                                                             \n"
     ]
    },
    {
     "name": "stdout",
     "output_type": "stream",
     "text": [
      "Validating\n",
      "  -n_samples = 14611\n"
     ]
    },
    {
     "name": "stderr",
     "output_type": "stream",
     "text": [
      " 93%|████████████████████████████████████████████████████████████████████████▋     | 425/456 [00:00<00:00, 2147.02it/s]"
     ]
    },
    {
     "name": "stdout",
     "output_type": "stream",
     "text": [
      "  -n_samples = 14611\n"
     ]
    },
    {
     "name": "stderr",
     "output_type": "stream",
     "text": [
      "457it [00:00, 2135.50it/s]                                                                                             \n"
     ]
    },
    {
     "name": "stdout",
     "output_type": "stream",
     "text": [
      "Train Loss: 4.5533, Train Acc: 32.16\n",
      "Val Loss: 4.8500, Val Acc: 38.29\n",
      "Epoch 2 of 100\n",
      "Training\n",
      "  -n_samples = 58440\n"
     ]
    },
    {
     "name": "stderr",
     "output_type": "stream",
     "text": [
      "  4%|███                                                                            | 70/1826 [00:00<00:02, 686.28it/s]"
     ]
    },
    {
     "name": "stdout",
     "output_type": "stream",
     "text": [
      "  -n_samples = 58440\n"
     ]
    },
    {
     "name": "stderr",
     "output_type": "stream",
     "text": [
      "1827it [00:02, 664.36it/s]                                                                                             \n"
     ]
    },
    {
     "name": "stdout",
     "output_type": "stream",
     "text": [
      "Validating\n",
      "  -n_samples = 14611\n"
     ]
    },
    {
     "name": "stderr",
     "output_type": "stream",
     "text": [
      " 93%|████████████████████████████████████████████████████████████████████████▊     | 426/456 [00:00<00:00, 2142.58it/s]"
     ]
    },
    {
     "name": "stdout",
     "output_type": "stream",
     "text": [
      "  -n_samples = 14611\n"
     ]
    },
    {
     "name": "stderr",
     "output_type": "stream",
     "text": [
      "457it [00:00, 2115.99it/s]                                                                                             \n"
     ]
    },
    {
     "name": "stdout",
     "output_type": "stream",
     "text": [
      "INFO: Early stopping counter 1 of 5\n",
      "Train Loss: 4.4455, Train Acc: 40.59\n",
      "Val Loss: 5.7646, Val Acc: 42.74\n",
      "Epoch 3 of 100\n",
      "Training\n",
      "  -n_samples = 58440\n"
     ]
    },
    {
     "name": "stderr",
     "output_type": "stream",
     "text": [
      "  7%|█████▊                                                                        | 135/1826 [00:00<00:02, 679.12it/s]"
     ]
    },
    {
     "name": "stdout",
     "output_type": "stream",
     "text": [
      "  -n_samples = 58440\n"
     ]
    },
    {
     "name": "stderr",
     "output_type": "stream",
     "text": [
      "1827it [00:02, 664.36it/s]                                                                                             \n"
     ]
    },
    {
     "name": "stdout",
     "output_type": "stream",
     "text": [
      "Validating\n",
      "  -n_samples = 14611\n"
     ]
    },
    {
     "name": "stderr",
     "output_type": "stream",
     "text": [
      " 93%|████████████████████████████████████████████████████████████████████████▊     | 426/456 [00:00<00:00, 2119.10it/s]"
     ]
    },
    {
     "name": "stdout",
     "output_type": "stream",
     "text": [
      "  -n_samples = 14611\n"
     ]
    },
    {
     "name": "stderr",
     "output_type": "stream",
     "text": [
      "457it [00:00, 2086.50it/s]                                                                                             \n"
     ]
    },
    {
     "name": "stdout",
     "output_type": "stream",
     "text": [
      "INFO: Early stopping counter 2 of 5\n",
      "Train Loss: 4.4150, Train Acc: 43.46\n",
      "Val Loss: 6.8636, Val Acc: 43.79\n",
      "Epoch 4 of 100\n",
      "Training\n",
      "  -n_samples = 58440\n"
     ]
    },
    {
     "name": "stderr",
     "output_type": "stream",
     "text": [
      "  4%|██▉                                                                            | 68/1826 [00:00<00:02, 679.78it/s]"
     ]
    },
    {
     "name": "stdout",
     "output_type": "stream",
     "text": [
      "  -n_samples = 58440\n"
     ]
    },
    {
     "name": "stderr",
     "output_type": "stream",
     "text": [
      "1827it [00:02, 656.49it/s]                                                                                             \n"
     ]
    },
    {
     "name": "stdout",
     "output_type": "stream",
     "text": [
      "Validating\n",
      "  -n_samples = 14611\n"
     ]
    },
    {
     "name": "stderr",
     "output_type": "stream",
     "text": [
      " 46%|███████████████████████████████████▉                                          | 210/456 [00:00<00:00, 2099.96it/s]"
     ]
    },
    {
     "name": "stdout",
     "output_type": "stream",
     "text": [
      "  -n_samples = 14611\n"
     ]
    },
    {
     "name": "stderr",
     "output_type": "stream",
     "text": [
      "457it [00:00, 2086.75it/s]                                                                                             \n"
     ]
    },
    {
     "name": "stdout",
     "output_type": "stream",
     "text": [
      "INFO: Early stopping counter 3 of 5\n",
      "Train Loss: 4.4025, Train Acc: 44.27\n",
      "Val Loss: 7.5746, Val Acc: 44.22\n",
      "Epoch 5 of 100\n",
      "Training\n",
      "  -n_samples = 58440\n"
     ]
    },
    {
     "name": "stderr",
     "output_type": "stream",
     "text": [
      "  3%|██▌                                                                            | 58/1826 [00:00<00:03, 574.27it/s]"
     ]
    },
    {
     "name": "stdout",
     "output_type": "stream",
     "text": [
      "  -n_samples = 58440\n"
     ]
    },
    {
     "name": "stderr",
     "output_type": "stream",
     "text": [
      "1827it [00:02, 659.09it/s]                                                                                             \n"
     ]
    },
    {
     "name": "stdout",
     "output_type": "stream",
     "text": [
      "Validating\n",
      "  -n_samples = 14611\n"
     ]
    },
    {
     "name": "stderr",
     "output_type": "stream",
     "text": [
      " 47%|████████████████████████████████████▉                                         | 216/456 [00:00<00:00, 2138.62it/s]"
     ]
    },
    {
     "name": "stdout",
     "output_type": "stream",
     "text": [
      "  -n_samples = 14611\n"
     ]
    },
    {
     "name": "stderr",
     "output_type": "stream",
     "text": [
      "457it [00:00, 2049.32it/s]                                                                                             \n"
     ]
    },
    {
     "name": "stdout",
     "output_type": "stream",
     "text": [
      "INFO: Early stopping counter 4 of 5\n",
      "Train Loss: 4.3957, Train Acc: 44.73\n",
      "Val Loss: 8.1702, Val Acc: 44.50\n",
      "Epoch 6 of 100\n",
      "Training\n",
      "  -n_samples = 58440\n"
     ]
    },
    {
     "name": "stderr",
     "output_type": "stream",
     "text": [
      "  4%|██▉                                                                            | 69/1826 [00:00<00:02, 689.99it/s]"
     ]
    },
    {
     "name": "stdout",
     "output_type": "stream",
     "text": [
      "  -n_samples = 58440\n"
     ]
    },
    {
     "name": "stderr",
     "output_type": "stream",
     "text": [
      "1827it [00:02, 684.01it/s]                                                                                             \n"
     ]
    },
    {
     "name": "stdout",
     "output_type": "stream",
     "text": [
      "Validating\n",
      "  -n_samples = 14611\n"
     ]
    },
    {
     "name": "stderr",
     "output_type": "stream",
     "text": [
      " 46%|████████████████████████████████████▎                                         | 212/456 [00:00<00:00, 2119.28it/s]"
     ]
    },
    {
     "name": "stdout",
     "output_type": "stream",
     "text": [
      "  -n_samples = 14611\n"
     ]
    },
    {
     "name": "stderr",
     "output_type": "stream",
     "text": [
      "457it [00:00, 2165.62it/s]                                                                                             "
     ]
    },
    {
     "name": "stdout",
     "output_type": "stream",
     "text": [
      "INFO: Early stopping counter 5 of 5\n",
      "INFO: Early stopping\n",
      "Training time: 0.293 minutes\n"
     ]
    },
    {
     "name": "stderr",
     "output_type": "stream",
     "text": [
      "\n"
     ]
    }
   ],
   "source": [
    "epochs = 100\n",
    "lr = 0.0001\n",
    "perform_early_stopping = True\n",
    "early_stopping = EarlyStopping()\n",
    "hidden_size_ = 124\n",
    "num_classes_ = len(set(y_train))\n",
    "\n",
    "model = NeuralNet2(input_size=X_train_Stand_scaled[0].shape[0], hidden_size=hidden_size_, num_classes=num_classes_)\n",
    "criterion = nn.CrossEntropyLoss()  # (applies Softmax)\n",
    "optimizer = optim.Adam(model.parameters(), lr=lr)\n",
    "\n",
    "# lists to store per-epoch loss and accuracy values\n",
    "train_loss, train_accuracy = [], []\n",
    "val_loss, val_accuracy = [], []\n",
    "start = time.time()\n",
    "for epoch in range(epochs):\n",
    "    print(f\"Epoch {epoch+1} of {epochs}\")\n",
    "    train_epoch_loss, train_epoch_accuracy = fit(\n",
    "        model, train_dataloader, train_dataset, optimizer, criterion\n",
    "    )\n",
    "    val_epoch_loss, val_epoch_accuracy = validate(\n",
    "        model, val_dataloader, val_dataset, criterion\n",
    "    )\n",
    "    train_loss.append(train_epoch_loss)\n",
    "    train_accuracy.append(train_epoch_accuracy)\n",
    "    val_loss.append(val_epoch_loss)\n",
    "    val_accuracy.append(val_epoch_accuracy)\n",
    "    if perform_early_stopping:\n",
    "        early_stopping(val_epoch_loss)\n",
    "        if early_stopping.early_stop:\n",
    "            break\n",
    "    print(f\"Train Loss: {train_epoch_loss:.4f}, Train Acc: {train_epoch_accuracy:.2f}\")\n",
    "    print(f'Val Loss: {val_epoch_loss:.4f}, Val Acc: {val_epoch_accuracy:.2f}')\n",
    "end = time.time()\n",
    "print(f\"Training time: {(end-start)/60:.3f} minutes\")"
   ]
  },
  {
   "cell_type": "code",
   "execution_count": 55,
   "id": "b7263437",
   "metadata": {},
   "outputs": [
    {
     "data": {
      "text/plain": [
       "array([5, 3, 2, ..., 8, 6, 2])"
      ]
     },
     "execution_count": 55,
     "metadata": {},
     "output_type": "execute_result"
    }
   ],
   "source": [
    "y_train"
   ]
  },
  {
   "cell_type": "code",
   "execution_count": 56,
   "id": "b9bb30b5",
   "metadata": {},
   "outputs": [
    {
     "data": {
      "image/png": "[encoded data removed]",
      "text/plain": [
       "<Figure size 432x288 with 1 Axes>"
      ]
     },
     "metadata": {
      "needs_background": "light"
     },
     "output_type": "display_data"
    }
   ],
   "source": [
    "plt.hist(y_train, align='mid', range=(np.min(y_train), np.max(y_train)), bins=50)\n",
    "plt.xlabel(\"labels\")\n",
    "plt.ylabel(\"image counts\")\n",
    "plt.show()"
   ]
  },
  {
   "cell_type": "markdown",
   "id": "aa2834e5",
   "metadata": {},
   "source": [
    "# KNN Classifier"
   ]
  },
  {
   "cell_type": "code",
   "execution_count": 57,
   "id": "945b7d14",
   "metadata": {},
   "outputs": [],
   "source": [
    "# X_train_Stand_scaled\n",
    "# X_test_Stand_scaled\n",
    "\n",
    "# X_train_MinMax_scaled\n",
    "# X_test_MinMax_scaled"
   ]
  },
  {
   "cell_type": "markdown",
   "id": "1d56819b",
   "metadata": {},
   "source": [
    "### K Search:"
   ]
  },
  {
   "cell_type": "code",
   "execution_count": 36,
   "id": "24b75898",
   "metadata": {},
   "outputs": [
    {
     "data": {
      "image/png": "[encoded data removed]",
      "text/plain": [
       "<Figure size 432x288 with 1 Axes>"
      ]
     },
     "metadata": {
      "needs_background": "light"
     },
     "output_type": "display_data"
    }
   ],
   "source": [
    "# Elbow using Standard Scaler\n",
    "Sum_of_squared_distances = []\n",
    "K = range(1,50)\n",
    "for k in K:\n",
    "    km = KMeans(n_clusters=k)\n",
    "    km = km.fit(X_train_Stand_scaled)\n",
    "    Sum_of_squared_distances.append(km.inertia_)\n",
    "    \n",
    "plt.plot(K, Sum_of_squared_distances, 'bx-')\n",
    "plt.xlabel('k')\n",
    "plt.ylabel('Sum_of_squared_distances')\n",
    "plt.title('Elbow Method For Optimal k')\n",
    "plt.show()"
   ]
  },
  {
   "cell_type": "code",
   "execution_count": 37,
   "id": "e73b3b01",
   "metadata": {},
   "outputs": [
    {
     "data": {
      "image/png": "[encoded data removed]",
      "text/plain": [
       "<Figure size 432x288 with 1 Axes>"
      ]
     },
     "metadata": {
      "needs_background": "light"
     },
     "output_type": "display_data"
    }
   ],
   "source": [
    "# Elbow using MinMax Scaler\n",
    "Sum_of_squared_distances = []\n",
    "K = range(1,50)\n",
    "for k in K:\n",
    "    km = KMeans(n_clusters=k)\n",
    "    km = km.fit(X_train_MinMax_scaled)\n",
    "    Sum_of_squared_distances.append(km.inertia_)\n",
    "    \n",
    "plt.plot(K, Sum_of_squared_distances, 'bx-')\n",
    "plt.xlabel('k')\n",
    "plt.ylabel('Sum_of_squared_distances')\n",
    "plt.title('Elbow Method For Optimal k')\n",
    "plt.show()"
   ]
  },
  {
   "cell_type": "code",
   "execution_count": 38,
   "id": "0533b6d2",
   "metadata": {},
   "outputs": [],
   "source": [
    "# X_train_Stand_scaled\n",
    "# X_test_Stand_scaled\n",
    "\n",
    "# X_train_MinMax_scaled\n",
    "# X_test_MinMax_scaled"
   ]
  },
  {
   "cell_type": "code",
   "execution_count": 39,
   "id": "a6e1f0f9",
   "metadata": {},
   "outputs": [
    {
     "data": {
      "text/plain": [
       "Text(0, 0.5, 'Silhouette Score')"
      ]
     },
     "execution_count": 39,
     "metadata": {},
     "output_type": "execute_result"
    },
    {
     "data": {
      "text/plain": [
       "<Figure size 432x288 with 0 Axes>"
      ]
     },
     "metadata": {},
     "output_type": "display_data"
    },
    {
     "data": {
      "image/png": "[encoded data removed]",
      "text/plain": [
       "<Figure size 1080x288 with 1 Axes>"
      ]
     },
     "metadata": {
      "needs_background": "light"
     },
     "output_type": "display_data"
    }
   ],
   "source": [
    "# Silhouette using Standard Scaler\n",
    "\n",
    "import matplotlib.pyplot as plt\n",
    "%matplotlib inline\n",
    "X=X_train_Stand_scaled\n",
    "# Variables to store silhouette score and inertia for different clusters\n",
    "scores = []\n",
    "from sklearn.metrics import silhouette_score\n",
    "# Calculate silhouette scores and inertia for different number of clusters\n",
    "for cluster_number in range(2,18):\n",
    "  km = KMeans(n_clusters=k)\n",
    "  km = KMeans(n_clusters=cluster_number, random_state=42).fit(X)\n",
    "  scores.append(silhouette_score(X,km.labels_))\n",
    "#plot the results\n",
    "plt.clf()\n",
    "plt.figure(figsize=(15,4))\n",
    "#plot Silhouette Score\n",
    "plt.subplot(121)\n",
    "plt.plot(range(2,18), scores, 'bo-')\n",
    "plt.plot(2, scores[0], 'ro-')\n",
    "plt.plot(3, scores[1], 'yo-')\n",
    "plt.title('Silhouette Method For Optimal k')\n",
    "plt.xlabel('Number of Clusters')\n",
    "plt.ylabel('Silhouette Score')"
   ]
  },
  {
   "cell_type": "code",
   "execution_count": 40,
   "id": "f8ae6289",
   "metadata": {},
   "outputs": [
    {
     "data": {
      "text/plain": [
       "Text(0, 0.5, 'Silhouette Score')"
      ]
     },
     "execution_count": 40,
     "metadata": {},
     "output_type": "execute_result"
    },
    {
     "data": {
      "text/plain": [
       "<Figure size 432x288 with 0 Axes>"
      ]
     },
     "metadata": {},
     "output_type": "display_data"
    },
    {
     "data": {
      "image/png": "[encoded data removed]",
      "text/plain": [
       "<Figure size 1080x288 with 1 Axes>"
      ]
     },
     "metadata": {
      "needs_background": "light"
     },
     "output_type": "display_data"
    }
   ],
   "source": [
    "# Silhouette using MinMax Scaler\n",
    "import matplotlib.pyplot as plt\n",
    "%matplotlib inline\n",
    "X=X_train_MinMax_scaled\n",
    "# Variables to store silhouette score and inertia for different clusters\n",
    "scores = []\n",
    "from sklearn.metrics import silhouette_score\n",
    "# Calculate silhouette scores and inertia for different number of clusters\n",
    "for cluster_number in range(2,18):\n",
    "  km = KMeans(n_clusters=k)\n",
    "  km = KMeans(n_clusters=cluster_number, random_state=42).fit(X)\n",
    "  scores.append(silhouette_score(X,km.labels_))\n",
    "#plot the results\n",
    "plt.clf()\n",
    "plt.figure(figsize=(15,4))\n",
    "#plot Silhouette Score\n",
    "plt.subplot(121)\n",
    "plt.plot(range(2,18), scores, 'bo-')\n",
    "plt.plot(2, scores[0], 'ro-')\n",
    "plt.plot(3, scores[1], 'yo-')\n",
    "plt.title('Silhouette Method For Optimal k')\n",
    "plt.xlabel('Number of Clusters')\n",
    "plt.ylabel('Silhouette Score')"
   ]
  },
  {
   "cell_type": "markdown",
   "id": "61b9f83e",
   "metadata": {},
   "source": [
    "### KNN Model:"
   ]
  },
  {
   "cell_type": "code",
   "execution_count": 41,
   "id": "2fac160e",
   "metadata": {},
   "outputs": [],
   "source": [
    "# X_train_Stand_scaled\n",
    "# X_test_Stand_scaled\n",
    "\n",
    "# X_train_MinMax_scaled\n",
    "# X_test_MinMax_scaled"
   ]
  },
  {
   "cell_type": "code",
   "execution_count": 42,
   "id": "415134fe",
   "metadata": {},
   "outputs": [],
   "source": [
    "# import sklearn\n",
    "# sklearn.metrics.SCORERS.keys()"
   ]
  },
  {
   "cell_type": "code",
   "execution_count": 43,
   "id": "27c87da0",
   "metadata": {},
   "outputs": [
    {
     "name": "stdout",
     "output_type": "stream",
     "text": [
      "KNN result (using Standard Scaler):\n"
     ]
    },
    {
     "name": "stderr",
     "output_type": "stream",
     "text": [
      "C:\\Users\\lrspr\\anaconda3\\envs\\crime_data2\\lib\\site-packages\\sklearn\\model_selection\\_split.py:676: UserWarning: The least populated class in y has only 2 members, which is less than n_splits=5.\n",
      "  warnings.warn(\n"
     ]
    },
    {
     "name": "stdout",
     "output_type": "stream",
     "text": [
      "Score (F1-Score): [0.37335907 0.37451737 0.36254826 0.36447876 0.36023166]\n",
      "    * Accuracy: 37.82 %\n",
      "    * Precision: 20.29 %\n",
      "    * Recall: 15.46 %\n"
     ]
    },
    {
     "name": "stderr",
     "output_type": "stream",
     "text": [
      "C:\\Users\\lrspr\\anaconda3\\envs\\crime_data2\\lib\\site-packages\\sklearn\\metrics\\_classification.py:1308: UndefinedMetricWarning: Precision is ill-defined and being set to 0.0 in labels with no predicted samples. Use `zero_division` parameter to control this behavior.\n",
      "  _warn_prf(average, modifier, msg_start, len(result))\n"
     ]
    }
   ],
   "source": [
    "# Data with Standard Scaler HERE CONTINUE\n",
    "kn_Stand_Scaler = KNeighborsClassifier(n_neighbors=15)\n",
    "kn_Stand_Scaler.fit(X_train_Stand_scaled, y_train)\n",
    "\n",
    "y_pred_KNN_with_StandScaler = kn_Stand_Scaler.predict(X_test_Stand_scaled)\n",
    "y_true = y_test\n",
    "\n",
    "print(\"KNN result (using Standard Scaler):\")\n",
    "#print(\"    * Score is:\", score(y_pred_KNN_grid_with_StandScaler, y_test)\n",
    "print(\"Score (F1-Score):\", cross_val_score(kn_Stand_Scaler, X_test_Stand_scaled, y_test, cv=5, scoring='accuracy'))\n",
    "print(\"    * Accuracy:\", round(accuracy_score(y_test, y_pred_KNN_with_StandScaler)*100, 2), \"%\")\n",
    "print(\"    * Precision:\", round(precision_score(y_test, y_pred_KNN_with_StandScaler,\n",
    "                                    average='macro')*100, 2), \"%\")\n",
    "print(\"    * Recall:\", round(recall_score(y_test, y_pred_KNN_with_StandScaler,\n",
    "                              average='macro')*100, 2), \"%\")"
   ]
  },
  {
   "cell_type": "code",
   "execution_count": 44,
   "id": "4999faf0",
   "metadata": {},
   "outputs": [
    {
     "name": "stdout",
     "output_type": "stream",
     "text": [
      "KNN result (using MinMax Scaler):\n"
     ]
    },
    {
     "name": "stderr",
     "output_type": "stream",
     "text": [
      "C:\\Users\\lrspr\\anaconda3\\envs\\crime_data2\\lib\\site-packages\\sklearn\\model_selection\\_split.py:676: UserWarning: The least populated class in y has only 2 members, which is less than n_splits=5.\n",
      "  warnings.warn(\n"
     ]
    },
    {
     "name": "stdout",
     "output_type": "stream",
     "text": [
      "Score: [0.38146718 0.38378378 0.38262548 0.36100386 0.37799228]\n",
      "    * Accuracy: 38.15 %\n",
      "    * Precision: 20.29 %\n",
      "    * Recall: 16.17 %\n"
     ]
    },
    {
     "name": "stderr",
     "output_type": "stream",
     "text": [
      "C:\\Users\\lrspr\\anaconda3\\envs\\crime_data2\\lib\\site-packages\\sklearn\\metrics\\_classification.py:1308: UndefinedMetricWarning: Precision is ill-defined and being set to 0.0 in labels with no predicted samples. Use `zero_division` parameter to control this behavior.\n",
      "  _warn_prf(average, modifier, msg_start, len(result))\n"
     ]
    }
   ],
   "source": [
    "# Data with MinMax\n",
    "kn_MinMax_Scaler = KNeighborsClassifier(n_neighbors=15)\n",
    "kn_MinMax_Scaler.fit(X_train_MinMax_scaled, y_train)\n",
    "\n",
    "y_pred_KNN_with_MinMaxScaler = kn_MinMax_Scaler.predict(X_test_MinMax_scaled)\n",
    "y_true = y_test\n",
    "\n",
    "print(\"KNN result (using MinMax Scaler):\")\n",
    "#print(\"    * Score is:\", score(y_pred_KNN_with_MinMaxScaler, y_test)\n",
    "print(\"Score:\", cross_val_score(kn_MinMax_Scaler, X_test_MinMax_scaled, y_test, cv=5, scoring='accuracy'))\n",
    "print(\"    * Accuracy:\", round(accuracy_score(y_test, y_pred_KNN_with_MinMaxScaler)*100, 2), \"%\")\n",
    "print(\"    * Precision:\", round(precision_score(y_test, y_pred_KNN_with_MinMaxScaler,\n",
    "                                    average='macro')*100, 2), \"%\")\n",
    "print(\"    * Recall:\", round(recall_score(y_test, y_pred_KNN_with_MinMaxScaler,\n",
    "                              average='macro')*100, 2), \"%\")"
   ]
  },
  {
   "cell_type": "markdown",
   "id": "78a658e0",
   "metadata": {},
   "source": [
    "------------------------------------------------------------------------------------------------------------------------"
   ]
  },
  {
   "cell_type": "code",
   "execution_count": null,
   "id": "d8cadaa9",
   "metadata": {},
   "outputs": [],
   "source": []
  }
 ],
 "metadata": {
  "kernelspec": {
   "display_name": "Python 3 (ipykernel)",
   "language": "python",
   "name": "python3"
  },
  "language_info": {
   "codemirror_mode": {
    "name": "ipython",
    "version": 3
   },
   "file_extension": ".py",
   "mimetype": "text/x-python",
   "name": "python",
   "nbconvert_exporter": "python",
   "pygments_lexer": "ipython3",
   "version": "3.8.12"
  }
 },
 "nbformat": 4,
 "nbformat_minor": 5
}
