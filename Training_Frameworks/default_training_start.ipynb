{
 "cells": [
  {
   "cell_type": "markdown",
   "id": "b1faed05",
   "metadata": {},
   "source": [
    "### Import libraries"
   ]
  },
  {
   "cell_type": "code",
   "execution_count": 1,
   "id": "0519f8cc",
   "metadata": {},
   "outputs": [],
   "source": [
    "import os\n",
    "import pandas as pd\n",
    "import copy"
   ]
  },
  {
   "cell_type": "markdown",
   "id": "d33842c5",
   "metadata": {},
   "source": [
    "### List of directories with corresponding paths:"
   ]
  },
  {
   "cell_type": "code",
   "execution_count": 2,
   "id": "423de81c",
   "metadata": {},
   "outputs": [],
   "source": [
    "main_dir = os.path.abspath('..') # os.path.join(os.getcwd())\n",
    "data_dir = os.path.join(main_dir, \"Data\")\n",
    "shapefiles_dir = os.path.join(main_dir, data_dir, \"shapefiles\")"
   ]
  },
  {
   "cell_type": "markdown",
   "id": "0466cd55",
   "metadata": {},
   "source": [
    "# Read in merged dataset that includes Crime with/without COVID case data (depends on your section)"
   ]
  },
  {
   "cell_type": "code",
   "execution_count": null,
   "id": "8e0952fe",
   "metadata": {},
   "outputs": [],
   "source": [
    "# "
   ]
  }
 ],
 "metadata": {
  "kernelspec": {
   "display_name": "Python 3 (ipykernel)",
   "language": "python",
   "name": "python3"
  },
  "language_info": {
   "codemirror_mode": {
    "name": "ipython",
    "version": 3
   },
   "file_extension": ".py",
   "mimetype": "text/x-python",
   "name": "python",
   "nbconvert_exporter": "python",
   "pygments_lexer": "ipython3",
   "version": "3.8.12"
  }
 },
 "nbformat": 4,
 "nbformat_minor": 5
}
