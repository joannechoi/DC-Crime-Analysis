{
 "cells": [
  {
   "cell_type": "markdown",
   "id": "b1faed05",
   "metadata": {},
   "source": [
    "### Import libraries"
   ]
  },
  {
   "cell_type": "code",
   "execution_count": 1,
   "id": "0519f8cc",
   "metadata": {},
   "outputs": [],
   "source": [
    "import os\n",
    "import pandas as pd\n",
    "import copy"
   ]
  },
  {
   "cell_type": "markdown",
   "id": "d33842c5",
   "metadata": {},
   "source": [
    "### List of directories with corresponding paths:"
   ]
  },
  {
   "cell_type": "code",
   "execution_count": 2,
   "id": "423de81c",
   "metadata": {},
   "outputs": [],
   "source": [
    "main_dir = os.path.abspath('..') # os.path.join(os.getcwd())\n",
    "data_dir = os.path.join(main_dir, \"Data\")\n",
    "shapefiles_dir = os.path.join(main_dir, data_dir, \"shapefiles\")"
   ]
  },
  {
   "cell_type": "markdown",
   "id": "0466cd55",
   "metadata": {},
   "source": [
    "# Read in merged dataset that includes Crime and COVID case data"
   ]
  },
  {
   "cell_type": "code",
   "execution_count": 21,
   "id": "df0b3549",
   "metadata": {},
   "outputs": [],
   "source": [
    "df_pre_covid_crime_and_covid_cases = pd.read_csv(os.path.join(data_dir, \"Merged\", \"pre_covid_crime_and_covid_cases.csv\"))\n",
    "df_covid_crime_and_cases = pd.read_csv(os.path.join(data_dir, \"Merged\", \"covid_crime_and_cases.csv\"))\n",
    "\n",
    "df_pre_covid_crime_and_covid_cases['REPORT_DAT'] = pd.to_datetime(df_pre_covid_crime_and_covid_cases['REPORT_DAT'])\n",
    "df_pre_covid_crime_and_covid_cases['START_DATE'] = pd.to_datetime(df_pre_covid_crime_and_covid_cases['START_DATE'])\n",
    "df_pre_covid_crime_and_covid_cases['END_DATE'] = pd.to_datetime(df_pre_covid_crime_and_covid_cases['END_DATE'])\n",
    "\n",
    "df_covid_crime_and_cases['REPORT_DAT'] = pd.to_datetime(df_covid_crime_and_cases['REPORT_DAT'])\n",
    "df_covid_crime_and_cases['START_DATE'] = pd.to_datetime(df_covid_crime_and_cases['START_DATE'])\n",
    "df_covid_crime_and_cases['END_DATE'] = pd.to_datetime(df_covid_crime_and_cases['END_DATE'])"
   ]
  },
  {
   "cell_type": "code",
   "execution_count": 23,
   "id": "f4c784f2",
   "metadata": {},
   "outputs": [
    {
     "name": "stdout",
     "output_type": "stream",
     "text": [
      "Pre-COVID Crime with COVID Case data: (20577, 18)\n",
      "COVID Crime with COVID Case data: (40360, 18)\n"
     ]
    }
   ],
   "source": [
    "print(\"Pre-COVID Crime with COVID Case data:\", df_pre_covid_crime_and_covid_cases.shape)\n",
    "\n",
    "print(\"COVID Crime with COVID Case data:\", df_covid_crime_and_cases.shape)"
   ]
  },
  {
   "cell_type": "code",
   "execution_count": null,
   "id": "3727e229",
   "metadata": {},
   "outputs": [],
   "source": [
    "# Start training your algorithm:"
   ]
  },
  {
   "cell_type": "code",
   "execution_count": null,
   "id": "e312f3d8",
   "metadata": {},
   "outputs": [],
   "source": []
  },
  {
   "cell_type": "code",
   "execution_count": null,
   "id": "03f6c302",
   "metadata": {},
   "outputs": [],
   "source": []
  },
  {
   "cell_type": "code",
   "execution_count": null,
   "id": "8e0952fe",
   "metadata": {},
   "outputs": [],
   "source": []
  }
 ],
 "metadata": {
  "kernelspec": {
   "display_name": "Python 3 (ipykernel)",
   "language": "python",
   "name": "python3"
  },
  "language_info": {
   "codemirror_mode": {
    "name": "ipython",
    "version": 3
   },
   "file_extension": ".py",
   "mimetype": "text/x-python",
   "name": "python",
   "nbconvert_exporter": "python",
   "pygments_lexer": "ipython3",
   "version": "3.8.12"
  }
 },
 "nbformat": 4,
 "nbformat_minor": 5
}
