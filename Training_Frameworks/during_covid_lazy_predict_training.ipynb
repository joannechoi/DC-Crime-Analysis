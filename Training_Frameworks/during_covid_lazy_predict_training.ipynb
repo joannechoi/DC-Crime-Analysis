{
 "cells": [
  {
   "cell_type": "markdown",
   "metadata": {},
   "source": [
    "### Import libraries"
   ]
  },
  {
   "cell_type": "code",
   "execution_count": 1,
   "metadata": {},
   "outputs": [],
   "source": [
    "import os\n",
    "import pandas as pd\n",
    "import copy\n",
    "\n",
    "from sklearn.model_selection import train_test_split"
   ]
  },
  {
   "cell_type": "markdown",
   "metadata": {},
   "source": [
    "### List of directories with corresponding paths:"
   ]
  },
  {
   "cell_type": "code",
   "execution_count": 2,
   "metadata": {},
   "outputs": [],
   "source": [
    "main_dir = os.path.join(os.getcwd())\n",
    "data_dir = os.path.join(main_dir, \"Data\")\n",
    "shapefiles_dir = os.path.join(main_dir, data_dir, \"shapefiles\")"
   ]
  },
  {
   "cell_type": "markdown",
   "metadata": {},
   "source": [
    "# Read in merged dataset that includes Crime with COVID case data "
   ]
  },
  {
   "cell_type": "code",
   "execution_count": 3,
   "metadata": {},
   "outputs": [],
   "source": [
    "daily_crime_during_covid_df = pd.read_csv(os.path.join(data_dir, 'daily_crime_during_COVID.csv'), index_col=0)"
   ]
  },
  {
   "cell_type": "code",
   "execution_count": 4,
   "metadata": {},
   "outputs": [
    {
     "data": {
      "text/html": [
       "<div>\n",
       "<style scoped>\n",
       "    .dataframe tbody tr th:only-of-type {\n",
       "        vertical-align: middle;\n",
       "    }\n",
       "\n",
       "    .dataframe tbody tr th {\n",
       "        vertical-align: top;\n",
       "    }\n",
       "\n",
       "    .dataframe thead th {\n",
       "        text-align: right;\n",
       "    }\n",
       "</style>\n",
       "<table border=\"1\" class=\"dataframe\">\n",
       "  <thead>\n",
       "    <tr style=\"text-align: right;\">\n",
       "      <th></th>\n",
       "      <th>date</th>\n",
       "      <th>daily_crime_count</th>\n",
       "      <th>covid_daily_case_count</th>\n",
       "      <th>covid_deaths</th>\n",
       "      <th>CT_ARSON_DR</th>\n",
       "      <th>CT_ASSAULT_DR</th>\n",
       "      <th>CT_BURGLARY_DR</th>\n",
       "      <th>CT_HOMICIDE_DR</th>\n",
       "      <th>CT_MOTOR_THEFT_DR</th>\n",
       "      <th>CT_ROBBERY_DR</th>\n",
       "      <th>...</th>\n",
       "      <th>CL_WARD_2_DR</th>\n",
       "      <th>CL_WARD_3_DR</th>\n",
       "      <th>CL_WARD_4_DR</th>\n",
       "      <th>CL_WARD_5_DR</th>\n",
       "      <th>CL_WARD_6_DR</th>\n",
       "      <th>CL_WARD_7_DR</th>\n",
       "      <th>CL_WARD_8_DR</th>\n",
       "      <th>CO_SHIFT_MORNING_DR</th>\n",
       "      <th>CO_SHIFT_EVENING_DR</th>\n",
       "      <th>CO_SHIFT_MIDNIGHT_DR</th>\n",
       "    </tr>\n",
       "  </thead>\n",
       "  <tbody>\n",
       "    <tr>\n",
       "      <th>0</th>\n",
       "      <td>2020-03-07</td>\n",
       "      <td>65</td>\n",
       "      <td>1</td>\n",
       "      <td>0</td>\n",
       "      <td>0</td>\n",
       "      <td>3</td>\n",
       "      <td>2</td>\n",
       "      <td>0</td>\n",
       "      <td>6</td>\n",
       "      <td>3</td>\n",
       "      <td>...</td>\n",
       "      <td>13</td>\n",
       "      <td>6</td>\n",
       "      <td>7</td>\n",
       "      <td>10</td>\n",
       "      <td>5</td>\n",
       "      <td>7</td>\n",
       "      <td>5</td>\n",
       "      <td>28</td>\n",
       "      <td>25</td>\n",
       "      <td>12</td>\n",
       "    </tr>\n",
       "    <tr>\n",
       "      <th>1</th>\n",
       "      <td>2020-03-08</td>\n",
       "      <td>56</td>\n",
       "      <td>1</td>\n",
       "      <td>0</td>\n",
       "      <td>0</td>\n",
       "      <td>1</td>\n",
       "      <td>1</td>\n",
       "      <td>0</td>\n",
       "      <td>7</td>\n",
       "      <td>7</td>\n",
       "      <td>...</td>\n",
       "      <td>9</td>\n",
       "      <td>1</td>\n",
       "      <td>5</td>\n",
       "      <td>8</td>\n",
       "      <td>11</td>\n",
       "      <td>5</td>\n",
       "      <td>6</td>\n",
       "      <td>17</td>\n",
       "      <td>22</td>\n",
       "      <td>17</td>\n",
       "    </tr>\n",
       "    <tr>\n",
       "      <th>2</th>\n",
       "      <td>2020-03-09</td>\n",
       "      <td>82</td>\n",
       "      <td>4</td>\n",
       "      <td>0</td>\n",
       "      <td>0</td>\n",
       "      <td>3</td>\n",
       "      <td>1</td>\n",
       "      <td>0</td>\n",
       "      <td>4</td>\n",
       "      <td>1</td>\n",
       "      <td>...</td>\n",
       "      <td>14</td>\n",
       "      <td>7</td>\n",
       "      <td>12</td>\n",
       "      <td>12</td>\n",
       "      <td>14</td>\n",
       "      <td>16</td>\n",
       "      <td>2</td>\n",
       "      <td>28</td>\n",
       "      <td>38</td>\n",
       "      <td>16</td>\n",
       "    </tr>\n",
       "    <tr>\n",
       "      <th>3</th>\n",
       "      <td>2020-03-10</td>\n",
       "      <td>71</td>\n",
       "      <td>4</td>\n",
       "      <td>0</td>\n",
       "      <td>0</td>\n",
       "      <td>5</td>\n",
       "      <td>8</td>\n",
       "      <td>1</td>\n",
       "      <td>6</td>\n",
       "      <td>1</td>\n",
       "      <td>...</td>\n",
       "      <td>19</td>\n",
       "      <td>3</td>\n",
       "      <td>5</td>\n",
       "      <td>9</td>\n",
       "      <td>11</td>\n",
       "      <td>8</td>\n",
       "      <td>8</td>\n",
       "      <td>28</td>\n",
       "      <td>26</td>\n",
       "      <td>17</td>\n",
       "    </tr>\n",
       "    <tr>\n",
       "      <th>4</th>\n",
       "      <td>2020-03-11</td>\n",
       "      <td>70</td>\n",
       "      <td>10</td>\n",
       "      <td>0</td>\n",
       "      <td>0</td>\n",
       "      <td>0</td>\n",
       "      <td>3</td>\n",
       "      <td>0</td>\n",
       "      <td>4</td>\n",
       "      <td>1</td>\n",
       "      <td>...</td>\n",
       "      <td>15</td>\n",
       "      <td>3</td>\n",
       "      <td>11</td>\n",
       "      <td>8</td>\n",
       "      <td>12</td>\n",
       "      <td>8</td>\n",
       "      <td>5</td>\n",
       "      <td>27</td>\n",
       "      <td>26</td>\n",
       "      <td>17</td>\n",
       "    </tr>\n",
       "  </tbody>\n",
       "</table>\n",
       "<p>5 rows × 24 columns</p>\n",
       "</div>"
      ],
      "text/plain": [
       "         date  daily_crime_count  covid_daily_case_count  covid_deaths  \\\n",
       "0  2020-03-07                 65                       1             0   \n",
       "1  2020-03-08                 56                       1             0   \n",
       "2  2020-03-09                 82                       4             0   \n",
       "3  2020-03-10                 71                       4             0   \n",
       "4  2020-03-11                 70                      10             0   \n",
       "\n",
       "   CT_ARSON_DR  CT_ASSAULT_DR  CT_BURGLARY_DR  CT_HOMICIDE_DR  \\\n",
       "0            0              3               2               0   \n",
       "1            0              1               1               0   \n",
       "2            0              3               1               0   \n",
       "3            0              5               8               1   \n",
       "4            0              0               3               0   \n",
       "\n",
       "   CT_MOTOR_THEFT_DR  CT_ROBBERY_DR  ...  CL_WARD_2_DR  CL_WARD_3_DR  \\\n",
       "0                  6              3  ...            13             6   \n",
       "1                  7              7  ...             9             1   \n",
       "2                  4              1  ...            14             7   \n",
       "3                  6              1  ...            19             3   \n",
       "4                  4              1  ...            15             3   \n",
       "\n",
       "   CL_WARD_4_DR  CL_WARD_5_DR  CL_WARD_6_DR  CL_WARD_7_DR  CL_WARD_8_DR  \\\n",
       "0             7            10             5             7             5   \n",
       "1             5             8            11             5             6   \n",
       "2            12            12            14            16             2   \n",
       "3             5             9            11             8             8   \n",
       "4            11             8            12             8             5   \n",
       "\n",
       "   CO_SHIFT_MORNING_DR  CO_SHIFT_EVENING_DR  CO_SHIFT_MIDNIGHT_DR  \n",
       "0                   28                   25                    12  \n",
       "1                   17                   22                    17  \n",
       "2                   28                   38                    16  \n",
       "3                   28                   26                    17  \n",
       "4                   27                   26                    17  \n",
       "\n",
       "[5 rows x 24 columns]"
      ]
     },
     "execution_count": 4,
     "metadata": {},
     "output_type": "execute_result"
    }
   ],
   "source": [
    "daily_crime_during_covid_df.head()"
   ]
  },
  {
   "cell_type": "code",
   "execution_count": 5,
   "metadata": {},
   "outputs": [],
   "source": [
    "# get X and y\n",
    "y = daily_crime_during_covid_df.pop('daily_crime_count')\n",
    "X = daily_crime_during_covid_df.drop(columns=['date'])"
   ]
  },
  {
   "cell_type": "code",
   "execution_count": 6,
   "metadata": {},
   "outputs": [],
   "source": [
    "# train test split\n",
    "X_train, X_test, y_train, y_test = train_test_split(X, y, test_size=0.3, shuffle=True)"
   ]
  },
  {
   "cell_type": "code",
   "execution_count": 7,
   "metadata": {
    "scrolled": true
   },
   "outputs": [
    {
     "data": {
      "text/plain": [
       "(415, 22)"
      ]
     },
     "execution_count": 7,
     "metadata": {},
     "output_type": "execute_result"
    }
   ],
   "source": [
    "X_train.shape"
   ]
  },
  {
   "cell_type": "code",
   "execution_count": 8,
   "metadata": {},
   "outputs": [
    {
     "data": {
      "text/plain": [
       "(415,)"
      ]
     },
     "execution_count": 8,
     "metadata": {},
     "output_type": "execute_result"
    }
   ],
   "source": [
    "y_train.shape"
   ]
  },
  {
   "cell_type": "code",
   "execution_count": 9,
   "metadata": {},
   "outputs": [
    {
     "data": {
      "text/plain": [
       "(179, 22)"
      ]
     },
     "execution_count": 9,
     "metadata": {},
     "output_type": "execute_result"
    }
   ],
   "source": [
    "X_test.shape"
   ]
  },
  {
   "cell_type": "code",
   "execution_count": 10,
   "metadata": {},
   "outputs": [
    {
     "data": {
      "text/plain": [
       "(179,)"
      ]
     },
     "execution_count": 10,
     "metadata": {},
     "output_type": "execute_result"
    }
   ],
   "source": [
    "y_test.shape"
   ]
  },
  {
   "cell_type": "markdown",
   "metadata": {},
   "source": [
    "## Lazy Predict"
   ]
  },
  {
   "cell_type": "code",
   "execution_count": 11,
   "metadata": {},
   "outputs": [],
   "source": [
    "#!pip install lazypredict"
   ]
  },
  {
   "cell_type": "code",
   "execution_count": 12,
   "metadata": {},
   "outputs": [],
   "source": [
    "#!brew install libomp"
   ]
  },
  {
   "cell_type": "code",
   "execution_count": 13,
   "metadata": {},
   "outputs": [
    {
     "name": "stderr",
     "output_type": "stream",
     "text": [
      "/opt/anaconda3/lib/python3.8/site-packages/sklearn/utils/deprecation.py:143: FutureWarning: The sklearn.utils.testing module is  deprecated in version 0.22 and will be removed in version 0.24. The corresponding classes / functions should instead be imported from sklearn.utils. Anything that cannot be imported from sklearn.utils is now part of the private API.\n",
      "  warnings.warn(message, FutureWarning)\n",
      "100%|██████████| 42/42 [00:02<00:00, 19.30it/s]\n"
     ]
    }
   ],
   "source": [
    "from lazypredict.Supervised import LazyRegressor\n",
    "reg = LazyRegressor(verbose=0, ignore_warnings=False, custom_metric=None)\n",
    "models, predictions = reg.fit(X_train, X_test, y_train, y_test)"
   ]
  },
  {
   "cell_type": "code",
   "execution_count": 14,
   "metadata": {},
   "outputs": [
    {
     "name": "stdout",
     "output_type": "stream",
     "text": [
      "                               Adjusted R-Squared  R-Squared  RMSE  Time Taken\n",
      "Model                                                                         \n",
      "OrthogonalMatchingPursuitCV                  1.00       1.00  0.00        0.01\n",
      "RANSACRegressor                              1.00       1.00  0.00        0.01\n",
      "LinearRegression                             1.00       1.00  0.00        0.01\n",
      "TransformedTargetRegressor                   1.00       1.00  0.00        0.01\n",
      "LassoLarsIC                                  1.00       1.00  0.00        0.01\n",
      "LassoLarsCV                                  1.00       1.00  0.00        0.02\n",
      "LarsCV                                       1.00       1.00  0.00        0.02\n",
      "Lars                                         1.00       1.00  0.00        0.01\n",
      "HuberRegressor                               1.00       1.00  0.00        0.05\n",
      "BayesianRidge                                1.00       1.00  0.00        0.01\n",
      "LinearSVR                                    1.00       1.00  0.00        0.01\n",
      "RidgeCV                                      1.00       1.00  0.00        0.01\n",
      "Ridge                                        1.00       1.00  0.01        0.01\n",
      "SGDRegressor                                 1.00       1.00  0.02        0.01\n",
      "LassoCV                                      1.00       1.00  0.04        0.07\n",
      "PassiveAggressiveRegressor                   1.00       1.00  0.06        0.01\n",
      "ElasticNetCV                                 1.00       1.00  0.08        0.07\n",
      "Lasso                                        0.99       0.99  1.25        0.01\n",
      "ElasticNet                                   0.98       0.98  2.29        0.01\n",
      "GeneralizedLinearRegressor                   0.97       0.97  2.67        0.01\n",
      "TweedieRegressor                             0.97       0.97  2.67        0.01\n",
      "GradientBoostingRegressor                    0.97       0.97  2.75        0.13\n",
      "PoissonRegressor                             0.96       0.97  2.82        0.01\n",
      "LGBMRegressor                                0.95       0.95  3.39        0.04\n",
      "HistGradientBoostingRegressor                0.95       0.95  3.40        0.39\n",
      "ExtraTreesRegressor                          0.95       0.95  3.46        0.22\n",
      "XGBRegressor                                 0.95       0.95  3.49        0.05\n",
      "GammaRegressor                               0.94       0.95  3.69        0.01\n",
      "RandomForestRegressor                        0.92       0.93  4.34        0.31\n",
      "BaggingRegressor                             0.90       0.91  4.75        0.04\n",
      "OrthogonalMatchingPursuit                    0.89       0.91  4.84        0.01\n",
      "AdaBoostRegressor                            0.87       0.89  5.36        0.10\n",
      "KNeighborsRegressor                          0.87       0.88  5.43        0.01\n",
      "DecisionTreeRegressor                        0.84       0.86  6.04        0.01\n",
      "ExtraTreeRegressor                           0.79       0.81  6.87        0.01\n",
      "SVR                                          0.73       0.76  7.78        0.02\n",
      "NuSVR                                        0.72       0.76  7.84        0.02\n",
      "DummyRegressor                              -0.16      -0.02 16.08        0.01\n",
      "LassoLars                                   -0.16      -0.02 16.08        0.01\n",
      "MLPRegressor                                -1.41      -1.12 23.16        0.34\n",
      "GaussianProcessRegressor                   -16.21     -14.08 61.83        0.02\n",
      "KernelRidge                                -18.79     -16.35 66.31        0.02\n"
     ]
    }
   ],
   "source": [
    "print(models)"
   ]
  },
  {
   "cell_type": "code",
   "execution_count": null,
   "metadata": {},
   "outputs": [],
   "source": []
  }
 ],
 "metadata": {
  "kernelspec": {
   "display_name": "Python 3",
   "language": "python",
   "name": "python3"
  },
  "language_info": {
   "codemirror_mode": {
    "name": "ipython",
    "version": 3
   },
   "file_extension": ".py",
   "mimetype": "text/x-python",
   "name": "python",
   "nbconvert_exporter": "python",
   "pygments_lexer": "ipython3",
   "version": "3.8.5"
  }
 },
 "nbformat": 4,
 "nbformat_minor": 5
}
