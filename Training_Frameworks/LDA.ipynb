{
 "cells": [
  {
   "cell_type": "markdown",
   "id": "b1faed05",
   "metadata": {},
   "source": [
    "### Import libraries"
   ]
  },
  {
   "cell_type": "code",
   "execution_count": 5,
   "id": "0519f8cc",
   "metadata": {},
   "outputs": [],
   "source": [
    "import os\n",
    "import pandas as pd\n",
    "import copy"
   ]
  },
  {
   "cell_type": "markdown",
   "id": "d33842c5",
   "metadata": {},
   "source": [
    "### List of directories with corresponding paths:"
   ]
  },
  {
   "cell_type": "code",
   "execution_count": 6,
   "id": "423de81c",
   "metadata": {},
   "outputs": [],
   "source": [
    "main_dir = os.path.abspath('..') # os.path.join(os.getcwd())\n",
    "data_dir = os.path.join(main_dir, \"Data\")\n",
    "shapefiles_dir = os.path.join(main_dir, data_dir, \"shapefiles\")"
   ]
  },
  {
   "cell_type": "markdown",
   "id": "0466cd55",
   "metadata": {},
   "source": [
    "# Read in merged dataset that includes Crime and COVID case data"
   ]
  },
  {
   "cell_type": "code",
   "execution_count": 21,
   "id": "df0b3549",
   "metadata": {},
   "outputs": [],
   "source": [
    "df_pre_covid_crime_and_covid_cases = pd.read_csv(os.path.join(data_dir, \"Merged\", \"pre_covid_crime_and_covid_cases.csv\"))\n",
    "df_covid_crime_and_cases = pd.read_csv(os.path.join(data_dir, \"Merged\", \"covid_crime_and_cases.csv\"))\n",
    "\n",
    "df_pre_covid_crime_and_covid_cases['REPORT_DAT'] = pd.to_datetime(df_pre_covid_crime_and_covid_cases['REPORT_DAT'])\n",
    "df_pre_covid_crime_and_covid_cases['START_DATE'] = pd.to_datetime(df_pre_covid_crime_and_covid_cases['START_DATE'])\n",
    "df_pre_covid_crime_and_covid_cases['END_DATE'] = pd.to_datetime(df_pre_covid_crime_and_covid_cases['END_DATE'])\n",
    "del df_pre_covid_crime_and_covid_cases[\"START_DATE.1\"]\n",
    "\n",
    "df_covid_crime_and_cases['REPORT_DAT'] = pd.to_datetime(df_covid_crime_and_cases['REPORT_DAT'])\n",
    "df_covid_crime_and_cases['START_DATE'] = pd.to_datetime(df_covid_crime_and_cases['START_DATE'])\n",
    "df_covid_crime_and_cases['END_DATE'] = pd.to_datetime(df_covid_crime_and_cases['END_DATE'])\n",
    "del df_covid_crime_and_cases[df_covid_crime_and_cases.columns[0]]"
   ]
  },
  {
   "cell_type": "code",
   "execution_count": 22,
   "id": "f4c784f2",
   "metadata": {},
   "outputs": [
    {
     "name": "stdout",
     "output_type": "stream",
     "text": [
      "Pre-COVID Crime with COVID Case data: (20577, 17)\n",
      "COVID Crime with COVID Case data: (40360, 17)\n"
     ]
    }
   ],
   "source": [
    "print(\"Pre-COVID Crime with COVID Case data:\", df_pre_covid_crime_and_covid_cases.shape)\n",
    "\n",
    "print(\"COVID Crime with COVID Case data:\", df_covid_crime_and_cases.shape)"
   ]
  },
  {
   "cell_type": "code",
   "execution_count": 23,
   "id": "3727e229",
   "metadata": {},
   "outputs": [],
   "source": [
    "# Start training your algorithm:"
   ]
  },
  {
   "cell_type": "code",
   "execution_count": 24,
   "id": "e312f3d8",
   "metadata": {},
   "outputs": [
    {
     "data": {
      "text/html": [
       "<div>\n",
       "<style scoped>\n",
       "    .dataframe tbody tr th:only-of-type {\n",
       "        vertical-align: middle;\n",
       "    }\n",
       "\n",
       "    .dataframe tbody tr th {\n",
       "        vertical-align: top;\n",
       "    }\n",
       "\n",
       "    .dataframe thead th {\n",
       "        text-align: right;\n",
       "    }\n",
       "</style>\n",
       "<table border=\"1\" class=\"dataframe\">\n",
       "  <thead>\n",
       "    <tr style=\"text-align: right;\">\n",
       "      <th></th>\n",
       "      <th>START_DATE</th>\n",
       "      <th>REPORT_DAT</th>\n",
       "      <th>SHIFT</th>\n",
       "      <th>METHOD</th>\n",
       "      <th>OFFENSE</th>\n",
       "      <th>BLOCK</th>\n",
       "      <th>XBLOCK</th>\n",
       "      <th>YBLOCK</th>\n",
       "      <th>WARD</th>\n",
       "      <th>DISTRICT</th>\n",
       "      <th>LATITUDE</th>\n",
       "      <th>LONGITUDE</th>\n",
       "      <th>END_DATE</th>\n",
       "      <th>geometry</th>\n",
       "      <th>date</th>\n",
       "      <th>covid_daily_case_count</th>\n",
       "      <th>covid_deaths</th>\n",
       "    </tr>\n",
       "  </thead>\n",
       "  <tbody>\n",
       "    <tr>\n",
       "      <th>0</th>\n",
       "      <td>2017-01-01 00:28:57+00:00</td>\n",
       "      <td>2017-01-02 01:16:13+00:00</td>\n",
       "      <td>EVENING</td>\n",
       "      <td>OTHERS</td>\n",
       "      <td>THEFT/OTHER</td>\n",
       "      <td>1900 - 2199 BLOCK OF RIDGECREST COURT SE</td>\n",
       "      <td>402201.041504</td>\n",
       "      <td>131112.794647</td>\n",
       "      <td>8.0</td>\n",
       "      <td>7.0</td>\n",
       "      <td>38.847816</td>\n",
       "      <td>-76.974645</td>\n",
       "      <td>2017-01-01 00:45:35+00:00</td>\n",
       "      <td>POINT (-76.97464451720001 38.8478160318)</td>\n",
       "      <td>2017-01-01</td>\n",
       "      <td>0</td>\n",
       "      <td>0</td>\n",
       "    </tr>\n",
       "    <tr>\n",
       "      <th>1</th>\n",
       "      <td>2017-01-01 01:00:51+00:00</td>\n",
       "      <td>2017-01-02 17:20:02+00:00</td>\n",
       "      <td>DAY</td>\n",
       "      <td>OTHERS</td>\n",
       "      <td>THEFT F/AUTO</td>\n",
       "      <td>1700 - 1799 BLOCK OF P STREET NW</td>\n",
       "      <td>396523.770000</td>\n",
       "      <td>137976.790000</td>\n",
       "      <td>2.0</td>\n",
       "      <td>2.0</td>\n",
       "      <td>38.909645</td>\n",
       "      <td>-77.040080</td>\n",
       "      <td>2017-01-02 03:00:58+00:00</td>\n",
       "      <td>POINT (-77.0400800705 38.9096454698)</td>\n",
       "      <td>2017-01-01</td>\n",
       "      <td>0</td>\n",
       "      <td>0</td>\n",
       "    </tr>\n",
       "    <tr>\n",
       "      <th>2</th>\n",
       "      <td>2017-01-01 01:00:56+00:00</td>\n",
       "      <td>2017-01-02 02:51:06+00:00</td>\n",
       "      <td>EVENING</td>\n",
       "      <td>OTHERS</td>\n",
       "      <td>THEFT F/AUTO</td>\n",
       "      <td>1821 - 1899 BLOCK OF 16TH STREET NW</td>\n",
       "      <td>396834.070000</td>\n",
       "      <td>138593.520000</td>\n",
       "      <td>2.0</td>\n",
       "      <td>3.0</td>\n",
       "      <td>38.915202</td>\n",
       "      <td>-77.036505</td>\n",
       "      <td>2017-01-01 20:30:39+00:00</td>\n",
       "      <td>POINT (-77.0365052323 38.9152023543)</td>\n",
       "      <td>2017-01-01</td>\n",
       "      <td>0</td>\n",
       "      <td>0</td>\n",
       "    </tr>\n",
       "  </tbody>\n",
       "</table>\n",
       "</div>"
      ],
      "text/plain": [
       "                 START_DATE                REPORT_DAT    SHIFT  METHOD  \\\n",
       "0 2017-01-01 00:28:57+00:00 2017-01-02 01:16:13+00:00  EVENING  OTHERS   \n",
       "1 2017-01-01 01:00:51+00:00 2017-01-02 17:20:02+00:00      DAY  OTHERS   \n",
       "2 2017-01-01 01:00:56+00:00 2017-01-02 02:51:06+00:00  EVENING  OTHERS   \n",
       "\n",
       "        OFFENSE                                     BLOCK         XBLOCK  \\\n",
       "0   THEFT/OTHER  1900 - 2199 BLOCK OF RIDGECREST COURT SE  402201.041504   \n",
       "1  THEFT F/AUTO          1700 - 1799 BLOCK OF P STREET NW  396523.770000   \n",
       "2  THEFT F/AUTO       1821 - 1899 BLOCK OF 16TH STREET NW  396834.070000   \n",
       "\n",
       "          YBLOCK  WARD  DISTRICT   LATITUDE  LONGITUDE  \\\n",
       "0  131112.794647   8.0       7.0  38.847816 -76.974645   \n",
       "1  137976.790000   2.0       2.0  38.909645 -77.040080   \n",
       "2  138593.520000   2.0       3.0  38.915202 -77.036505   \n",
       "\n",
       "                   END_DATE                                  geometry  \\\n",
       "0 2017-01-01 00:45:35+00:00  POINT (-76.97464451720001 38.8478160318)   \n",
       "1 2017-01-02 03:00:58+00:00      POINT (-77.0400800705 38.9096454698)   \n",
       "2 2017-01-01 20:30:39+00:00      POINT (-77.0365052323 38.9152023543)   \n",
       "\n",
       "         date  covid_daily_case_count  covid_deaths  \n",
       "0  2017-01-01                       0             0  \n",
       "1  2017-01-01                       0             0  \n",
       "2  2017-01-01                       0             0  "
      ]
     },
     "execution_count": 24,
     "metadata": {},
     "output_type": "execute_result"
    }
   ],
   "source": [
    "df_pre_covid_crime_and_covid_cases.head(3)"
   ]
  },
  {
   "cell_type": "code",
   "execution_count": 25,
   "id": "03f6c302",
   "metadata": {},
   "outputs": [
    {
     "data": {
      "text/html": [
       "<div>\n",
       "<style scoped>\n",
       "    .dataframe tbody tr th:only-of-type {\n",
       "        vertical-align: middle;\n",
       "    }\n",
       "\n",
       "    .dataframe tbody tr th {\n",
       "        vertical-align: top;\n",
       "    }\n",
       "\n",
       "    .dataframe thead th {\n",
       "        text-align: right;\n",
       "    }\n",
       "</style>\n",
       "<table border=\"1\" class=\"dataframe\">\n",
       "  <thead>\n",
       "    <tr style=\"text-align: right;\">\n",
       "      <th></th>\n",
       "      <th>START_DATE</th>\n",
       "      <th>REPORT_DAT</th>\n",
       "      <th>SHIFT</th>\n",
       "      <th>METHOD</th>\n",
       "      <th>OFFENSE</th>\n",
       "      <th>BLOCK</th>\n",
       "      <th>XBLOCK</th>\n",
       "      <th>YBLOCK</th>\n",
       "      <th>WARD</th>\n",
       "      <th>DISTRICT</th>\n",
       "      <th>LATITUDE</th>\n",
       "      <th>LONGITUDE</th>\n",
       "      <th>END_DATE</th>\n",
       "      <th>geometry</th>\n",
       "      <th>date</th>\n",
       "      <th>covid_daily_case_count</th>\n",
       "      <th>covid_deaths</th>\n",
       "    </tr>\n",
       "  </thead>\n",
       "  <tbody>\n",
       "    <tr>\n",
       "      <th>0</th>\n",
       "      <td>2020-03-07 00:00:18+00:00</td>\n",
       "      <td>2020-03-07 23:44:58+00:00</td>\n",
       "      <td>EVENING</td>\n",
       "      <td>OTHERS</td>\n",
       "      <td>THEFT/OTHER</td>\n",
       "      <td>1400 - 1499 BLOCK OF GIRARD STREET NW</td>\n",
       "      <td>397063.06</td>\n",
       "      <td>139725.80</td>\n",
       "      <td>1.0</td>\n",
       "      <td>3.0</td>\n",
       "      <td>38.925403</td>\n",
       "      <td>-77.033870</td>\n",
       "      <td>2020-03-07 14:00:22+00:00</td>\n",
       "      <td>POINT (-77.0338696729 38.925403095)</td>\n",
       "      <td>2020-03-07</td>\n",
       "      <td>1</td>\n",
       "      <td>0</td>\n",
       "    </tr>\n",
       "    <tr>\n",
       "      <th>1</th>\n",
       "      <td>2020-03-07 00:07:26+00:00</td>\n",
       "      <td>2020-03-07 03:18:07+00:00</td>\n",
       "      <td>EVENING</td>\n",
       "      <td>OTHERS</td>\n",
       "      <td>THEFT F/AUTO</td>\n",
       "      <td>4300 - 4399 BLOCK OF VARNUM PLACE NE</td>\n",
       "      <td>400322.05</td>\n",
       "      <td>141492.13</td>\n",
       "      <td>5.0</td>\n",
       "      <td>4.0</td>\n",
       "      <td>38.941320</td>\n",
       "      <td>-76.996285</td>\n",
       "      <td>2020-03-07 00:47:04+00:00</td>\n",
       "      <td>POINT (-76.9962851937 38.94131958)</td>\n",
       "      <td>2020-03-07</td>\n",
       "      <td>1</td>\n",
       "      <td>0</td>\n",
       "    </tr>\n",
       "    <tr>\n",
       "      <th>2</th>\n",
       "      <td>2020-03-07 00:17:13+00:00</td>\n",
       "      <td>2020-03-07 01:23:10+00:00</td>\n",
       "      <td>EVENING</td>\n",
       "      <td>OTHERS</td>\n",
       "      <td>THEFT/OTHER</td>\n",
       "      <td>3100 - 3299 BLOCK OF 14TH STREET NW</td>\n",
       "      <td>397162.06</td>\n",
       "      <td>140182.43</td>\n",
       "      <td>1.0</td>\n",
       "      <td>3.0</td>\n",
       "      <td>38.929517</td>\n",
       "      <td>-77.032730</td>\n",
       "      <td>2020-03-07 00:45:03+00:00</td>\n",
       "      <td>POINT (-77.03272986330001 38.9295168861)</td>\n",
       "      <td>2020-03-07</td>\n",
       "      <td>1</td>\n",
       "      <td>0</td>\n",
       "    </tr>\n",
       "  </tbody>\n",
       "</table>\n",
       "</div>"
      ],
      "text/plain": [
       "                 START_DATE                REPORT_DAT    SHIFT  METHOD  \\\n",
       "0 2020-03-07 00:00:18+00:00 2020-03-07 23:44:58+00:00  EVENING  OTHERS   \n",
       "1 2020-03-07 00:07:26+00:00 2020-03-07 03:18:07+00:00  EVENING  OTHERS   \n",
       "2 2020-03-07 00:17:13+00:00 2020-03-07 01:23:10+00:00  EVENING  OTHERS   \n",
       "\n",
       "        OFFENSE                                  BLOCK     XBLOCK     YBLOCK  \\\n",
       "0   THEFT/OTHER  1400 - 1499 BLOCK OF GIRARD STREET NW  397063.06  139725.80   \n",
       "1  THEFT F/AUTO   4300 - 4399 BLOCK OF VARNUM PLACE NE  400322.05  141492.13   \n",
       "2   THEFT/OTHER    3100 - 3299 BLOCK OF 14TH STREET NW  397162.06  140182.43   \n",
       "\n",
       "   WARD  DISTRICT   LATITUDE  LONGITUDE                  END_DATE  \\\n",
       "0   1.0       3.0  38.925403 -77.033870 2020-03-07 14:00:22+00:00   \n",
       "1   5.0       4.0  38.941320 -76.996285 2020-03-07 00:47:04+00:00   \n",
       "2   1.0       3.0  38.929517 -77.032730 2020-03-07 00:45:03+00:00   \n",
       "\n",
       "                                   geometry        date  \\\n",
       "0       POINT (-77.0338696729 38.925403095)  2020-03-07   \n",
       "1        POINT (-76.9962851937 38.94131958)  2020-03-07   \n",
       "2  POINT (-77.03272986330001 38.9295168861)  2020-03-07   \n",
       "\n",
       "   covid_daily_case_count  covid_deaths  \n",
       "0                       1             0  \n",
       "1                       1             0  \n",
       "2                       1             0  "
      ]
     },
     "execution_count": 25,
     "metadata": {},
     "output_type": "execute_result"
    }
   ],
   "source": [
    "df_covid_crime_and_cases.head(3)"
   ]
  },
  {
   "cell_type": "code",
   "execution_count": 29,
   "id": "5f81efff",
   "metadata": {},
   "outputs": [],
   "source": [
    "df_pre_covid_crime_and_covid_cases = df_pre_covid_crime_and_covid_cases.dropna()\n",
    "df_covid_crime_and_cases = df_covid_crime_and_cases.dropna()"
   ]
  },
  {
   "cell_type": "code",
   "execution_count": 30,
   "id": "8e0952fe",
   "metadata": {},
   "outputs": [],
   "source": [
    "# LDA"
   ]
  },
  {
   "cell_type": "code",
   "execution_count": 31,
   "id": "757bcfb5",
   "metadata": {},
   "outputs": [
    {
     "data": {
      "text/plain": [
       "{1.0, 2.0, 3.0, 4.0, 5.0, 6.0, 7.0, 8.0}"
      ]
     },
     "execution_count": 31,
     "metadata": {},
     "output_type": "execute_result"
    }
   ],
   "source": [
    "set(df_covid_crime_and_cases['WARD'].values)"
   ]
  },
  {
   "cell_type": "code",
   "execution_count": null,
   "id": "2f9474b7",
   "metadata": {},
   "outputs": [],
   "source": []
  },
  {
   "cell_type": "code",
   "execution_count": null,
   "id": "15d8ac26",
   "metadata": {},
   "outputs": [],
   "source": []
  }
 ],
 "metadata": {
  "kernelspec": {
   "display_name": "Python 3 (ipykernel)",
   "language": "python",
   "name": "python3"
  },
  "language_info": {
   "codemirror_mode": {
    "name": "ipython",
    "version": 3
   },
   "file_extension": ".py",
   "mimetype": "text/x-python",
   "name": "python",
   "nbconvert_exporter": "python",
   "pygments_lexer": "ipython3",
   "version": "3.8.12"
  }
 },
 "nbformat": 4,
 "nbformat_minor": 5
}
