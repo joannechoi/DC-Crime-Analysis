{
 "cells": [
  {
   "cell_type": "code",
   "execution_count": 42,
   "id": "3e655018",
   "metadata": {},
   "outputs": [],
   "source": [
    "import os\n",
    "\n",
    "import pandas as pd\n",
    "from sklearn.model_selection import train_test_split, GridSearchCV\n",
    "from sklearn.metrics import mean_squared_error, r2_score\n",
    "from sklearn.preprocessing import StandardScaler\n",
    "from sklearn.pipeline import Pipeline\n",
    "import statsmodels.api as sm\n",
    "import matplotlib.pyplot as plt\n",
    "import numpy as np\n",
    "\n",
    "from sklearn.svm import SVC\n",
    "from sklearn.model_selection import GridSearchCV\n",
    "\n",
    "from sklearn.metrics import accuracy_score, precision_score, recall_score\n",
    "\n",
    "from sklearn.model_selection import GridSearchCV\n",
    "from sklearn.neighbors import KNeighborsClassifier\n",
    "\n",
    "from sklearn.cluster import KMeans\n",
    "import matplotlib.pyplot as plt\n",
    "\n",
    "import copy\n",
    "\n",
    "import time\n",
    "\n",
    "import torch.optim as optim\n",
    "#from dataset import train_dataloader, val_dataloader\n",
    "#from dataset import train_dataset, val_dataset\n",
    "from tqdm import tqdm\n",
    "\n",
    "from torch.utils.data import Dataset, DataLoader\n",
    "import torch\n",
    "import torch.nn as nn\n",
    "import numpy as np\n",
    "\n",
    "from sklearn.model_selection import cross_val_score\n",
    "\n",
    "import pickle"
   ]
  },
  {
   "cell_type": "code",
   "execution_count": 6,
   "id": "c2bf1ea9",
   "metadata": {},
   "outputs": [],
   "source": [
    "main_dir = os.path.abspath('..') # os.path.join(os.getcwd())\n",
    "data_dir = os.path.join(main_dir, \"Data\")\n",
    "shapefiles_dir = os.path.join(main_dir, data_dir, \"shapefiles\")"
   ]
  },
  {
   "cell_type": "code",
   "execution_count": 7,
   "id": "5e476a13",
   "metadata": {},
   "outputs": [],
   "source": [
    "pd.options.display.max_columns = None"
   ]
  },
  {
   "cell_type": "code",
   "execution_count": 8,
   "id": "41868fc2",
   "metadata": {},
   "outputs": [
    {
     "data": {
      "text/html": [
       "<div>\n",
       "<style scoped>\n",
       "    .dataframe tbody tr th:only-of-type {\n",
       "        vertical-align: middle;\n",
       "    }\n",
       "\n",
       "    .dataframe tbody tr th {\n",
       "        vertical-align: top;\n",
       "    }\n",
       "\n",
       "    .dataframe thead th {\n",
       "        text-align: right;\n",
       "    }\n",
       "</style>\n",
       "<table border=\"1\" class=\"dataframe\">\n",
       "  <thead>\n",
       "    <tr style=\"text-align: right;\">\n",
       "      <th></th>\n",
       "      <th>SHIFT</th>\n",
       "      <th>OFFENSE</th>\n",
       "      <th>WARD</th>\n",
       "      <th>LATITUDE</th>\n",
       "      <th>LONGITUDE</th>\n",
       "      <th>total_cases</th>\n",
       "      <th>daily_cases</th>\n",
       "      <th>daily_death</th>\n",
       "      <th>OUT_POSITIVE_QUARANTINE_PSMPD</th>\n",
       "      <th>MO</th>\n",
       "      <th>TU</th>\n",
       "      <th>WE</th>\n",
       "      <th>TH</th>\n",
       "      <th>FR</th>\n",
       "      <th>SA</th>\n",
       "      <th>SU</th>\n",
       "      <th>JAN</th>\n",
       "      <th>FEB</th>\n",
       "      <th>MAR</th>\n",
       "      <th>APR</th>\n",
       "      <th>MAY</th>\n",
       "      <th>JUN</th>\n",
       "      <th>JUL</th>\n",
       "      <th>AUG</th>\n",
       "      <th>SEP</th>\n",
       "      <th>OCT</th>\n",
       "      <th>NOV</th>\n",
       "      <th>DEC</th>\n",
       "      <th>ward_1</th>\n",
       "      <th>ward_2</th>\n",
       "      <th>ward_3</th>\n",
       "      <th>ward_4</th>\n",
       "      <th>ward_5</th>\n",
       "      <th>ward_6</th>\n",
       "      <th>ward_7</th>\n",
       "      <th>ward_8</th>\n",
       "      <th>ARSON</th>\n",
       "      <th>ASSAULT W/DANGEROUS WEAPON</th>\n",
       "      <th>BURGLARY</th>\n",
       "      <th>HOMICIDE</th>\n",
       "      <th>MOTOR VEHICLE THEFT</th>\n",
       "      <th>ROBBERY</th>\n",
       "      <th>SEX ABUSE</th>\n",
       "      <th>THEFT F/AUTO</th>\n",
       "      <th>THEFT/OTHER</th>\n",
       "      <th>DAY</th>\n",
       "      <th>EVENING</th>\n",
       "      <th>MIDNIGHT</th>\n",
       "      <th>distance_metro</th>\n",
       "      <th>distance_nightclubs</th>\n",
       "      <th>distance_worship</th>\n",
       "    </tr>\n",
       "  </thead>\n",
       "  <tbody>\n",
       "    <tr>\n",
       "      <th>0</th>\n",
       "      <td>MIDNIGHT</td>\n",
       "      <td>THEFT F/AUTO</td>\n",
       "      <td>5.0</td>\n",
       "      <td>38.918707</td>\n",
       "      <td>-76.962533</td>\n",
       "      <td>0.0</td>\n",
       "      <td>0.0</td>\n",
       "      <td>0.0</td>\n",
       "      <td>0.0</td>\n",
       "      <td>0</td>\n",
       "      <td>0</td>\n",
       "      <td>0</td>\n",
       "      <td>0</td>\n",
       "      <td>0</td>\n",
       "      <td>1</td>\n",
       "      <td>0</td>\n",
       "      <td>0</td>\n",
       "      <td>0</td>\n",
       "      <td>0</td>\n",
       "      <td>0</td>\n",
       "      <td>0</td>\n",
       "      <td>0</td>\n",
       "      <td>0</td>\n",
       "      <td>0</td>\n",
       "      <td>0</td>\n",
       "      <td>1</td>\n",
       "      <td>0</td>\n",
       "      <td>0</td>\n",
       "      <td>0</td>\n",
       "      <td>0</td>\n",
       "      <td>0</td>\n",
       "      <td>0</td>\n",
       "      <td>1</td>\n",
       "      <td>0</td>\n",
       "      <td>0</td>\n",
       "      <td>0</td>\n",
       "      <td>0</td>\n",
       "      <td>0</td>\n",
       "      <td>0</td>\n",
       "      <td>0</td>\n",
       "      <td>0</td>\n",
       "      <td>0</td>\n",
       "      <td>0</td>\n",
       "      <td>1</td>\n",
       "      <td>0</td>\n",
       "      <td>0</td>\n",
       "      <td>0</td>\n",
       "      <td>1</td>\n",
       "      <td>1.127080</td>\n",
       "      <td>0.674769</td>\n",
       "      <td>0.077614</td>\n",
       "    </tr>\n",
       "    <tr>\n",
       "      <th>1</th>\n",
       "      <td>MIDNIGHT</td>\n",
       "      <td>ASSAULT W/DANGEROUS WEAPON</td>\n",
       "      <td>6.0</td>\n",
       "      <td>38.907643</td>\n",
       "      <td>-77.009053</td>\n",
       "      <td>0.0</td>\n",
       "      <td>0.0</td>\n",
       "      <td>0.0</td>\n",
       "      <td>0.0</td>\n",
       "      <td>0</td>\n",
       "      <td>0</td>\n",
       "      <td>0</td>\n",
       "      <td>0</td>\n",
       "      <td>0</td>\n",
       "      <td>1</td>\n",
       "      <td>0</td>\n",
       "      <td>0</td>\n",
       "      <td>0</td>\n",
       "      <td>0</td>\n",
       "      <td>0</td>\n",
       "      <td>0</td>\n",
       "      <td>0</td>\n",
       "      <td>0</td>\n",
       "      <td>0</td>\n",
       "      <td>0</td>\n",
       "      <td>1</td>\n",
       "      <td>0</td>\n",
       "      <td>0</td>\n",
       "      <td>0</td>\n",
       "      <td>0</td>\n",
       "      <td>0</td>\n",
       "      <td>0</td>\n",
       "      <td>0</td>\n",
       "      <td>1</td>\n",
       "      <td>0</td>\n",
       "      <td>0</td>\n",
       "      <td>0</td>\n",
       "      <td>1</td>\n",
       "      <td>0</td>\n",
       "      <td>0</td>\n",
       "      <td>0</td>\n",
       "      <td>0</td>\n",
       "      <td>0</td>\n",
       "      <td>0</td>\n",
       "      <td>0</td>\n",
       "      <td>0</td>\n",
       "      <td>0</td>\n",
       "      <td>1</td>\n",
       "      <td>0.191281</td>\n",
       "      <td>0.079607</td>\n",
       "      <td>0.049559</td>\n",
       "    </tr>\n",
       "    <tr>\n",
       "      <th>2</th>\n",
       "      <td>MIDNIGHT</td>\n",
       "      <td>THEFT F/AUTO</td>\n",
       "      <td>6.0</td>\n",
       "      <td>38.901323</td>\n",
       "      <td>-77.016914</td>\n",
       "      <td>0.0</td>\n",
       "      <td>0.0</td>\n",
       "      <td>0.0</td>\n",
       "      <td>0.0</td>\n",
       "      <td>0</td>\n",
       "      <td>0</td>\n",
       "      <td>0</td>\n",
       "      <td>0</td>\n",
       "      <td>0</td>\n",
       "      <td>1</td>\n",
       "      <td>0</td>\n",
       "      <td>0</td>\n",
       "      <td>0</td>\n",
       "      <td>0</td>\n",
       "      <td>0</td>\n",
       "      <td>0</td>\n",
       "      <td>0</td>\n",
       "      <td>0</td>\n",
       "      <td>0</td>\n",
       "      <td>0</td>\n",
       "      <td>1</td>\n",
       "      <td>0</td>\n",
       "      <td>0</td>\n",
       "      <td>0</td>\n",
       "      <td>0</td>\n",
       "      <td>0</td>\n",
       "      <td>0</td>\n",
       "      <td>0</td>\n",
       "      <td>1</td>\n",
       "      <td>0</td>\n",
       "      <td>0</td>\n",
       "      <td>0</td>\n",
       "      <td>0</td>\n",
       "      <td>0</td>\n",
       "      <td>0</td>\n",
       "      <td>0</td>\n",
       "      <td>0</td>\n",
       "      <td>0</td>\n",
       "      <td>1</td>\n",
       "      <td>0</td>\n",
       "      <td>0</td>\n",
       "      <td>0</td>\n",
       "      <td>1</td>\n",
       "      <td>0.083639</td>\n",
       "      <td>0.124886</td>\n",
       "      <td>0.068719</td>\n",
       "    </tr>\n",
       "    <tr>\n",
       "      <th>3</th>\n",
       "      <td>DAY</td>\n",
       "      <td>THEFT F/AUTO</td>\n",
       "      <td>6.0</td>\n",
       "      <td>38.883239</td>\n",
       "      <td>-77.018730</td>\n",
       "      <td>0.0</td>\n",
       "      <td>0.0</td>\n",
       "      <td>0.0</td>\n",
       "      <td>0.0</td>\n",
       "      <td>0</td>\n",
       "      <td>0</td>\n",
       "      <td>0</td>\n",
       "      <td>0</td>\n",
       "      <td>1</td>\n",
       "      <td>0</td>\n",
       "      <td>0</td>\n",
       "      <td>0</td>\n",
       "      <td>0</td>\n",
       "      <td>0</td>\n",
       "      <td>0</td>\n",
       "      <td>0</td>\n",
       "      <td>0</td>\n",
       "      <td>0</td>\n",
       "      <td>0</td>\n",
       "      <td>0</td>\n",
       "      <td>1</td>\n",
       "      <td>0</td>\n",
       "      <td>0</td>\n",
       "      <td>0</td>\n",
       "      <td>0</td>\n",
       "      <td>0</td>\n",
       "      <td>0</td>\n",
       "      <td>0</td>\n",
       "      <td>1</td>\n",
       "      <td>0</td>\n",
       "      <td>0</td>\n",
       "      <td>0</td>\n",
       "      <td>0</td>\n",
       "      <td>0</td>\n",
       "      <td>0</td>\n",
       "      <td>0</td>\n",
       "      <td>0</td>\n",
       "      <td>0</td>\n",
       "      <td>1</td>\n",
       "      <td>0</td>\n",
       "      <td>1</td>\n",
       "      <td>0</td>\n",
       "      <td>0</td>\n",
       "      <td>0.135380</td>\n",
       "      <td>0.296590</td>\n",
       "      <td>0.074763</td>\n",
       "    </tr>\n",
       "    <tr>\n",
       "      <th>4</th>\n",
       "      <td>DAY</td>\n",
       "      <td>THEFT/OTHER</td>\n",
       "      <td>5.0</td>\n",
       "      <td>38.920933</td>\n",
       "      <td>-76.997157</td>\n",
       "      <td>0.0</td>\n",
       "      <td>0.0</td>\n",
       "      <td>0.0</td>\n",
       "      <td>0.0</td>\n",
       "      <td>0</td>\n",
       "      <td>0</td>\n",
       "      <td>0</td>\n",
       "      <td>0</td>\n",
       "      <td>0</td>\n",
       "      <td>1</td>\n",
       "      <td>0</td>\n",
       "      <td>0</td>\n",
       "      <td>0</td>\n",
       "      <td>0</td>\n",
       "      <td>0</td>\n",
       "      <td>0</td>\n",
       "      <td>0</td>\n",
       "      <td>0</td>\n",
       "      <td>0</td>\n",
       "      <td>0</td>\n",
       "      <td>1</td>\n",
       "      <td>0</td>\n",
       "      <td>0</td>\n",
       "      <td>0</td>\n",
       "      <td>0</td>\n",
       "      <td>0</td>\n",
       "      <td>0</td>\n",
       "      <td>1</td>\n",
       "      <td>0</td>\n",
       "      <td>0</td>\n",
       "      <td>0</td>\n",
       "      <td>0</td>\n",
       "      <td>0</td>\n",
       "      <td>0</td>\n",
       "      <td>0</td>\n",
       "      <td>0</td>\n",
       "      <td>0</td>\n",
       "      <td>0</td>\n",
       "      <td>0</td>\n",
       "      <td>1</td>\n",
       "      <td>1</td>\n",
       "      <td>0</td>\n",
       "      <td>0</td>\n",
       "      <td>0.084503</td>\n",
       "      <td>0.849526</td>\n",
       "      <td>0.047963</td>\n",
       "    </tr>\n",
       "  </tbody>\n",
       "</table>\n",
       "</div>"
      ],
      "text/plain": [
       "      SHIFT                     OFFENSE  WARD   LATITUDE  LONGITUDE  \\\n",
       "0  MIDNIGHT                THEFT F/AUTO   5.0  38.918707 -76.962533   \n",
       "1  MIDNIGHT  ASSAULT W/DANGEROUS WEAPON   6.0  38.907643 -77.009053   \n",
       "2  MIDNIGHT                THEFT F/AUTO   6.0  38.901323 -77.016914   \n",
       "3       DAY                THEFT F/AUTO   6.0  38.883239 -77.018730   \n",
       "4       DAY                 THEFT/OTHER   5.0  38.920933 -76.997157   \n",
       "\n",
       "   total_cases  daily_cases  daily_death  OUT_POSITIVE_QUARANTINE_PSMPD  MO  \\\n",
       "0          0.0          0.0          0.0                            0.0   0   \n",
       "1          0.0          0.0          0.0                            0.0   0   \n",
       "2          0.0          0.0          0.0                            0.0   0   \n",
       "3          0.0          0.0          0.0                            0.0   0   \n",
       "4          0.0          0.0          0.0                            0.0   0   \n",
       "\n",
       "   TU  WE  TH  FR  SA  SU  JAN  FEB  MAR  APR  MAY  JUN  JUL  AUG  SEP  OCT  \\\n",
       "0   0   0   0   0   1   0    0    0    0    0    0    0    0    0    0    1   \n",
       "1   0   0   0   0   1   0    0    0    0    0    0    0    0    0    0    1   \n",
       "2   0   0   0   0   1   0    0    0    0    0    0    0    0    0    0    1   \n",
       "3   0   0   0   1   0   0    0    0    0    0    0    0    0    0    0    1   \n",
       "4   0   0   0   0   1   0    0    0    0    0    0    0    0    0    0    1   \n",
       "\n",
       "   NOV  DEC  ward_1  ward_2  ward_3  ward_4  ward_5  ward_6  ward_7  ward_8  \\\n",
       "0    0    0       0       0       0       0       1       0       0       0   \n",
       "1    0    0       0       0       0       0       0       1       0       0   \n",
       "2    0    0       0       0       0       0       0       1       0       0   \n",
       "3    0    0       0       0       0       0       0       1       0       0   \n",
       "4    0    0       0       0       0       0       1       0       0       0   \n",
       "\n",
       "   ARSON  ASSAULT W/DANGEROUS WEAPON  BURGLARY  HOMICIDE  MOTOR VEHICLE THEFT  \\\n",
       "0      0                           0         0         0                    0   \n",
       "1      0                           1         0         0                    0   \n",
       "2      0                           0         0         0                    0   \n",
       "3      0                           0         0         0                    0   \n",
       "4      0                           0         0         0                    0   \n",
       "\n",
       "   ROBBERY  SEX ABUSE  THEFT F/AUTO  THEFT/OTHER  DAY  EVENING  MIDNIGHT  \\\n",
       "0        0          0             1            0    0        0         1   \n",
       "1        0          0             0            0    0        0         1   \n",
       "2        0          0             1            0    0        0         1   \n",
       "3        0          0             1            0    1        0         0   \n",
       "4        0          0             0            1    1        0         0   \n",
       "\n",
       "   distance_metro  distance_nightclubs  distance_worship  \n",
       "0        1.127080             0.674769          0.077614  \n",
       "1        0.191281             0.079607          0.049559  \n",
       "2        0.083639             0.124886          0.068719  \n",
       "3        0.135380             0.296590          0.074763  \n",
       "4        0.084503             0.849526          0.047963  "
      ]
     },
     "execution_count": 8,
     "metadata": {},
     "output_type": "execute_result"
    }
   ],
   "source": [
    "pre_covid_data = pd.read_csv(os.path.join(data_dir, \"Merged\", \"precovid_crime_micro_geo_11_29_2021.csv\"), index_col=False)\n",
    "del pre_covid_data['date']\n",
    "del pre_covid_data[pre_covid_data.columns[0]]\n",
    "pre_covid_data.head()"
   ]
  },
  {
   "cell_type": "code",
   "execution_count": 9,
   "id": "c6a7da01",
   "metadata": {},
   "outputs": [],
   "source": [
    "del pre_covid_data[\"SHIFT\"]\n",
    "del pre_covid_data[\"WARD\"]"
   ]
  },
  {
   "cell_type": "code",
   "execution_count": 10,
   "id": "539d6c70",
   "metadata": {},
   "outputs": [],
   "source": [
    "del pre_covid_data[\"ARSON\"]\n",
    "del pre_covid_data[\"ASSAULT W/DANGEROUS WEAPON\"]\n",
    "del pre_covid_data[\"BURGLARY\"]\n",
    "del pre_covid_data[\"HOMICIDE\"]\n",
    "del pre_covid_data[\"MOTOR VEHICLE THEFT\"]\n",
    "del pre_covid_data[\"ROBBERY\"]\n",
    "del pre_covid_data[\"SEX ABUSE\"]\n",
    "del pre_covid_data[\"THEFT F/AUTO\"]\n",
    "del pre_covid_data[\"THEFT/OTHER\"]"
   ]
  },
  {
   "cell_type": "code",
   "execution_count": 11,
   "id": "cc72e63f",
   "metadata": {},
   "outputs": [],
   "source": [
    "pre_covid_data.OFFENSE = pd.Categorical(pre_covid_data.OFFENSE).codes"
   ]
  },
  {
   "cell_type": "code",
   "execution_count": 12,
   "id": "c87fe1e5",
   "metadata": {},
   "outputs": [],
   "source": [
    "pre_covid_data['OFFENSE'] = pre_covid_data['OFFENSE'].astype('int')"
   ]
  },
  {
   "cell_type": "code",
   "execution_count": 14,
   "id": "7c524057",
   "metadata": {},
   "outputs": [],
   "source": [
    "del pre_covid_data[\"total_cases\"]\n",
    "del pre_covid_data[\"daily_cases\"]\n",
    "del pre_covid_data[\"daily_death\"]\n",
    "del pre_covid_data[\"OUT_POSITIVE_QUARANTINE_PSMPD\"]"
   ]
  },
  {
   "cell_type": "code",
   "execution_count": 15,
   "id": "295834d3",
   "metadata": {},
   "outputs": [
    {
     "data": {
      "text/plain": [
       "OFFENSE                0\n",
       "LATITUDE               0\n",
       "LONGITUDE              0\n",
       "MO                     0\n",
       "TU                     0\n",
       "WE                     0\n",
       "TH                     0\n",
       "FR                     0\n",
       "SA                     0\n",
       "SU                     0\n",
       "JAN                    0\n",
       "FEB                    0\n",
       "MAR                    0\n",
       "APR                    0\n",
       "MAY                    0\n",
       "JUN                    0\n",
       "JUL                    0\n",
       "AUG                    0\n",
       "SEP                    0\n",
       "OCT                    0\n",
       "NOV                    0\n",
       "DEC                    0\n",
       "ward_1                 0\n",
       "ward_2                 0\n",
       "ward_3                 0\n",
       "ward_4                 0\n",
       "ward_5                 0\n",
       "ward_6                 0\n",
       "ward_7                 0\n",
       "ward_8                 0\n",
       "DAY                    0\n",
       "EVENING                0\n",
       "MIDNIGHT               0\n",
       "distance_metro         0\n",
       "distance_nightclubs    0\n",
       "distance_worship       0\n",
       "dtype: int64"
      ]
     },
     "execution_count": 15,
     "metadata": {},
     "output_type": "execute_result"
    }
   ],
   "source": [
    "pre_covid_data.isna().sum()"
   ]
  },
  {
   "cell_type": "code",
   "execution_count": 16,
   "id": "cfcd69f2",
   "metadata": {},
   "outputs": [
    {
     "data": {
      "text/html": [
       "<div>\n",
       "<style scoped>\n",
       "    .dataframe tbody tr th:only-of-type {\n",
       "        vertical-align: middle;\n",
       "    }\n",
       "\n",
       "    .dataframe tbody tr th {\n",
       "        vertical-align: top;\n",
       "    }\n",
       "\n",
       "    .dataframe thead th {\n",
       "        text-align: right;\n",
       "    }\n",
       "</style>\n",
       "<table border=\"1\" class=\"dataframe\">\n",
       "  <thead>\n",
       "    <tr style=\"text-align: right;\">\n",
       "      <th></th>\n",
       "      <th>OFFENSE</th>\n",
       "      <th>LATITUDE</th>\n",
       "      <th>LONGITUDE</th>\n",
       "      <th>MO</th>\n",
       "      <th>TU</th>\n",
       "      <th>WE</th>\n",
       "      <th>TH</th>\n",
       "      <th>FR</th>\n",
       "      <th>SA</th>\n",
       "      <th>SU</th>\n",
       "      <th>JAN</th>\n",
       "      <th>FEB</th>\n",
       "      <th>MAR</th>\n",
       "      <th>APR</th>\n",
       "      <th>MAY</th>\n",
       "      <th>JUN</th>\n",
       "      <th>JUL</th>\n",
       "      <th>AUG</th>\n",
       "      <th>SEP</th>\n",
       "      <th>OCT</th>\n",
       "      <th>NOV</th>\n",
       "      <th>DEC</th>\n",
       "      <th>ward_1</th>\n",
       "      <th>ward_2</th>\n",
       "      <th>ward_3</th>\n",
       "      <th>ward_4</th>\n",
       "      <th>ward_5</th>\n",
       "      <th>ward_6</th>\n",
       "      <th>ward_7</th>\n",
       "      <th>ward_8</th>\n",
       "      <th>DAY</th>\n",
       "      <th>EVENING</th>\n",
       "      <th>MIDNIGHT</th>\n",
       "      <th>distance_metro</th>\n",
       "      <th>distance_nightclubs</th>\n",
       "      <th>distance_worship</th>\n",
       "    </tr>\n",
       "  </thead>\n",
       "  <tbody>\n",
       "    <tr>\n",
       "      <th>0</th>\n",
       "      <td>7</td>\n",
       "      <td>38.918707</td>\n",
       "      <td>-76.962533</td>\n",
       "      <td>0</td>\n",
       "      <td>0</td>\n",
       "      <td>0</td>\n",
       "      <td>0</td>\n",
       "      <td>0</td>\n",
       "      <td>1</td>\n",
       "      <td>0</td>\n",
       "      <td>0</td>\n",
       "      <td>0</td>\n",
       "      <td>0</td>\n",
       "      <td>0</td>\n",
       "      <td>0</td>\n",
       "      <td>0</td>\n",
       "      <td>0</td>\n",
       "      <td>0</td>\n",
       "      <td>0</td>\n",
       "      <td>1</td>\n",
       "      <td>0</td>\n",
       "      <td>0</td>\n",
       "      <td>0</td>\n",
       "      <td>0</td>\n",
       "      <td>0</td>\n",
       "      <td>0</td>\n",
       "      <td>1</td>\n",
       "      <td>0</td>\n",
       "      <td>0</td>\n",
       "      <td>0</td>\n",
       "      <td>0</td>\n",
       "      <td>0</td>\n",
       "      <td>1</td>\n",
       "      <td>1.127080</td>\n",
       "      <td>0.674769</td>\n",
       "      <td>0.077614</td>\n",
       "    </tr>\n",
       "    <tr>\n",
       "      <th>1</th>\n",
       "      <td>1</td>\n",
       "      <td>38.907643</td>\n",
       "      <td>-77.009053</td>\n",
       "      <td>0</td>\n",
       "      <td>0</td>\n",
       "      <td>0</td>\n",
       "      <td>0</td>\n",
       "      <td>0</td>\n",
       "      <td>1</td>\n",
       "      <td>0</td>\n",
       "      <td>0</td>\n",
       "      <td>0</td>\n",
       "      <td>0</td>\n",
       "      <td>0</td>\n",
       "      <td>0</td>\n",
       "      <td>0</td>\n",
       "      <td>0</td>\n",
       "      <td>0</td>\n",
       "      <td>0</td>\n",
       "      <td>1</td>\n",
       "      <td>0</td>\n",
       "      <td>0</td>\n",
       "      <td>0</td>\n",
       "      <td>0</td>\n",
       "      <td>0</td>\n",
       "      <td>0</td>\n",
       "      <td>0</td>\n",
       "      <td>1</td>\n",
       "      <td>0</td>\n",
       "      <td>0</td>\n",
       "      <td>0</td>\n",
       "      <td>0</td>\n",
       "      <td>1</td>\n",
       "      <td>0.191281</td>\n",
       "      <td>0.079607</td>\n",
       "      <td>0.049559</td>\n",
       "    </tr>\n",
       "    <tr>\n",
       "      <th>2</th>\n",
       "      <td>7</td>\n",
       "      <td>38.901323</td>\n",
       "      <td>-77.016914</td>\n",
       "      <td>0</td>\n",
       "      <td>0</td>\n",
       "      <td>0</td>\n",
       "      <td>0</td>\n",
       "      <td>0</td>\n",
       "      <td>1</td>\n",
       "      <td>0</td>\n",
       "      <td>0</td>\n",
       "      <td>0</td>\n",
       "      <td>0</td>\n",
       "      <td>0</td>\n",
       "      <td>0</td>\n",
       "      <td>0</td>\n",
       "      <td>0</td>\n",
       "      <td>0</td>\n",
       "      <td>0</td>\n",
       "      <td>1</td>\n",
       "      <td>0</td>\n",
       "      <td>0</td>\n",
       "      <td>0</td>\n",
       "      <td>0</td>\n",
       "      <td>0</td>\n",
       "      <td>0</td>\n",
       "      <td>0</td>\n",
       "      <td>1</td>\n",
       "      <td>0</td>\n",
       "      <td>0</td>\n",
       "      <td>0</td>\n",
       "      <td>0</td>\n",
       "      <td>1</td>\n",
       "      <td>0.083639</td>\n",
       "      <td>0.124886</td>\n",
       "      <td>0.068719</td>\n",
       "    </tr>\n",
       "    <tr>\n",
       "      <th>3</th>\n",
       "      <td>7</td>\n",
       "      <td>38.883239</td>\n",
       "      <td>-77.018730</td>\n",
       "      <td>0</td>\n",
       "      <td>0</td>\n",
       "      <td>0</td>\n",
       "      <td>0</td>\n",
       "      <td>1</td>\n",
       "      <td>0</td>\n",
       "      <td>0</td>\n",
       "      <td>0</td>\n",
       "      <td>0</td>\n",
       "      <td>0</td>\n",
       "      <td>0</td>\n",
       "      <td>0</td>\n",
       "      <td>0</td>\n",
       "      <td>0</td>\n",
       "      <td>0</td>\n",
       "      <td>0</td>\n",
       "      <td>1</td>\n",
       "      <td>0</td>\n",
       "      <td>0</td>\n",
       "      <td>0</td>\n",
       "      <td>0</td>\n",
       "      <td>0</td>\n",
       "      <td>0</td>\n",
       "      <td>0</td>\n",
       "      <td>1</td>\n",
       "      <td>0</td>\n",
       "      <td>0</td>\n",
       "      <td>1</td>\n",
       "      <td>0</td>\n",
       "      <td>0</td>\n",
       "      <td>0.135380</td>\n",
       "      <td>0.296590</td>\n",
       "      <td>0.074763</td>\n",
       "    </tr>\n",
       "    <tr>\n",
       "      <th>4</th>\n",
       "      <td>8</td>\n",
       "      <td>38.920933</td>\n",
       "      <td>-76.997157</td>\n",
       "      <td>0</td>\n",
       "      <td>0</td>\n",
       "      <td>0</td>\n",
       "      <td>0</td>\n",
       "      <td>0</td>\n",
       "      <td>1</td>\n",
       "      <td>0</td>\n",
       "      <td>0</td>\n",
       "      <td>0</td>\n",
       "      <td>0</td>\n",
       "      <td>0</td>\n",
       "      <td>0</td>\n",
       "      <td>0</td>\n",
       "      <td>0</td>\n",
       "      <td>0</td>\n",
       "      <td>0</td>\n",
       "      <td>1</td>\n",
       "      <td>0</td>\n",
       "      <td>0</td>\n",
       "      <td>0</td>\n",
       "      <td>0</td>\n",
       "      <td>0</td>\n",
       "      <td>0</td>\n",
       "      <td>1</td>\n",
       "      <td>0</td>\n",
       "      <td>0</td>\n",
       "      <td>0</td>\n",
       "      <td>1</td>\n",
       "      <td>0</td>\n",
       "      <td>0</td>\n",
       "      <td>0.084503</td>\n",
       "      <td>0.849526</td>\n",
       "      <td>0.047963</td>\n",
       "    </tr>\n",
       "    <tr>\n",
       "      <th>...</th>\n",
       "      <td>...</td>\n",
       "      <td>...</td>\n",
       "      <td>...</td>\n",
       "      <td>...</td>\n",
       "      <td>...</td>\n",
       "      <td>...</td>\n",
       "      <td>...</td>\n",
       "      <td>...</td>\n",
       "      <td>...</td>\n",
       "      <td>...</td>\n",
       "      <td>...</td>\n",
       "      <td>...</td>\n",
       "      <td>...</td>\n",
       "      <td>...</td>\n",
       "      <td>...</td>\n",
       "      <td>...</td>\n",
       "      <td>...</td>\n",
       "      <td>...</td>\n",
       "      <td>...</td>\n",
       "      <td>...</td>\n",
       "      <td>...</td>\n",
       "      <td>...</td>\n",
       "      <td>...</td>\n",
       "      <td>...</td>\n",
       "      <td>...</td>\n",
       "      <td>...</td>\n",
       "      <td>...</td>\n",
       "      <td>...</td>\n",
       "      <td>...</td>\n",
       "      <td>...</td>\n",
       "      <td>...</td>\n",
       "      <td>...</td>\n",
       "      <td>...</td>\n",
       "      <td>...</td>\n",
       "      <td>...</td>\n",
       "      <td>...</td>\n",
       "    </tr>\n",
       "    <tr>\n",
       "      <th>104354</th>\n",
       "      <td>6</td>\n",
       "      <td>38.902514</td>\n",
       "      <td>-77.001305</td>\n",
       "      <td>0</td>\n",
       "      <td>0</td>\n",
       "      <td>0</td>\n",
       "      <td>0</td>\n",
       "      <td>0</td>\n",
       "      <td>0</td>\n",
       "      <td>1</td>\n",
       "      <td>0</td>\n",
       "      <td>0</td>\n",
       "      <td>1</td>\n",
       "      <td>0</td>\n",
       "      <td>0</td>\n",
       "      <td>0</td>\n",
       "      <td>0</td>\n",
       "      <td>0</td>\n",
       "      <td>0</td>\n",
       "      <td>0</td>\n",
       "      <td>0</td>\n",
       "      <td>0</td>\n",
       "      <td>0</td>\n",
       "      <td>0</td>\n",
       "      <td>0</td>\n",
       "      <td>0</td>\n",
       "      <td>0</td>\n",
       "      <td>1</td>\n",
       "      <td>0</td>\n",
       "      <td>0</td>\n",
       "      <td>0</td>\n",
       "      <td>1</td>\n",
       "      <td>0</td>\n",
       "      <td>0.138408</td>\n",
       "      <td>0.513213</td>\n",
       "      <td>0.030329</td>\n",
       "    </tr>\n",
       "    <tr>\n",
       "      <th>104355</th>\n",
       "      <td>6</td>\n",
       "      <td>38.924202</td>\n",
       "      <td>-76.960627</td>\n",
       "      <td>0</td>\n",
       "      <td>1</td>\n",
       "      <td>0</td>\n",
       "      <td>0</td>\n",
       "      <td>0</td>\n",
       "      <td>0</td>\n",
       "      <td>0</td>\n",
       "      <td>0</td>\n",
       "      <td>0</td>\n",
       "      <td>0</td>\n",
       "      <td>0</td>\n",
       "      <td>0</td>\n",
       "      <td>0</td>\n",
       "      <td>0</td>\n",
       "      <td>0</td>\n",
       "      <td>0</td>\n",
       "      <td>0</td>\n",
       "      <td>0</td>\n",
       "      <td>1</td>\n",
       "      <td>0</td>\n",
       "      <td>0</td>\n",
       "      <td>0</td>\n",
       "      <td>0</td>\n",
       "      <td>1</td>\n",
       "      <td>0</td>\n",
       "      <td>0</td>\n",
       "      <td>0</td>\n",
       "      <td>1</td>\n",
       "      <td>0</td>\n",
       "      <td>0</td>\n",
       "      <td>1.039210</td>\n",
       "      <td>0.809993</td>\n",
       "      <td>0.124818</td>\n",
       "    </tr>\n",
       "    <tr>\n",
       "      <th>104356</th>\n",
       "      <td>6</td>\n",
       "      <td>38.840647</td>\n",
       "      <td>-77.004730</td>\n",
       "      <td>1</td>\n",
       "      <td>0</td>\n",
       "      <td>0</td>\n",
       "      <td>0</td>\n",
       "      <td>0</td>\n",
       "      <td>0</td>\n",
       "      <td>0</td>\n",
       "      <td>0</td>\n",
       "      <td>1</td>\n",
       "      <td>0</td>\n",
       "      <td>0</td>\n",
       "      <td>0</td>\n",
       "      <td>0</td>\n",
       "      <td>0</td>\n",
       "      <td>0</td>\n",
       "      <td>0</td>\n",
       "      <td>0</td>\n",
       "      <td>0</td>\n",
       "      <td>0</td>\n",
       "      <td>0</td>\n",
       "      <td>0</td>\n",
       "      <td>0</td>\n",
       "      <td>0</td>\n",
       "      <td>0</td>\n",
       "      <td>0</td>\n",
       "      <td>0</td>\n",
       "      <td>1</td>\n",
       "      <td>1</td>\n",
       "      <td>0</td>\n",
       "      <td>0</td>\n",
       "      <td>0.559830</td>\n",
       "      <td>0.569863</td>\n",
       "      <td>0.005769</td>\n",
       "    </tr>\n",
       "    <tr>\n",
       "      <th>104357</th>\n",
       "      <td>6</td>\n",
       "      <td>38.905031</td>\n",
       "      <td>-76.995529</td>\n",
       "      <td>1</td>\n",
       "      <td>0</td>\n",
       "      <td>0</td>\n",
       "      <td>0</td>\n",
       "      <td>0</td>\n",
       "      <td>0</td>\n",
       "      <td>0</td>\n",
       "      <td>0</td>\n",
       "      <td>1</td>\n",
       "      <td>0</td>\n",
       "      <td>0</td>\n",
       "      <td>0</td>\n",
       "      <td>0</td>\n",
       "      <td>0</td>\n",
       "      <td>0</td>\n",
       "      <td>0</td>\n",
       "      <td>0</td>\n",
       "      <td>0</td>\n",
       "      <td>0</td>\n",
       "      <td>0</td>\n",
       "      <td>0</td>\n",
       "      <td>0</td>\n",
       "      <td>0</td>\n",
       "      <td>1</td>\n",
       "      <td>0</td>\n",
       "      <td>0</td>\n",
       "      <td>0</td>\n",
       "      <td>0</td>\n",
       "      <td>1</td>\n",
       "      <td>0</td>\n",
       "      <td>0.252021</td>\n",
       "      <td>0.904808</td>\n",
       "      <td>0.062211</td>\n",
       "    </tr>\n",
       "    <tr>\n",
       "      <th>104358</th>\n",
       "      <td>6</td>\n",
       "      <td>38.932826</td>\n",
       "      <td>-77.030864</td>\n",
       "      <td>0</td>\n",
       "      <td>0</td>\n",
       "      <td>0</td>\n",
       "      <td>1</td>\n",
       "      <td>0</td>\n",
       "      <td>0</td>\n",
       "      <td>0</td>\n",
       "      <td>0</td>\n",
       "      <td>0</td>\n",
       "      <td>1</td>\n",
       "      <td>0</td>\n",
       "      <td>0</td>\n",
       "      <td>0</td>\n",
       "      <td>0</td>\n",
       "      <td>0</td>\n",
       "      <td>0</td>\n",
       "      <td>0</td>\n",
       "      <td>0</td>\n",
       "      <td>0</td>\n",
       "      <td>1</td>\n",
       "      <td>0</td>\n",
       "      <td>0</td>\n",
       "      <td>0</td>\n",
       "      <td>0</td>\n",
       "      <td>0</td>\n",
       "      <td>0</td>\n",
       "      <td>0</td>\n",
       "      <td>0</td>\n",
       "      <td>1</td>\n",
       "      <td>0</td>\n",
       "      <td>0.140584</td>\n",
       "      <td>0.204775</td>\n",
       "      <td>0.084713</td>\n",
       "    </tr>\n",
       "  </tbody>\n",
       "</table>\n",
       "<p>104359 rows × 36 columns</p>\n",
       "</div>"
      ],
      "text/plain": [
       "        OFFENSE   LATITUDE  LONGITUDE  MO  TU  WE  TH  FR  SA  SU  JAN  FEB  \\\n",
       "0             7  38.918707 -76.962533   0   0   0   0   0   1   0    0    0   \n",
       "1             1  38.907643 -77.009053   0   0   0   0   0   1   0    0    0   \n",
       "2             7  38.901323 -77.016914   0   0   0   0   0   1   0    0    0   \n",
       "3             7  38.883239 -77.018730   0   0   0   0   1   0   0    0    0   \n",
       "4             8  38.920933 -76.997157   0   0   0   0   0   1   0    0    0   \n",
       "...         ...        ...        ...  ..  ..  ..  ..  ..  ..  ..  ...  ...   \n",
       "104354        6  38.902514 -77.001305   0   0   0   0   0   0   1    0    0   \n",
       "104355        6  38.924202 -76.960627   0   1   0   0   0   0   0    0    0   \n",
       "104356        6  38.840647 -77.004730   1   0   0   0   0   0   0    0    1   \n",
       "104357        6  38.905031 -76.995529   1   0   0   0   0   0   0    0    1   \n",
       "104358        6  38.932826 -77.030864   0   0   0   1   0   0   0    0    0   \n",
       "\n",
       "        MAR  APR  MAY  JUN  JUL  AUG  SEP  OCT  NOV  DEC  ward_1  ward_2  \\\n",
       "0         0    0    0    0    0    0    0    1    0    0       0       0   \n",
       "1         0    0    0    0    0    0    0    1    0    0       0       0   \n",
       "2         0    0    0    0    0    0    0    1    0    0       0       0   \n",
       "3         0    0    0    0    0    0    0    1    0    0       0       0   \n",
       "4         0    0    0    0    0    0    0    1    0    0       0       0   \n",
       "...     ...  ...  ...  ...  ...  ...  ...  ...  ...  ...     ...     ...   \n",
       "104354    1    0    0    0    0    0    0    0    0    0       0       0   \n",
       "104355    0    0    0    0    0    0    0    0    0    1       0       0   \n",
       "104356    0    0    0    0    0    0    0    0    0    0       0       0   \n",
       "104357    0    0    0    0    0    0    0    0    0    0       0       0   \n",
       "104358    1    0    0    0    0    0    0    0    0    0       1       0   \n",
       "\n",
       "        ward_3  ward_4  ward_5  ward_6  ward_7  ward_8  DAY  EVENING  \\\n",
       "0            0       0       1       0       0       0    0        0   \n",
       "1            0       0       0       1       0       0    0        0   \n",
       "2            0       0       0       1       0       0    0        0   \n",
       "3            0       0       0       1       0       0    1        0   \n",
       "4            0       0       1       0       0       0    1        0   \n",
       "...        ...     ...     ...     ...     ...     ...  ...      ...   \n",
       "104354       0       0       0       1       0       0    0        1   \n",
       "104355       0       0       1       0       0       0    1        0   \n",
       "104356       0       0       0       0       0       1    1        0   \n",
       "104357       0       0       1       0       0       0    0        1   \n",
       "104358       0       0       0       0       0       0    0        1   \n",
       "\n",
       "        MIDNIGHT  distance_metro  distance_nightclubs  distance_worship  \n",
       "0              1        1.127080             0.674769          0.077614  \n",
       "1              1        0.191281             0.079607          0.049559  \n",
       "2              1        0.083639             0.124886          0.068719  \n",
       "3              0        0.135380             0.296590          0.074763  \n",
       "4              0        0.084503             0.849526          0.047963  \n",
       "...          ...             ...                  ...               ...  \n",
       "104354         0        0.138408             0.513213          0.030329  \n",
       "104355         0        1.039210             0.809993          0.124818  \n",
       "104356         0        0.559830             0.569863          0.005769  \n",
       "104357         0        0.252021             0.904808          0.062211  \n",
       "104358         0        0.140584             0.204775          0.084713  \n",
       "\n",
       "[104359 rows x 36 columns]"
      ]
     },
     "execution_count": 16,
     "metadata": {},
     "output_type": "execute_result"
    }
   ],
   "source": [
    "pre_covid_data"
   ]
  },
  {
   "cell_type": "code",
   "execution_count": 17,
   "id": "380cc2dc",
   "metadata": {},
   "outputs": [],
   "source": [
    "# WARD, DISTRICT, total_cases, daily_cases/deaths, OUT_POSITIVE_QUARANTINE_PSMPD, DAYS (MO-SUN), SHIFT, MONTH => CRIME_CLASS (9)"
   ]
  },
  {
   "cell_type": "code",
   "execution_count": 18,
   "id": "a41ea888",
   "metadata": {},
   "outputs": [],
   "source": [
    "X = pre_covid_data.loc[:, pre_covid_data.columns != 'OFFENSE'].values\n",
    "y = pre_covid_data['OFFENSE'].values\n",
    "\n",
    "X_train, X_test, y_train, y_test = train_test_split(X, y, test_size=0.3, shuffle=True)"
   ]
  },
  {
   "cell_type": "code",
   "execution_count": 19,
   "id": "1528e156",
   "metadata": {},
   "outputs": [
    {
     "name": "stdout",
     "output_type": "stream",
     "text": [
      "X_train.shape (73051, 35)\n",
      "y_train.shape (73051,)\n",
      "\n",
      "X_test.shape (31308, 35)\n",
      "X_test.shape (31308, 35)\n"
     ]
    }
   ],
   "source": [
    "print(\"X_train.shape\", X_train.shape)\n",
    "print(\"y_train.shape\", y_train.shape)\n",
    "print(\"\")\n",
    "print(\"X_test.shape\", X_test.shape)\n",
    "print(\"X_test.shape\", X_test.shape)"
   ]
  },
  {
   "cell_type": "markdown",
   "id": "33186e6a",
   "metadata": {},
   "source": [
    "# Using Standard Scaler on Data:"
   ]
  },
  {
   "cell_type": "code",
   "execution_count": 20,
   "id": "3ad79439",
   "metadata": {},
   "outputs": [
    {
     "name": "stdout",
     "output_type": "stream",
     "text": [
      "[[-0.28403776  0.78937396 -0.41187307 -0.40667568 -0.40507426  2.51595351\n",
      "  -0.41765356 -0.4129183  -0.40594394  2.94413757 -0.31051146 -0.28531378\n",
      "  -0.277438   -0.2936184  -0.29584047 -0.3048334  -0.30536949 -0.30349043\n",
      "  -0.30934411 -0.29534766 -0.29449762 -0.40747536 -0.47742396 -0.2453894\n",
      "  -0.31758777 -0.42670147  2.29317535 -0.36764215 -0.31580856  1.34186651\n",
      "  -0.868871   -0.51985897 -0.03314097 -0.48489009 -0.62104384]\n",
      " [ 0.97613234 -1.50915107 -0.41187307  2.45896191 -0.40507426 -0.39746362\n",
      "  -0.41765356 -0.4129183  -0.40594394 -0.33965804 -0.31051146 -0.28531378\n",
      "  -0.277438   -0.2936184  -0.29584047 -0.3048334  -0.30536949 -0.30349043\n",
      "   3.23264598 -0.29534766 -0.29449762 -0.40747536 -0.47742396  4.07515561\n",
      "  -0.31758777 -0.42670147 -0.43607655 -0.36764215 -0.31580856 -0.74523061\n",
      "   1.15091883 -0.51985897 -0.80818452 -0.01241424  2.31643942]]\n",
      "[[-0.2027171  -1.16905798 -0.41187307  2.45896191 -0.40507426 -0.39746362\n",
      "  -0.41765356 -0.4129183  -0.40594394 -0.33965804 -0.31051146 -0.28531378\n",
      "  -0.277438   -0.2936184  -0.29584047 -0.3048334  -0.30536949  3.29499677\n",
      "  -0.30934411 -0.29534766 -0.29449762 -0.40747536  2.09457439 -0.2453894\n",
      "  -0.31758777 -0.42670147 -0.43607655 -0.36764215 -0.31580856 -0.74523061\n",
      "   1.15091883 -0.51985897 -0.90689184 -0.43697445 -0.06770661]\n",
      " [-2.84819739  0.19502982 -0.41187307 -0.40667568 -0.40507426 -0.39746362\n",
      "   2.39432894 -0.4129183  -0.40594394 -0.33965804 -0.31051146 -0.28531378\n",
      "  -0.277438   -0.2936184  -0.29584047  3.28048047 -0.30536949 -0.30349043\n",
      "  -0.30934411 -0.29534766 -0.29449762 -0.40747536 -0.47742396 -0.2453894\n",
      "  -0.31758777 -0.42670147 -0.43607655 -0.36764215  3.16647533  1.34186651\n",
      "  -0.868871   -0.51985897  1.80090457 -0.07971136  1.26718862]]\n"
     ]
    }
   ],
   "source": [
    "Stand_scaler = StandardScaler() # or MinMaxScaler()\n",
    "Stand_scaler.fit(X_train)\n",
    "\n",
    "X_train_Stand_scaled = Stand_scaler.transform(X_train)\n",
    "X_test_Stand_scaled = Stand_scaler.transform(X_test)\n",
    "\n",
    "print(X_train_Stand_scaled[:2])\n",
    "\n",
    "print(X_test_Stand_scaled[:2])"
   ]
  },
  {
   "cell_type": "markdown",
   "id": "b0ec8d73",
   "metadata": {},
   "source": [
    "# Using MinMax Scaler with range between 0 and 1:"
   ]
  },
  {
   "cell_type": "code",
   "execution_count": 21,
   "id": "899cd561",
   "metadata": {},
   "outputs": [
    {
     "name": "stdout",
     "output_type": "stream",
     "text": [
      "[[0.47796796 0.65523986 0.         0.         0.         1.\n",
      "  0.         0.         0.         1.         0.         0.\n",
      "  0.         0.         0.         0.         0.         0.\n",
      "  0.         0.         0.         0.         0.         0.\n",
      "  0.         0.         1.         0.         0.         1.\n",
      "  0.         0.         0.14704873 0.05694624 0.04454588]\n",
      " [0.68708919 0.24684708 0.         1.         0.         0.\n",
      "  0.         0.         0.         0.         0.         0.\n",
      "  0.         0.         0.         0.         0.         0.\n",
      "  1.         0.         0.         0.         0.         1.\n",
      "  0.         0.         0.         0.         0.         0.\n",
      "  1.         0.         0.05146482 0.1357029  0.27200137]]\n",
      "[[0.49146286 0.30727347 0.         1.         0.         0.\n",
      "  0.         0.         0.         0.         0.         0.\n",
      "  0.         0.         0.         0.         0.         1.\n",
      "  0.         0.         0.         0.         1.         0.\n",
      "  0.         0.         0.         0.         0.         0.\n",
      "  1.         0.         0.03929153 0.06493327 0.08739195]\n",
      " [0.05245379 0.54963916 0.         0.         0.         0.\n",
      "  1.         0.         0.         0.         0.         0.\n",
      "  0.         0.         0.         1.         0.         0.\n",
      "  0.         0.         0.         0.         0.         0.\n",
      "  0.         0.         0.         0.         1.         1.\n",
      "  0.         0.         0.37323632 0.12448519 0.19075568]]\n"
     ]
    }
   ],
   "source": [
    "from sklearn.preprocessing import MinMaxScaler\n",
    "\n",
    "MinMax_scaler = MinMaxScaler(feature_range=(0, 1))\n",
    "\n",
    "MinMax_scaler = MinMax_scaler.fit(X_train)\n",
    "\n",
    "X_train_MinMax_scaled = MinMax_scaler.transform(X_train)\n",
    "X_test_MinMax_scaled = MinMax_scaler.transform(X_test)\n",
    "\n",
    "print(X_train_MinMax_scaled[:2])\n",
    "print(X_test_MinMax_scaled[:2])"
   ]
  },
  {
   "cell_type": "markdown",
   "id": "a0be8e42",
   "metadata": {},
   "source": [
    "# Grid Search for each:"
   ]
  },
  {
   "cell_type": "markdown",
   "id": "58de7368",
   "metadata": {},
   "source": [
    "# SVC (Support Vector Machine)"
   ]
  },
  {
   "cell_type": "code",
   "execution_count": 45,
   "id": "7a73be97",
   "metadata": {},
   "outputs": [
    {
     "name": "stdout",
     "output_type": "stream",
     "text": [
      "Current C=1\n",
      "    * Score is: [8 8 8 ... 8 7 8]\n",
      "    * Accuracy: 48.64 %\n",
      "    * Precision: 14.33 %\n",
      "    * Recall: 13.39 %\n"
     ]
    },
    {
     "name": "stderr",
     "output_type": "stream",
     "text": [
      "C:\\Users\\lrspr\\anaconda3\\envs\\crime_data2\\lib\\site-packages\\sklearn\\metrics\\_classification.py:1308: UndefinedMetricWarning: Precision is ill-defined and being set to 0.0 in labels with no predicted samples. Use `zero_division` parameter to control this behavior.\n",
      "  _warn_prf(average, modifier, msg_start, len(result))\n"
     ]
    },
    {
     "name": "stdout",
     "output_type": "stream",
     "text": [
      "Current C=25\n",
      "    * Score is: [8 7 8 ... 8 7 7]\n",
      "    * Accuracy: 48.17 %\n",
      "    * Precision: 18.84 %\n",
      "    * Recall: 14.92 %\n"
     ]
    },
    {
     "name": "stderr",
     "output_type": "stream",
     "text": [
      "C:\\Users\\lrspr\\anaconda3\\envs\\crime_data2\\lib\\site-packages\\sklearn\\metrics\\_classification.py:1308: UndefinedMetricWarning: Precision is ill-defined and being set to 0.0 in labels with no predicted samples. Use `zero_division` parameter to control this behavior.\n",
      "  _warn_prf(average, modifier, msg_start, len(result))\n"
     ]
    },
    {
     "name": "stdout",
     "output_type": "stream",
     "text": [
      "Current C=50\n",
      "    * Score is: [8 8 8 ... 8 7 7]\n",
      "    * Accuracy: 47.44 %\n",
      "    * Precision: 17.61 %\n",
      "    * Recall: 14.97 %\n"
     ]
    },
    {
     "name": "stderr",
     "output_type": "stream",
     "text": [
      "C:\\Users\\lrspr\\anaconda3\\envs\\crime_data2\\lib\\site-packages\\sklearn\\metrics\\_classification.py:1308: UndefinedMetricWarning: Precision is ill-defined and being set to 0.0 in labels with no predicted samples. Use `zero_division` parameter to control this behavior.\n",
      "  _warn_prf(average, modifier, msg_start, len(result))\n"
     ]
    },
    {
     "name": "stdout",
     "output_type": "stream",
     "text": [
      "Current C=75\n",
      "    * Score is: [8 8 8 ... 8 7 7]\n",
      "    * Accuracy: 47.1 %\n",
      "    * Precision: 18.12 %\n",
      "    * Recall: 15.43 %\n",
      "Current C=95\n",
      "    * Score is: [8 2 8 ... 8 7 7]\n",
      "    * Accuracy: 46.89 %\n",
      "    * Precision: 18.08 %\n",
      "    * Recall: 15.69 %\n"
     ]
    }
   ],
   "source": [
    "for c in [1, 25, 50, 75, 95]:\n",
    "\n",
    "    # with StandardScaler\n",
    "    curr_SVC_cls_w_StandScaler = SVC(C=c, kernel='rbf')\n",
    "\n",
    "    curr_SVC_cls_w_StandScaler.fit(X_train_Stand_scaled, y_train)\n",
    "    curr_y_pred_SVC_grid_with_StandScaler = curr_SVC_cls_w_StandScaler.predict(X_test_Stand_scaled)\n",
    "    y_true = y_test\n",
    "    print(f\"Current C={c}\")\n",
    "    print(\"    * Score is:\", curr_y_pred_SVC_grid_with_StandScaler)\n",
    "    print(\"    * Accuracy:\", round(accuracy_score(y_test, curr_y_pred_SVC_grid_with_StandScaler)*100, 2), \"%\")\n",
    "    print(\"    * Precision:\", round(precision_score(y_test, curr_y_pred_SVC_grid_with_StandScaler,\n",
    "                                        average='macro')*100, 2), \"%\")\n",
    "    print(\"    * Recall:\", round(recall_score(y_test, curr_y_pred_SVC_grid_with_StandScaler,\n",
    "                                  average='macro')*100, 2), \"%\")"
   ]
  },
  {
   "cell_type": "code",
   "execution_count": 43,
   "id": "18f6cbd2",
   "metadata": {},
   "outputs": [],
   "source": [
    "pickle.dump(curr_SVC_cls_w_StandScaler, open(\"SVC_cls_w_StandScaler_PreCOVID_OFFENSE.sav\", 'wb'))"
   ]
  },
  {
   "cell_type": "code",
   "execution_count": 46,
   "id": "dc9b874e",
   "metadata": {},
   "outputs": [
    {
     "name": "stdout",
     "output_type": "stream",
     "text": [
      "Current C=1\n",
      "    * Score is: [8 8 8 ... 8 7 8]\n",
      "    * Accuracy: 47.39 %\n",
      "    * Precision: 12.44 %\n",
      "    * Recall: 13.05 %\n"
     ]
    },
    {
     "name": "stderr",
     "output_type": "stream",
     "text": [
      "C:\\Users\\lrspr\\anaconda3\\envs\\crime_data2\\lib\\site-packages\\sklearn\\metrics\\_classification.py:1308: UndefinedMetricWarning: Precision is ill-defined and being set to 0.0 in labels with no predicted samples. Use `zero_division` parameter to control this behavior.\n",
      "  _warn_prf(average, modifier, msg_start, len(result))\n"
     ]
    },
    {
     "name": "stdout",
     "output_type": "stream",
     "text": [
      "Current C=25\n",
      "    * Score is: [8 7 8 ... 8 7 8]\n",
      "    * Accuracy: 48.09 %\n",
      "    * Precision: 17.98 %\n",
      "    * Recall: 14.06 %\n"
     ]
    },
    {
     "name": "stderr",
     "output_type": "stream",
     "text": [
      "C:\\Users\\lrspr\\anaconda3\\envs\\crime_data2\\lib\\site-packages\\sklearn\\metrics\\_classification.py:1308: UndefinedMetricWarning: Precision is ill-defined and being set to 0.0 in labels with no predicted samples. Use `zero_division` parameter to control this behavior.\n",
      "  _warn_prf(average, modifier, msg_start, len(result))\n"
     ]
    },
    {
     "name": "stdout",
     "output_type": "stream",
     "text": [
      "Current C=50\n",
      "    * Score is: [8 7 8 ... 8 7 7]\n",
      "    * Accuracy: 48.04 %\n",
      "    * Precision: 17.91 %\n",
      "    * Recall: 14.14 %\n"
     ]
    },
    {
     "name": "stderr",
     "output_type": "stream",
     "text": [
      "C:\\Users\\lrspr\\anaconda3\\envs\\crime_data2\\lib\\site-packages\\sklearn\\metrics\\_classification.py:1308: UndefinedMetricWarning: Precision is ill-defined and being set to 0.0 in labels with no predicted samples. Use `zero_division` parameter to control this behavior.\n",
      "  _warn_prf(average, modifier, msg_start, len(result))\n"
     ]
    },
    {
     "name": "stdout",
     "output_type": "stream",
     "text": [
      "Current C=75\n",
      "    * Score is: [8 7 8 ... 8 7 7]\n",
      "    * Accuracy: 48.04 %\n",
      "    * Precision: 18.51 %\n",
      "    * Recall: 14.33 %\n"
     ]
    },
    {
     "name": "stderr",
     "output_type": "stream",
     "text": [
      "C:\\Users\\lrspr\\anaconda3\\envs\\crime_data2\\lib\\site-packages\\sklearn\\metrics\\_classification.py:1308: UndefinedMetricWarning: Precision is ill-defined and being set to 0.0 in labels with no predicted samples. Use `zero_division` parameter to control this behavior.\n",
      "  _warn_prf(average, modifier, msg_start, len(result))\n"
     ]
    },
    {
     "name": "stdout",
     "output_type": "stream",
     "text": [
      "Current C=95\n",
      "    * Score is: [8 7 8 ... 8 7 7]\n",
      "    * Accuracy: 48.04 %\n",
      "    * Precision: 18.59 %\n",
      "    * Recall: 14.41 %\n"
     ]
    },
    {
     "name": "stderr",
     "output_type": "stream",
     "text": [
      "C:\\Users\\lrspr\\anaconda3\\envs\\crime_data2\\lib\\site-packages\\sklearn\\metrics\\_classification.py:1308: UndefinedMetricWarning: Precision is ill-defined and being set to 0.0 in labels with no predicted samples. Use `zero_division` parameter to control this behavior.\n",
      "  _warn_prf(average, modifier, msg_start, len(result))\n"
     ]
    }
   ],
   "source": [
    "for c in [1, 25, 50, 75, 95]:\n",
    "\n",
    "    # with MinMax\n",
    "    curr_SVC_cls_w_MinMax = SVC(C=c, kernel='rbf')\n",
    "\n",
    "    curr_SVC_cls_w_MinMax.fit(X_train_MinMax_scaled, y_train)\n",
    "    curr_y_pred_SVC_grid_with_MinMax = curr_SVC_cls_w_MinMax.predict(X_test_MinMax_scaled)\n",
    "    y_true = y_test\n",
    "    print(f\"Current C={c}\")\n",
    "    print(\"    * Score is:\", curr_y_pred_SVC_grid_with_MinMax)\n",
    "    print(\"    * Accuracy:\", round(accuracy_score(y_test, curr_y_pred_SVC_grid_with_MinMax)*100, 2), \"%\")\n",
    "    print(\"    * Precision:\", round(precision_score(y_test, curr_y_pred_SVC_grid_with_MinMax,\n",
    "                                        average='macro')*100, 2), \"%\")\n",
    "    print(\"    * Recall:\", round(recall_score(y_test, curr_y_pred_SVC_grid_with_MinMax,\n",
    "                                  average='macro')*100, 2), \"%\")"
   ]
  },
  {
   "cell_type": "code",
   "execution_count": 44,
   "id": "1a0b0409",
   "metadata": {},
   "outputs": [],
   "source": [
    "pickle.dump(curr_SVC_cls_w_MinMax, open(\"SVC_cls_w_MinMax_PreCOVID_OFFENSE.sav\", 'wb'))"
   ]
  },
  {
   "cell_type": "markdown",
   "id": "960c3bad",
   "metadata": {},
   "source": [
    "# Neural Network:"
   ]
  },
  {
   "cell_type": "code",
   "execution_count": 24,
   "id": "971b69a1",
   "metadata": {},
   "outputs": [],
   "source": [
    "# X_train_Stand_scaled\n",
    "# X_test_Stand_scaled\n",
    "\n",
    "# X_train_MinMax_scaled\n",
    "# X_test_MinMax_scaled"
   ]
  },
  {
   "cell_type": "code",
   "execution_count": 25,
   "id": "370a58b0",
   "metadata": {},
   "outputs": [
    {
     "data": {
      "text/plain": [
       "(73051, 35)"
      ]
     },
     "execution_count": 25,
     "metadata": {},
     "output_type": "execute_result"
    }
   ],
   "source": [
    "X_train_Stand_scaled.shape"
   ]
  },
  {
   "cell_type": "code",
   "execution_count": 26,
   "id": "deff0d17",
   "metadata": {},
   "outputs": [
    {
     "data": {
      "text/plain": [
       "array([7, 1, 7, ..., 7, 8, 4])"
      ]
     },
     "execution_count": 26,
     "metadata": {},
     "output_type": "execute_result"
    }
   ],
   "source": [
    "y_train"
   ]
  },
  {
   "cell_type": "code",
   "execution_count": 27,
   "id": "7a5281a7",
   "metadata": {},
   "outputs": [
    {
     "data": {
      "text/plain": [
       "35"
      ]
     },
     "execution_count": 27,
     "metadata": {},
     "output_type": "execute_result"
    }
   ],
   "source": [
    "X_train_Stand_scaled[0].shape[0]"
   ]
  },
  {
   "cell_type": "code",
   "execution_count": 28,
   "id": "1b609e2c",
   "metadata": {},
   "outputs": [],
   "source": [
    "class CrimeDataset(Dataset):\n",
    "    \n",
    "    def __init__(self, scaling_type=\"Standard_Scaler\", learning_mode=\"train\"):\n",
    "        # Initialize data        \n",
    "        if scaling_type == \"Standard_Scaler\":\n",
    "            train_numpy_arr = X_train_Stand_scaled\n",
    "            test_numpy_arr = X_test_Stand_scaled\n",
    "        else: # do MinMax\n",
    "            train_numpy_arr = X_train_MinMax_scaled\n",
    "            test_numpy_arr = X_test_MinMax_scaled\n",
    "            \n",
    "        main_data = copy.deepcopy(train_numpy_arr)\n",
    "        x_train_data, x_val_data, y_train_data, y_val_data = train_test_split(train_numpy_arr, y_train, test_size=0.2, random_state=1)\n",
    "        x_test_data, y_test_data = test_numpy_arr, y_test\n",
    "           \n",
    "        if learning_mode == \"test\":\n",
    "            print(\"Retreiving Test Dataset...\")\n",
    "            self.x_data = torch.from_numpy(x_test_data)\n",
    "            self.y_data = torch.from_numpy(y_test_data-1)\n",
    "        elif learning_mode == \"val\":\n",
    "            print(\"Retreiving Validation Dataset...\")\n",
    "            self.x_data = torch.from_numpy(x_val_data)\n",
    "            self.y_data = torch.from_numpy(y_val_data-1)\n",
    "        else:\n",
    "            print(\"Retreiving Train Dataset...\")\n",
    "            self.x_data = torch.from_numpy(x_train_data)\n",
    "            self.y_data = torch.from_numpy(y_train_data-1)\n",
    "            \n",
    "        self.n_samples = self.x_data.shape[0]\n",
    "            \n",
    "    # here the first column is the class label, the rest are the features\n",
    "    def __getitem__(self, index):\n",
    "        return self.x_data[index], self.y_data[index]\n",
    "    \n",
    "    # support indexing such that dataset[i] can be used to get i-th sample\n",
    "    def __len__(self):\n",
    "        print(\"  -n_samples =\", self.n_samples)\n",
    "        return self.n_samples"
   ]
  },
  {
   "cell_type": "code",
   "execution_count": 29,
   "id": "a6e04452",
   "metadata": {},
   "outputs": [],
   "source": [
    "# Multiclass problem\n",
    "class NeuralNet2(nn.Module):\n",
    "    def __init__(self, input_size, hidden_size, num_classes):\n",
    "        super(NeuralNet2, self).__init__()\n",
    "        self.linear1 = nn.Linear(input_size, hidden_size) \n",
    "        self.relu1 = nn.ReLU()\n",
    "        self.linear2 = nn.Linear(hidden_size, hidden_size) \n",
    "        self.relu2 = nn.ReLU()\n",
    "        self.linear3 = nn.Linear(hidden_size, hidden_size) \n",
    "        #self.relu3 = nn.ReLU()\n",
    "        self.linear4 = nn.Linear(hidden_size, hidden_size) \n",
    "        self.relu4 = nn.ReLU()\n",
    "        self.linear5 = nn.Linear(hidden_size, hidden_size) \n",
    "        #self.relu5 = nn.ReLU()\n",
    "        self.linear6 = nn.Linear(hidden_size, hidden_size) \n",
    "        self.relu6 = nn.ReLU()\n",
    "        self.linear7 = nn.Linear(hidden_size, hidden_size) \n",
    "        self.relu7 = nn.ReLU()\n",
    "        self.linear8 = nn.Linear(hidden_size, num_classes)  \n",
    "    \n",
    "    def forward(self, x):\n",
    "        out = self.linear1(x)\n",
    "        out = self.relu1(out)\n",
    "        out = self.linear2(out)\n",
    "        out = self.relu2(out)\n",
    "        out = self.linear3(out)\n",
    "        #out = self.relu3(out)\n",
    "        #out = self.linear4(out)\n",
    "        #out = self.relu4(out)\n",
    "        #out = self.linear5(out)\n",
    "        #out = self.relu5(out)\n",
    "        #out = self.linear6(out)\n",
    "        #out = self.relu6(out)\n",
    "        #out = self.linear7(out)\n",
    "        #out = self.relu7(out)\n",
    "        #out = self.linear8(out)\n",
    "        # no softmax at the end\n",
    "        return out"
   ]
  },
  {
   "cell_type": "code",
   "execution_count": 30,
   "id": "706fbc78",
   "metadata": {},
   "outputs": [],
   "source": [
    "class EarlyStopping():\n",
    "    \"\"\"\n",
    "    Early stopping to stop the training when the loss does not improve after\n",
    "    certain epochs.\n",
    "    \"\"\"\n",
    "    def __init__(self, patience=5, min_delta=0):\n",
    "        \"\"\"\n",
    "        :param patience: how many epochs to wait before stopping when loss is\n",
    "               not improving\n",
    "        :param min_delta: minimum difference between new loss and old loss for\n",
    "               new loss to be considered as an improvement\n",
    "        \"\"\"\n",
    "        self.patience = patience\n",
    "        self.min_delta = min_delta\n",
    "        self.counter = 0\n",
    "        self.best_loss = None\n",
    "        self.early_stop = False\n",
    "    def __call__(self, val_loss):\n",
    "        if self.best_loss == None:\n",
    "            self.best_loss = val_loss\n",
    "        elif self.best_loss - val_loss > self.min_delta:\n",
    "            self.best_loss = val_loss\n",
    "            # reset counter if validation loss improves\n",
    "            self.counter = 0\n",
    "        elif self.best_loss - val_loss < self.min_delta:\n",
    "            self.counter += 1\n",
    "            print(f\"INFO: Early stopping counter {self.counter} of {self.patience}\")\n",
    "            if self.counter >= self.patience:\n",
    "                print('INFO: Early stopping')\n",
    "                self.early_stop = True"
   ]
  },
  {
   "cell_type": "code",
   "execution_count": 31,
   "id": "61cf305d",
   "metadata": {},
   "outputs": [],
   "source": [
    "# training function\n",
    "softmax = nn.Softmax(dim=1)\n",
    "\n",
    "def fit(model, train_dataloader, train_dataset, optimizer, criterion):\n",
    "    print('Training')\n",
    "    model.train()\n",
    "    train_running_loss = 0.0\n",
    "    train_running_correct = 0\n",
    "    counter = 0\n",
    "    total = 0\n",
    "    prog_bar = tqdm(enumerate(train_dataloader), total=int(len(train_dataset)/train_dataloader.batch_size))\n",
    "    for i, data in prog_bar:\n",
    "        counter += 1\n",
    "        data, target = data[0], data[1]\n",
    "        total += target.size(0)\n",
    "        optimizer.zero_grad()\n",
    "        outputs = model(data.float())\n",
    "        #output_labels = []\n",
    "        #for t in outputs:\n",
    "        #    __, class_pred = torch.max(t, dim=0)\n",
    "        #    output_labels.append(class_pred.item())\n",
    "        #output_labels = torch.tensor(np.array(output_labels))\n",
    "        output_probas = softmax(outputs)\n",
    "        target = target.type(torch.LongTensor)\n",
    "        loss = criterion(output_probas, target) #.long())\n",
    "        train_running_loss += loss.item()\n",
    "        _, preds = torch.max(outputs.data, 1)\n",
    "        train_running_correct += (preds == target).sum().item()\n",
    "        loss.backward()\n",
    "        optimizer.step()\n",
    "        \n",
    "    train_loss = train_running_loss / counter\n",
    "    train_accuracy = 100. * train_running_correct / total\n",
    "    return train_loss, train_accuracy"
   ]
  },
  {
   "cell_type": "code",
   "execution_count": 32,
   "id": "e1f14fc4",
   "metadata": {},
   "outputs": [],
   "source": [
    "# validation function\n",
    "def validate(model, test_dataloader, val_dataset, criterion):\n",
    "    print('Validating')\n",
    "    model.eval()\n",
    "    val_running_loss = 0.0\n",
    "    val_running_correct = 0\n",
    "    counter = 0\n",
    "    total = 0\n",
    "    prog_bar = tqdm(enumerate(test_dataloader), total=int(len(val_dataset)/test_dataloader.batch_size))\n",
    "    with torch.no_grad():\n",
    "        for i, data in prog_bar:\n",
    "            counter += 1\n",
    "            data, target = data[0], data[1]\n",
    "            total += target.size(0)\n",
    "            outputs = model(data.float())\n",
    "            loss = criterion(outputs, target.type(torch.LongTensor))\n",
    "            \n",
    "            val_running_loss += loss.item()\n",
    "            _, preds = torch.max(outputs.data, 1)\n",
    "            val_running_correct += (preds == target).sum().item()\n",
    "        \n",
    "        val_loss = val_running_loss / counter\n",
    "        val_accuracy = 100. * val_running_correct / total\n",
    "        return val_loss, val_accuracy"
   ]
  },
  {
   "cell_type": "code",
   "execution_count": 33,
   "id": "3639ba47",
   "metadata": {},
   "outputs": [],
   "source": [
    "# X_train_Stand_scaled\n",
    "# X_test_Stand_scaled\n",
    "\n",
    "# X_train_MinMax_scaled\n",
    "# X_test_MinMax_scaled"
   ]
  },
  {
   "cell_type": "code",
   "execution_count": 34,
   "id": "f597259e",
   "metadata": {},
   "outputs": [
    {
     "data": {
      "text/plain": [
       "numpy.ndarray"
      ]
     },
     "execution_count": 34,
     "metadata": {},
     "output_type": "execute_result"
    }
   ],
   "source": [
    "type(X_train_MinMax_scaled)"
   ]
  },
  {
   "cell_type": "code",
   "execution_count": 35,
   "id": "10b3eec4",
   "metadata": {},
   "outputs": [
    {
     "data": {
      "text/plain": [
       "numpy.ndarray"
      ]
     },
     "execution_count": 35,
     "metadata": {},
     "output_type": "execute_result"
    }
   ],
   "source": [
    "type(y_train)"
   ]
  },
  {
   "cell_type": "code",
   "execution_count": 36,
   "id": "a8bd2a4e",
   "metadata": {},
   "outputs": [
    {
     "name": "stdout",
     "output_type": "stream",
     "text": [
      "Retreiving Train Dataset...\n",
      "  -n_samples = 58440\n",
      "  -n_samples = 58440\n",
      "Retreiving Validation Dataset...\n",
      "Retreiving Test Dataset...\n"
     ]
    }
   ],
   "source": [
    "# traning and validation datasets and dataloaders\n",
    "train_dataset = CrimeDataset(learning_mode=\"train\")\n",
    "\n",
    "train_dataloader = torch.utils.data.DataLoader(\n",
    "    train_dataset, batch_size=32, shuffle=True,\n",
    ")\n",
    "\n",
    "\n",
    "val_dataset = CrimeDataset(learning_mode=\"val\")\n",
    "\n",
    "val_dataloader = torch.utils.data.DataLoader(\n",
    "    val_dataset, batch_size=32, shuffle=False,\n",
    ")\n",
    "\n",
    "\n",
    "test_dataset = CrimeDataset(learning_mode=\"test\")\n",
    "\n",
    "val_dataloader = torch.utils.data.DataLoader(\n",
    "    val_dataset, batch_size=32, shuffle=False,\n",
    ")"
   ]
  },
  {
   "cell_type": "code",
   "execution_count": 40,
   "id": "ddf5dc88",
   "metadata": {},
   "outputs": [
    {
     "name": "stdout",
     "output_type": "stream",
     "text": [
      "Epoch 1 of 100\n",
      "Training\n",
      "  -n_samples = 58440\n"
     ]
    },
    {
     "name": "stderr",
     "output_type": "stream",
     "text": [
      "  5%|████▏                                                                          | 98/1826 [00:00<00:01, 970.31it/s]"
     ]
    },
    {
     "name": "stdout",
     "output_type": "stream",
     "text": [
      "  -n_samples = 58440\n"
     ]
    },
    {
     "name": "stderr",
     "output_type": "stream",
     "text": [
      " 11%|████████▉                                                                     | 209/1826 [00:00<00:01, 995.23it/s]\n"
     ]
    },
    {
     "ename": "IndexError",
     "evalue": "Target -1 is out of bounds.",
     "output_type": "error",
     "traceback": [
      "\u001b[1;31m---------------------------------------------------------------------------\u001b[0m",
      "\u001b[1;31mIndexError\u001b[0m                                Traceback (most recent call last)",
      "\u001b[1;32m~\\AppData\\Local\\Temp/ipykernel_12396/657554717.py\u001b[0m in \u001b[0;36m<module>\u001b[1;34m\u001b[0m\n\u001b[0;32m     16\u001b[0m \u001b[1;32mfor\u001b[0m \u001b[0mepoch\u001b[0m \u001b[1;32min\u001b[0m \u001b[0mrange\u001b[0m\u001b[1;33m(\u001b[0m\u001b[0mepochs\u001b[0m\u001b[1;33m)\u001b[0m\u001b[1;33m:\u001b[0m\u001b[1;33m\u001b[0m\u001b[1;33m\u001b[0m\u001b[0m\n\u001b[0;32m     17\u001b[0m     \u001b[0mprint\u001b[0m\u001b[1;33m(\u001b[0m\u001b[1;34mf\"Epoch {epoch+1} of {epochs}\"\u001b[0m\u001b[1;33m)\u001b[0m\u001b[1;33m\u001b[0m\u001b[1;33m\u001b[0m\u001b[0m\n\u001b[1;32m---> 18\u001b[1;33m     train_epoch_loss, train_epoch_accuracy = fit(\n\u001b[0m\u001b[0;32m     19\u001b[0m         \u001b[0mmodel\u001b[0m\u001b[1;33m,\u001b[0m \u001b[0mtrain_dataloader\u001b[0m\u001b[1;33m,\u001b[0m \u001b[0mtrain_dataset\u001b[0m\u001b[1;33m,\u001b[0m \u001b[0moptimizer\u001b[0m\u001b[1;33m,\u001b[0m \u001b[0mcriterion\u001b[0m\u001b[1;33m\u001b[0m\u001b[1;33m\u001b[0m\u001b[0m\n\u001b[0;32m     20\u001b[0m     )\n",
      "\u001b[1;32m~\\AppData\\Local\\Temp/ipykernel_12396/2734414548.py\u001b[0m in \u001b[0;36mfit\u001b[1;34m(model, train_dataloader, train_dataset, optimizer, criterion)\u001b[0m\n\u001b[0;32m     23\u001b[0m         \u001b[0moutput_probas\u001b[0m \u001b[1;33m=\u001b[0m \u001b[0msoftmax\u001b[0m\u001b[1;33m(\u001b[0m\u001b[0moutputs\u001b[0m\u001b[1;33m)\u001b[0m\u001b[1;33m\u001b[0m\u001b[1;33m\u001b[0m\u001b[0m\n\u001b[0;32m     24\u001b[0m         \u001b[0mtarget\u001b[0m \u001b[1;33m=\u001b[0m \u001b[0mtarget\u001b[0m\u001b[1;33m.\u001b[0m\u001b[0mtype\u001b[0m\u001b[1;33m(\u001b[0m\u001b[0mtorch\u001b[0m\u001b[1;33m.\u001b[0m\u001b[0mLongTensor\u001b[0m\u001b[1;33m)\u001b[0m\u001b[1;33m\u001b[0m\u001b[1;33m\u001b[0m\u001b[0m\n\u001b[1;32m---> 25\u001b[1;33m         \u001b[0mloss\u001b[0m \u001b[1;33m=\u001b[0m \u001b[0mcriterion\u001b[0m\u001b[1;33m(\u001b[0m\u001b[0moutput_probas\u001b[0m\u001b[1;33m,\u001b[0m \u001b[0mtarget\u001b[0m\u001b[1;33m)\u001b[0m \u001b[1;31m#.long())\u001b[0m\u001b[1;33m\u001b[0m\u001b[1;33m\u001b[0m\u001b[0m\n\u001b[0m\u001b[0;32m     26\u001b[0m         \u001b[0mtrain_running_loss\u001b[0m \u001b[1;33m+=\u001b[0m \u001b[0mloss\u001b[0m\u001b[1;33m.\u001b[0m\u001b[0mitem\u001b[0m\u001b[1;33m(\u001b[0m\u001b[1;33m)\u001b[0m\u001b[1;33m\u001b[0m\u001b[1;33m\u001b[0m\u001b[0m\n\u001b[0;32m     27\u001b[0m         \u001b[0m_\u001b[0m\u001b[1;33m,\u001b[0m \u001b[0mpreds\u001b[0m \u001b[1;33m=\u001b[0m \u001b[0mtorch\u001b[0m\u001b[1;33m.\u001b[0m\u001b[0mmax\u001b[0m\u001b[1;33m(\u001b[0m\u001b[0moutputs\u001b[0m\u001b[1;33m.\u001b[0m\u001b[0mdata\u001b[0m\u001b[1;33m,\u001b[0m \u001b[1;36m1\u001b[0m\u001b[1;33m)\u001b[0m\u001b[1;33m\u001b[0m\u001b[1;33m\u001b[0m\u001b[0m\n",
      "\u001b[1;32m~\\anaconda3\\envs\\crime_data2\\lib\\site-packages\\torch\\nn\\modules\\module.py\u001b[0m in \u001b[0;36m_call_impl\u001b[1;34m(self, *input, **kwargs)\u001b[0m\n\u001b[0;32m   1100\u001b[0m         if not (self._backward_hooks or self._forward_hooks or self._forward_pre_hooks or _global_backward_hooks\n\u001b[0;32m   1101\u001b[0m                 or _global_forward_hooks or _global_forward_pre_hooks):\n\u001b[1;32m-> 1102\u001b[1;33m             \u001b[1;32mreturn\u001b[0m \u001b[0mforward_call\u001b[0m\u001b[1;33m(\u001b[0m\u001b[1;33m*\u001b[0m\u001b[0minput\u001b[0m\u001b[1;33m,\u001b[0m \u001b[1;33m**\u001b[0m\u001b[0mkwargs\u001b[0m\u001b[1;33m)\u001b[0m\u001b[1;33m\u001b[0m\u001b[1;33m\u001b[0m\u001b[0m\n\u001b[0m\u001b[0;32m   1103\u001b[0m         \u001b[1;31m# Do not call functions when jit is used\u001b[0m\u001b[1;33m\u001b[0m\u001b[1;33m\u001b[0m\u001b[1;33m\u001b[0m\u001b[0m\n\u001b[0;32m   1104\u001b[0m         \u001b[0mfull_backward_hooks\u001b[0m\u001b[1;33m,\u001b[0m \u001b[0mnon_full_backward_hooks\u001b[0m \u001b[1;33m=\u001b[0m \u001b[1;33m[\u001b[0m\u001b[1;33m]\u001b[0m\u001b[1;33m,\u001b[0m \u001b[1;33m[\u001b[0m\u001b[1;33m]\u001b[0m\u001b[1;33m\u001b[0m\u001b[1;33m\u001b[0m\u001b[0m\n",
      "\u001b[1;32m~\\anaconda3\\envs\\crime_data2\\lib\\site-packages\\torch\\nn\\modules\\loss.py\u001b[0m in \u001b[0;36mforward\u001b[1;34m(self, input, target)\u001b[0m\n\u001b[0;32m   1148\u001b[0m \u001b[1;33m\u001b[0m\u001b[0m\n\u001b[0;32m   1149\u001b[0m     \u001b[1;32mdef\u001b[0m \u001b[0mforward\u001b[0m\u001b[1;33m(\u001b[0m\u001b[0mself\u001b[0m\u001b[1;33m,\u001b[0m \u001b[0minput\u001b[0m\u001b[1;33m:\u001b[0m \u001b[0mTensor\u001b[0m\u001b[1;33m,\u001b[0m \u001b[0mtarget\u001b[0m\u001b[1;33m:\u001b[0m \u001b[0mTensor\u001b[0m\u001b[1;33m)\u001b[0m \u001b[1;33m->\u001b[0m \u001b[0mTensor\u001b[0m\u001b[1;33m:\u001b[0m\u001b[1;33m\u001b[0m\u001b[1;33m\u001b[0m\u001b[0m\n\u001b[1;32m-> 1150\u001b[1;33m         return F.cross_entropy(input, target, weight=self.weight,\n\u001b[0m\u001b[0;32m   1151\u001b[0m                                \u001b[0mignore_index\u001b[0m\u001b[1;33m=\u001b[0m\u001b[0mself\u001b[0m\u001b[1;33m.\u001b[0m\u001b[0mignore_index\u001b[0m\u001b[1;33m,\u001b[0m \u001b[0mreduction\u001b[0m\u001b[1;33m=\u001b[0m\u001b[0mself\u001b[0m\u001b[1;33m.\u001b[0m\u001b[0mreduction\u001b[0m\u001b[1;33m,\u001b[0m\u001b[1;33m\u001b[0m\u001b[1;33m\u001b[0m\u001b[0m\n\u001b[0;32m   1152\u001b[0m                                label_smoothing=self.label_smoothing)\n",
      "\u001b[1;32m~\\anaconda3\\envs\\crime_data2\\lib\\site-packages\\torch\\nn\\functional.py\u001b[0m in \u001b[0;36mcross_entropy\u001b[1;34m(input, target, weight, size_average, ignore_index, reduce, reduction, label_smoothing)\u001b[0m\n\u001b[0;32m   2844\u001b[0m     \u001b[1;32mif\u001b[0m \u001b[0msize_average\u001b[0m \u001b[1;32mis\u001b[0m \u001b[1;32mnot\u001b[0m \u001b[1;32mNone\u001b[0m \u001b[1;32mor\u001b[0m \u001b[0mreduce\u001b[0m \u001b[1;32mis\u001b[0m \u001b[1;32mnot\u001b[0m \u001b[1;32mNone\u001b[0m\u001b[1;33m:\u001b[0m\u001b[1;33m\u001b[0m\u001b[1;33m\u001b[0m\u001b[0m\n\u001b[0;32m   2845\u001b[0m         \u001b[0mreduction\u001b[0m \u001b[1;33m=\u001b[0m \u001b[0m_Reduction\u001b[0m\u001b[1;33m.\u001b[0m\u001b[0mlegacy_get_string\u001b[0m\u001b[1;33m(\u001b[0m\u001b[0msize_average\u001b[0m\u001b[1;33m,\u001b[0m \u001b[0mreduce\u001b[0m\u001b[1;33m)\u001b[0m\u001b[1;33m\u001b[0m\u001b[1;33m\u001b[0m\u001b[0m\n\u001b[1;32m-> 2846\u001b[1;33m     \u001b[1;32mreturn\u001b[0m \u001b[0mtorch\u001b[0m\u001b[1;33m.\u001b[0m\u001b[0m_C\u001b[0m\u001b[1;33m.\u001b[0m\u001b[0m_nn\u001b[0m\u001b[1;33m.\u001b[0m\u001b[0mcross_entropy_loss\u001b[0m\u001b[1;33m(\u001b[0m\u001b[0minput\u001b[0m\u001b[1;33m,\u001b[0m \u001b[0mtarget\u001b[0m\u001b[1;33m,\u001b[0m \u001b[0mweight\u001b[0m\u001b[1;33m,\u001b[0m \u001b[0m_Reduction\u001b[0m\u001b[1;33m.\u001b[0m\u001b[0mget_enum\u001b[0m\u001b[1;33m(\u001b[0m\u001b[0mreduction\u001b[0m\u001b[1;33m)\u001b[0m\u001b[1;33m,\u001b[0m \u001b[0mignore_index\u001b[0m\u001b[1;33m,\u001b[0m \u001b[0mlabel_smoothing\u001b[0m\u001b[1;33m)\u001b[0m\u001b[1;33m\u001b[0m\u001b[1;33m\u001b[0m\u001b[0m\n\u001b[0m\u001b[0;32m   2847\u001b[0m \u001b[1;33m\u001b[0m\u001b[0m\n\u001b[0;32m   2848\u001b[0m \u001b[1;33m\u001b[0m\u001b[0m\n",
      "\u001b[1;31mIndexError\u001b[0m: Target -1 is out of bounds."
     ]
    }
   ],
   "source": [
    "epochs = 100\n",
    "lr = 0.001\n",
    "perform_early_stopping = True\n",
    "early_stopping = EarlyStopping()\n",
    "hidden_size_ = 16\n",
    "num_classes_ = len(set(y_train))\n",
    "\n",
    "model = NeuralNet2(input_size=X_train_Stand_scaled[0].shape[0], hidden_size=hidden_size_, num_classes=num_classes_)\n",
    "criterion = nn.CrossEntropyLoss()  # (applies Softmax)\n",
    "optimizer = optim.Adam(model.parameters(), lr=lr)\n",
    "\n",
    "# lists to store per-epoch loss and accuracy values\n",
    "train_loss, train_accuracy = [], []\n",
    "val_loss, val_accuracy = [], []\n",
    "start = time.time()\n",
    "for epoch in range(epochs):\n",
    "    print(f\"Epoch {epoch+1} of {epochs}\")\n",
    "    train_epoch_loss, train_epoch_accuracy = fit(\n",
    "        model, train_dataloader, train_dataset, optimizer, criterion\n",
    "    )\n",
    "    val_epoch_loss, val_epoch_accuracy = validate(\n",
    "        model, val_dataloader, val_dataset, criterion\n",
    "    )\n",
    "    train_loss.append(train_epoch_loss)\n",
    "    train_accuracy.append(train_epoch_accuracy)\n",
    "    val_loss.append(val_epoch_loss)\n",
    "    val_accuracy.append(val_epoch_accuracy)\n",
    "    if perform_early_stopping:\n",
    "        early_stopping(val_epoch_loss)\n",
    "        if early_stopping.early_stop:\n",
    "            break\n",
    "    print(f\"Train Loss: {train_epoch_loss:.4f}, Train Acc: {train_epoch_accuracy:.2f}\")\n",
    "    print(f'Val Loss: {val_epoch_loss:.4f}, Val Acc: {val_epoch_accuracy:.2f}')\n",
    "end = time.time()\n",
    "print(f\"Training time: {(end-start)/60:.3f} minutes\")"
   ]
  },
  {
   "cell_type": "code",
   "execution_count": null,
   "id": "b7263437",
   "metadata": {},
   "outputs": [],
   "source": [
    "y_train"
   ]
  },
  {
   "cell_type": "code",
   "execution_count": null,
   "id": "b9bb30b5",
   "metadata": {},
   "outputs": [],
   "source": [
    "plt.hist(y_train, align='mid', range=(np.min(y_train), np.max(y_train)), bins=50)\n",
    "plt.xlabel(\"labels\")\n",
    "plt.ylabel(\"image counts\")\n",
    "plt.show()"
   ]
  },
  {
   "cell_type": "markdown",
   "id": "aa2834e5",
   "metadata": {},
   "source": [
    "# KNN Classifier"
   ]
  },
  {
   "cell_type": "code",
   "execution_count": null,
   "id": "945b7d14",
   "metadata": {},
   "outputs": [],
   "source": [
    "# X_train_Stand_scaled\n",
    "# X_test_Stand_scaled\n",
    "\n",
    "# X_train_MinMax_scaled\n",
    "# X_test_MinMax_scaled"
   ]
  },
  {
   "cell_type": "markdown",
   "id": "1d56819b",
   "metadata": {},
   "source": [
    "### K Search:"
   ]
  },
  {
   "cell_type": "code",
   "execution_count": 47,
   "id": "24b75898",
   "metadata": {},
   "outputs": [
    {
     "data": {
      "image/png": "[encoded data removed]",
      "text/plain": [
       "<Figure size 432x288 with 1 Axes>"
      ]
     },
     "metadata": {
      "needs_background": "light"
     },
     "output_type": "display_data"
    }
   ],
   "source": [
    "# Elbow using Standard Scaler\n",
    "Sum_of_squared_distances = []\n",
    "K = range(1,50)\n",
    "for k in K:\n",
    "    km = KMeans(n_clusters=k)\n",
    "    km = km.fit(X_train_Stand_scaled)\n",
    "    Sum_of_squared_distances.append(km.inertia_)\n",
    "    \n",
    "plt.plot(K, Sum_of_squared_distances, 'bx-')\n",
    "plt.xlabel('k')\n",
    "plt.ylabel('Sum_of_squared_distances')\n",
    "plt.title('Elbow Method For Optimal k')\n",
    "plt.show()"
   ]
  },
  {
   "cell_type": "code",
   "execution_count": 48,
   "id": "e73b3b01",
   "metadata": {},
   "outputs": [
    {
     "data": {
      "image/png": "[encoded data removed]",
      "text/plain": [
       "<Figure size 432x288 with 1 Axes>"
      ]
     },
     "metadata": {
      "needs_background": "light"
     },
     "output_type": "display_data"
    }
   ],
   "source": [
    "# Elbow using MinMax Scaler\n",
    "Sum_of_squared_distances = []\n",
    "K = range(1,50)\n",
    "for k in K:\n",
    "    km = KMeans(n_clusters=k)\n",
    "    km = km.fit(X_train_MinMax_scaled)\n",
    "    Sum_of_squared_distances.append(km.inertia_)\n",
    "    \n",
    "plt.plot(K, Sum_of_squared_distances, 'bx-')\n",
    "plt.xlabel('k')\n",
    "plt.ylabel('Sum_of_squared_distances')\n",
    "plt.title('Elbow Method For Optimal k')\n",
    "plt.show()"
   ]
  },
  {
   "cell_type": "code",
   "execution_count": 49,
   "id": "0533b6d2",
   "metadata": {},
   "outputs": [],
   "source": [
    "# X_train_Stand_scaled\n",
    "# X_test_Stand_scaled\n",
    "\n",
    "# X_train_MinMax_scaled\n",
    "# X_test_MinMax_scaled"
   ]
  },
  {
   "cell_type": "code",
   "execution_count": 50,
   "id": "a6e1f0f9",
   "metadata": {},
   "outputs": [
    {
     "data": {
      "text/plain": [
       "Text(0, 0.5, 'Silhouette Score')"
      ]
     },
     "execution_count": 50,
     "metadata": {},
     "output_type": "execute_result"
    },
    {
     "data": {
      "text/plain": [
       "<Figure size 432x288 with 0 Axes>"
      ]
     },
     "metadata": {},
     "output_type": "display_data"
    },
    {
     "data": {
      "image/png": "[encoded data removed]",
      "text/plain": [
       "<Figure size 1080x288 with 1 Axes>"
      ]
     },
     "metadata": {
      "needs_background": "light"
     },
     "output_type": "display_data"
    }
   ],
   "source": [
    "# Silhouette using Standard Scaler\n",
    "\n",
    "import matplotlib.pyplot as plt\n",
    "%matplotlib inline\n",
    "X=X_train_Stand_scaled\n",
    "# Variables to store silhouette score and inertia for different clusters\n",
    "scores = []\n",
    "from sklearn.metrics import silhouette_score\n",
    "# Calculate silhouette scores and inertia for different number of clusters\n",
    "for cluster_number in range(2,18):\n",
    "  km = KMeans(n_clusters=k)\n",
    "  km = KMeans(n_clusters=cluster_number, random_state=42).fit(X)\n",
    "  scores.append(silhouette_score(X,km.labels_))\n",
    "#plot the results\n",
    "plt.clf()\n",
    "plt.figure(figsize=(15,4))\n",
    "#plot Silhouette Score\n",
    "plt.subplot(121)\n",
    "plt.plot(range(2,18), scores, 'bo-')\n",
    "plt.plot(2, scores[0], 'ro-')\n",
    "plt.plot(3, scores[1], 'yo-')\n",
    "plt.title('Silhouette Method For Optimal k')\n",
    "plt.xlabel('Number of Clusters')\n",
    "plt.ylabel('Silhouette Score')"
   ]
  },
  {
   "cell_type": "code",
   "execution_count": 51,
   "id": "f8ae6289",
   "metadata": {},
   "outputs": [
    {
     "data": {
      "text/plain": [
       "Text(0, 0.5, 'Silhouette Score')"
      ]
     },
     "execution_count": 51,
     "metadata": {},
     "output_type": "execute_result"
    },
    {
     "data": {
      "text/plain": [
       "<Figure size 432x288 with 0 Axes>"
      ]
     },
     "metadata": {},
     "output_type": "display_data"
    },
    {
     "data": {
      "image/png": "[encoded data removed]",
      "text/plain": [
       "<Figure size 1080x288 with 1 Axes>"
      ]
     },
     "metadata": {
      "needs_background": "light"
     },
     "output_type": "display_data"
    }
   ],
   "source": [
    "# Silhouette using MinMax Scaler\n",
    "import matplotlib.pyplot as plt\n",
    "%matplotlib inline\n",
    "X=X_train_MinMax_scaled\n",
    "# Variables to store silhouette score and inertia for different clusters\n",
    "scores = []\n",
    "from sklearn.metrics import silhouette_score\n",
    "# Calculate silhouette scores and inertia for different number of clusters\n",
    "for cluster_number in range(2,18):\n",
    "  km = KMeans(n_clusters=k)\n",
    "  km = KMeans(n_clusters=cluster_number, random_state=42).fit(X)\n",
    "  scores.append(silhouette_score(X,km.labels_))\n",
    "#plot the results\n",
    "plt.clf()\n",
    "plt.figure(figsize=(15,4))\n",
    "#plot Silhouette Score\n",
    "plt.subplot(121)\n",
    "plt.plot(range(2,18), scores, 'bo-')\n",
    "plt.plot(2, scores[0], 'ro-')\n",
    "plt.plot(3, scores[1], 'yo-')\n",
    "plt.title('Silhouette Method For Optimal k')\n",
    "plt.xlabel('Number of Clusters')\n",
    "plt.ylabel('Silhouette Score')"
   ]
  },
  {
   "cell_type": "markdown",
   "id": "61b9f83e",
   "metadata": {},
   "source": [
    "### KNN Model:"
   ]
  },
  {
   "cell_type": "code",
   "execution_count": 52,
   "id": "2fac160e",
   "metadata": {},
   "outputs": [],
   "source": [
    "# X_train_Stand_scaled\n",
    "# X_test_Stand_scaled\n",
    "\n",
    "# X_train_MinMax_scaled\n",
    "# X_test_MinMax_scaled"
   ]
  },
  {
   "cell_type": "code",
   "execution_count": 53,
   "id": "415134fe",
   "metadata": {},
   "outputs": [],
   "source": [
    "# import sklearn\n",
    "# sklearn.metrics.SCORERS.keys()"
   ]
  },
  {
   "cell_type": "code",
   "execution_count": 54,
   "id": "27c87da0",
   "metadata": {},
   "outputs": [
    {
     "name": "stdout",
     "output_type": "stream",
     "text": [
      "KNN result (using Standard Scaler):\n"
     ]
    },
    {
     "name": "stderr",
     "output_type": "stream",
     "text": [
      "C:\\Users\\lrspr\\anaconda3\\envs\\crime_data2\\lib\\site-packages\\sklearn\\model_selection\\_split.py:676: UserWarning: The least populated class in y has only 4 members, which is less than n_splits=5.\n",
      "  warnings.warn(\n"
     ]
    },
    {
     "name": "stdout",
     "output_type": "stream",
     "text": [
      "Score (F1-Score): [0.43053338 0.43771958 0.43213031 0.44497684 0.43539371]\n",
      "    * Accuracy: 44.98 %\n",
      "    * Precision: 16.56 %\n",
      "    * Recall: 14.09 %\n"
     ]
    },
    {
     "name": "stderr",
     "output_type": "stream",
     "text": [
      "C:\\Users\\lrspr\\anaconda3\\envs\\crime_data2\\lib\\site-packages\\sklearn\\metrics\\_classification.py:1308: UndefinedMetricWarning: Precision is ill-defined and being set to 0.0 in labels with no predicted samples. Use `zero_division` parameter to control this behavior.\n",
      "  _warn_prf(average, modifier, msg_start, len(result))\n"
     ]
    }
   ],
   "source": [
    "# Data with Standard Scaler HERE CONTINUE\n",
    "kn_Stand_Scaler = KNeighborsClassifier(n_neighbors=15)\n",
    "kn_Stand_Scaler.fit(X_train_Stand_scaled, y_train)\n",
    "\n",
    "y_pred_KNN_with_StandScaler = kn_Stand_Scaler.predict(X_test_Stand_scaled)\n",
    "y_true = y_test\n",
    "\n",
    "print(\"KNN result (using Standard Scaler):\")\n",
    "#print(\"    * Score is:\", score(y_pred_KNN_grid_with_StandScaler, y_test)\n",
    "print(\"Score (F1-Score):\", cross_val_score(kn_Stand_Scaler, X_test_Stand_scaled, y_test, cv=5, scoring='accuracy'))\n",
    "print(\"    * Accuracy:\", round(accuracy_score(y_test, y_pred_KNN_with_StandScaler)*100, 2), \"%\")\n",
    "print(\"    * Precision:\", round(precision_score(y_test, y_pred_KNN_with_StandScaler,\n",
    "                                    average='macro')*100, 2), \"%\")\n",
    "print(\"    * Recall:\", round(recall_score(y_test, y_pred_KNN_with_StandScaler,\n",
    "                              average='macro')*100, 2), \"%\")"
   ]
  },
  {
   "cell_type": "code",
   "execution_count": 55,
   "id": "4999faf0",
   "metadata": {},
   "outputs": [
    {
     "name": "stdout",
     "output_type": "stream",
     "text": [
      "KNN result (using MinMax Scaler):\n"
     ]
    },
    {
     "name": "stderr",
     "output_type": "stream",
     "text": [
      "C:\\Users\\lrspr\\anaconda3\\envs\\crime_data2\\lib\\site-packages\\sklearn\\model_selection\\_split.py:676: UserWarning: The least populated class in y has only 4 members, which is less than n_splits=5.\n",
      "  warnings.warn(\n"
     ]
    },
    {
     "name": "stdout",
     "output_type": "stream",
     "text": [
      "Score: [0.44793996 0.45432769 0.44841904 0.46861524 0.45024756]\n",
      "    * Accuracy: 45.18 %\n",
      "    * Precision: 16.18 %\n",
      "    * Recall: 14.12 %\n"
     ]
    },
    {
     "name": "stderr",
     "output_type": "stream",
     "text": [
      "C:\\Users\\lrspr\\anaconda3\\envs\\crime_data2\\lib\\site-packages\\sklearn\\metrics\\_classification.py:1308: UndefinedMetricWarning: Precision is ill-defined and being set to 0.0 in labels with no predicted samples. Use `zero_division` parameter to control this behavior.\n",
      "  _warn_prf(average, modifier, msg_start, len(result))\n"
     ]
    }
   ],
   "source": [
    "# Data with MinMax\n",
    "kn_MinMax_Scaler = KNeighborsClassifier(n_neighbors=15)\n",
    "kn_MinMax_Scaler.fit(X_train_MinMax_scaled, y_train)\n",
    "\n",
    "y_pred_KNN_with_MinMaxScaler = kn_MinMax_Scaler.predict(X_test_MinMax_scaled)\n",
    "y_true = y_test\n",
    "\n",
    "print(\"KNN result (using MinMax Scaler):\")\n",
    "#print(\"    * Score is:\", score(y_pred_KNN_with_MinMaxScaler, y_test)\n",
    "print(\"Score:\", cross_val_score(kn_MinMax_Scaler, X_test_MinMax_scaled, y_test, cv=5, scoring='accuracy'))\n",
    "print(\"    * Accuracy:\", round(accuracy_score(y_test, y_pred_KNN_with_MinMaxScaler)*100, 2), \"%\")\n",
    "print(\"    * Precision:\", round(precision_score(y_test, y_pred_KNN_with_MinMaxScaler,\n",
    "                                    average='macro')*100, 2), \"%\")\n",
    "print(\"    * Recall:\", round(recall_score(y_test, y_pred_KNN_with_MinMaxScaler,\n",
    "                              average='macro')*100, 2), \"%\")"
   ]
  },
  {
   "cell_type": "markdown",
   "id": "78a658e0",
   "metadata": {},
   "source": [
    "------------------------------------------------------------------------------------------------------------------------"
   ]
  }
 ],
 "metadata": {
  "kernelspec": {
   "display_name": "Python 3 (ipykernel)",
   "language": "python",
   "name": "python3"
  },
  "language_info": {
   "codemirror_mode": {
    "name": "ipython",
    "version": 3
   },
   "file_extension": ".py",
   "mimetype": "text/x-python",
   "name": "python",
   "nbconvert_exporter": "python",
   "pygments_lexer": "ipython3",
   "version": "3.8.12"
  }
 },
 "nbformat": 4,
 "nbformat_minor": 5
}
