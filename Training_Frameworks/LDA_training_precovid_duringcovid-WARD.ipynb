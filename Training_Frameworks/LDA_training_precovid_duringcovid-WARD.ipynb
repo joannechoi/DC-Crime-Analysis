{
 "cells": [
  {
   "cell_type": "code",
   "execution_count": 1,
   "metadata": {},
   "outputs": [],
   "source": [
    "# import libraries\n",
    "import os\n",
    "import pandas as pd\n",
    "import numpy as np\n",
    "import matplotlib.pyplot as plt\n",
    "import seaborn as sns\n",
    "pd.set_option('display.max_columns', None)\n",
    "\n",
    "from sklearn.discriminant_analysis import LinearDiscriminantAnalysis\n",
    "from sklearn.model_selection import train_test_split\n",
    "from sklearn.preprocessing import MinMaxScaler, StandardScaler\n",
    "from sklearn.linear_model import LogisticRegression\n",
    "from sklearn.model_selection import GridSearchCV\n",
    "from sklearn.metrics import classification_report, confusion_matrix"
   ]
  },
  {
   "cell_type": "code",
   "execution_count": 2,
   "metadata": {},
   "outputs": [],
   "source": [
    "# directories\n",
    "main_dir = os.path.join(os.getcwd())\n",
    "data_dir = os.path.join(main_dir, \"Data\")"
   ]
  },
  {
   "cell_type": "code",
   "execution_count": 3,
   "metadata": {},
   "outputs": [],
   "source": [
    "# load data \n",
    "precovid_data = pd.read_csv(os.path.join(data_dir, 'precovid_crime_micro_geo_11_29_2021.csv'))\n",
    "covid_data = pd.read_csv(os.path.join(data_dir, 'covid_crime_micro_geo_11_29_2021.csv'))"
   ]
  },
  {
   "cell_type": "code",
   "execution_count": 4,
   "metadata": {},
   "outputs": [],
   "source": [
    "precovid_data = precovid_data.drop(columns=['Unnamed: 0'])\n",
    "covid_data = covid_data.drop(columns=['Unnamed: 0'])"
   ]
  },
  {
   "cell_type": "code",
   "execution_count": 5,
   "metadata": {},
   "outputs": [
    {
     "data": {
      "text/html": [
       "<div>\n",
       "<style scoped>\n",
       "    .dataframe tbody tr th:only-of-type {\n",
       "        vertical-align: middle;\n",
       "    }\n",
       "\n",
       "    .dataframe tbody tr th {\n",
       "        vertical-align: top;\n",
       "    }\n",
       "\n",
       "    .dataframe thead th {\n",
       "        text-align: right;\n",
       "    }\n",
       "</style>\n",
       "<table border=\"1\" class=\"dataframe\">\n",
       "  <thead>\n",
       "    <tr style=\"text-align: right;\">\n",
       "      <th></th>\n",
       "      <th>SHIFT</th>\n",
       "      <th>OFFENSE</th>\n",
       "      <th>WARD</th>\n",
       "      <th>LATITUDE</th>\n",
       "      <th>LONGITUDE</th>\n",
       "      <th>date</th>\n",
       "      <th>total_cases</th>\n",
       "      <th>daily_cases</th>\n",
       "      <th>daily_death</th>\n",
       "      <th>OUT_POSITIVE_QUARANTINE_PSMPD</th>\n",
       "      <th>MO</th>\n",
       "      <th>TU</th>\n",
       "      <th>WE</th>\n",
       "      <th>TH</th>\n",
       "      <th>FR</th>\n",
       "      <th>SA</th>\n",
       "      <th>SU</th>\n",
       "      <th>JAN</th>\n",
       "      <th>FEB</th>\n",
       "      <th>MAR</th>\n",
       "      <th>APR</th>\n",
       "      <th>MAY</th>\n",
       "      <th>JUN</th>\n",
       "      <th>JUL</th>\n",
       "      <th>AUG</th>\n",
       "      <th>SEP</th>\n",
       "      <th>OCT</th>\n",
       "      <th>NOV</th>\n",
       "      <th>DEC</th>\n",
       "      <th>ward_1</th>\n",
       "      <th>ward_2</th>\n",
       "      <th>ward_3</th>\n",
       "      <th>ward_4</th>\n",
       "      <th>ward_5</th>\n",
       "      <th>ward_6</th>\n",
       "      <th>ward_7</th>\n",
       "      <th>ward_8</th>\n",
       "      <th>ARSON</th>\n",
       "      <th>ASSAULT W/DANGEROUS WEAPON</th>\n",
       "      <th>BURGLARY</th>\n",
       "      <th>HOMICIDE</th>\n",
       "      <th>MOTOR VEHICLE THEFT</th>\n",
       "      <th>ROBBERY</th>\n",
       "      <th>SEX ABUSE</th>\n",
       "      <th>THEFT F/AUTO</th>\n",
       "      <th>THEFT/OTHER</th>\n",
       "      <th>DAY</th>\n",
       "      <th>EVENING</th>\n",
       "      <th>MIDNIGHT</th>\n",
       "      <th>distance_metro</th>\n",
       "      <th>distance_nightclubs</th>\n",
       "      <th>distance_worship</th>\n",
       "    </tr>\n",
       "  </thead>\n",
       "  <tbody>\n",
       "    <tr>\n",
       "      <th>0</th>\n",
       "      <td>MIDNIGHT</td>\n",
       "      <td>THEFT F/AUTO</td>\n",
       "      <td>5.0</td>\n",
       "      <td>38.918707</td>\n",
       "      <td>-76.962533</td>\n",
       "      <td>2017-10-28</td>\n",
       "      <td>0.0</td>\n",
       "      <td>0.0</td>\n",
       "      <td>0.0</td>\n",
       "      <td>0.0</td>\n",
       "      <td>0</td>\n",
       "      <td>0</td>\n",
       "      <td>0</td>\n",
       "      <td>0</td>\n",
       "      <td>0</td>\n",
       "      <td>1</td>\n",
       "      <td>0</td>\n",
       "      <td>0</td>\n",
       "      <td>0</td>\n",
       "      <td>0</td>\n",
       "      <td>0</td>\n",
       "      <td>0</td>\n",
       "      <td>0</td>\n",
       "      <td>0</td>\n",
       "      <td>0</td>\n",
       "      <td>0</td>\n",
       "      <td>1</td>\n",
       "      <td>0</td>\n",
       "      <td>0</td>\n",
       "      <td>0</td>\n",
       "      <td>0</td>\n",
       "      <td>0</td>\n",
       "      <td>0</td>\n",
       "      <td>1</td>\n",
       "      <td>0</td>\n",
       "      <td>0</td>\n",
       "      <td>0</td>\n",
       "      <td>0</td>\n",
       "      <td>0</td>\n",
       "      <td>0</td>\n",
       "      <td>0</td>\n",
       "      <td>0</td>\n",
       "      <td>0</td>\n",
       "      <td>0</td>\n",
       "      <td>1</td>\n",
       "      <td>0</td>\n",
       "      <td>0</td>\n",
       "      <td>0</td>\n",
       "      <td>1</td>\n",
       "      <td>1.127080</td>\n",
       "      <td>0.674769</td>\n",
       "      <td>0.077614</td>\n",
       "    </tr>\n",
       "    <tr>\n",
       "      <th>1</th>\n",
       "      <td>MIDNIGHT</td>\n",
       "      <td>ASSAULT W/DANGEROUS WEAPON</td>\n",
       "      <td>6.0</td>\n",
       "      <td>38.907643</td>\n",
       "      <td>-77.009053</td>\n",
       "      <td>2017-10-28</td>\n",
       "      <td>0.0</td>\n",
       "      <td>0.0</td>\n",
       "      <td>0.0</td>\n",
       "      <td>0.0</td>\n",
       "      <td>0</td>\n",
       "      <td>0</td>\n",
       "      <td>0</td>\n",
       "      <td>0</td>\n",
       "      <td>0</td>\n",
       "      <td>1</td>\n",
       "      <td>0</td>\n",
       "      <td>0</td>\n",
       "      <td>0</td>\n",
       "      <td>0</td>\n",
       "      <td>0</td>\n",
       "      <td>0</td>\n",
       "      <td>0</td>\n",
       "      <td>0</td>\n",
       "      <td>0</td>\n",
       "      <td>0</td>\n",
       "      <td>1</td>\n",
       "      <td>0</td>\n",
       "      <td>0</td>\n",
       "      <td>0</td>\n",
       "      <td>0</td>\n",
       "      <td>0</td>\n",
       "      <td>0</td>\n",
       "      <td>0</td>\n",
       "      <td>1</td>\n",
       "      <td>0</td>\n",
       "      <td>0</td>\n",
       "      <td>0</td>\n",
       "      <td>1</td>\n",
       "      <td>0</td>\n",
       "      <td>0</td>\n",
       "      <td>0</td>\n",
       "      <td>0</td>\n",
       "      <td>0</td>\n",
       "      <td>0</td>\n",
       "      <td>0</td>\n",
       "      <td>0</td>\n",
       "      <td>0</td>\n",
       "      <td>1</td>\n",
       "      <td>0.191281</td>\n",
       "      <td>0.079607</td>\n",
       "      <td>0.049559</td>\n",
       "    </tr>\n",
       "    <tr>\n",
       "      <th>2</th>\n",
       "      <td>MIDNIGHT</td>\n",
       "      <td>THEFT F/AUTO</td>\n",
       "      <td>6.0</td>\n",
       "      <td>38.901323</td>\n",
       "      <td>-77.016914</td>\n",
       "      <td>2017-10-28</td>\n",
       "      <td>0.0</td>\n",
       "      <td>0.0</td>\n",
       "      <td>0.0</td>\n",
       "      <td>0.0</td>\n",
       "      <td>0</td>\n",
       "      <td>0</td>\n",
       "      <td>0</td>\n",
       "      <td>0</td>\n",
       "      <td>0</td>\n",
       "      <td>1</td>\n",
       "      <td>0</td>\n",
       "      <td>0</td>\n",
       "      <td>0</td>\n",
       "      <td>0</td>\n",
       "      <td>0</td>\n",
       "      <td>0</td>\n",
       "      <td>0</td>\n",
       "      <td>0</td>\n",
       "      <td>0</td>\n",
       "      <td>0</td>\n",
       "      <td>1</td>\n",
       "      <td>0</td>\n",
       "      <td>0</td>\n",
       "      <td>0</td>\n",
       "      <td>0</td>\n",
       "      <td>0</td>\n",
       "      <td>0</td>\n",
       "      <td>0</td>\n",
       "      <td>1</td>\n",
       "      <td>0</td>\n",
       "      <td>0</td>\n",
       "      <td>0</td>\n",
       "      <td>0</td>\n",
       "      <td>0</td>\n",
       "      <td>0</td>\n",
       "      <td>0</td>\n",
       "      <td>0</td>\n",
       "      <td>0</td>\n",
       "      <td>1</td>\n",
       "      <td>0</td>\n",
       "      <td>0</td>\n",
       "      <td>0</td>\n",
       "      <td>1</td>\n",
       "      <td>0.083639</td>\n",
       "      <td>0.124886</td>\n",
       "      <td>0.068719</td>\n",
       "    </tr>\n",
       "    <tr>\n",
       "      <th>3</th>\n",
       "      <td>DAY</td>\n",
       "      <td>THEFT F/AUTO</td>\n",
       "      <td>6.0</td>\n",
       "      <td>38.883239</td>\n",
       "      <td>-77.018730</td>\n",
       "      <td>2017-10-27</td>\n",
       "      <td>0.0</td>\n",
       "      <td>0.0</td>\n",
       "      <td>0.0</td>\n",
       "      <td>0.0</td>\n",
       "      <td>0</td>\n",
       "      <td>0</td>\n",
       "      <td>0</td>\n",
       "      <td>0</td>\n",
       "      <td>1</td>\n",
       "      <td>0</td>\n",
       "      <td>0</td>\n",
       "      <td>0</td>\n",
       "      <td>0</td>\n",
       "      <td>0</td>\n",
       "      <td>0</td>\n",
       "      <td>0</td>\n",
       "      <td>0</td>\n",
       "      <td>0</td>\n",
       "      <td>0</td>\n",
       "      <td>0</td>\n",
       "      <td>1</td>\n",
       "      <td>0</td>\n",
       "      <td>0</td>\n",
       "      <td>0</td>\n",
       "      <td>0</td>\n",
       "      <td>0</td>\n",
       "      <td>0</td>\n",
       "      <td>0</td>\n",
       "      <td>1</td>\n",
       "      <td>0</td>\n",
       "      <td>0</td>\n",
       "      <td>0</td>\n",
       "      <td>0</td>\n",
       "      <td>0</td>\n",
       "      <td>0</td>\n",
       "      <td>0</td>\n",
       "      <td>0</td>\n",
       "      <td>0</td>\n",
       "      <td>1</td>\n",
       "      <td>0</td>\n",
       "      <td>1</td>\n",
       "      <td>0</td>\n",
       "      <td>0</td>\n",
       "      <td>0.135380</td>\n",
       "      <td>0.296590</td>\n",
       "      <td>0.074763</td>\n",
       "    </tr>\n",
       "    <tr>\n",
       "      <th>4</th>\n",
       "      <td>DAY</td>\n",
       "      <td>THEFT/OTHER</td>\n",
       "      <td>5.0</td>\n",
       "      <td>38.920933</td>\n",
       "      <td>-76.997157</td>\n",
       "      <td>2017-10-28</td>\n",
       "      <td>0.0</td>\n",
       "      <td>0.0</td>\n",
       "      <td>0.0</td>\n",
       "      <td>0.0</td>\n",
       "      <td>0</td>\n",
       "      <td>0</td>\n",
       "      <td>0</td>\n",
       "      <td>0</td>\n",
       "      <td>0</td>\n",
       "      <td>1</td>\n",
       "      <td>0</td>\n",
       "      <td>0</td>\n",
       "      <td>0</td>\n",
       "      <td>0</td>\n",
       "      <td>0</td>\n",
       "      <td>0</td>\n",
       "      <td>0</td>\n",
       "      <td>0</td>\n",
       "      <td>0</td>\n",
       "      <td>0</td>\n",
       "      <td>1</td>\n",
       "      <td>0</td>\n",
       "      <td>0</td>\n",
       "      <td>0</td>\n",
       "      <td>0</td>\n",
       "      <td>0</td>\n",
       "      <td>0</td>\n",
       "      <td>1</td>\n",
       "      <td>0</td>\n",
       "      <td>0</td>\n",
       "      <td>0</td>\n",
       "      <td>0</td>\n",
       "      <td>0</td>\n",
       "      <td>0</td>\n",
       "      <td>0</td>\n",
       "      <td>0</td>\n",
       "      <td>0</td>\n",
       "      <td>0</td>\n",
       "      <td>0</td>\n",
       "      <td>1</td>\n",
       "      <td>1</td>\n",
       "      <td>0</td>\n",
       "      <td>0</td>\n",
       "      <td>0.084503</td>\n",
       "      <td>0.849526</td>\n",
       "      <td>0.047963</td>\n",
       "    </tr>\n",
       "  </tbody>\n",
       "</table>\n",
       "</div>"
      ],
      "text/plain": [
       "      SHIFT                     OFFENSE  WARD   LATITUDE  LONGITUDE  \\\n",
       "0  MIDNIGHT                THEFT F/AUTO   5.0  38.918707 -76.962533   \n",
       "1  MIDNIGHT  ASSAULT W/DANGEROUS WEAPON   6.0  38.907643 -77.009053   \n",
       "2  MIDNIGHT                THEFT F/AUTO   6.0  38.901323 -77.016914   \n",
       "3       DAY                THEFT F/AUTO   6.0  38.883239 -77.018730   \n",
       "4       DAY                 THEFT/OTHER   5.0  38.920933 -76.997157   \n",
       "\n",
       "         date  total_cases  daily_cases  daily_death  \\\n",
       "0  2017-10-28          0.0          0.0          0.0   \n",
       "1  2017-10-28          0.0          0.0          0.0   \n",
       "2  2017-10-28          0.0          0.0          0.0   \n",
       "3  2017-10-27          0.0          0.0          0.0   \n",
       "4  2017-10-28          0.0          0.0          0.0   \n",
       "\n",
       "   OUT_POSITIVE_QUARANTINE_PSMPD  MO  TU  WE  TH  FR  SA  SU  JAN  FEB  MAR  \\\n",
       "0                            0.0   0   0   0   0   0   1   0    0    0    0   \n",
       "1                            0.0   0   0   0   0   0   1   0    0    0    0   \n",
       "2                            0.0   0   0   0   0   0   1   0    0    0    0   \n",
       "3                            0.0   0   0   0   0   1   0   0    0    0    0   \n",
       "4                            0.0   0   0   0   0   0   1   0    0    0    0   \n",
       "\n",
       "   APR  MAY  JUN  JUL  AUG  SEP  OCT  NOV  DEC  ward_1  ward_2  ward_3  \\\n",
       "0    0    0    0    0    0    0    1    0    0       0       0       0   \n",
       "1    0    0    0    0    0    0    1    0    0       0       0       0   \n",
       "2    0    0    0    0    0    0    1    0    0       0       0       0   \n",
       "3    0    0    0    0    0    0    1    0    0       0       0       0   \n",
       "4    0    0    0    0    0    0    1    0    0       0       0       0   \n",
       "\n",
       "   ward_4  ward_5  ward_6  ward_7  ward_8  ARSON  ASSAULT W/DANGEROUS WEAPON  \\\n",
       "0       0       1       0       0       0      0                           0   \n",
       "1       0       0       1       0       0      0                           1   \n",
       "2       0       0       1       0       0      0                           0   \n",
       "3       0       0       1       0       0      0                           0   \n",
       "4       0       1       0       0       0      0                           0   \n",
       "\n",
       "   BURGLARY  HOMICIDE  MOTOR VEHICLE THEFT  ROBBERY  SEX ABUSE  THEFT F/AUTO  \\\n",
       "0         0         0                    0        0          0             1   \n",
       "1         0         0                    0        0          0             0   \n",
       "2         0         0                    0        0          0             1   \n",
       "3         0         0                    0        0          0             1   \n",
       "4         0         0                    0        0          0             0   \n",
       "\n",
       "   THEFT/OTHER  DAY  EVENING  MIDNIGHT  distance_metro  distance_nightclubs  \\\n",
       "0            0    0        0         1        1.127080             0.674769   \n",
       "1            0    0        0         1        0.191281             0.079607   \n",
       "2            0    0        0         1        0.083639             0.124886   \n",
       "3            0    1        0         0        0.135380             0.296590   \n",
       "4            1    1        0         0        0.084503             0.849526   \n",
       "\n",
       "   distance_worship  \n",
       "0          0.077614  \n",
       "1          0.049559  \n",
       "2          0.068719  \n",
       "3          0.074763  \n",
       "4          0.047963  "
      ]
     },
     "execution_count": 5,
     "metadata": {},
     "output_type": "execute_result"
    }
   ],
   "source": [
    "precovid_data.head()"
   ]
  },
  {
   "cell_type": "code",
   "execution_count": 6,
   "metadata": {},
   "outputs": [],
   "source": [
    "# # shift one hot encode\n",
    "# shift_dummies_precovid = pd.get_dummies(precovid_data.SHIFT)\n",
    "# precovid_data = pd.concat([precovid_data, shift_dummies_precovid], axis=1)\n",
    "\n",
    "# shift_dummies_covid = pd.get_dummies(covid_data.SHIFT)\n",
    "# covid_data = pd.concat([covid_data, shift_dummies_covid], axis=1)\n",
    "\n",
    "# # method one hot encode\n",
    "# shift_dummies_precovid = pd.get_dummies(precovid_data.METHOD)\n",
    "# precovid_data = pd.concat([precovid_data, shift_dummies_precovid], axis=1)\n",
    "\n",
    "# shift_dummies_covid = pd.get_dummies(covid_data.METHOD)\n",
    "# covid_data = pd.concat([covid_data, shift_dummies_covid], axis=1)"
   ]
  },
  {
   "cell_type": "code",
   "execution_count": 7,
   "metadata": {},
   "outputs": [],
   "source": [
    "# drop shift, offense, date columns\n",
    "precovid_data_baseline = precovid_data.drop(columns=['daily_cases', 'daily_death', 'OUT_POSITIVE_QUARANTINE_PSMPD',\n",
    "                                                     'total_cases', 'SHIFT', 'OFFENSE', 'date', 'LATITUDE', 'LONGITUDE', \n",
    "                                                     'ward_1', 'ward_2', 'ward_3', 'ward_4', 'ward_5', \n",
    "                                                     'ward_6', 'ward_7', 'ward_8'])\n",
    "covid_data_baseline = covid_data.drop(columns=['SHIFT', 'OFFENSE', 'date', 'LATITUDE', 'LONGITUDE', 'total_cases', \n",
    "                                            'ward_1', 'ward_2', 'ward_3', 'ward_4', 'ward_5', 'ward_6', \n",
    "                                            'ward_7', 'ward_8'])"
   ]
  },
  {
   "cell_type": "code",
   "execution_count": 8,
   "metadata": {},
   "outputs": [],
   "source": [
    "# declare target and features\n",
    "y_precovid_base = precovid_data_baseline.pop('WARD') \n",
    "X_precovid_base = precovid_data_baseline\n",
    "\n",
    "y_covid_base = covid_data_baseline.pop('WARD') \n",
    "X_covid_base = covid_data_baseline"
   ]
  },
  {
   "cell_type": "code",
   "execution_count": 9,
   "metadata": {},
   "outputs": [],
   "source": [
    "# train test split\n",
    "X_precovid_train, X_precovid_test, y_precovid_train, y_precovid_test = train_test_split(X_precovid_base, \n",
    "                                                                                        y_precovid_base, \n",
    "                                                                                        test_size=0.3, \n",
    "                                                                                        random_state=42)\n",
    "\n",
    "X_covid_train, X_covid_test, y_covid_train, y_covid_test = train_test_split(X_covid_base, \n",
    "                                                                            y_covid_base, \n",
    "                                                                            test_size=0.3, \n",
    "                                                                            random_state=42)"
   ]
  },
  {
   "cell_type": "code",
   "execution_count": 10,
   "metadata": {},
   "outputs": [],
   "source": [
    "# scale data - MinMax\n",
    "scaler = MinMaxScaler(feature_range=(0, 1))\n",
    "scaler = scaler.fit(X_precovid_train)\n",
    "X_precovid_train_scaled = scaler.transform(X_precovid_train)\n",
    "X_precovid_test_scaled = scaler.transform(X_precovid_test)\n",
    "\n",
    "scaler = MinMaxScaler(feature_range=(0, 1))\n",
    "scaler = scaler.fit(X_covid_train)\n",
    "X_covid_train_scaled = scaler.transform(X_covid_train)\n",
    "X_covid_test_scaled = scaler.transform(X_covid_test)\n",
    "\n",
    "# scale data - Standard Scaler\n",
    "scaler2 = StandardScaler()\n",
    "scaler2 = scaler2.fit(X_precovid_train)\n",
    "X_precovid_train_scaled2 = scaler2.transform(X_precovid_train)\n",
    "X_precovid_test_scaled2 = scaler2.transform(X_precovid_test)\n",
    "\n",
    "scaler2 = StandardScaler()\n",
    "scaler2 = scaler2.fit(X_covid_train)\n",
    "X_covid_train_scaled2 = scaler2.transform(X_covid_train)\n",
    "X_covid_test_scaled2 = scaler2.transform(X_covid_test)"
   ]
  },
  {
   "cell_type": "markdown",
   "metadata": {},
   "source": [
    "## Run models with Min Max Scaler"
   ]
  },
  {
   "cell_type": "code",
   "execution_count": 11,
   "metadata": {},
   "outputs": [
    {
     "name": "stdout",
     "output_type": "stream",
     "text": [
      "0.415293215791491\n"
     ]
    }
   ],
   "source": [
    "# instantiate model precovid\n",
    "LDA_precovid = LinearDiscriminantAnalysis()\n",
    "\n",
    "# precovid train\n",
    "LDA_precovid.fit(X_precovid_train_scaled, y_precovid_train)\n",
    "# make predictions\n",
    "y_precovid_pred = LDA_precovid.predict(X_precovid_test_scaled)\n",
    "# score\n",
    "precovid_score = LDA_precovid.score(X_precovid_test_scaled, y_precovid_test)\n",
    "print(precovid_score)"
   ]
  },
  {
   "cell_type": "code",
   "execution_count": 12,
   "metadata": {},
   "outputs": [
    {
     "name": "stdout",
     "output_type": "stream",
     "text": [
      "0.41173745173745174\n"
     ]
    }
   ],
   "source": [
    "# instantiate model precovid\n",
    "LDA_covid = LinearDiscriminantAnalysis()\n",
    "\n",
    "# precovid train\n",
    "LDA_covid.fit(X_covid_train_scaled, y_covid_train)\n",
    "# make predictions\n",
    "y_covid_pred = LDA_covid.predict(X_covid_test_scaled)\n",
    "# score\n",
    "covid_score = LDA_covid.score(X_covid_test_scaled, y_covid_test)\n",
    "print(covid_score)"
   ]
  },
  {
   "cell_type": "markdown",
   "metadata": {},
   "source": [
    "## Run Models with Standard Scaler"
   ]
  },
  {
   "cell_type": "code",
   "execution_count": 13,
   "metadata": {},
   "outputs": [
    {
     "name": "stdout",
     "output_type": "stream",
     "text": [
      "0.415293215791491\n"
     ]
    }
   ],
   "source": [
    "# instantiate model precovid\n",
    "LDA_precovid = LinearDiscriminantAnalysis()\n",
    "\n",
    "# precovid train\n",
    "LDA_precovid.fit(X_precovid_train_scaled2, y_precovid_train)\n",
    "# make predictions\n",
    "y_precovid_pred = LDA_precovid.predict(X_precovid_test_scaled2)\n",
    "# score\n",
    "precovid_score = LDA_precovid.score(X_precovid_test_scaled2, y_precovid_test)\n",
    "print(precovid_score)"
   ]
  },
  {
   "cell_type": "code",
   "execution_count": 14,
   "metadata": {},
   "outputs": [
    {
     "name": "stdout",
     "output_type": "stream",
     "text": [
      "0.41173745173745174\n"
     ]
    }
   ],
   "source": [
    "# instantiate model covid\n",
    "LDA_covid = LinearDiscriminantAnalysis()\n",
    "\n",
    "# precovid train\n",
    "LDA_covid.fit(X_covid_train_scaled2, y_covid_train)\n",
    "# make predictions\n",
    "y_covid_pred = LDA_covid.predict(X_covid_test_scaled2)\n",
    "# score\n",
    "covid_score = LDA_covid.score(X_covid_test_scaled2, y_covid_test)\n",
    "print(covid_score)"
   ]
  },
  {
   "cell_type": "code",
   "execution_count": 15,
   "metadata": {},
   "outputs": [
    {
     "name": "stdout",
     "output_type": "stream",
     "text": [
      "{'n_components': 1, 'shrinkage': 'auto', 'solver': 'lsqr'} 0.41874851908452393\n"
     ]
    }
   ],
   "source": [
    "grid = {\"shrinkage\":['auto'], \n",
    "        \"n_components\":(1,5,1), \n",
    "        \"solver\":('lsqr', 'eigen')}\n",
    "\n",
    "# instantiate model\n",
    "LDA_precovid = LinearDiscriminantAnalysis()\n",
    "\n",
    "# precovid\n",
    "LDA_precovid_CV = GridSearchCV(LDA_precovid, grid, cv=3, n_jobs=-1)\n",
    "# fit precovid\n",
    "LDA_precovid_CV.fit(X_precovid_train_scaled, y_precovid_train)\n",
    "# make predictions\n",
    "y_precovid_pred = LDA_precovid_CV.predict(X_precovid_test_scaled)\n",
    "\n",
    "print(LDA_precovid_CV.best_params_, LDA_precovid_CV.best_score_)"
   ]
  },
  {
   "cell_type": "code",
   "execution_count": 16,
   "metadata": {
    "scrolled": false
   },
   "outputs": [
    {
     "name": "stdout",
     "output_type": "stream",
     "text": [
      "{'n_components': 1, 'shrinkage': 'auto', 'solver': 'lsqr'} 0.41702553319669694\n"
     ]
    }
   ],
   "source": [
    "# instantiate model\n",
    "LDA_covid = LinearDiscriminantAnalysis()\n",
    "\n",
    "# precovid\n",
    "LDA_covid_CV = GridSearchCV(LDA_covid, grid, cv=3, n_jobs=-1)\n",
    "# fit precovid\n",
    "LDA_covid_CV.fit(X_covid_train_scaled, y_covid_train)\n",
    "# make predictions\n",
    "y_covid_pred = LDA_covid_CV.predict(X_covid_test_scaled)\n",
    "\n",
    "print(LDA_covid_CV.best_params_, LDA_covid_CV.best_score_)"
   ]
  },
  {
   "cell_type": "code",
   "execution_count": 17,
   "metadata": {
    "scrolled": true
   },
   "outputs": [
    {
     "data": {
      "text/plain": [
       "<AxesSubplot:>"
      ]
     },
     "execution_count": 17,
     "metadata": {},
     "output_type": "execute_result"
    },
    {
     "data": {
      "image/png": "[encoded data removed]",
      "text/plain": [
       "<Figure size 432x288 with 2 Axes>"
      ]
     },
     "metadata": {
      "needs_background": "light"
     },
     "output_type": "display_data"
    }
   ],
   "source": [
    "sns.heatmap(confusion_matrix(y_precovid_test, y_precovid_pred))"
   ]
  },
  {
   "cell_type": "markdown",
   "metadata": {},
   "source": [
    "# Experiment"
   ]
  },
  {
   "cell_type": "code",
   "execution_count": 18,
   "metadata": {},
   "outputs": [],
   "source": [
    "# experiment datasets\n",
    "# precovid exp data now HAS the covid columns -- all values are 0\n",
    "precovid_data_exp = precovid_data.drop(columns=['total_cases', 'SHIFT', 'OFFENSE', 'date', 'LATITUDE', 'LONGITUDE', \n",
    "                                                     'ward_1', 'ward_2', 'ward_3', 'ward_4', 'ward_5', \n",
    "                                                     'ward_6', 'ward_7', 'ward_8'])\n",
    "# covid exp data doest NOT have covid columns\n",
    "covid_data_exp = covid_data.drop(columns=['daily_cases', 'daily_death', 'OUT_POSITIVE_QUARANTINE_PSMPD',\n",
    "                                                     'total_cases', 'SHIFT', 'OFFENSE', 'date', 'LATITUDE', 'LONGITUDE', \n",
    "                                                     'ward_1', 'ward_2', 'ward_3', 'ward_4', 'ward_5', \n",
    "                                                     'ward_6', 'ward_7', 'ward_8'])"
   ]
  },
  {
   "cell_type": "code",
   "execution_count": 19,
   "metadata": {},
   "outputs": [],
   "source": [
    "# declare target and features for EXP\n",
    "y_precovid_exp = precovid_data_exp.pop('WARD') \n",
    "X_precovid_exp = precovid_data_exp\n",
    "\n",
    "y_covid_exp = covid_data_exp.pop('WARD') \n",
    "X_covid_exp = covid_data_exp"
   ]
  },
  {
   "cell_type": "code",
   "execution_count": 20,
   "metadata": {},
   "outputs": [],
   "source": [
    "# train test split for EXP\n",
    "X_precovid_train_EXP, X_precovid_test_EXP, y_precovid_train_EXP, y_precovid_test_EXP = train_test_split(\n",
    "                                                                                        X_precovid_exp, \n",
    "                                                                                        y_precovid_exp, \n",
    "                                                                                        test_size=0.3, \n",
    "                                                                                        random_state=42)\n",
    "\n",
    "X_covid_train_EXP, X_covid_test_EXP, y_covid_train_EXP, y_covid_test_EXP = train_test_split(X_covid_exp, \n",
    "                                                                            y_covid_exp, \n",
    "                                                                            test_size=0.3, \n",
    "                                                                            random_state=42)"
   ]
  },
  {
   "cell_type": "code",
   "execution_count": 21,
   "metadata": {},
   "outputs": [],
   "source": [
    "# SCALE EXP DATA\n",
    "# scale data - MinMax\n",
    "scaler = MinMaxScaler(feature_range=(0, 1))\n",
    "scaler = scaler.fit(X_precovid_train_EXP)\n",
    "X_precovid_train_scaled_EXP = scaler.transform(X_precovid_train_EXP)\n",
    "X_precovid_test_scaled_EXP = scaler.transform(X_precovid_test_EXP)\n",
    "\n",
    "scaler = MinMaxScaler(feature_range=(0, 1))\n",
    "scaler = scaler.fit(X_covid_train_EXP)\n",
    "X_covid_train_scaled_EXP = scaler.transform(X_covid_train_EXP)\n",
    "X_covid_test_scaled_EXP = scaler.transform(X_covid_test_EXP)\n",
    "\n",
    "# scale data - Standard Scaler\n",
    "scaler2 = StandardScaler()\n",
    "scaler2 = scaler2.fit(X_precovid_train_EXP)\n",
    "X_precovid_train_scaled2_EXP = scaler2.transform(X_precovid_train_EXP)\n",
    "X_precovid_test_scaled2_EXP = scaler2.transform(X_precovid_test_EXP)\n",
    "\n",
    "scaler2 = StandardScaler()\n",
    "scaler2 = scaler2.fit(X_covid_train_EXP)\n",
    "X_covid_train_scaled2_EXP = scaler2.transform(X_covid_train_EXP)\n",
    "X_covid_test_scaled2_EXP = scaler2.transform(X_covid_test_EXP)"
   ]
  },
  {
   "cell_type": "code",
   "execution_count": 22,
   "metadata": {},
   "outputs": [
    {
     "name": "stdout",
     "output_type": "stream",
     "text": [
      "0.4050965250965251\n"
     ]
    }
   ],
   "source": [
    "# precovid experiment \n",
    "# predict\n",
    "y_precovid_pred_EXP = LDA_precovid_CV.predict(X_covid_test_scaled_EXP)\n",
    "# score\n",
    "precovid_score_EXP = LDA_precovid_CV.score(X_covid_test_scaled_EXP, y_covid_test_EXP)\n",
    "print(precovid_score_EXP)"
   ]
  },
  {
   "cell_type": "code",
   "execution_count": 23,
   "metadata": {},
   "outputs": [
    {
     "name": "stdout",
     "output_type": "stream",
     "text": [
      "0.39255142455602404\n"
     ]
    }
   ],
   "source": [
    "# covid experiment\n",
    "# predict\n",
    "y_covid_pred_EXP = LDA_covid_CV.predict(X_precovid_test_scaled_EXP)\n",
    "# score\n",
    "covid_score_EXP = LDA_covid_CV.score(X_precovid_test_scaled_EXP, y_precovid_test_EXP)\n",
    "print(covid_score_EXP)"
   ]
  }
 ],
 "metadata": {
  "kernelspec": {
   "display_name": "Python 3",
   "language": "python",
   "name": "python3"
  },
  "language_info": {
   "codemirror_mode": {
    "name": "ipython",
    "version": 3
   },
   "file_extension": ".py",
   "mimetype": "text/x-python",
   "name": "python",
   "nbconvert_exporter": "python",
   "pygments_lexer": "ipython3",
   "version": "3.8.5"
  }
 },
 "nbformat": 4,
 "nbformat_minor": 4
}
