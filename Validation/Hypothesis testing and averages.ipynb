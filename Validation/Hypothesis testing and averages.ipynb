{
 "cells": [
  {
   "cell_type": "code",
   "execution_count": 17,
   "id": "81b0b582",
   "metadata": {},
   "outputs": [],
   "source": [
    "from scipy.stats import ttest_rel\n",
    "from scipy.stats import wilcoxon\n",
    "import sys\n",
    "from statistics import mean\n",
    "sys.setrecursionlimit(1500)"
   ]
  },
  {
   "cell_type": "code",
   "execution_count": 18,
   "id": "f17ae500",
   "metadata": {},
   "outputs": [],
   "source": [
    "#wilcoxon\n",
    "def wil(data1, data2):\n",
    "    stat, p = wilcoxon(data1, data2)\n",
    "    print('Statistics=%.3f, p=%.3f' % (stat, p))\n",
    "    alpha = 0.05\n",
    "    if p > alpha:\n",
    "        print('Same distributions (fail to reject H0)')\n",
    "    else:\n",
    "        print('Different distributions (reject H0)')\n",
    "        \n",
    "#mean\n",
    "def average(lst):\n",
    "    return mean(lst)"
   ]
  },
  {
   "cell_type": "code",
   "execution_count": 23,
   "id": "79efdaad",
   "metadata": {},
   "outputs": [],
   "source": [
    "#Decision Tree\n",
    "DT_PRE_COVID_Model_Baseline = [0.4640666922192411, 0.4687300370512329, 0.4725629232145139, 0.4818896128784975, 0.47090200587709213]\n",
    "DT_COVID_Model_Baseline =[0.4643243243243243, 0.4718146718146718, 0.4653281853281853, 0.47127413127413126, 0.4657915057915058]\n",
    "DT_PRE_COVID_Model_Experiment =[0.45814671814671815, 0.4678764478764479, 0.4575289575289575, 0.47034749034749035, 0.4624710424710425]\n",
    "DT_COVID_Model_Experiment = [0.46892168135939694, 0.46972019931008047, 0.47703462373834166, 0.4758208764533027, 0.47495847706656447]\n",
    "\n",
    "#KNN\n",
    "KNN_PRE_COVID_Model_Baseline = [0.39437204548358246, 0.3950108598441293, 0.3977577615944806, 0.3951066819982113, 0.39945061964992973]\n",
    "KNN_COVID_Model_Baseline =[0.28463320463320463, 0.2925096525096525, 0.29011583011583014, 0.2911196911196911, 0.2965250965250965]\n",
    "KNN_PRE_COVID_Model_Experiment =[0.35922779922779924, 0.3606949806949807, 0.3553667953667954, 0.36416988416988416, 0.3647104247104247]\n",
    "KNN_COVID_Model_Experiment = [0.26660917337421747, 0.2668008176823815, 0.26469273029257695, 0.25990162258847577, 0.2683659128657212]\n",
    "\n",
    "#LOGISTIC\n",
    "LO_PRE_COVID_Model_Baseline = [0.43723648907627444, 0.4373323112303565, 0.4403666794429539, 0.4426344704228951, 0.44311358119330524]\n",
    "LO_COVID_Model_Baseline =[0.44355212355212353, 0.4413899613899614, 0.44077220077220075, 0.43876447876447877, 0.4463320463320463]\n",
    "LO_PRE_COVID_Model_Experiment =[0.4268725868725869, 0.42718146718146716, 0.42648648648648646, 0.4335907335907336, 0.43382239382239385]\n",
    "LO_COVID_Model_Experiment = [0.430177590392232, 0.42324645458029897, 0.4341701801456497, 0.4249073719177207, 0.4322856777820365]\n",
    "\n",
    "\n",
    "#Gradient Boost\n",
    "GB_PRE_COVID_Model_Baseline = [0.5817682381499936, 0.5812891273795835, 0.5806822537370641, 0.5779353519867126, 0.5810655423533921]\n",
    "GB_COVID_Model_Baseline =[0.5395366795366795, 0.5732046332046332, 0.5663320463320464, 0.5342084942084943, 0.5247876447876448]\n",
    "GB_PRE_COVID_Model_Experiment =[0.5511969111969112, 0.5515057915057915, 0.5487258687258687, 0.542007722007722, 0.5466409266409267]\n",
    "GB_COVID_Model_Experiment = [0.5391593203015204, 0.5735594736169669, 0.5663089306247604, 0.5399578382522039, 0.5280758911460329]\n",
    "\n",
    "#Random Forest\n",
    "RF_PRE_COVID_Model_Baseline = [0.3481218857799923, 0.34380988884630126, 0.35032579532387886, 0.35003832886163283, 0.35083684681231636]\n",
    "RF_COVID_Model_Baseline =[0.3429343629343629, 0.34355212355212356, 0.34494208494208495, 0.34525096525096527, 0.3471042471042471]\n",
    "RF_PRE_COVID_Model_Experiment =[0.3241698841698842, 0.3246332046332046, 0.32293436293436295, 0.31984555984555985, 0.3211583011583012]\n",
    "RF_COVID_Model_Experiment = [0.32518845023636134, 0.32707295259997443, 0.3315765938418296, 0.32822281844895873, 0.3288935735275329]\n",
    "\n",
    "#SVC\n",
    "SVC_PRE_COVID_Model_Baseline = [0.46227801200970997, 0.4688897406413696, 0.4702631915165453, 0.46799540053660404, 0.46789957838252205]\n",
    "SVC_COVID_Model_Baseline =[0.4365250965250965, 0.4327413127413127, 0.43644787644787647, 0.43853281853281856, 0.44193050193050193]\n",
    "SVC_PRE_COVID_Model_Experiment =[0.44007722007722005, 0.4416988416988417, 0.4338996138996139, 0.4434749034749035, 0.4491891891891892]\n",
    "SVC_COVID_Model_Experiment = [0.4104382266513351, 0.4137281206081513, 0.4187747540564712, 0.4155168008176824, 0.4204037306758656]"
   ]
  },
  {
   "cell_type": "code",
   "execution_count": 24,
   "id": "1614116d",
   "metadata": {},
   "outputs": [
    {
     "name": "stdout",
     "output_type": "stream",
     "text": [
      "Average of the SVC Pre-COVID Baseline is 0.4674651846173502\n",
      "Average of the SVC COVID  Baseline is 0.4157723265619011\n",
      "Average of the SVC pre-COVID Experimental is 0.4416679536679537\n",
      "Average of the SVC COVID Experimental is 0.4157723265619011\n",
      "--------------------------------------------------------------------------------\n",
      "Average of the Logistic Regression Pre-COVID Baseline is 0.44013670627315704\n",
      "Average of the Logistic Regression COVID  Baseline is 0.42895745496358756\n",
      "Average of the Logistic Regression pre-COVID Experimental is 0.4295907335907336\n",
      "Average of the Logistic Regression COVID Experimental is 0.42895745496358756\n",
      "--------------------------------------------------------------------------------\n",
      "Average of the KNN Pre-COVID Baseline is 0.3963395937140667\n",
      "Average of the KNN COVID Baseline is 0.29098069498069495\n",
      "Average of the KNN pre-COVID Experimental is 0.36083397683397683\n",
      "Average of the KNN COVID Experimental is 0.26527405136067456\n",
      "--------------------------------------------------------------------------------\n",
      "Average of the Random Forest Pre-COVID Baseline is 0.3486265491248243\n",
      "Average of the Random Forest COVID  Baseline is 0.3281908777309314\n",
      "Average of the Random Forest pre-COVID Experimental is 0.3225482625482626\n",
      "Average of the Random Forest COVID Experimental is 0.3281908777309314\n",
      "--------------------------------------------------------------------------------\n",
      "Average of the Gradient Boost Pre-COVID Baseline is 0.5805481027213492\n",
      "Average of the Gradient Boost COVID  Baseline is 0.5494122907882969\n",
      "Average of the Gradient Boost pre-COVID Experimental is 0.548015444015444\n",
      "Average of the Gradient Boost COVID Experimental is 0.5494122907882969\n",
      "--------------------------------------------------------------------------------\n"
     ]
    }
   ],
   "source": [
    "#SVC\n",
    "print(\"Average of the SVC Pre-COVID Baseline is\",average(SVC_PRE_COVID_Model_Baseline))\n",
    "print(\"Average of the SVC COVID  Baseline is\",average(SVC_COVID_Model_Experiment))\n",
    "print(\"Average of the SVC pre-COVID Experimental is\",average(SVC_PRE_COVID_Model_Experiment))\n",
    "print(\"Average of the SVC COVID Experimental is\",average(SVC_COVID_Model_Experiment))\n",
    "print(\"--------------------------------------------------------------------------------\")\n",
    "\n",
    "#LOGISTIC\n",
    "print(\"Average of the Logistic Regression Pre-COVID Baseline is\",average(LO_PRE_COVID_Model_Baseline))\n",
    "print(\"Average of the Logistic Regression COVID  Baseline is\",average(LO_COVID_Model_Experiment))\n",
    "print(\"Average of the Logistic Regression pre-COVID Experimental is\",average(LO_PRE_COVID_Model_Experiment))\n",
    "print(\"Average of the Logistic Regression COVID Experimental is\",average(LO_COVID_Model_Experiment))\n",
    "print(\"--------------------------------------------------------------------------------\")\n",
    "\n",
    "#KNN \n",
    "print(\"Average of the KNN Pre-COVID Baseline is\",average(KNN_PRE_COVID_Model_Baseline))\n",
    "print(\"Average of the KNN COVID Baseline is\",average(KNN_COVID_Model_Baseline))\n",
    "print(\"Average of the KNN pre-COVID Experimental is\",average(KNN_PRE_COVID_Model_Experiment))\n",
    "print(\"Average of the KNN COVID Experimental is\",average(KNN_COVID_Model_Experiment))\n",
    "print(\"--------------------------------------------------------------------------------\")\n",
    "\n",
    "#Random Forest\n",
    "print(\"Average of the Random Forest Pre-COVID Baseline is\",average(RF_PRE_COVID_Model_Baseline))\n",
    "print(\"Average of the Random Forest COVID  Baseline is\",average(RF_COVID_Model_Experiment))\n",
    "print(\"Average of the Random Forest pre-COVID Experimental is\",average(RF_PRE_COVID_Model_Experiment))\n",
    "print(\"Average of the Random Forest COVID Experimental is\",average(RF_COVID_Model_Experiment))\n",
    "print(\"--------------------------------------------------------------------------------\")\n",
    "\n",
    "#Gradient Boost\n",
    "print(\"Average of the Gradient Boost Pre-COVID Baseline is\",average(GB_PRE_COVID_Model_Baseline))\n",
    "print(\"Average of the Gradient Boost COVID  Baseline is\",average(GB_COVID_Model_Experiment))\n",
    "print(\"Average of the Gradient Boost pre-COVID Experimental is\",average(GB_PRE_COVID_Model_Experiment))\n",
    "print(\"Average of the Gradient Boost COVID Experimental is\",average(GB_COVID_Model_Experiment))\n",
    "print(\"--------------------------------------------------------------------------------\")\n"
   ]
  },
  {
   "cell_type": "code",
   "execution_count": 21,
   "id": "7bebeb17",
   "metadata": {},
   "outputs": [
    {
     "name": "stdout",
     "output_type": "stream",
     "text": [
      "------------------Baseline V Baseline----------------------------\n",
      "Statistics=0.000, p=0.062\n",
      "Same distributions (fail to reject H0)\n",
      "SVC pre-covid baseline and covid baseline None\n",
      "--------------------------------------------------------------------------------\n",
      "Statistics=3.000, p=0.312\n",
      "Same distributions (fail to reject H0)\n",
      "Logistic pre-covid baseline and covid baseline None\n",
      "--------------------------------------------------------------------------------\n",
      "Statistics=0.000, p=0.062\n",
      "Same distributions (fail to reject H0)\n",
      "KNN pre-covid baseline and covid baseline None\n",
      "--------------------------------------------------------------------------------\n",
      "Statistics=0.000, p=0.062\n",
      "Same distributions (fail to reject H0)\n",
      "Random Forest pre-covid baseline and covid baseline None\n",
      "--------------------------------------------------------------------------------\n",
      "Statistics=0.000, p=0.062\n",
      "Same distributions (fail to reject H0)\n",
      "Gradient Boost pre-covid baseline and covid baseline None\n",
      "--------------------------------------------------------------------------------\n"
     ]
    }
   ],
   "source": [
    "print(\"------------------Baseline V Baseline----------------------------\")\n",
    "print(\"SVC pre-covid baseline and covid baseline\",wil(SVC_PRE_COVID_Model_Baseline,SVC_COVID_Model_Baseline))\n",
    "print(\"--------------------------------------------------------------------------------\")\n",
    "print(\"Logistic pre-covid baseline and covid baseline\",wil(LO_PRE_COVID_Model_Baseline,LO_COVID_Model_Baseline))\n",
    "print(\"--------------------------------------------------------------------------------\")\n",
    "print(\"KNN pre-covid baseline and covid baseline\",wil(KNN_PRE_COVID_Model_Baseline,KNN_COVID_Model_Baseline))\n",
    "print(\"--------------------------------------------------------------------------------\")\n",
    "print(\"Random Forest pre-covid baseline and covid baseline\",wil(RF_PRE_COVID_Model_Baseline,RF_COVID_Model_Baseline))\n",
    "print(\"--------------------------------------------------------------------------------\")\n",
    "print(\"Gradient Boost pre-covid baseline and covid baseline\",wil(GB_PRE_COVID_Model_Baseline,GB_COVID_Model_Baseline))\n",
    "print(\"--------------------------------------------------------------------------------\")"
   ]
  },
  {
   "cell_type": "code",
   "execution_count": 22,
   "id": "b49b7112",
   "metadata": {},
   "outputs": [
    {
     "name": "stdout",
     "output_type": "stream",
     "text": [
      "------------------Baseline V Pre-Covid Experimental----------------------------\n",
      "Statistics=0.000, p=0.062\n",
      "Same distributions (fail to reject H0)\n",
      "SVC pre-covid baseline and pre-covid experimental None\n",
      "--------------------------------------------------------------------------------\n",
      "Statistics=0.000, p=0.062\n",
      "Same distributions (fail to reject H0)\n",
      "Logistic pre-covid baseline and pre-covid experimental None\n",
      "--------------------------------------------------------------------------------\n",
      "Statistics=0.000, p=0.062\n",
      "Same distributions (fail to reject H0)\n",
      "KNN pre-covid baseline and pre-covid experimental None\n",
      "--------------------------------------------------------------------------------\n",
      "Statistics=0.000, p=0.062\n",
      "Same distributions (fail to reject H0)\n",
      "Random Forest pre-covid baseline and pre-covid experimental None\n",
      "--------------------------------------------------------------------------------\n",
      "Statistics=0.000, p=0.062\n",
      "Same distributions (fail to reject H0)\n",
      "Gradient Boost pre-covid baseline and pre-covid experimental None\n"
     ]
    }
   ],
   "source": [
    "print(\"------------------pre-covid Baseline V Pre-Covid Experimental----------------------------\")\n",
    "print(\"SVC pre-covid baseline and pre-covid experimental\",wil(SVC_PRE_COVID_Model_Baseline,SVC_PRE_COVID_Model_Experiment))\n",
    "print(\"--------------------------------------------------------------------------------\")\n",
    "print(\"Logistic pre-covid baseline and pre-covid experimental\",wil(LO_PRE_COVID_Model_Baseline,LO_PRE_COVID_Model_Experiment))\n",
    "print(\"--------------------------------------------------------------------------------\")\n",
    "print(\"KNN pre-covid baseline and pre-covid experimental\",wil(KNN_PRE_COVID_Model_Baseline,KNN_PRE_COVID_Model_Experiment))\n",
    "print(\"--------------------------------------------------------------------------------\")\n",
    "print(\"Random Forest pre-covid baseline and pre-covid experimental\",wil(RF_PRE_COVID_Model_Baseline,RF_PRE_COVID_Model_Experiment))\n",
    "print(\"--------------------------------------------------------------------------------\")\n",
    "print(\"Gradient Boost pre-covid baseline and pre-covid experimental\",wil(GB_PRE_COVID_Model_Baseline,GB_PRE_COVID_Model_Experiment))\n"
   ]
  },
  {
   "cell_type": "code",
   "execution_count": 25,
   "id": "82a751af",
   "metadata": {},
   "outputs": [
    {
     "name": "stdout",
     "output_type": "stream",
     "text": [
      "------------------covid Baseline V Pre-Covid Experimental----------------------------\n",
      "Statistics=0.000, p=0.062\n",
      "Same distributions (fail to reject H0)\n",
      "SVC covid baseline and covid experimental None\n",
      "--------------------------------------------------------------------------------\n",
      "Statistics=0.000, p=0.062\n",
      "Same distributions (fail to reject H0)\n",
      "Logistic covid baseline and covid experimental None\n",
      "--------------------------------------------------------------------------------\n",
      "Statistics=0.000, p=0.062\n",
      "Same distributions (fail to reject H0)\n",
      "KNN covid baseline and covid experimental None\n",
      "--------------------------------------------------------------------------------\n",
      "Statistics=0.000, p=0.062\n",
      "Same distributions (fail to reject H0)\n",
      "Random Forest covid baseline and covid experimental None\n",
      "--------------------------------------------------------------------------------\n",
      "Statistics=4.000, p=0.438\n",
      "Same distributions (fail to reject H0)\n",
      "Gradient Boost covid baseline and covid experimental None\n"
     ]
    }
   ],
   "source": [
    "print(\"------------------covid Baseline V Pre-Covid Experimental----------------------------\")\n",
    "print(\"SVC covid baseline and covid experimental\",wil(SVC_COVID_Model_Baseline,SVC_COVID_Model_Experiment))\n",
    "print(\"--------------------------------------------------------------------------------\")\n",
    "print(\"Logistic covid baseline and covid experimental\",wil(LO_COVID_Model_Baseline,LO_COVID_Model_Experiment))\n",
    "print(\"--------------------------------------------------------------------------------\")\n",
    "print(\"KNN covid baseline and covid experimental\",wil(KNN_COVID_Model_Baseline,KNN_COVID_Model_Experiment))\n",
    "print(\"--------------------------------------------------------------------------------\")\n",
    "print(\"Random Forest covid baseline and covid experimental\",wil(RF_COVID_Model_Baseline,RF_COVID_Model_Experiment))\n",
    "print(\"--------------------------------------------------------------------------------\")\n",
    "print(\"Gradient Boost covid baseline and covid experimental\",wil(GB_COVID_Model_Baseline,GB_COVID_Model_Experiment))\n"
   ]
  },
  {
   "cell_type": "code",
   "execution_count": null,
   "id": "49fd880b",
   "metadata": {},
   "outputs": [],
   "source": []
  }
 ],
 "metadata": {
  "kernelspec": {
   "display_name": "Python 3",
   "language": "python",
   "name": "python3"
  },
  "language_info": {
   "codemirror_mode": {
    "name": "ipython",
    "version": 3
   },
   "file_extension": ".py",
   "mimetype": "text/x-python",
   "name": "python",
   "nbconvert_exporter": "python",
   "pygments_lexer": "ipython3",
   "version": "3.8.8"
  }
 },
 "nbformat": 4,
 "nbformat_minor": 5
}
