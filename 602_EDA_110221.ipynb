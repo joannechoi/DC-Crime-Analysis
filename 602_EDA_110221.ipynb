{
  "nbformat": 4,
  "nbformat_minor": 0,
  "metadata": {
    "colab": {
      "name": "602_EDA_110221.ipynb",
      "provenance": [],
      "collapsed_sections": [],
      "authorship_tag": "ABX9TyNhxkrR/LB6d1cdGQPCZOcG",
      "include_colab_link": true
    },
    "kernelspec": {
      "name": "python3",
      "display_name": "Python 3"
    },
    "language_info": {
      "name": "python"
    }
  },
  "cells": [
    {
      "cell_type": "markdown",
      "metadata": {
        "id": "view-in-github",
        "colab_type": "text"
      },
      "source": [
        "<a href=\"https://colab.research.google.com/github/joannechoi/DC-Crime-Analysis/blob/add_eda_110221/602_EDA_110221.ipynb\" target=\"_parent\"><img src=\"https://colab.research.google.com/assets/colab-badge.svg\" alt=\"Open In Colab\"/></a>"
      ]
    },
    {
      "cell_type": "code",
      "metadata": {
        "id": "hA94E7VJh6Qo"
      },
      "source": [
        "import pandas as pd\n",
        "import numpy as np \n",
        "import matplotlib.pyplot as plt "
      ],
      "execution_count": 1,
      "outputs": []
    },
    {
      "cell_type": "code",
      "metadata": {
        "colab": {
          "base_uri": "https://localhost:8080/",
          "height": 428
        },
        "id": "F81fJhvhroJA",
        "outputId": "c390a5fd-bc8c-4050-c43f-f06c148f1c09"
      },
      "source": [
        "df = pd.read_csv('/content/MergedData_2019-2021.csv')\n",
        "df.head()"
      ],
      "execution_count": 2,
      "outputs": [
        {
          "output_type": "execute_result",
          "data": {
            "text/html": [
              "<div>\n",
              "<style scoped>\n",
              "    .dataframe tbody tr th:only-of-type {\n",
              "        vertical-align: middle;\n",
              "    }\n",
              "\n",
              "    .dataframe tbody tr th {\n",
              "        vertical-align: top;\n",
              "    }\n",
              "\n",
              "    .dataframe thead th {\n",
              "        text-align: right;\n",
              "    }\n",
              "</style>\n",
              "<table border=\"1\" class=\"dataframe\">\n",
              "  <thead>\n",
              "    <tr style=\"text-align: right;\">\n",
              "      <th></th>\n",
              "      <th>REPORT_DAT</th>\n",
              "      <th>SHIFT</th>\n",
              "      <th>METHOD</th>\n",
              "      <th>OFFENSE</th>\n",
              "      <th>BLOCK</th>\n",
              "      <th>XBLOCK</th>\n",
              "      <th>YBLOCK</th>\n",
              "      <th>WARD</th>\n",
              "      <th>DISTRICT</th>\n",
              "      <th>LATITUDE</th>\n",
              "      <th>LONGITUDE</th>\n",
              "      <th>START_DATE</th>\n",
              "      <th>END_DATE</th>\n",
              "    </tr>\n",
              "  </thead>\n",
              "  <tbody>\n",
              "    <tr>\n",
              "      <th>0</th>\n",
              "      <td>2019/11/07 16:41:36+00</td>\n",
              "      <td>DAY</td>\n",
              "      <td>OTHERS</td>\n",
              "      <td>THEFT/OTHER</td>\n",
              "      <td>1500 - 1599 BLOCK OF INDEPENDENCE AVENUE SE</td>\n",
              "      <td>401480.677087</td>\n",
              "      <td>135528.177723</td>\n",
              "      <td>6.0</td>\n",
              "      <td>1.0</td>\n",
              "      <td>38.887593</td>\n",
              "      <td>-76.982933</td>\n",
              "      <td>2019/11/07 15:36:52+00</td>\n",
              "      <td>2019/11/07 16:42:02+00</td>\n",
              "    </tr>\n",
              "    <tr>\n",
              "      <th>1</th>\n",
              "      <td>2019/01/21 07:19:30+00</td>\n",
              "      <td>MIDNIGHT</td>\n",
              "      <td>OTHERS</td>\n",
              "      <td>THEFT F/AUTO</td>\n",
              "      <td>1300 - 1399 BLOCK OF V STREET NW</td>\n",
              "      <td>397330.140000</td>\n",
              "      <td>138916.410000</td>\n",
              "      <td>1.0</td>\n",
              "      <td>3.0</td>\n",
              "      <td>38.918113</td>\n",
              "      <td>-77.030786</td>\n",
              "      <td>2019/01/21 00:00:55+00</td>\n",
              "      <td>2019/01/21 06:50:23+00</td>\n",
              "    </tr>\n",
              "    <tr>\n",
              "      <th>2</th>\n",
              "      <td>2019/01/21 08:19:17+00</td>\n",
              "      <td>MIDNIGHT</td>\n",
              "      <td>OTHERS</td>\n",
              "      <td>BURGLARY</td>\n",
              "      <td>2100 - 2199 BLOCK OF F STREET NW</td>\n",
              "      <td>395857.340000</td>\n",
              "      <td>136612.690000</td>\n",
              "      <td>2.0</td>\n",
              "      <td>2.0</td>\n",
              "      <td>38.897354</td>\n",
              "      <td>-77.047756</td>\n",
              "      <td>2019/01/21 06:00:51+00</td>\n",
              "      <td>2019/01/21 06:02:07+00</td>\n",
              "    </tr>\n",
              "    <tr>\n",
              "      <th>3</th>\n",
              "      <td>2019/01/21 08:23:53+00</td>\n",
              "      <td>MIDNIGHT</td>\n",
              "      <td>OTHERS</td>\n",
              "      <td>THEFT F/AUTO</td>\n",
              "      <td>1800 - 1899 BLOCK OF 12TH STREET NW</td>\n",
              "      <td>397564.730000</td>\n",
              "      <td>138552.270000</td>\n",
              "      <td>1.0</td>\n",
              "      <td>3.0</td>\n",
              "      <td>38.914833</td>\n",
              "      <td>-77.028080</td>\n",
              "      <td>2019/01/21 08:06:19+00</td>\n",
              "      <td>NaN</td>\n",
              "    </tr>\n",
              "    <tr>\n",
              "      <th>4</th>\n",
              "      <td>2019/01/21 09:12:09+00</td>\n",
              "      <td>MIDNIGHT</td>\n",
              "      <td>OTHERS</td>\n",
              "      <td>THEFT/OTHER</td>\n",
              "      <td>3800  - 3899 BLOCK OF GEORGIA AVENUE NW</td>\n",
              "      <td>397868.680000</td>\n",
              "      <td>141140.380000</td>\n",
              "      <td>4.0</td>\n",
              "      <td>4.0</td>\n",
              "      <td>38.938148</td>\n",
              "      <td>-77.024583</td>\n",
              "      <td>2019/01/21 08:09:28+00</td>\n",
              "      <td>2019/01/21 09:14:36+00</td>\n",
              "    </tr>\n",
              "  </tbody>\n",
              "</table>\n",
              "</div>"
            ],
            "text/plain": [
              "               REPORT_DAT  ...                END_DATE\n",
              "0  2019/11/07 16:41:36+00  ...  2019/11/07 16:42:02+00\n",
              "1  2019/01/21 07:19:30+00  ...  2019/01/21 06:50:23+00\n",
              "2  2019/01/21 08:19:17+00  ...  2019/01/21 06:02:07+00\n",
              "3  2019/01/21 08:23:53+00  ...                     NaN\n",
              "4  2019/01/21 09:12:09+00  ...  2019/01/21 09:14:36+00\n",
              "\n",
              "[5 rows x 13 columns]"
            ]
          },
          "metadata": {},
          "execution_count": 2
        }
      ]
    },
    {
      "cell_type": "code",
      "metadata": {
        "colab": {
          "base_uri": "https://localhost:8080/"
        },
        "id": "i2jQNhuDNRD4",
        "outputId": "19241354-d4d0-424c-d0cc-05ce6fb9c15d"
      },
      "source": [
        "# view data types for each columns\n",
        "df.info()"
      ],
      "execution_count": 3,
      "outputs": [
        {
          "output_type": "stream",
          "name": "stdout",
          "text": [
            "<class 'pandas.core.frame.DataFrame'>\n",
            "RangeIndex: 84197 entries, 0 to 84196\n",
            "Data columns (total 13 columns):\n",
            " #   Column      Non-Null Count  Dtype  \n",
            "---  ------      --------------  -----  \n",
            " 0   REPORT_DAT  84197 non-null  object \n",
            " 1   SHIFT       84197 non-null  object \n",
            " 2   METHOD      84197 non-null  object \n",
            " 3   OFFENSE     84197 non-null  object \n",
            " 4   BLOCK       84197 non-null  object \n",
            " 5   XBLOCK      84197 non-null  float64\n",
            " 6   YBLOCK      84197 non-null  float64\n",
            " 7   WARD        82507 non-null  float64\n",
            " 8   DISTRICT    84110 non-null  float64\n",
            " 9   LATITUDE    84197 non-null  float64\n",
            " 10  LONGITUDE   84197 non-null  float64\n",
            " 11  START_DATE  84192 non-null  object \n",
            " 12  END_DATE    74075 non-null  object \n",
            "dtypes: float64(6), object(7)\n",
            "memory usage: 8.4+ MB\n"
          ]
        }
      ]
    },
    {
      "cell_type": "code",
      "metadata": {
        "id": "yh8xmrV6tJSe",
        "colab": {
          "base_uri": "https://localhost:8080/"
        },
        "outputId": "5f63ac30-1c64-46fe-a1c4-a123f76bcf95"
      },
      "source": [
        "# convert REPORT_DAT, STATE_DATE, and END_DATE to datetime type \n",
        "df[['REPORT_DAT', 'START_DATE', 'END_DATE']]= df[['REPORT_DAT', 'START_DATE', 'END_DATE']].astype('datetime64[ns]')\n",
        "df.info()"
      ],
      "execution_count": 4,
      "outputs": [
        {
          "output_type": "stream",
          "name": "stdout",
          "text": [
            "<class 'pandas.core.frame.DataFrame'>\n",
            "RangeIndex: 84197 entries, 0 to 84196\n",
            "Data columns (total 13 columns):\n",
            " #   Column      Non-Null Count  Dtype         \n",
            "---  ------      --------------  -----         \n",
            " 0   REPORT_DAT  84197 non-null  datetime64[ns]\n",
            " 1   SHIFT       84197 non-null  object        \n",
            " 2   METHOD      84197 non-null  object        \n",
            " 3   OFFENSE     84197 non-null  object        \n",
            " 4   BLOCK       84197 non-null  object        \n",
            " 5   XBLOCK      84197 non-null  float64       \n",
            " 6   YBLOCK      84197 non-null  float64       \n",
            " 7   WARD        82507 non-null  float64       \n",
            " 8   DISTRICT    84110 non-null  float64       \n",
            " 9   LATITUDE    84197 non-null  float64       \n",
            " 10  LONGITUDE   84197 non-null  float64       \n",
            " 11  START_DATE  84192 non-null  datetime64[ns]\n",
            " 12  END_DATE    74075 non-null  datetime64[ns]\n",
            "dtypes: datetime64[ns](3), float64(6), object(4)\n",
            "memory usage: 8.4+ MB\n"
          ]
        }
      ]
    },
    {
      "cell_type": "code",
      "metadata": {
        "colab": {
          "base_uri": "https://localhost:8080/"
        },
        "id": "qfKEuez_ps4G",
        "outputId": "76c8dafa-7f79-4b2f-c31f-514cfbe8d7ab"
      },
      "source": [
        "#display number of null values\n",
        "df.isna().sum()"
      ],
      "execution_count": 5,
      "outputs": [
        {
          "output_type": "execute_result",
          "data": {
            "text/plain": [
              "REPORT_DAT        0\n",
              "SHIFT             0\n",
              "METHOD            0\n",
              "OFFENSE           0\n",
              "BLOCK             0\n",
              "XBLOCK            0\n",
              "YBLOCK            0\n",
              "WARD           1690\n",
              "DISTRICT         87\n",
              "LATITUDE          0\n",
              "LONGITUDE         0\n",
              "START_DATE        5\n",
              "END_DATE      10122\n",
              "dtype: int64"
            ]
          },
          "metadata": {},
          "execution_count": 5
        }
      ]
    },
    {
      "cell_type": "code",
      "metadata": {
        "colab": {
          "base_uri": "https://localhost:8080/"
        },
        "id": "N1p9G1BqpB6E",
        "outputId": "5a63c215-3f1f-4abc-fd5e-d0eb192a4992"
      },
      "source": [
        "# drop records with null values\n",
        "crime = df.dropna()\n",
        "crime.shape"
      ],
      "execution_count": 6,
      "outputs": [
        {
          "output_type": "execute_result",
          "data": {
            "text/plain": [
              "(72492, 13)"
            ]
          },
          "metadata": {},
          "execution_count": 6
        }
      ]
    },
    {
      "cell_type": "code",
      "metadata": {
        "colab": {
          "base_uri": "https://localhost:8080/"
        },
        "id": "0uas4AajbKtj",
        "outputId": "f86ce3e3-7b51-4725-d853-9863ba4bd7b2"
      },
      "source": [
        "# split the data into pre-covid (< 3/10/2020) and during covid (>= 3/11/2020)\n",
        "split_date = pd.datetime(2020,3,10)\n",
        "preCovid = crime.loc[crime['REPORT_DAT'] <= split_date]\n",
        "Covid = crime.loc[crime['REPORT_DAT'] > split_date]"
      ],
      "execution_count": 7,
      "outputs": [
        {
          "output_type": "stream",
          "name": "stderr",
          "text": [
            "/usr/local/lib/python3.7/dist-packages/ipykernel_launcher.py:2: FutureWarning: The pandas.datetime class is deprecated and will be removed from pandas in a future version. Import from datetime module instead.\n",
            "  \n"
          ]
        }
      ]
    },
    {
      "cell_type": "code",
      "metadata": {
        "id": "JnOJLtJJNGq1",
        "colab": {
          "base_uri": "https://localhost:8080/",
          "height": 1000
        },
        "outputId": "17da4bc1-37dd-4fb7-b611-b47384139678"
      },
      "source": [
        "# view crime count by type before and during covid\n",
        "crimeTypes = crime[\"OFFENSE\"].unique()\n",
        "pc_t = preCovid['OFFENSE'].value_counts()\n",
        "c_t = Covid['OFFENSE'].value_counts()\n",
        "print(\"Crime count by type before Covid-19\",pc_t,\"Crime count by type during Covid-19\",c_t,sep='\\n')\n",
        "\n",
        "plt.figure(figsize=(10, 8))\n",
        "\n",
        "x = np.arange(len(crimeTypes))\n",
        "plt.bar(x - 0.2, pc_t, 0.4, label = 'PreCovid')\n",
        "plt.bar(x + 0.2, c_t, 0.4, label = 'Covid')\n",
        "\n",
        "plt.xticks(x, crimeTypes, rotation = 90)\n",
        "plt.xlabel(\"Type of Crime\")\n",
        "plt.ylabel(\"Number of Crimes\")\n",
        "plt.title(\"Crime Count Comparison by Crime Type\")\n",
        "plt.legend()\n",
        "plt.show()"
      ],
      "execution_count": 8,
      "outputs": [
        {
          "output_type": "stream",
          "name": "stdout",
          "text": [
            "Crime count by type before Covid-19\n",
            "THEFT/OTHER                   15567\n",
            "THEFT F/AUTO                  11068\n",
            "MOTOR VEHICLE THEFT            2171\n",
            "ROBBERY                        1879\n",
            "ASSAULT W/DANGEROUS WEAPON     1278\n",
            "BURGLARY                       1237\n",
            "SEX ABUSE                       217\n",
            "HOMICIDE                        145\n",
            "ARSON                             9\n",
            "Name: OFFENSE, dtype: int64\n",
            "Crime count by type during Covid-19\n",
            "THEFT/OTHER                   15024\n",
            "THEFT F/AUTO                  12359\n",
            "MOTOR VEHICLE THEFT            4838\n",
            "ROBBERY                        2503\n",
            "ASSAULT W/DANGEROUS WEAPON     1957\n",
            "BURGLARY                       1730\n",
            "SEX ABUSE                       258\n",
            "HOMICIDE                        241\n",
            "ARSON                            11\n",
            "Name: OFFENSE, dtype: int64\n"
          ]
        },
        {
          "output_type": "display_data",
          "data": {
            "image/png": "[encoded data removed]",
            "text/plain": [
              "<Figure size 720x576 with 1 Axes>"
            ]
          },
          "metadata": {
            "needs_background": "light"
          }
        }
      ]
    },
    {
      "cell_type": "code",
      "metadata": {
        "colab": {
          "base_uri": "https://localhost:8080/",
          "height": 859
        },
        "id": "ckwskpS8ev9f",
        "outputId": "bb848476-879c-48b2-9e5e-c8f72e76ab41"
      },
      "source": [
        "# view crime count by ward before and during covid\n",
        "wards = crime[\"WARD\"].dropna().unique()\n",
        "x_w = wards.sort()\n",
        "pc_w = preCovid['WARD'].value_counts().sort_index()\n",
        "c_w = Covid['WARD'].value_counts().sort_index()\n",
        "print(\"Crime count by ward before Covid-19\",pc_w,\"Crime count by ward during Covid-19\",c_w,sep='\\n')\n",
        "\n",
        "plt.figure(figsize=(10, 8))\n",
        "\n",
        "x=np.arange(len(wards))\n",
        "plt.bar(x - 0.2, pc_w, 0.4, label = 'PreCovid')\n",
        "plt.bar(x + 0.2, c_w, 0.4, label = 'Covid')\n",
        "\n",
        "plt.xticks(x, wards, rotation = 90)\n",
        "plt.xlabel(\"Wards\")\n",
        "plt.ylabel(\"Number of Crimes\")\n",
        "plt.title(\"Crime Count Comparison by Ward\")\n",
        "plt.legend()\n",
        "plt.show()"
      ],
      "execution_count": 9,
      "outputs": [
        {
          "output_type": "stream",
          "name": "stdout",
          "text": [
            "Crime count by ward before Covid-19\n",
            "1.0    4758\n",
            "2.0    7088\n",
            "3.0    2106\n",
            "4.0    2983\n",
            "5.0    5020\n",
            "6.0    5532\n",
            "7.0    3544\n",
            "8.0    2540\n",
            "Name: WARD, dtype: int64\n",
            "Crime count by ward during Covid-19\n",
            "1.0    5443\n",
            "2.0    6325\n",
            "3.0    2110\n",
            "4.0    3724\n",
            "5.0    6058\n",
            "6.0    7111\n",
            "7.0    4618\n",
            "8.0    3532\n",
            "Name: WARD, dtype: int64\n"
          ]
        },
        {
          "output_type": "display_data",
          "data": {
            "image/png": "[encoded data removed]",
            "text/plain": [
              "<Figure size 720x576 with 1 Axes>"
            ]
          },
          "metadata": {
            "needs_background": "light"
          }
        }
      ]
    },
    {
      "cell_type": "code",
      "metadata": {
        "colab": {
          "base_uri": "https://localhost:8080/",
          "height": 992
        },
        "id": "9vNhuLAShn77",
        "outputId": "8dd87c52-c9d1-4023-8f3b-b7861405d8fc"
      },
      "source": [
        "# view crime count by month before and during covid\n",
        "months_p = preCovid[\"REPORT_DAT\"].dt.month\n",
        "months_c = Covid['REPORT_DAT'].dt.month\n",
        "pc_m = months_p.value_counts().sort_index()\n",
        "c_m = months_c.value_counts().sort_index()\n",
        "print(\"Crime count by month before Covid-19\",pc_m,\"Crime count by month during Covid-19\",c_m,sep='\\n')\n",
        "\n",
        "plt.figure(figsize=(10, 8))\n",
        "\n",
        "x = np.arange(12)\n",
        "plt.bar(x - 0.2, pc_m, 0.4, label = 'PreCovid')\n",
        "plt.bar(x + 0.2, c_m, 0.4, label = 'Covid')\n",
        "\n",
        "plt.xticks(x, pc_m.index, rotation = 90)\n",
        "plt.xlabel(\"Months\")\n",
        "plt.ylabel(\"Number of Crimes\")\n",
        "plt.title(\"Crime Count Comparison by Month\")\n",
        "plt.legend()\n",
        "plt.show()"
      ],
      "execution_count": 10,
      "outputs": [
        {
          "output_type": "stream",
          "name": "stdout",
          "text": [
            "Crime count by month before Covid-19\n",
            "1     4679\n",
            "2     4001\n",
            "3     2645\n",
            "4     2108\n",
            "5     2226\n",
            "6     2405\n",
            "7     2537\n",
            "8     2596\n",
            "9     2605\n",
            "10    2748\n",
            "11    2492\n",
            "12    2529\n",
            "Name: REPORT_DAT, dtype: int64\n",
            "Crime count by month during Covid-19\n",
            "1     1794\n",
            "2     1499\n",
            "3     2914\n",
            "4     3065\n",
            "5     3810\n",
            "6     4247\n",
            "7     4183\n",
            "8     4345\n",
            "9     4929\n",
            "10    4043\n",
            "11    2082\n",
            "12    2010\n",
            "Name: REPORT_DAT, dtype: int64\n"
          ]
        },
        {
          "output_type": "display_data",
          "data": {
            "image/png": "[encoded data removed]",
            "text/plain": [
              "<Figure size 720x576 with 1 Axes>"
            ]
          },
          "metadata": {
            "needs_background": "light"
          }
        }
      ]
    }
  ]
}